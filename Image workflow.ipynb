{
 "cells": [
  {
   "cell_type": "markdown",
   "metadata": {},
   "source": [
    "- get files list (with type)\n",
    "    - Per meta data (which wrkflow?)\n",
    "    - Per name\n",
    "    - Per directory\n",
    "\n",
    "- Load images in memory\n",
    "    - Derawtisation (with rawpy/libraw)\n",
    "    - file reading (FITS, TIFF, PNG... with astropy and opencv)\n",
    "    - Data in numpy array or opencv format\n",
    "    \n",
    "- Generate Masters\n",
    "    - Black\n",
    "    - Offset\n",
    "    - Flat\n",
    "    --> Operation on a stack (sum, median, average, alpha clipping, sigma clipping...)\n",
    "    \n",
    "- Generate Images\n",
    "- Register images\n",
    "- Stack images\n",
    "- Save stacked image"
   ]
  },
  {
   "cell_type": "markdown",
   "metadata": {},
   "source": [
    "### Sigma clipping\n",
    "https://www.gnu.org/software/gnuastro/manual/html_node/Sigma-clipping.html"
   ]
  },
  {
   "cell_type": "markdown",
   "metadata": {},
   "source": [
    "### Register Images\n",
    "(with opencv)\n",
    "\n",
    "https://www.geeksforgeeks.org/image-registration-using-opencv-python/\n",
    "\n",
    "https://www.learnopencv.com/image-alignment-feature-based-using-opencv-c-python/"
   ]
  },
  {
   "cell_type": "markdown",
   "metadata": {},
   "source": [
    "## Functions to add\n",
    "- Gradient suppression\n",
    "- Stars detection\n",
    "- Histogram ajutement\n",
    "- Color calibration"
   ]
  },
  {
   "cell_type": "markdown",
   "metadata": {},
   "source": [
    "## To download\n",
    "- Doc of ASDF\n",
    "- Doc of rawpy\n",
    "- Doc of numpy\n",
    "- Doc of Pandas ?\n",
    "- Doc of python3\n",
    "- Doc of opencv"
   ]
  },
  {
   "cell_type": "code",
   "execution_count": null,
   "metadata": {},
   "outputs": [],
   "source": []
  }
 ],
 "metadata": {
  "kernelspec": {
   "display_name": "Python 3",
   "language": "python",
   "name": "python3"
  },
  "language_info": {
   "codemirror_mode": {
    "name": "ipython",
    "version": 3
   },
   "file_extension": ".py",
   "mimetype": "text/x-python",
   "name": "python",
   "nbconvert_exporter": "python",
   "pygments_lexer": "ipython3",
   "version": "3.7.0"
  }
 },
 "nbformat": 4,
 "nbformat_minor": 2
}
