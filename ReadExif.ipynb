{
 "cells": [
  {
   "cell_type": "markdown",
   "metadata": {},
   "source": [
    "# How to read exif data in a file"
   ]
  },
  {
   "cell_type": "markdown",
   "metadata": {},
   "source": [
    "To read the exif data from a file the python package **exifread** can be used."
   ]
  },
  {
   "cell_type": "markdown",
   "metadata": {},
   "source": [
    "## From an TIFF file"
   ]
  },
  {
   "cell_type": "code",
   "execution_count": 4,
   "metadata": {
    "collapsed": true
   },
   "outputs": [],
   "source": [
    "import exifread\n",
    "# Open image file for reading (binary mode)\n",
    "file_name = \"./test2.tif\"\n",
    "f = open(file_name, 'rb')\n",
    "\n",
    "# Return Exif tags\n",
    "tags = exifread.process_file(f)"
   ]
  },
  {
   "cell_type": "code",
   "execution_count": 7,
   "metadata": {},
   "outputs": [
    {
     "name": "stdout",
     "output_type": "stream",
     "text": [
      "Key: Image StripOffsets, value []\n",
      "Key: Image PhotometricInterpretation, value 2\n",
      "Key: Image PlanarConfiguration, value 1\n",
      "Key: Image RowsPerStrip, value 1\n",
      "Key: Image Predictor, value Horizontal differencing\n",
      "Key: Image StripByteCounts, value []\n",
      "Key: Image ImageLength, value 3465\n",
      "Key: Image BitsPerSample, value [16, 16, 16]\n",
      "Key: Image Compression, value LZW\n",
      "Key: Image SamplesPerPixel, value 3\n",
      "Key: Image ImageWidth, value 5202\n"
     ]
    }
   ],
   "source": [
    "for tag in tags.keys():\n",
    "        if tag not in ('JPEGThumbnail', 'TIFFThumbnail', 'Filename', 'EXIF MakerNote'):\n",
    "            print(\"Key: %s, value %s\" % (tag, tags[tag]))"
   ]
  },
  {
   "cell_type": "markdown",
   "metadata": {},
   "source": [
    "## From a CR2 file"
   ]
  },
  {
   "cell_type": "code",
   "execution_count": 8,
   "metadata": {
    "collapsed": true
   },
   "outputs": [],
   "source": [
    "import exifread\n",
    "# Open image file for reading (binary mode)\n",
    "file_name = \"./Test_Images/Non_Defiltered.CR2\"\n",
    "f = open(file_name, 'rb')\n",
    "\n",
    "# Return Exif tags\n",
    "tags = exifread.process_file(f)"
   ]
  },
  {
   "cell_type": "code",
   "execution_count": 14,
   "metadata": {},
   "outputs": [
    {
     "name": "stdout",
     "output_type": "stream",
     "text": [
      "Key: IFD 2 Tag 0xC6C5, value 3\n",
      "Key: EXIF SubSecTime, value 77\n",
      "Key: MakerNote CropInfo , value [0, 0, 0, 0]\n",
      "Key: MakerNote RecordMode, value CR2\n",
      "Key: EXIF ComponentsConfiguration, value YCbCr\n",
      "Key: Image ExifOffset, value 446\n",
      "Key: MakerNote FocalType, value Unknown\n",
      "Key: MakerNote WBBracketMode, value Off\n",
      "Key: MakerNote SelfTimer, value 0\n",
      "Key: Image YResolution, value 72\n",
      "Key: MakerNote Saturation, value Normal\n",
      "Key: EXIF SceneCaptureType, value Standard\n",
      "Key: MakerNote LensType, value 173\n",
      "Key: MakerNote Tag 0x0099, value [188, 4, 1, 44, 3, 257, 1, 0, 259, 1, 0, 271, 1, 0, 2, 44, 3, 513, 1, 0, 514, 1, 3, 515, 1, 0, 3, 20, 1, 1294, 1, 1, 4, 56, 4, 1793, 1, 0, 1796, 1, 0, 1806, 1, 1, 2065, 1, 0]\n",
      "Key: MakerNote SubjectDistance, value 0\n",
      "Key: MakerNote DigitalZoom, value None\n",
      "Key: MakerNote AFPointUsed, value 0\n",
      "Key: IFD 2 ImageWidth, value 668\n",
      "Key: MakerNote FocusMode, value Unknown\n",
      "Key: IFD 2 RowsPerStrip, value 432\n",
      "Key: MakerNote FlashBias, value 0 EV\n",
      "Key: MakerNote Tag 0x4005, value []\n",
      "Key: MakerNote RawJpgQuality, value Unknown\n",
      "Key: MakerNote Tag 0x0019, value 1\n",
      "Key: MakerNote MeteringMode, value Evaluative\n",
      "Key: EXIF ExifImageWidth, value 5184\n",
      "Key: Image Orientation, value Horizontal (normal)\n",
      "Key: Image Model, value Canon EOS 1200D\n",
      "Key: MakerNote EasyShootingMode, value Manual\n",
      "Key: MakerNote FilterEffect, value Unknown\n",
      "Key: Interoperability InteroperabilityVersion, value [48, 49, 48, 48]\n",
      "Key: IFD 3 Compression, value JPEG (old-style)\n",
      "Key: Image ImageWidth, value 5184\n",
      "Key: MakerNote BracketValue, value 0\n",
      "Key: IFD 2 Tag 0xC6DC, value [649, 432, 19, 0]\n",
      "Key: MakerNote Tag 0x00E0, value [34, 5344, 3516, 1, 1, 152, 56, 5335, 3511, 0, 0, 0, 0, 0, 0, 0, 0]\n",
      "Key: IFD 2 BitsPerSample, value [16, 16, 16]\n",
      "Key: MakerNote FocusType, value Unknown\n",
      "Key: MakerNote ISO, value Unknown\n",
      "Key: Image StripOffsets, value 68152\n",
      "Key: EXIF BodySerialNumber, value 193073029458\n",
      "Key: EXIF UserComment, value [0, 0, 0, 0, 0, 0, 0, 0, 0, 0, 0, 0, 0, 0, 0, 0, 0, 0, 0, 0, 0, 0, 0, 0, 0, 0, 0, 0, 0, 0, 0, 0, 0, 0, 0, 0, 0, 0, 0, 0, 0, 0, 0, 0, 0, 0, 0, 0, 0, 0, 0, 0, 0, 0, 0, 0, 0, 0, 0, 0, 0, 0, 0, 0, 0, 0, 0, 0, 0, 0, 0, 0, 0, 0, 0, 0, 0, 0, 0, 0, 0, 0, 0, 0, 0, 0, 0, 0, 0, 0, 0, 0, 0, 0, 0, 0, 0, 0, 0, 0, 0, 0, 0, 0, 0, 0, 0, 0, 0, 0, 0, 0, 0, 0, 0, 0, 0, 0, 0, 0, 0, 0, 0, 0, 0, 0, 0, 0, 0, 0, 0, 0, 0, 0, 0, 0, 0, 0, 0, 0, 0, 0, 0, 0, 0, 0, 0, 0, 0, 0, 0, 0, 0, 0, 0, 0, 0, 0, 0, 0, 0, 0, 0, 0, 0, 0, 0, 0, 0, 0, 0, 0, 0, 0, 0, 0, 0, 0, 0, 0, 0, 0, 0, 0, 0, 0, 0, 0, 0, 0, 0, 0, 0, 0, 0, 0, 0, 0, 0, 0, 0, 0, 0, 0, 0, 0, 0, 0, 0, 0, 0, 0, 0, 0, 0, 0, 0, 0, 0, 0, 0, 0, 0, 0, 0, 0, 0, 0, 0, 0, 0, 0, 0, 0, 0, 0, 0, 0, 0, 0, 0, 0, 0, 0, 0, 0, 0, 0, 0, 0, 0, 0, 0, 0, 0, 0]\n",
      "Key: MakerNote AFPointSelected, value Unknown\n",
      "Key: MakerNote ExposureMode, value Manual\n",
      "Key: Image BitsPerSample, value [8, 8, 8]\n",
      "Key: EXIF SensitivityType, value Recommended Exposure Index\n",
      "Key: Image Compression, value JPEG (old-style)\n",
      "Key: MakerNote OwnerName, value Jean-Philippe Bonnet\n",
      "Key: IFD 2 Compression, value Uncompressed\n",
      "Key: Image StripByteCounts, value 1394635\n",
      "Key: EXIF ExifVersion, value 0230\n",
      "Key: EXIF ExifImageLength, value 3456\n",
      "Key: IFD 3 Tag 0xC640, value [2, 1728, 1888]\n",
      "Key: MakerNote Quality, value Unknown\n",
      "Key: EXIF FocalPlaneResolutionUnit, value 2\n",
      "Key: MakerNote ToningEffect, value Unknown\n",
      "Key: IFD 2 Tag 0xC5D9, value 2\n",
      "Key: IFD 3 Tag 0xC5E0, value 3\n",
      "Key: EXIF FNumber, value 8\n",
      "Key: IFD 2 PhotometricInterpretation, value 2\n",
      "Key: MakerNote CanonImageWidth, value 3456\n",
      "Key: MakerNote Tag 0x4016, value [24, 0, 1, 0, 0, 0]\n",
      "Key: Image DateTime, value 2015:06:10 02:50:24\n",
      "Key: MakerNote ContinuousDriveMode, value Single Or Timer\n",
      "Key: EXIF CameraOwnerName, value Jean-Philippe Bonnet\n",
      "Key: MakerNote Tag 0x4017, value [263170, 1509949465]\n",
      "Key: MakerNote BracketShotNumber, value 0\n",
      "Key: MakerNote ShortFocalLengthOfLensInFocalUnits, value 150\n",
      "Key: MakerNote FocalLength, value 8902\n",
      "Key: MakerNote NumAFPoints, value 1\n",
      "Key: MakerNote ManualFlashOutput, value n/a\n",
      "Key: EXIF MeteringMode, value Pattern\n",
      "Key: Image ResolutionUnit, value Pixels/Inch\n",
      "Key: MakerNote ImageType, value Canon EOS 1200D\n",
      "Key: MakerNote AESetting, value Unknown\n",
      "Key: EXIF ApertureValue, value 6\n",
      "Key: EXIF ExposureMode, value Manual Exposure\n",
      "Key: MakerNote LiveViewShooting, value On\n",
      "Key: MakerNote WBBracketValueGM, value 0\n",
      "Key: Image Make, value Canon\n",
      "Key: MakerNote Tag 0x4011, value [0, 0, 0, 0, 0, 0, 0, 0, 0, 0, 0, 0, 0, 0, 0, 0, 0, 0, 0, 0, ... ]\n",
      "Key: Image XResolution, value 72\n",
      "Key: MakerNote FlashDetails, value Manual\n",
      "Key: Thumbnail JPEGInterchangeFormatLength, value 11904\n",
      "Key: MakerNote Tag 0x4010, value \n",
      "Key: MakerNote Tag 0x4018, value [12, 0, 3]\n",
      "Key: MakerNote ImageSize, value Unknown\n",
      "Key: IFD 2 PlanarConfiguration, value 1\n",
      "Key: MakerNote Tag 0x4015, value [0, 16, 116, 0, 0, 0, 0, 0, 0, 0, 0, 0, 0, 0, 0, 0, 0, 0, 0, 0, ... ]\n",
      "Key: MakerNote WhiteBalance, value Auto\n",
      "Key: MakerNote RawJpgSize, value Large\n",
      "Key: MakerNote FlashMode, value Flash Not Fired\n",
      "Key: EXIF ExposureProgram, value Manual\n",
      "Key: EXIF WhiteBalance, value Auto\n",
      "Key: MakerNote Tag 0x4001, value []\n",
      "Key: MakerNote ColorSpace, value sRGB\n",
      "Key: Interoperability InteroperabilityIndex, value R98\n",
      "Key: MakerNote Contrast, value Normal\n",
      "Key: EXIF FocalPlaneXResolution, value 1036800/181\n",
      "Key: MakerNote FocalUnitsPerMM, value 1\n",
      "Key: IFD 2 StripOffsets, value 1462788\n",
      "Key: MakerNote FirmwareVersion, value Firmware Version 1.0.0\n",
      "Key: MakerNote DustRemovalData , value []\n",
      "Key: EXIF RecommendedExposureIndex, value 200\n",
      "Key: MakerNote Sharpness, value Unknown\n",
      "Key: MakerNote Tag 0x00AA, value [12, 435, 1024, 1024, 868, 0]\n",
      "Key: EXIF SubSecTimeDigitized, value 77\n",
      "Key: MakerNote MacroMagnification, value 67\n",
      "Key: MakerNote LensModel, value 150mm\n",
      "Key: MakerNote Tag 0x0035, value [16, 120, 19, 60]\n",
      "Key: EXIF ExposureTime, value 1/15\n",
      "Key: EXIF DateTimeDigitized, value 2015:06:10 02:50:24\n",
      "Key: MakerNote ValidAFPoints, value 5184\n",
      "Key: EXIF FocalLength, value 150\n",
      "Key: MakerNote Tag 0x4002, value []\n",
      "Key: EXIF ColorSpace, value sRGB\n",
      "Key: MakerNote WBBracketValueAB, value 0\n",
      "Key: MakerNote Unknown, value 0\n",
      "Key: Image GPSInfo, value 45952\n",
      "Key: MakerNote BracketMode, value Off\n",
      "Key: MakerNote ImageStabilization, value Unknown\n",
      "Key: MakerNote AFAreaMode, value Spot AF\n",
      "Key: MakerNote InternalSerialNumber , value MA2241296\n",
      "Key: MakerNote Tag 0x00D0, value 0\n",
      "Key: MakerNote SequenceNumber, value 0\n",
      "Key: EXIF FocalPlaneYResolution, value 691200/119\n",
      "Key: MakerNote Tag 0x4019, value [0, 0, 0, 0, 0, 0, 0, 0, 0, 0, 0, 0, 0, 0, 0, 0, 0, 0, 0, 0, 0, 0, 0, 0, 0, 0, 0, 0, 0, 0]\n",
      "Key: EXIF CustomRendered, value Normal\n",
      "Key: EXIF ISOSpeedRatings, value 200\n",
      "Key: IFD 2 StripByteCounts, value 1731456\n",
      "Key: Image Artist, value Jean-Philippe Bonnet\n",
      "Key: IFD 2 ImageLength, value 432\n",
      "Key: MakerNote Macromode, value Normal\n",
      "Key: MakerNote ThumbnailImageValidArea, value [0, 159, 7, 112]\n",
      "Key: IFD 3 Tag 0xC6C5, value 1\n",
      "Key: EXIF LensSpecification, value [150, 150, 0/0, 0/0]\n",
      "Key: MakerNote Tag 0x4008, value [135, 135, 135]\n",
      "Key: EXIF LensModel, value 150mm\n",
      "Key: GPS GPSVersionID, value [2, 3, 0, 0]\n",
      "Key: IFD 3 StripByteCounts, value 19231722\n",
      "Key: IFD 3 StripOffsets, value 3199492\n",
      "Key: EXIF Flash, value Flash did not fire, compulsory flash mode\n",
      "Key: MakerNote SlowShutter, value None\n",
      "Key: EXIF InteroperabilityOffset, value 45728\n",
      "Key: IFD 3 Tag 0xC5D8, value 1\n",
      "Key: IFD 2 SamplesPerPixel, value 3\n",
      "Key: Image ImageLength, value 3456\n",
      "Key: MakerNote ModelID, value EOS Rebel T5 / 1200D / Kiss X70\n",
      "Key: MakerNote Tag 0x4020, value [20, 0, 0, 0, 0]\n",
      "Key: EXIF FlashPixVersion, value 0100\n",
      "Key: MakerNote Tag 0x4012, value \n",
      "Key: MakerNote SpotMeteringMode, value Unknown\n",
      "Key: EXIF DateTimeOriginal, value 2015:06:10 02:50:24\n",
      "Key: MakerNote Tag 0x4009, value [0, 0, 0]\n",
      "Key: MakerNote FlashActivity, value Did Not Fire\n",
      "Key: EXIF ExposureBiasValue, value 0\n",
      "Key: MakerNote LongExposureNoiseReduction2, value Off\n",
      "Key: Image Copyright, value All Rights Reserved\n",
      "Key: EXIF LensSerialNumber, value 0000000000\n",
      "Key: MakerNote FlashExposureLock, value Off\n",
      "Key: MakerNote AspectInfo, value [0, 5184, 3456, 0, 0]\n",
      "Key: MakerNote FlashInfo, value [0, 0, 0, 0]\n",
      "Key: MakerNote LongFocalLengthOfLensInFocalUnits, value 150\n",
      "Key: EXIF SubSecTimeOriginal, value 77\n",
      "Key: Thumbnail JPEGInterchangeFormat, value 56248\n",
      "Key: Image ApplicationNotes, value []\n",
      "Key: MakerNote Tag 0x00A0, value [28, 0, 3, 0, 0, 0, 0, 0, 65535, 5200, 135, 0, 0, 0]\n",
      "Key: MakerNote FileNumber, value 0\n",
      "Key: EXIF ShutterSpeedValue, value 4\n"
     ]
    }
   ],
   "source": [
    "for tag in tags.keys():\n",
    "        if tag not in ('JPEGThumbnail', 'TIFFThumbnail', 'Filename', 'EXIF MakerNote'):\n",
    "            print(\"Key: %s, value %s\" % (tag, tags[tag]))"
   ]
  },
  {
   "cell_type": "code",
   "execution_count": 13,
   "metadata": {},
   "outputs": [
    {
     "name": "stdout",
     "output_type": "stream",
     "text": [
      "Canon EOS 1200D\n"
     ]
    }
   ],
   "source": [
    "print(tags['Image Model'])"
   ]
  },
  {
   "cell_type": "markdown",
   "metadata": {
    "collapsed": true
   },
   "source": [
    "## Change an exif TAG"
   ]
  },
  {
   "cell_type": "markdown",
   "metadata": {},
   "source": [
    "to be defined"
   ]
  }
 ],
 "metadata": {
  "kernelspec": {
   "display_name": "Python 3",
   "language": "python",
   "name": "python3"
  },
  "language_info": {
   "codemirror_mode": {
    "name": "ipython",
    "version": 3
   },
   "file_extension": ".py",
   "mimetype": "text/x-python",
   "name": "python",
   "nbconvert_exporter": "python",
   "pygments_lexer": "ipython3",
   "version": "3.5.2"
  }
 },
 "nbformat": 4,
 "nbformat_minor": 2
}
