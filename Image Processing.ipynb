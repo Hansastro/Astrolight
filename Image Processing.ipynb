{
 "cells": [
  {
   "cell_type": "code",
   "execution_count": 1,
   "metadata": {
    "ExecuteTime": {
     "end_time": "2018-08-08T16:13:18.890394Z",
     "start_time": "2018-08-08T16:13:18.633754Z"
    }
   },
   "outputs": [
    {
     "name": "stdout",
     "output_type": "stream",
     "text": [
      "Initilization module astrolights\n"
     ]
    }
   ],
   "source": [
    "import astrolights"
   ]
  },
  {
   "cell_type": "code",
   "execution_count": 2,
   "metadata": {
    "ExecuteTime": {
     "end_time": "2018-08-08T16:13:18.896392Z",
     "start_time": "2018-08-08T16:13:18.893621Z"
    }
   },
   "outputs": [],
   "source": [
    "import cv2\n",
    "import os\n",
    "import re\n",
    "import numpy as np"
   ]
  },
  {
   "cell_type": "code",
   "execution_count": 3,
   "metadata": {
    "ExecuteTime": {
     "end_time": "2018-08-08T16:13:18.940325Z",
     "start_time": "2018-08-08T16:13:18.898333Z"
    }
   },
   "outputs": [],
   "source": [
    "#import importlib\n",
    "#importlib.reload(astrolights)"
   ]
  },
  {
   "cell_type": "code",
   "execution_count": 4,
   "metadata": {
    "ExecuteTime": {
     "end_time": "2018-08-08T16:13:18.955624Z",
     "start_time": "2018-08-08T16:13:18.942752Z"
    }
   },
   "outputs": [],
   "source": [
    "tmpDir='/tmp'\n",
    "tmpGeneratedFiles = []"
   ]
  },
  {
   "cell_type": "code",
   "execution_count": 25,
   "metadata": {
    "ExecuteTime": {
     "end_time": "2018-08-08T16:55:21.794582Z",
     "start_time": "2018-08-08T16:55:21.768151Z"
    }
   },
   "outputs": [],
   "source": [
    "flatSky = ['/mnt/data/Photos/2018/08-Astro/to_be_sorted/IMG_0741.CR2', '/mnt/data/Photos/2018/08-Astro/to_be_sorted/IMG_0730.CR2', '/mnt/data/Photos/2018/08-Astro/to_be_sorted/IMG_0745.CR2', '/mnt/data/Photos/2018/08-Astro/to_be_sorted/IMG_0733.CR2', '/mnt/data/Photos/2018/08-Astro/to_be_sorted/IMG_0736.CR2', '/mnt/data/Photos/2018/08-Astro/to_be_sorted/IMG_0738.CR2', '/mnt/data/Photos/2018/08-Astro/to_be_sorted/IMG_0739.CR2', '/mnt/data/Photos/2018/08-Astro/to_be_sorted/IMG_0737.CR2', '/mnt/data/Photos/2018/08-Astro/to_be_sorted/IMG_0746.CR2', '/mnt/data/Photos/2018/08-Astro/to_be_sorted/IMG_0732.CR2', '/mnt/data/Photos/2018/08-Astro/to_be_sorted/IMG_0735.CR2', '/mnt/data/Photos/2018/08-Astro/to_be_sorted/IMG_0748.CR2', '/mnt/data/Photos/2018/08-Astro/to_be_sorted/IMG_0731.CR2', '/mnt/data/Photos/2018/08-Astro/to_be_sorted/IMG_0734.CR2', '/mnt/data/Photos/2018/08-Astro/to_be_sorted/IMG_0743.CR2', '/mnt/data/Photos/2018/08-Astro/to_be_sorted/IMG_0749.CR2', '/mnt/data/Photos/2018/08-Astro/to_be_sorted/IMG_0742.CR2', '/mnt/data/Photos/2018/08-Astro/to_be_sorted/IMG_0744.CR2', '/mnt/data/Photos/2018/08-Astro/to_be_sorted/IMG_0740.CR2', '/mnt/data/Photos/2018/08-Astro/to_be_sorted/IMG_0747.CR2']\n",
    "offset1600ISO = ['/mnt/data/Photos/2018/08-Astro/to_be_sorted/IMG_0992.CR2', '/mnt/data/Photos/2018/08-Astro/to_be_sorted/IMG_1010.CR2', '/mnt/data/Photos/2018/08-Astro/to_be_sorted/IMG_1020.CR2', '/mnt/data/Photos/2018/08-Astro/to_be_sorted/IMG_0991.CR2', '/mnt/data/Photos/2018/08-Astro/to_be_sorted/IMG_1013.CR2', '/mnt/data/Photos/2018/08-Astro/to_be_sorted/IMG_1005.CR2', '/mnt/data/Photos/2018/08-Astro/to_be_sorted/IMG_0998.CR2', '/mnt/data/Photos/2018/08-Astro/to_be_sorted/IMG_1037.CR2', '/mnt/data/Photos/2018/08-Astro/to_be_sorted/IMG_1006.CR2', '/mnt/data/Photos/2018/08-Astro/to_be_sorted/IMG_1028.CR2', '/mnt/data/Photos/2018/08-Astro/to_be_sorted/IMG_1012.CR2', '/mnt/data/Photos/2018/08-Astro/to_be_sorted/IMG_1014.CR2', '/mnt/data/Photos/2018/08-Astro/to_be_sorted/IMG_1009.CR2', '/mnt/data/Photos/2018/08-Astro/to_be_sorted/IMG_1003.CR2', '/mnt/data/Photos/2018/08-Astro/to_be_sorted/IMG_1026.CR2', '/mnt/data/Photos/2018/08-Astro/to_be_sorted/IMG_1024.CR2', '/mnt/data/Photos/2018/08-Astro/to_be_sorted/IMG_1032.CR2', '/mnt/data/Photos/2018/08-Astro/to_be_sorted/IMG_1021.CR2', '/mnt/data/Photos/2018/08-Astro/to_be_sorted/IMG_1015.CR2', '/mnt/data/Photos/2018/08-Astro/to_be_sorted/IMG_1034.CR2', '/mnt/data/Photos/2018/08-Astro/to_be_sorted/IMG_1029.CR2', '/mnt/data/Photos/2018/08-Astro/to_be_sorted/IMG_1008.CR2', '/mnt/data/Photos/2018/08-Astro/to_be_sorted/IMG_1004.CR2', '/mnt/data/Photos/2018/08-Astro/to_be_sorted/IMG_0990.CR2', '/mnt/data/Photos/2018/08-Astro/to_be_sorted/IMG_1033.CR2', '/mnt/data/Photos/2018/08-Astro/to_be_sorted/IMG_1001.CR2', '/mnt/data/Photos/2018/08-Astro/to_be_sorted/IMG_0999.CR2', '/mnt/data/Photos/2018/08-Astro/to_be_sorted/IMG_1039.CR2', '/mnt/data/Photos/2018/08-Astro/to_be_sorted/IMG_0997.CR2', '/mnt/data/Photos/2018/08-Astro/to_be_sorted/IMG_1007.CR2', '/mnt/data/Photos/2018/08-Astro/to_be_sorted/IMG_1018.CR2', '/mnt/data/Photos/2018/08-Astro/to_be_sorted/IMG_1019.CR2', '/mnt/data/Photos/2018/08-Astro/to_be_sorted/IMG_1022.CR2', '/mnt/data/Photos/2018/08-Astro/to_be_sorted/IMG_1011.CR2', '/mnt/data/Photos/2018/08-Astro/to_be_sorted/IMG_1027.CR2', '/mnt/data/Photos/2018/08-Astro/to_be_sorted/IMG_1002.CR2', '/mnt/data/Photos/2018/08-Astro/to_be_sorted/IMG_1023.CR2', '/mnt/data/Photos/2018/08-Astro/to_be_sorted/IMG_1036.CR2', '/mnt/data/Photos/2018/08-Astro/to_be_sorted/IMG_1017.CR2', '/mnt/data/Photos/2018/08-Astro/to_be_sorted/IMG_1025.CR2', '/mnt/data/Photos/2018/08-Astro/to_be_sorted/IMG_1031.CR2', '/mnt/data/Photos/2018/08-Astro/to_be_sorted/IMG_1038.CR2', '/mnt/data/Photos/2018/08-Astro/to_be_sorted/IMG_0993.CR2', '/mnt/data/Photos/2018/08-Astro/to_be_sorted/IMG_1000.CR2', '/mnt/data/Photos/2018/08-Astro/to_be_sorted/IMG_0996.CR2', '/mnt/data/Photos/2018/08-Astro/to_be_sorted/IMG_1016.CR2', '/mnt/data/Photos/2018/08-Astro/to_be_sorted/IMG_0995.CR2', '/mnt/data/Photos/2018/08-Astro/to_be_sorted/IMG_1030.CR2', '/mnt/data/Photos/2018/08-Astro/to_be_sorted/IMG_1035.CR2', '/mnt/data/Photos/2018/08-Astro/to_be_sorted/IMG_1040.CR2', '/mnt/data/Photos/2018/08-Astro/to_be_sorted/IMG_0994.CR2']\n",
    "dark60s1600ISO = ['/mnt/data/Photos/2018/08-Astro/to_be_sorted/IMG_0884.CR2', '/mnt/data/Photos/2018/08-Astro/to_be_sorted/IMG_0888.CR2', '/mnt/data/Photos/2018/08-Astro/to_be_sorted/IMG_0875.CR2', '/mnt/data/Photos/2018/08-Astro/to_be_sorted/IMG_0876.CR2', '/mnt/data/Photos/2018/08-Astro/to_be_sorted/IMG_0881.CR2', '/mnt/data/Photos/2018/08-Astro/to_be_sorted/IMG_0880.CR2', '/mnt/data/Photos/2018/08-Astro/to_be_sorted/IMG_0878.CR2', '/mnt/data/Photos/2018/08-Astro/to_be_sorted/IMG_0882.CR2', '/mnt/data/Photos/2018/08-Astro/to_be_sorted/IMG_0874.CR2', '/mnt/data/Photos/2018/08-Astro/to_be_sorted/IMG_0885.CR2', '/mnt/data/Photos/2018/08-Astro/to_be_sorted/IMG_0889.CR2', '/mnt/data/Photos/2018/08-Astro/to_be_sorted/IMG_0879.CR2', '/mnt/data/Photos/2018/08-Astro/to_be_sorted/IMG_0883.CR2', '/mnt/data/Photos/2018/08-Astro/to_be_sorted/IMG_0890.CR2', '/mnt/data/Photos/2018/08-Astro/to_be_sorted/IMG_0886.CR2', '/mnt/data/Photos/2018/08-Astro/to_be_sorted/IMG_0877.CR2', '/mnt/data/Photos/2018/08-Astro/to_be_sorted/IMG_0887.CR2']\n",
    "ngc7000Images = ['/mnt/data/Photos/2018/08-Astro/to_be_sorted/IMG_0856.CR2', '/mnt/data/Photos/2018/08-Astro/to_be_sorted/IMG_0855.CR2', '/mnt/data/Photos/2018/08-Astro/to_be_sorted/IMG_0854.CR2', '/mnt/data/Photos/2018/08-Astro/to_be_sorted/IMG_0853.CR2', '/mnt/data/Photos/2018/08-Astro/to_be_sorted/IMG_0858.CR2', '/mnt/data/Photos/2018/08-Astro/to_be_sorted/IMG_0850.CR2', '/mnt/data/Photos/2018/08-Astro/to_be_sorted/IMG_0849.CR2', '/mnt/data/Photos/2018/08-Astro/to_be_sorted/IMG_0859.CR2', '/mnt/data/Photos/2018/08-Astro/to_be_sorted/IMG_0851.CR2', '/mnt/data/Photos/2018/08-Astro/to_be_sorted/IMG_0860.CR2', '/mnt/data/Photos/2018/08-Astro/to_be_sorted/IMG_0863.CR2', '/mnt/data/Photos/2018/08-Astro/to_be_sorted/IMG_0844.CR2', '/mnt/data/Photos/2018/08-Astro/to_be_sorted/IMG_0852.CR2', '/mnt/data/Photos/2018/08-Astro/to_be_sorted/IMG_0862.CR2', '/mnt/data/Photos/2018/08-Astro/to_be_sorted/IMG_0868.CR2', '/mnt/data/Photos/2018/08-Astro/to_be_sorted/IMG_0872.CR2', '/mnt/data/Photos/2018/08-Astro/to_be_sorted/IMG_0871.CR2', '/mnt/data/Photos/2018/08-Astro/to_be_sorted/IMG_0870.CR2', '/mnt/data/Photos/2018/08-Astro/to_be_sorted/IMG_0864.CR2', '/mnt/data/Photos/2018/08-Astro/to_be_sorted/IMG_0873.CR2', '/mnt/data/Photos/2018/08-Astro/to_be_sorted/IMG_0865.CR2', '/mnt/data/Photos/2018/08-Astro/to_be_sorted/IMG_0848.CR2', '/mnt/data/Photos/2018/08-Astro/to_be_sorted/IMG_0847.CR2', '/mnt/data/Photos/2018/08-Astro/to_be_sorted/IMG_0857.CR2', '/mnt/data/Photos/2018/08-Astro/to_be_sorted/IMG_0845.CR2', '/mnt/data/Photos/2018/08-Astro/to_be_sorted/IMG_0867.CR2', '/mnt/data/Photos/2018/08-Astro/to_be_sorted/IMG_0869.CR2', '/mnt/data/Photos/2018/08-Astro/to_be_sorted/IMG_0846.CR2', '/mnt/data/Photos/2018/08-Astro/to_be_sorted/IMG_0861.CR2', '/mnt/data/Photos/2018/08-Astro/to_be_sorted/IMG_0843.CR2', '/mnt/data/Photos/2018/08-Astro/to_be_sorted/IMG_0866.CR2']\n",
    "alignedImages = ['/mnt/data/Photos/2018/08-Astro/to_be_sorted/Aligned_0019.tif', '/mnt/data/Photos/2018/08-Astro/to_be_sorted/Aligned_0029.tif', '/mnt/data/Photos/2018/08-Astro/to_be_sorted/Aligned_0008.tif', '/mnt/data/Photos/2018/08-Astro/to_be_sorted/Aligned_0026.tif', '/mnt/data/Photos/2018/08-Astro/to_be_sorted/Aligned_0006.tif', '/mnt/data/Photos/2018/08-Astro/to_be_sorted/Aligned_0017.tif', '/mnt/data/Photos/2018/08-Astro/to_be_sorted/Aligned_0028.tif', '/mnt/data/Photos/2018/08-Astro/to_be_sorted/Aligned_0018.tif', '/mnt/data/Photos/2018/08-Astro/to_be_sorted/Aligned_0016.tif', '/mnt/data/Photos/2018/08-Astro/to_be_sorted/Aligned_0015.tif', '/mnt/data/Photos/2018/08-Astro/to_be_sorted/Aligned_0024.tif', '/mnt/data/Photos/2018/08-Astro/to_be_sorted/Aligned_0007.tif', '/mnt/data/Photos/2018/08-Astro/to_be_sorted/Aligned_0009.tif', '/mnt/data/Photos/2018/08-Astro/to_be_sorted/Aligned_0021.tif', '/mnt/data/Photos/2018/08-Astro/to_be_sorted/Aligned_0003.tif', '/mnt/data/Photos/2018/08-Astro/to_be_sorted/Aligned_0027.tif', '/mnt/data/Photos/2018/08-Astro/to_be_sorted/Aligned_0011.tif', '/mnt/data/Photos/2018/08-Astro/to_be_sorted/Aligned_0022.tif', '/mnt/data/Photos/2018/08-Astro/to_be_sorted/Aligned_0025.tif', '/mnt/data/Photos/2018/08-Astro/to_be_sorted/Aligned_0030.tif', '/mnt/data/Photos/2018/08-Astro/to_be_sorted/Aligned_0001.tif', '/mnt/data/Photos/2018/08-Astro/to_be_sorted/Aligned_0010.tif', '/mnt/data/Photos/2018/08-Astro/to_be_sorted/Aligned_0013.tif', '/mnt/data/Photos/2018/08-Astro/to_be_sorted/Aligned_0020.tif', '/mnt/data/Photos/2018/08-Astro/to_be_sorted/Aligned_0005.tif', '/mnt/data/Photos/2018/08-Astro/to_be_sorted/Aligned_0004.tif', '/mnt/data/Photos/2018/08-Astro/to_be_sorted/Aligned_0012.tif', '/mnt/data/Photos/2018/08-Astro/to_be_sorted/Aligned_0014.tif', '/mnt/data/Photos/2018/08-Astro/to_be_sorted/Aligned_0002.tif', '/mnt/data/Photos/2018/08-Astro/to_be_sorted/Aligned_0023.tif', '/mnt/data/Photos/2018/08-Astro/to_be_sorted/Aligned_0000.tif']"
   ]
  },
  {
   "cell_type": "code",
   "execution_count": 26,
   "metadata": {
    "ExecuteTime": {
     "end_time": "2018-08-08T16:55:22.285496Z",
     "start_time": "2018-08-08T16:55:22.272564Z"
    }
   },
   "outputs": [],
   "source": [
    "#offsetList = ['/mnt/data/Photos/2018/08-Astro/to_be_sorted/IMG_0992.CR2', '/mnt/data/Photos/2018/08-Astro/to_be_sorted/IMG_1010.CR2', '/mnt/data/Photos/2018/08-Astro/to_be_sorted/IMG_1020.CR2']\n",
    "offsetList = offset1600ISO\n",
    "darkList = dark60s1600ISO\n",
    "flatList = flatSky\n",
    "imageList = ngc7000Images\n",
    "alignedImages = alignedImages"
   ]
  },
  {
   "cell_type": "code",
   "execution_count": 7,
   "metadata": {
    "ExecuteTime": {
     "end_time": "2018-08-08T16:13:19.025522Z",
     "start_time": "2018-08-08T16:13:19.002193Z"
    }
   },
   "outputs": [
    {
     "data": {
      "text/plain": [
       "'/mnt/data/Photos/2018/08-Astro/to_be_sorted/IMG_0992'"
      ]
     },
     "execution_count": 7,
     "metadata": {},
     "output_type": "execute_result"
    }
   ],
   "source": [
    "astrolights.files.getFileName('/mnt/data/Photos/2018/08-Astro/to_be_sorted/IMG_0992.CR2', removeExtention=True, removePath=False)"
   ]
  },
  {
   "cell_type": "markdown",
   "metadata": {},
   "source": [
    "# Generating master offset"
   ]
  },
  {
   "cell_type": "markdown",
   "metadata": {},
   "source": [
    "The generation of the master offset is just a median of all offset image"
   ]
  },
  {
   "cell_type": "code",
   "execution_count": 8,
   "metadata": {
    "ExecuteTime": {
     "end_time": "2018-08-08T16:15:07.034089Z",
     "start_time": "2018-08-08T16:13:19.028323Z"
    }
   },
   "outputs": [
    {
     "name": "stdout",
     "output_type": "stream",
     "text": [
      "dcraw -d -4 /mnt/data/Photos/2018/08-Astro/to_be_sorted/IMG_0992.CR2\n",
      "dcraw -d -4 /mnt/data/Photos/2018/08-Astro/to_be_sorted/IMG_1010.CR2\n",
      "dcraw -d -4 /mnt/data/Photos/2018/08-Astro/to_be_sorted/IMG_1020.CR2\n",
      "dcraw -d -4 /mnt/data/Photos/2018/08-Astro/to_be_sorted/IMG_0991.CR2\n",
      "dcraw -d -4 /mnt/data/Photos/2018/08-Astro/to_be_sorted/IMG_1013.CR2\n",
      "dcraw -d -4 /mnt/data/Photos/2018/08-Astro/to_be_sorted/IMG_1005.CR2\n",
      "dcraw -d -4 /mnt/data/Photos/2018/08-Astro/to_be_sorted/IMG_0998.CR2\n",
      "dcraw -d -4 /mnt/data/Photos/2018/08-Astro/to_be_sorted/IMG_1037.CR2\n",
      "dcraw -d -4 /mnt/data/Photos/2018/08-Astro/to_be_sorted/IMG_1006.CR2\n",
      "dcraw -d -4 /mnt/data/Photos/2018/08-Astro/to_be_sorted/IMG_1028.CR2\n",
      "dcraw -d -4 /mnt/data/Photos/2018/08-Astro/to_be_sorted/IMG_1012.CR2\n",
      "dcraw -d -4 /mnt/data/Photos/2018/08-Astro/to_be_sorted/IMG_1014.CR2\n",
      "dcraw -d -4 /mnt/data/Photos/2018/08-Astro/to_be_sorted/IMG_1009.CR2\n",
      "dcraw -d -4 /mnt/data/Photos/2018/08-Astro/to_be_sorted/IMG_1003.CR2\n",
      "dcraw -d -4 /mnt/data/Photos/2018/08-Astro/to_be_sorted/IMG_1026.CR2\n",
      "dcraw -d -4 /mnt/data/Photos/2018/08-Astro/to_be_sorted/IMG_1024.CR2\n",
      "dcraw -d -4 /mnt/data/Photos/2018/08-Astro/to_be_sorted/IMG_1032.CR2\n",
      "dcraw -d -4 /mnt/data/Photos/2018/08-Astro/to_be_sorted/IMG_1021.CR2\n",
      "dcraw -d -4 /mnt/data/Photos/2018/08-Astro/to_be_sorted/IMG_1015.CR2\n",
      "dcraw -d -4 /mnt/data/Photos/2018/08-Astro/to_be_sorted/IMG_1034.CR2\n",
      "dcraw -d -4 /mnt/data/Photos/2018/08-Astro/to_be_sorted/IMG_1029.CR2\n",
      "dcraw -d -4 /mnt/data/Photos/2018/08-Astro/to_be_sorted/IMG_1008.CR2\n",
      "dcraw -d -4 /mnt/data/Photos/2018/08-Astro/to_be_sorted/IMG_1004.CR2\n",
      "dcraw -d -4 /mnt/data/Photos/2018/08-Astro/to_be_sorted/IMG_0990.CR2\n",
      "dcraw -d -4 /mnt/data/Photos/2018/08-Astro/to_be_sorted/IMG_1033.CR2\n",
      "dcraw -d -4 /mnt/data/Photos/2018/08-Astro/to_be_sorted/IMG_1001.CR2\n",
      "dcraw -d -4 /mnt/data/Photos/2018/08-Astro/to_be_sorted/IMG_0999.CR2\n",
      "dcraw -d -4 /mnt/data/Photos/2018/08-Astro/to_be_sorted/IMG_1039.CR2\n",
      "dcraw -d -4 /mnt/data/Photos/2018/08-Astro/to_be_sorted/IMG_0997.CR2\n",
      "dcraw -d -4 /mnt/data/Photos/2018/08-Astro/to_be_sorted/IMG_1007.CR2\n",
      "dcraw -d -4 /mnt/data/Photos/2018/08-Astro/to_be_sorted/IMG_1018.CR2\n",
      "dcraw -d -4 /mnt/data/Photos/2018/08-Astro/to_be_sorted/IMG_1019.CR2\n",
      "dcraw -d -4 /mnt/data/Photos/2018/08-Astro/to_be_sorted/IMG_1022.CR2\n",
      "dcraw -d -4 /mnt/data/Photos/2018/08-Astro/to_be_sorted/IMG_1011.CR2\n",
      "dcraw -d -4 /mnt/data/Photos/2018/08-Astro/to_be_sorted/IMG_1027.CR2\n",
      "dcraw -d -4 /mnt/data/Photos/2018/08-Astro/to_be_sorted/IMG_1002.CR2\n",
      "dcraw -d -4 /mnt/data/Photos/2018/08-Astro/to_be_sorted/IMG_1023.CR2\n",
      "dcraw -d -4 /mnt/data/Photos/2018/08-Astro/to_be_sorted/IMG_1036.CR2\n",
      "dcraw -d -4 /mnt/data/Photos/2018/08-Astro/to_be_sorted/IMG_1017.CR2\n",
      "dcraw -d -4 /mnt/data/Photos/2018/08-Astro/to_be_sorted/IMG_1025.CR2\n",
      "dcraw -d -4 /mnt/data/Photos/2018/08-Astro/to_be_sorted/IMG_1031.CR2\n",
      "dcraw -d -4 /mnt/data/Photos/2018/08-Astro/to_be_sorted/IMG_1038.CR2\n",
      "dcraw -d -4 /mnt/data/Photos/2018/08-Astro/to_be_sorted/IMG_0993.CR2\n",
      "dcraw -d -4 /mnt/data/Photos/2018/08-Astro/to_be_sorted/IMG_1000.CR2\n",
      "dcraw -d -4 /mnt/data/Photos/2018/08-Astro/to_be_sorted/IMG_0996.CR2\n",
      "dcraw -d -4 /mnt/data/Photos/2018/08-Astro/to_be_sorted/IMG_1016.CR2\n",
      "dcraw -d -4 /mnt/data/Photos/2018/08-Astro/to_be_sorted/IMG_0995.CR2\n",
      "dcraw -d -4 /mnt/data/Photos/2018/08-Astro/to_be_sorted/IMG_1030.CR2\n",
      "dcraw -d -4 /mnt/data/Photos/2018/08-Astro/to_be_sorted/IMG_1035.CR2\n",
      "dcraw -d -4 /mnt/data/Photos/2018/08-Astro/to_be_sorted/IMG_1040.CR2\n",
      "dcraw -d -4 /mnt/data/Photos/2018/08-Astro/to_be_sorted/IMG_0994.CR2\n"
     ]
    }
   ],
   "source": [
    "masterOffset = astrolights.processImages.calculateMedianFromFiles(offsetList)"
   ]
  },
  {
   "cell_type": "code",
   "execution_count": 9,
   "metadata": {
    "ExecuteTime": {
     "end_time": "2018-08-08T16:15:07.041973Z",
     "start_time": "2018-08-08T16:15:07.035823Z"
    }
   },
   "outputs": [
    {
     "data": {
      "text/plain": [
       "array([[  10.,    0.,    0., ...,    0.,    0.,  112.],\n",
       "       [ 105.,   37.,   75., ...,    0.,   67.,   42.],\n",
       "       [  53.,    0.,    0., ...,    0.,    0.,   67.],\n",
       "       ..., \n",
       "       [   0.,   16.,    0., ...,    0.,   16.,    0.],\n",
       "       [  67.,   21.,  105., ...,   97.,    0.,    5.],\n",
       "       [   0.,   42.,   85., ...,    0.,   37.,    0.]])"
      ]
     },
     "execution_count": 9,
     "metadata": {},
     "output_type": "execute_result"
    }
   ],
   "source": [
    "masterOffset"
   ]
  },
  {
   "cell_type": "raw",
   "metadata": {
    "ExecuteTime": {
     "end_time": "2018-08-07T21:35:49.271636Z",
     "start_time": "2018-08-07T21:35:49.204787Z"
    }
   },
   "source": [
    "masterOffset = masterOffset.astype(np.uint16, copy=False)\n",
    "cv2.imwrite(\"masterOffset.pgm\", masterOffset)"
   ]
  },
  {
   "cell_type": "markdown",
   "metadata": {},
   "source": [
    "# Generating master Dark"
   ]
  },
  {
   "cell_type": "code",
   "execution_count": 10,
   "metadata": {
    "ExecuteTime": {
     "end_time": "2018-08-08T16:15:40.459752Z",
     "start_time": "2018-08-08T16:15:07.044239Z"
    }
   },
   "outputs": [
    {
     "name": "stdout",
     "output_type": "stream",
     "text": [
      "dcraw -d -4 /mnt/data/Photos/2018/08-Astro/to_be_sorted/IMG_0884.CR2\n",
      "dcraw -d -4 /mnt/data/Photos/2018/08-Astro/to_be_sorted/IMG_0888.CR2\n",
      "dcraw -d -4 /mnt/data/Photos/2018/08-Astro/to_be_sorted/IMG_0875.CR2\n",
      "dcraw -d -4 /mnt/data/Photos/2018/08-Astro/to_be_sorted/IMG_0876.CR2\n",
      "dcraw -d -4 /mnt/data/Photos/2018/08-Astro/to_be_sorted/IMG_0881.CR2\n",
      "dcraw -d -4 /mnt/data/Photos/2018/08-Astro/to_be_sorted/IMG_0880.CR2\n",
      "dcraw -d -4 /mnt/data/Photos/2018/08-Astro/to_be_sorted/IMG_0878.CR2\n",
      "dcraw -d -4 /mnt/data/Photos/2018/08-Astro/to_be_sorted/IMG_0882.CR2\n",
      "dcraw -d -4 /mnt/data/Photos/2018/08-Astro/to_be_sorted/IMG_0874.CR2\n",
      "dcraw -d -4 /mnt/data/Photos/2018/08-Astro/to_be_sorted/IMG_0885.CR2\n",
      "dcraw -d -4 /mnt/data/Photos/2018/08-Astro/to_be_sorted/IMG_0889.CR2\n",
      "dcraw -d -4 /mnt/data/Photos/2018/08-Astro/to_be_sorted/IMG_0879.CR2\n",
      "dcraw -d -4 /mnt/data/Photos/2018/08-Astro/to_be_sorted/IMG_0883.CR2\n",
      "dcraw -d -4 /mnt/data/Photos/2018/08-Astro/to_be_sorted/IMG_0890.CR2\n",
      "dcraw -d -4 /mnt/data/Photos/2018/08-Astro/to_be_sorted/IMG_0886.CR2\n",
      "dcraw -d -4 /mnt/data/Photos/2018/08-Astro/to_be_sorted/IMG_0877.CR2\n",
      "dcraw -d -4 /mnt/data/Photos/2018/08-Astro/to_be_sorted/IMG_0887.CR2\n"
     ]
    }
   ],
   "source": [
    "masterDark = astrolights.processImages.calculateMedianFromFiles(darkList)"
   ]
  },
  {
   "cell_type": "code",
   "execution_count": 11,
   "metadata": {
    "ExecuteTime": {
     "end_time": "2018-08-08T16:15:40.471681Z",
     "start_time": "2018-08-08T16:15:40.465473Z"
    }
   },
   "outputs": [
    {
     "data": {
      "text/plain": [
       "array([[  831.,     0.,     0., ...,    69.,     0.,     0.],\n",
       "       [  209.,     0.,     0., ...,    82.,     0.,    75.],\n",
       "       [ 1663.,     0.,   308., ...,     0.,     0.,  1094.],\n",
       "       ..., \n",
       "       [    0.,     0.,     0., ...,     0.,     0.,    48.],\n",
       "       [    0.,    52.,     0., ...,   172.,     0.,     0.],\n",
       "       [  590.,    53.,     0., ...,    10.,     0.,    53.]])"
      ]
     },
     "execution_count": 11,
     "metadata": {},
     "output_type": "execute_result"
    }
   ],
   "source": [
    "masterDark"
   ]
  },
  {
   "cell_type": "raw",
   "metadata": {
    "ExecuteTime": {
     "end_time": "2018-08-07T21:36:20.575282Z",
     "start_time": "2018-08-07T21:36:20.447756Z"
    }
   },
   "source": [
    "masterDark = masterDark.astype(np.uint16, copy=False)\n",
    "cv2.imwrite(\"masterDark.pgm\", masterDark)"
   ]
  },
  {
   "cell_type": "markdown",
   "metadata": {},
   "source": [
    "# Generating master Flat"
   ]
  },
  {
   "cell_type": "code",
   "execution_count": 12,
   "metadata": {
    "ExecuteTime": {
     "end_time": "2018-08-08T16:16:21.884343Z",
     "start_time": "2018-08-08T16:15:40.473719Z"
    }
   },
   "outputs": [
    {
     "name": "stdout",
     "output_type": "stream",
     "text": [
      "dcraw -d -4 /mnt/data/Photos/2018/08-Astro/to_be_sorted/IMG_0741.CR2\n",
      "dcraw -d -4 /mnt/data/Photos/2018/08-Astro/to_be_sorted/IMG_0730.CR2\n",
      "dcraw -d -4 /mnt/data/Photos/2018/08-Astro/to_be_sorted/IMG_0745.CR2\n",
      "dcraw -d -4 /mnt/data/Photos/2018/08-Astro/to_be_sorted/IMG_0733.CR2\n",
      "dcraw -d -4 /mnt/data/Photos/2018/08-Astro/to_be_sorted/IMG_0736.CR2\n",
      "dcraw -d -4 /mnt/data/Photos/2018/08-Astro/to_be_sorted/IMG_0738.CR2\n",
      "dcraw -d -4 /mnt/data/Photos/2018/08-Astro/to_be_sorted/IMG_0739.CR2\n",
      "dcraw -d -4 /mnt/data/Photos/2018/08-Astro/to_be_sorted/IMG_0737.CR2\n",
      "dcraw -d -4 /mnt/data/Photos/2018/08-Astro/to_be_sorted/IMG_0746.CR2\n",
      "dcraw -d -4 /mnt/data/Photos/2018/08-Astro/to_be_sorted/IMG_0732.CR2\n",
      "dcraw -d -4 /mnt/data/Photos/2018/08-Astro/to_be_sorted/IMG_0735.CR2\n",
      "dcraw -d -4 /mnt/data/Photos/2018/08-Astro/to_be_sorted/IMG_0748.CR2\n",
      "dcraw -d -4 /mnt/data/Photos/2018/08-Astro/to_be_sorted/IMG_0731.CR2\n",
      "dcraw -d -4 /mnt/data/Photos/2018/08-Astro/to_be_sorted/IMG_0734.CR2\n",
      "dcraw -d -4 /mnt/data/Photos/2018/08-Astro/to_be_sorted/IMG_0743.CR2\n",
      "dcraw -d -4 /mnt/data/Photos/2018/08-Astro/to_be_sorted/IMG_0749.CR2\n",
      "dcraw -d -4 /mnt/data/Photos/2018/08-Astro/to_be_sorted/IMG_0742.CR2\n",
      "dcraw -d -4 /mnt/data/Photos/2018/08-Astro/to_be_sorted/IMG_0744.CR2\n",
      "dcraw -d -4 /mnt/data/Photos/2018/08-Astro/to_be_sorted/IMG_0740.CR2\n",
      "dcraw -d -4 /mnt/data/Photos/2018/08-Astro/to_be_sorted/IMG_0747.CR2\n"
     ]
    }
   ],
   "source": [
    "masterFlat = astrolights.processImages.calculateMedianFromFiles(flatList)"
   ]
  },
  {
   "cell_type": "code",
   "execution_count": 13,
   "metadata": {
    "ExecuteTime": {
     "end_time": "2018-08-08T16:16:21.899676Z",
     "start_time": "2018-08-08T16:16:21.885986Z"
    }
   },
   "outputs": [],
   "source": [
    "meanFlat = np.mean(masterFlat)"
   ]
  },
  {
   "cell_type": "code",
   "execution_count": 14,
   "metadata": {
    "ExecuteTime": {
     "end_time": "2018-08-08T16:16:21.909170Z",
     "start_time": "2018-08-08T16:16:21.901354Z"
    }
   },
   "outputs": [
    {
     "data": {
      "text/plain": [
       "array([[ 21885. ,  14461. ,  20384. , ...,  15867. ,  21342.5,  15556.5],\n",
       "       [ 14608. ,  21724. ,  14638. , ...,  23187. ,  15920.5,  23160. ],\n",
       "       [ 21035.5,  14318.5,  19238.5, ...,  15213.5,  22669.5,  15773.5],\n",
       "       ..., \n",
       "       [ 25216. ,  17796.5,  24143.5, ...,  19811.5,  29973.5,  20538.5],\n",
       "       [ 17881.5,  25993. ,  17419. , ...,  28062.5,  20932.5,  29148.5],\n",
       "       [ 25605.5,  17110.5,  25114.5, ...,  19407.5,  31555. ,  19932.5]])"
      ]
     },
     "execution_count": 14,
     "metadata": {},
     "output_type": "execute_result"
    }
   ],
   "source": [
    "masterFlat"
   ]
  },
  {
   "cell_type": "code",
   "execution_count": 15,
   "metadata": {
    "ExecuteTime": {
     "end_time": "2018-08-08T16:16:21.927830Z",
     "start_time": "2018-08-08T16:16:21.910579Z"
    }
   },
   "outputs": [
    {
     "data": {
      "text/plain": [
       "21897.925846286227"
      ]
     },
     "execution_count": 15,
     "metadata": {},
     "output_type": "execute_result"
    }
   ],
   "source": [
    "meanFlat"
   ]
  },
  {
   "cell_type": "raw",
   "metadata": {
    "ExecuteTime": {
     "end_time": "2018-08-07T21:37:00.162294Z",
     "start_time": "2018-08-07T21:37:00.026882Z"
    }
   },
   "source": [
    "masterFlat = masterFlat.astype(np.uint16, copy=False)\n",
    "cv2.imwrite(\"masterFlat.pgm\", masterFlat)"
   ]
  },
  {
   "cell_type": "markdown",
   "metadata": {},
   "source": [
    "# Calculate images"
   ]
  },
  {
   "cell_type": "code",
   "execution_count": 16,
   "metadata": {
    "ExecuteTime": {
     "end_time": "2018-08-08T16:16:21.937903Z",
     "start_time": "2018-08-08T16:16:21.929623Z"
    }
   },
   "outputs": [],
   "source": [
    "#correctedImages = astrolights.processImages.correctImages(imageList, masterOffset, masterDark, masterFlat)"
   ]
  },
  {
   "cell_type": "raw",
   "metadata": {
    "ExecuteTime": {
     "end_time": "2018-08-07T21:25:12.869181Z",
     "start_time": "2018-08-07T21:21:16.519Z"
    }
   },
   "source": [
    "for i in range(correctedImages.shape[0]):\n",
    "    bitDepth = 2**16\n",
    "    image = np.power(correctedImages[i]/bitDepth, 1/2.1)*bitDepth\n",
    "    image = image/image.max()*65535\n",
    "    image = image.astype(np.uint16, copy=False)\n",
    "    RGB_image = cv2.cvtColor(image, cv2.COLOR_BayerBG2BGR)\n",
    "\n",
    "    print(\"Writing: Corrected_{:04d}.png\".format(i))\n",
    "    cv2.imwrite(\"Corrected_{:04d}.png\".format(i), RGB_image)"
   ]
  },
  {
   "cell_type": "code",
   "execution_count": 17,
   "metadata": {
    "ExecuteTime": {
     "end_time": "2018-08-08T16:19:06.804581Z",
     "start_time": "2018-08-08T16:16:21.940365Z"
    },
    "scrolled": false
   },
   "outputs": [
    {
     "name": "stdout",
     "output_type": "stream",
     "text": [
      "dcraw -d -4 /mnt/data/Photos/2018/08-Astro/to_be_sorted/IMG_0856.CR2\n",
      "dcraw -d -4 /mnt/data/Photos/2018/08-Astro/to_be_sorted/IMG_0855.CR2\n",
      "dcraw -d -4 /mnt/data/Photos/2018/08-Astro/to_be_sorted/IMG_0854.CR2\n",
      "dcraw -d -4 /mnt/data/Photos/2018/08-Astro/to_be_sorted/IMG_0853.CR2\n",
      "dcraw -d -4 /mnt/data/Photos/2018/08-Astro/to_be_sorted/IMG_0858.CR2\n",
      "dcraw -d -4 /mnt/data/Photos/2018/08-Astro/to_be_sorted/IMG_0850.CR2\n",
      "dcraw -d -4 /mnt/data/Photos/2018/08-Astro/to_be_sorted/IMG_0849.CR2\n",
      "dcraw -d -4 /mnt/data/Photos/2018/08-Astro/to_be_sorted/IMG_0859.CR2\n",
      "dcraw -d -4 /mnt/data/Photos/2018/08-Astro/to_be_sorted/IMG_0851.CR2\n",
      "dcraw -d -4 /mnt/data/Photos/2018/08-Astro/to_be_sorted/IMG_0860.CR2\n",
      "dcraw -d -4 /mnt/data/Photos/2018/08-Astro/to_be_sorted/IMG_0863.CR2\n",
      "dcraw -d -4 /mnt/data/Photos/2018/08-Astro/to_be_sorted/IMG_0844.CR2\n",
      "dcraw -d -4 /mnt/data/Photos/2018/08-Astro/to_be_sorted/IMG_0852.CR2\n",
      "dcraw -d -4 /mnt/data/Photos/2018/08-Astro/to_be_sorted/IMG_0862.CR2\n",
      "dcraw -d -4 /mnt/data/Photos/2018/08-Astro/to_be_sorted/IMG_0868.CR2\n",
      "dcraw -d -4 /mnt/data/Photos/2018/08-Astro/to_be_sorted/IMG_0872.CR2\n",
      "dcraw -d -4 /mnt/data/Photos/2018/08-Astro/to_be_sorted/IMG_0871.CR2\n",
      "dcraw -d -4 /mnt/data/Photos/2018/08-Astro/to_be_sorted/IMG_0870.CR2\n",
      "dcraw -d -4 /mnt/data/Photos/2018/08-Astro/to_be_sorted/IMG_0864.CR2\n",
      "dcraw -d -4 /mnt/data/Photos/2018/08-Astro/to_be_sorted/IMG_0873.CR2\n",
      "dcraw -d -4 /mnt/data/Photos/2018/08-Astro/to_be_sorted/IMG_0865.CR2\n",
      "dcraw -d -4 /mnt/data/Photos/2018/08-Astro/to_be_sorted/IMG_0848.CR2\n",
      "dcraw -d -4 /mnt/data/Photos/2018/08-Astro/to_be_sorted/IMG_0847.CR2\n",
      "dcraw -d -4 /mnt/data/Photos/2018/08-Astro/to_be_sorted/IMG_0857.CR2\n",
      "dcraw -d -4 /mnt/data/Photos/2018/08-Astro/to_be_sorted/IMG_0845.CR2\n",
      "dcraw -d -4 /mnt/data/Photos/2018/08-Astro/to_be_sorted/IMG_0867.CR2\n",
      "dcraw -d -4 /mnt/data/Photos/2018/08-Astro/to_be_sorted/IMG_0869.CR2\n",
      "dcraw -d -4 /mnt/data/Photos/2018/08-Astro/to_be_sorted/IMG_0846.CR2\n",
      "dcraw -d -4 /mnt/data/Photos/2018/08-Astro/to_be_sorted/IMG_0861.CR2\n",
      "dcraw -d -4 /mnt/data/Photos/2018/08-Astro/to_be_sorted/IMG_0843.CR2\n",
      "dcraw -d -4 /mnt/data/Photos/2018/08-Astro/to_be_sorted/IMG_0866.CR2\n",
      "Writing: Corrected_0001.png\n",
      "Writing: Corrected_0002.png\n",
      "Writing: Corrected_0003.png\n",
      "Writing: Corrected_0004.png\n",
      "Writing: Corrected_0005.png\n",
      "Writing: Corrected_0006.png\n",
      "Writing: Corrected_0007.png\n",
      "Writing: Corrected_0008.png\n",
      "Writing: Corrected_0009.png\n",
      "Writing: Corrected_0010.png\n",
      "Writing: Corrected_0011.png\n",
      "Writing: Corrected_0012.png\n",
      "Writing: Corrected_0013.png\n",
      "Writing: Corrected_0014.png\n",
      "Writing: Corrected_0015.png\n",
      "Writing: Corrected_0016.png\n",
      "Writing: Corrected_0017.png\n",
      "Writing: Corrected_0018.png\n",
      "Writing: Corrected_0019.png\n",
      "Writing: Corrected_0020.png\n",
      "Writing: Corrected_0021.png\n",
      "Writing: Corrected_0022.png\n",
      "Writing: Corrected_0023.png\n",
      "Writing: Corrected_0024.png\n",
      "Writing: Corrected_0025.png\n",
      "Writing: Corrected_0026.png\n",
      "Writing: Corrected_0027.png\n",
      "Writing: Corrected_0028.png\n",
      "Writing: Corrected_0029.png\n",
      "Writing: Corrected_0030.png\n",
      "Writing: Corrected_0031.png\n"
     ]
    }
   ],
   "source": [
    "i=0\n",
    "for image in astrolights.processImages.correctImages(imageList, masterOffset, masterDark, masterFlat):\n",
    "    image = image/image.max()*65535\n",
    "    image = image.astype(np.uint16, copy=False) \n",
    "    bitDepth = 2**16\n",
    "    image = np.power(image/bitDepth, 1/2.1)*bitDepth\n",
    "    image = image.astype(np.uint16, copy=False) \n",
    "    RGB_image = cv2.cvtColor(image, cv2.COLOR_BayerBG2BGR)\n",
    "    i += 1\n",
    "    print(\"Writing: Corrected_{:04d}.png\".format(i))\n",
    "    cv2.imwrite(\"Corrected_{:04d}.png\".format(i), RGB_image)"
   ]
  },
  {
   "cell_type": "markdown",
   "metadata": {},
   "source": [
    "# Add aligned images"
   ]
  },
  {
   "cell_type": "markdown",
   "metadata": {},
   "source": [
    "Hugin is used to align the generated images:\n",
    "\n",
    "    align_image_stack -v --gpu -a Aligned_ *.png"
   ]
  },
  {
   "cell_type": "code",
   "execution_count": 27,
   "metadata": {
    "ExecuteTime": {
     "end_time": "2018-08-08T16:56:41.613820Z",
     "start_time": "2018-08-08T16:55:31.010411Z"
    }
   },
   "outputs": [
    {
     "name": "stdout",
     "output_type": "stream",
     "text": [
      "Adding /mnt/data/Photos/2018/08-Astro/to_be_sorted/Aligned_0029.tif\n",
      "Adding /mnt/data/Photos/2018/08-Astro/to_be_sorted/Aligned_0008.tif\n",
      "Adding /mnt/data/Photos/2018/08-Astro/to_be_sorted/Aligned_0026.tif\n",
      "Adding /mnt/data/Photos/2018/08-Astro/to_be_sorted/Aligned_0006.tif\n",
      "Adding /mnt/data/Photos/2018/08-Astro/to_be_sorted/Aligned_0017.tif\n",
      "Adding /mnt/data/Photos/2018/08-Astro/to_be_sorted/Aligned_0028.tif\n",
      "Adding /mnt/data/Photos/2018/08-Astro/to_be_sorted/Aligned_0018.tif\n",
      "Adding /mnt/data/Photos/2018/08-Astro/to_be_sorted/Aligned_0016.tif\n",
      "Adding /mnt/data/Photos/2018/08-Astro/to_be_sorted/Aligned_0015.tif\n",
      "Adding /mnt/data/Photos/2018/08-Astro/to_be_sorted/Aligned_0024.tif\n",
      "Adding /mnt/data/Photos/2018/08-Astro/to_be_sorted/Aligned_0007.tif\n",
      "Adding /mnt/data/Photos/2018/08-Astro/to_be_sorted/Aligned_0009.tif\n",
      "Adding /mnt/data/Photos/2018/08-Astro/to_be_sorted/Aligned_0021.tif\n",
      "Adding /mnt/data/Photos/2018/08-Astro/to_be_sorted/Aligned_0003.tif\n",
      "Adding /mnt/data/Photos/2018/08-Astro/to_be_sorted/Aligned_0027.tif\n",
      "Adding /mnt/data/Photos/2018/08-Astro/to_be_sorted/Aligned_0011.tif\n",
      "Adding /mnt/data/Photos/2018/08-Astro/to_be_sorted/Aligned_0022.tif\n",
      "Adding /mnt/data/Photos/2018/08-Astro/to_be_sorted/Aligned_0025.tif\n",
      "Adding /mnt/data/Photos/2018/08-Astro/to_be_sorted/Aligned_0030.tif\n",
      "Adding /mnt/data/Photos/2018/08-Astro/to_be_sorted/Aligned_0001.tif\n",
      "Adding /mnt/data/Photos/2018/08-Astro/to_be_sorted/Aligned_0010.tif\n",
      "Adding /mnt/data/Photos/2018/08-Astro/to_be_sorted/Aligned_0013.tif\n",
      "Adding /mnt/data/Photos/2018/08-Astro/to_be_sorted/Aligned_0020.tif\n",
      "Adding /mnt/data/Photos/2018/08-Astro/to_be_sorted/Aligned_0005.tif\n",
      "Adding /mnt/data/Photos/2018/08-Astro/to_be_sorted/Aligned_0004.tif\n",
      "Adding /mnt/data/Photos/2018/08-Astro/to_be_sorted/Aligned_0012.tif\n",
      "Adding /mnt/data/Photos/2018/08-Astro/to_be_sorted/Aligned_0014.tif\n",
      "Adding /mnt/data/Photos/2018/08-Astro/to_be_sorted/Aligned_0002.tif\n",
      "Adding /mnt/data/Photos/2018/08-Astro/to_be_sorted/Aligned_0023.tif\n",
      "Adding /mnt/data/Photos/2018/08-Astro/to_be_sorted/Aligned_0000.tif\n"
     ]
    }
   ],
   "source": [
    "image = cv2.imread(alignedImages.pop(0), cv2.IMREAD_IGNORE_ORIENTATION | cv2.IMREAD_ANYDEPTH | cv2.IMREAD_ANYCOLOR)\n",
    "image = image.astype(np.float64, copy=False)\n",
    "\n",
    "for i in alignedImages:\n",
    "    print('Adding {}'.format(i))\n",
    "    image += cv2.imread(i, cv2.IMREAD_IGNORE_ORIENTATION | cv2.IMREAD_ANYDEPTH | cv2.IMREAD_ANYCOLOR)\n",
    "\n"
   ]
  },
  {
   "cell_type": "code",
   "execution_count": 29,
   "metadata": {
    "ExecuteTime": {
     "end_time": "2018-08-08T16:57:11.283421Z",
     "start_time": "2018-08-08T16:57:11.104045Z"
    }
   },
   "outputs": [],
   "source": [
    "image = image / 32"
   ]
  },
  {
   "cell_type": "code",
   "execution_count": 1,
   "metadata": {
    "ExecuteTime": {
     "end_time": "2018-08-12T18:12:29.986771Z",
     "start_time": "2018-08-12T18:12:29.914084Z"
    }
   },
   "outputs": [
    {
     "ename": "NameError",
     "evalue": "name 'red' is not defined",
     "output_type": "error",
     "traceback": [
      "\u001b[0;31m---------------------------------------------------------------------------\u001b[0m",
      "\u001b[0;31mNameError\u001b[0m                                 Traceback (most recent call last)",
      "\u001b[0;32m<ipython-input-1-edd34fad4616>\u001b[0m in \u001b[0;36m<module>\u001b[0;34m()\u001b[0m\n\u001b[0;32m----> 1\u001b[0;31m \u001b[0mred\u001b[0m\u001b[0;34m.\u001b[0m\u001b[0mmin\u001b[0m\u001b[0;34m(\u001b[0m\u001b[0;34m)\u001b[0m\u001b[0;34m\u001b[0m\u001b[0m\n\u001b[0m",
      "\u001b[0;31mNameError\u001b[0m: name 'red' is not defined"
     ]
    }
   ],
   "source": [
    "image.min()"
   ]
  },
  {
   "cell_type": "code",
   "execution_count": 33,
   "metadata": {
    "ExecuteTime": {
     "end_time": "2018-08-08T16:58:13.167667Z",
     "start_time": "2018-08-08T16:58:13.027088Z"
    }
   },
   "outputs": [],
   "source": [
    "image2 = image.astype(np.uint16, copy=False)"
   ]
  },
  {
   "cell_type": "code",
   "execution_count": 34,
   "metadata": {
    "ExecuteTime": {
     "end_time": "2018-08-08T16:58:37.368943Z",
     "start_time": "2018-08-08T16:58:35.446891Z"
    }
   },
   "outputs": [
    {
     "data": {
      "text/plain": [
       "True"
      ]
     },
     "execution_count": 34,
     "metadata": {},
     "output_type": "execute_result"
    }
   ],
   "source": [
    "i#mage2 = RGB_image.astype(np.uint16, copy=False)\n",
    "cv2.imwrite('image.tif', image2)"
   ]
  },
  {
   "cell_type": "code",
   "execution_count": null,
   "metadata": {
    "ExecuteTime": {
     "end_time": "2018-08-08T16:19:11.419730Z",
     "start_time": "2018-08-08T16:13:18.828Z"
    }
   },
   "outputs": [],
   "source": [
    "# remove files: RAWoffsetFiles, RAWdarkFiles, RAWflatFiles and RAWimageFiles"
   ]
  },
  {
   "cell_type": "code",
   "execution_count": null,
   "metadata": {},
   "outputs": [],
   "source": []
  }
 ],
 "metadata": {
  "kernelspec": {
   "display_name": "Python 3",
   "language": "python",
   "name": "python3"
  },
  "language_info": {
   "codemirror_mode": {
    "name": "ipython",
    "version": 3
   },
   "file_extension": ".py",
   "mimetype": "text/x-python",
   "name": "python",
   "nbconvert_exporter": "python",
   "pygments_lexer": "ipython3",
   "version": "3.5.2"
  },
  "toc": {
   "base_numbering": 1,
   "nav_menu": {},
   "number_sections": true,
   "sideBar": true,
   "skip_h1_title": false,
   "title_cell": "Table of Contents",
   "title_sidebar": "Contents",
   "toc_cell": false,
   "toc_position": {},
   "toc_section_display": true,
   "toc_window_display": false
  },
  "varInspector": {
   "cols": {
    "lenName": 16,
    "lenType": 16,
    "lenVar": 40
   },
   "kernels_config": {
    "python": {
     "delete_cmd_postfix": "",
     "delete_cmd_prefix": "del ",
     "library": "var_list.py",
     "varRefreshCmd": "print(var_dic_list())"
    },
    "r": {
     "delete_cmd_postfix": ") ",
     "delete_cmd_prefix": "rm(",
     "library": "var_list.r",
     "varRefreshCmd": "cat(var_dic_list()) "
    }
   },
   "types_to_exclude": [
    "module",
    "function",
    "builtin_function_or_method",
    "instance",
    "_Feature"
   ],
   "window_display": false
  }
 },
 "nbformat": 4,
 "nbformat_minor": 2
}
