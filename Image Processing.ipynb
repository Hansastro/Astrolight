{
 "cells": [
  {
   "cell_type": "code",
   "execution_count": 5,
   "metadata": {
    "collapsed": false
   },
   "outputs": [],
   "source": [
    "import cv2\n",
    "import os\n",
    "import re"
   ]
  },
  {
   "cell_type": "code",
   "execution_count": 6,
   "metadata": {
    "collapsed": true
   },
   "outputs": [],
   "source": [
    "tmpDir='/tmp'\n",
    "tmpGeneratedFiles = []"
   ]
  },
  {
   "cell_type": "code",
   "execution_count": 7,
   "metadata": {
    "collapsed": false
   },
   "outputs": [],
   "source": [
    "offsetList = [\"offset2.cr2\", \"offset2.cr2\", \"offset3.cr2\"]\n",
    "darkList = []\n",
    "flatList = []\n",
    "imageList = []"
   ]
  },
  {
   "cell_type": "code",
   "execution_count": 22,
   "metadata": {
    "collapsed": false
   },
   "outputs": [],
   "source": [
    "def getFileName(fileName, removeExtention=False, removePath=True):\n",
    "    '''\n",
    "    get the name of a file from a string (can remove the extention or the complete path)\n",
    "    \n",
    "    parameters:\n",
    "    fileName as a string. The name can include the path\n",
    "    removeExtention as boolean. Default is False. This parameter remove the extention of the filename. (e.g: 'test.jpg'\n",
    "    will become 'test')\n",
    "    removePath as boolean. Default is True. If the complete path is given in the filename is it possible to remove it or not\n",
    "    \n",
    "    return value:\n",
    "    the filename\n",
    "    \n",
    "    '''\n",
    "    if removePath:\n",
    "        fileName = os.path.basename(fileName)\n",
    "    if removeExtention:\n",
    "        re_catchFileName = re.compile('(.*)\\..*$')\n",
    "        catchFileNameResult = re_catchFileName.match(fileName)\n",
    "        if catchFileNameResult:\n",
    "            fileName = catchFileNameResult.group(1)\n",
    "\n",
    "    return fileName"
   ]
  },
  {
   "cell_type": "code",
   "execution_count": 28,
   "metadata": {
    "collapsed": false
   },
   "outputs": [
    {
     "data": {
      "text/plain": [
       "'IMG_0679'"
      ]
     },
     "execution_count": 28,
     "metadata": {},
     "output_type": "execute_result"
    }
   ],
   "source": [
    "getFileName('/media/jean-phi/EOS_DIGITAL/DCIM/100CANON/IMG_0679.CR2', removeExtention=True, removePath=True)"
   ]
  },
  {
   "cell_type": "code",
   "execution_count": null,
   "metadata": {
    "collapsed": true
   },
   "outputs": [],
   "source": [
    "def uncompressRawFiles(rawFileList):\n",
    "    '''\n",
    "    Generate a pgm file from a raw file.\n",
    "    \n",
    "    Parameters:\n",
    "    rawFileList as a list of strings. this parameter is the list of some filenames of camera RAW files.\n",
    "    \n",
    "    return value:\n",
    "    a list of the generated files (with their path)\n",
    "    '''\n",
    "    generatedFiles = []\n",
    "    for file in rawFileList:\n",
    "        # Extract Raw data in a PGM file with dcraw\n",
    "        os.system('dcraw -d -4 ' + file)\n",
    "        generatedFiles.append(getFileName(file, getFileName(file, removeExtention=True, removePath=False) + '.pgm'))\n",
    "    \n",
    "    return generatedFiles     "
   ]
  },
  {
   "cell_type": "code",
   "execution_count": null,
   "metadata": {
    "collapsed": true
   },
   "outputs": [],
   "source": [
    "def getRAWdata(rawFileList):\n",
    "    '''\n",
    "    Get the image raw data from a list of pgm files\n",
    "    \n",
    "    Parameters:\n",
    "    rawFileList as a list of string. each element of the list is a string of the filname of a pgm file containing the raw data.\n",
    "    \n",
    "    Return Value:\n",
    "    an array of array containing all images RAW data. Each element is an image.\n",
    "    '''\n",
    "    offsetStackList = cv2.imread(rawFleList.pop(0), cv2.IMREAD_UNCHANGED)\n",
    "\n",
    "    for file in offsetList:\n",
    "        offsetStackList.append(offsetStackList, [cv2.imread(file, cv2.IMREAD_UNCHANGED)], axis=0)\n",
    "    \n",
    "    return offsetStackList"
   ]
  },
  {
   "cell_type": "code",
   "execution_count": null,
   "metadata": {
    "collapsed": true
   },
   "outputs": [],
   "source": [
    "def calculateMedian(RAWdataList):\n",
    "    '''\n",
    "    Calculate the median of a stack of RAW images\n",
    "    \n",
    "    Parameters:\n",
    "    RAWdataList as an array of array of all images.\n",
    "    \n",
    "    Return value:\n",
    "    The median of each pixel of the image stack\n",
    "    '''\n",
    "        \n",
    "    #offsetStack = np.stack(offsetStackList)\n",
    "    masterOffset = np.median(offsetStack, axis=0)\n",
    "    \n",
    "    return masterOffset"
   ]
  },
  {
   "cell_type": "markdown",
   "metadata": {},
   "source": [
    "# Generating master offset"
   ]
  },
  {
   "cell_type": "markdown",
   "metadata": {},
   "source": [
    "The generation of the master offset is just a median of all offset image"
   ]
  },
  {
   "cell_type": "code",
   "execution_count": null,
   "metadata": {
    "collapsed": true
   },
   "outputs": [],
   "source": [
    "RAWoffsetFiles = uncompressRawFiles(offsetList)\n",
    "RAWoffsetData = getRAWdata(RAWoffsetFiles)\n",
    "masterOffet = calculateMedian(RAWoffsetData)"
   ]
  },
  {
   "cell_type": "markdown",
   "metadata": {},
   "source": [
    "# Generating master Dark"
   ]
  },
  {
   "cell_type": "code",
   "execution_count": null,
   "metadata": {
    "collapsed": true
   },
   "outputs": [],
   "source": [
    "RAWdarkFiles = uncompressRawFiles(darkList)\n",
    "RAWdarkData = getRAWdata(RAWdarkFiles)\n",
    "masterDark = calculateMedian(RAWdarkData)"
   ]
  },
  {
   "cell_type": "markdown",
   "metadata": {},
   "source": [
    "# Generating master Flat"
   ]
  },
  {
   "cell_type": "code",
   "execution_count": null,
   "metadata": {
    "collapsed": true
   },
   "outputs": [],
   "source": [
    "RAWflatFiles = extractRawData(FlatList)\n",
    "RAWflatData = getRAWdata(RAWflatFiles)\n",
    "RAWflatData -= masterOffset\n",
    "masterFlat = calculateMedian(RAWflatData)\n",
    "meanFlat = np.mean(masterFlat)"
   ]
  },
  {
   "cell_type": "markdown",
   "metadata": {},
   "source": [
    "# Calculate images"
   ]
  },
  {
   "cell_type": "code",
   "execution_count": null,
   "metadata": {
    "collapsed": true
   },
   "outputs": [],
   "source": [
    "# image= (Brute - black)/(PLU - offset)*meanFlat\n",
    "RAWimageFiles = extractRawData(imageList)\n",
    "RAWimageData = getRAWdata(RAWimageFiles)\n",
    "images = ((RAWimageData - masterDark)/(masterFlat - masterOffser))*meanFlat\n",
    "\n",
    "for i in imageList:\n",
    "    index = imageList.index(i)\n",
    "    # Debayreizing the RAW image\n",
    "    RGB_image = cv2.cvtColor(RAWimageData[index], cv2.COLOR_BayerBG2RGB)\n",
    "    # Gamma correction\n",
    "    bitDepth = 2**16\n",
    "    RGB_image = np.power(RGB_image/bitDepth, 1/2.1)*bitDepth\n",
    "    tgtFileName = getFileName(i, removeExtention=True, removePath=False) + 'png'\n",
    "    cv2.imwrite(\"tgtFileName, RGB_image)"
   ]
  },
  {
   "cell_type": "code",
   "execution_count": null,
   "metadata": {
    "collapsed": true
   },
   "outputs": [],
   "source": [
    "# remove files: RAWoffsetFiles, RAWdarkFiles, RAWflatFiles and RAWimageFiles"
   ]
  }
 ],
 "metadata": {
  "kernelspec": {
   "display_name": "Python 3",
   "language": "python",
   "name": "python3"
  },
  "language_info": {
   "codemirror_mode": {
    "name": "ipython",
    "version": 3
   },
   "file_extension": ".py",
   "mimetype": "text/x-python",
   "name": "python",
   "nbconvert_exporter": "python",
   "pygments_lexer": "ipython3",
   "version": "3.6.0"
  }
 },
 "nbformat": 4,
 "nbformat_minor": 2
}
