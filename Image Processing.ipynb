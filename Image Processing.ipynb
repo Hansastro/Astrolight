{
 "cells": [
  {
   "cell_type": "code",
   "execution_count": 1,
   "metadata": {
    "ExecuteTime": {
     "end_time": "2018-10-14T15:52:23.711743Z",
     "start_time": "2018-10-14T15:52:21.549933Z"
    }
   },
   "outputs": [
    {
     "name": "stdout",
     "output_type": "stream",
     "text": [
      "Initilization module astrolights\n"
     ]
    }
   ],
   "source": [
    "import astrolights"
   ]
  },
  {
   "cell_type": "code",
   "execution_count": 2,
   "metadata": {
    "ExecuteTime": {
     "end_time": "2018-10-14T15:52:23.732987Z",
     "start_time": "2018-10-14T15:52:23.716080Z"
    }
   },
   "outputs": [],
   "source": [
    "import cv2\n",
    "import os\n",
    "import re\n",
    "import numpy as np"
   ]
  },
  {
   "cell_type": "code",
   "execution_count": 3,
   "metadata": {
    "ExecuteTime": {
     "end_time": "2018-10-14T15:52:23.761501Z",
     "start_time": "2018-10-14T15:52:23.741940Z"
    }
   },
   "outputs": [],
   "source": [
    "#import importlib\n",
    "#importlib.reload(astrolights)"
   ]
  },
  {
   "cell_type": "code",
   "execution_count": 4,
   "metadata": {
    "ExecuteTime": {
     "end_time": "2018-10-14T15:52:23.778109Z",
     "start_time": "2018-10-14T15:52:23.764976Z"
    }
   },
   "outputs": [],
   "source": [
    "tmpDir='/mnt/data/Photos/Repository/tmp'\n",
    "tmpGeneratedFiles = []\n",
    "regenerateOffset = False\n",
    "regenerateFlat = False\n",
    "regenerateDark = False"
   ]
  },
  {
   "cell_type": "code",
   "execution_count": 5,
   "metadata": {
    "ExecuteTime": {
     "end_time": "2018-10-14T15:52:24.729767Z",
     "start_time": "2018-10-14T15:52:23.780374Z"
    }
   },
   "outputs": [],
   "source": [
    "imagesDirectory = '/mnt/data/Photos/Repository/2018/10-Harz'\n",
    "categories = astrolights.files.categorifyRawImages(imagesDirectory)\n",
    "\n",
    "flatDirectory = '/mnt/data/Photos/Repository/2018/10-Harz'\n",
    "categoriesFlat = astrolights.files.categorifyRawImages(flatDirectory)\n",
    "\n",
    "darkDirectory = '/mnt/data/Photos/Repository/2018/10-Harz'\n",
    "categoriesDark = astrolights.files.categorifyRawImages(darkDirectory)\n",
    "\n",
    "offsetDirectory = '/mnt/data/Photos/Repository/2018/10-Harz'\n",
    "categoriesOffset = astrolights.files.categorifyRawImages(offsetDirectory)"
   ]
  },
  {
   "cell_type": "code",
   "execution_count": 6,
   "metadata": {
    "ExecuteTime": {
     "end_time": "2018-10-14T15:52:24.769590Z",
     "start_time": "2018-10-14T15:52:24.746349Z"
    }
   },
   "outputs": [],
   "source": [
    "imageList = categories['Cluster_LIGHT']\n",
    "flatList = categoriesFlat['FLAT2']\n",
    "darkList = categoriesDark['DARK']\n",
    "offsetList = categoriesOffset['BIAS']\n"
   ]
  },
  {
   "cell_type": "code",
   "execution_count": 7,
   "metadata": {
    "ExecuteTime": {
     "end_time": "2018-10-14T15:52:24.802103Z",
     "start_time": "2018-10-14T15:52:24.771991Z"
    }
   },
   "outputs": [
    {
     "data": {
      "text/plain": [
       "{'BIAS': ['/mnt/data/Photos/Repository/2018/10-Harz/JPB-8F7_NT7U.CR2',\n",
       "  '/mnt/data/Photos/Repository/2018/10-Harz/JPB-8F7_NT77.CR2',\n",
       "  '/mnt/data/Photos/Repository/2018/10-Harz/JPB-8F7_NT7M.CR2',\n",
       "  '/mnt/data/Photos/Repository/2018/10-Harz/JPB-8F7_NT7V.CR2',\n",
       "  '/mnt/data/Photos/Repository/2018/10-Harz/JPB-8F7_NT7L.CR2',\n",
       "  '/mnt/data/Photos/Repository/2018/10-Harz/JPB-8F7_NT73.CR2',\n",
       "  '/mnt/data/Photos/Repository/2018/10-Harz/JPB-8F7_NT7P.CR2',\n",
       "  '/mnt/data/Photos/Repository/2018/10-Harz/JPB-8F7_NT74.CR2',\n",
       "  '/mnt/data/Photos/Repository/2018/10-Harz/JPB-8F7_NT75.CR2',\n",
       "  '/mnt/data/Photos/Repository/2018/10-Harz/JPB-8F7_NT7K.CR2',\n",
       "  '/mnt/data/Photos/Repository/2018/10-Harz/JPB-8F7_NT7W.CR2',\n",
       "  '/mnt/data/Photos/Repository/2018/10-Harz/JPB-8F7_NT7R.CR2',\n",
       "  '/mnt/data/Photos/Repository/2018/10-Harz/JPB-8F7_NT79.CR2',\n",
       "  '/mnt/data/Photos/Repository/2018/10-Harz/JPB-8F7_NT7B.CR2',\n",
       "  '/mnt/data/Photos/Repository/2018/10-Harz/JPB-8F7_NT7H.CR2',\n",
       "  '/mnt/data/Photos/Repository/2018/10-Harz/JPB-8F7_NT7S.CR2',\n",
       "  '/mnt/data/Photos/Repository/2018/10-Harz/JPB-8F7_NT7Y.CR2'],\n",
       " 'Cluster_LIGHT': ['/mnt/data/Photos/Repository/2018/10-Harz/JPB-8F7_NT9Y.CR2',\n",
       "  '/mnt/data/Photos/Repository/2018/10-Harz/JPB-8F7_NT9K.CR2',\n",
       "  '/mnt/data/Photos/Repository/2018/10-Harz/JPB-8F7_NT95.CR2',\n",
       "  '/mnt/data/Photos/Repository/2018/10-Harz/JPB-8F7_NT9H.CR2',\n",
       "  '/mnt/data/Photos/Repository/2018/10-Harz/JPB-8F7_NT9V.CR2'],\n",
       " 'DARK': ['/mnt/data/Photos/Repository/2018/10-Harz/JPB-8F7_NTW2.CR2',\n",
       "  '/mnt/data/Photos/Repository/2018/10-Harz/JPB-8F7_NTWJ.CR2',\n",
       "  '/mnt/data/Photos/Repository/2018/10-Harz/JPB-8F7_NTWD.CR2',\n",
       "  '/mnt/data/Photos/Repository/2018/10-Harz/JPB-8F7_NT7Z.CR2',\n",
       "  '/mnt/data/Photos/Repository/2018/10-Harz/JPB-8F7_NT7N.CR2',\n",
       "  '/mnt/data/Photos/Repository/2018/10-Harz/JPB-8F7_NTU8.CR2',\n",
       "  '/mnt/data/Photos/Repository/2018/10-Harz/JPB-8F7_NT3R.CR2',\n",
       "  '/mnt/data/Photos/Repository/2018/10-Harz/JPB-8F7_NT7G.CR2',\n",
       "  '/mnt/data/Photos/Repository/2018/10-Harz/JPB-8F7_NT34.CR2',\n",
       "  '/mnt/data/Photos/Repository/2018/10-Harz/JPB-8F7_NT7F.CR2',\n",
       "  '/mnt/data/Photos/Repository/2018/10-Harz/JPB-8F7_NTUE.CR2',\n",
       "  '/mnt/data/Photos/Repository/2018/10-Harz/JPB-8F7_NT3V.CR2',\n",
       "  '/mnt/data/Photos/Repository/2018/10-Harz/JPB-8F7_NTW5.CR2',\n",
       "  '/mnt/data/Photos/Repository/2018/10-Harz/JPB-8F7_NTUT.CR2',\n",
       "  '/mnt/data/Photos/Repository/2018/10-Harz/JPB-8F7_NTWP.CR2',\n",
       "  '/mnt/data/Photos/Repository/2018/10-Harz/JPB-8F7_NTWM.CR2',\n",
       "  '/mnt/data/Photos/Repository/2018/10-Harz/JPB-8F7_NTUC.CR2',\n",
       "  '/mnt/data/Photos/Repository/2018/10-Harz/JPB-8F7_NT7X.CR2',\n",
       "  '/mnt/data/Photos/Repository/2018/10-Harz/JPB-8F7_NT3K.CR2',\n",
       "  '/mnt/data/Photos/Repository/2018/10-Harz/JPB-8F7_NT33.CR2'],\n",
       " 'FLAT': ['/mnt/data/Photos/Repository/2018/10-Harz/JPB-8F7_NTW9.CR2',\n",
       "  '/mnt/data/Photos/Repository/2018/10-Harz/JPB-8F7_NTW3.CR2',\n",
       "  '/mnt/data/Photos/Repository/2018/10-Harz/JPB-8F7_NTW4.CR2',\n",
       "  '/mnt/data/Photos/Repository/2018/10-Harz/JPB-8F7_NTW7.CR2',\n",
       "  '/mnt/data/Photos/Repository/2018/10-Harz/JPB-8F7_NTWY.CR2',\n",
       "  '/mnt/data/Photos/Repository/2018/10-Harz/JPB-8F7_NTWV.CR2',\n",
       "  '/mnt/data/Photos/Repository/2018/10-Harz/JPB-8F7_NTWS.CR2',\n",
       "  '/mnt/data/Photos/Repository/2018/10-Harz/JPB-8F7_NTWR.CR2',\n",
       "  '/mnt/data/Photos/Repository/2018/10-Harz/JPB-8F7_NTWK.CR2',\n",
       "  '/mnt/data/Photos/Repository/2018/10-Harz/JPB-8F7_NTWW.CR2',\n",
       "  '/mnt/data/Photos/Repository/2018/10-Harz/JPB-8F7_NTWL.CR2',\n",
       "  '/mnt/data/Photos/Repository/2018/10-Harz/JPB-8F7_NTWH.CR2',\n",
       "  '/mnt/data/Photos/Repository/2018/10-Harz/JPB-8F7_NTWB.CR2',\n",
       "  '/mnt/data/Photos/Repository/2018/10-Harz/JPB-8F7_NTWU.CR2'],\n",
       " 'FLAT2': ['/mnt/data/Photos/Repository/2018/10-Harz/JPB-8F7_NTV5.CR2',\n",
       "  '/mnt/data/Photos/Repository/2018/10-Harz/JPB-8F7_NTVM.CR2',\n",
       "  '/mnt/data/Photos/Repository/2018/10-Harz/JPB-8F7_NTVV.CR2',\n",
       "  '/mnt/data/Photos/Repository/2018/10-Harz/JPB-8F7_NTVR.CR2',\n",
       "  '/mnt/data/Photos/Repository/2018/10-Harz/JPB-8F7_NTVD.CR2',\n",
       "  '/mnt/data/Photos/Repository/2018/10-Harz/JPB-8F7_NT3T.CR2',\n",
       "  '/mnt/data/Photos/Repository/2018/10-Harz/JPB-8F7_NTVK.CR2',\n",
       "  '/mnt/data/Photos/Repository/2018/10-Harz/JPB-8F7_NTV2.CR2',\n",
       "  '/mnt/data/Photos/Repository/2018/10-Harz/JPB-8F7_NTV7.CR2',\n",
       "  '/mnt/data/Photos/Repository/2018/10-Harz/JPB-8F7_NTV9.CR2',\n",
       "  '/mnt/data/Photos/Repository/2018/10-Harz/JPB-8F7_NTV3.CR2',\n",
       "  '/mnt/data/Photos/Repository/2018/10-Harz/JPB-8F7_NTV4.CR2',\n",
       "  '/mnt/data/Photos/Repository/2018/10-Harz/JPB-8F7_NTVH.CR2',\n",
       "  '/mnt/data/Photos/Repository/2018/10-Harz/JPB-8F7_NTVY.CR2',\n",
       "  '/mnt/data/Photos/Repository/2018/10-Harz/JPB-8F7_NTVP.CR2',\n",
       "  '/mnt/data/Photos/Repository/2018/10-Harz/JPB-8F7_NTVS.CR2',\n",
       "  '/mnt/data/Photos/Repository/2018/10-Harz/JPB-8F7_NTVJ.CR2'],\n",
       " 'M27_LIGHT': ['/mnt/data/Photos/Repository/2018/10-Harz/JPB-8F7_NTVE.CR2',\n",
       "  '/mnt/data/Photos/Repository/2018/10-Harz/JPB-8F7_NTVC.CR2',\n",
       "  '/mnt/data/Photos/Repository/2018/10-Harz/JPB-8F7_NTVL.CR2',\n",
       "  '/mnt/data/Photos/Repository/2018/10-Harz/JPB-8F7_NTVN.CR2',\n",
       "  '/mnt/data/Photos/Repository/2018/10-Harz/JPB-8F7_NTVA.CR2',\n",
       "  '/mnt/data/Photos/Repository/2018/10-Harz/JPB-8F7_NTV6.CR2',\n",
       "  '/mnt/data/Photos/Repository/2018/10-Harz/JPB-8F7_NTVF.CR2',\n",
       "  '/mnt/data/Photos/Repository/2018/10-Harz/JPB-8F7_NTVX.CR2',\n",
       "  '/mnt/data/Photos/Repository/2018/10-Harz/JPB-8F7_NTVU.CR2',\n",
       "  '/mnt/data/Photos/Repository/2018/10-Harz/JPB-8F7_NTVB.CR2',\n",
       "  '/mnt/data/Photos/Repository/2018/10-Harz/JPB-8F7_NTHD.CR2',\n",
       "  '/mnt/data/Photos/Repository/2018/10-Harz/JPB-8F7_NTVG.CR2'],\n",
       " 'M31_LIGHT': ['/mnt/data/Photos/Repository/2018/10-Harz/JPB-8F7_NTLS.CR2',\n",
       "  '/mnt/data/Photos/Repository/2018/10-Harz/JPB-8F7_NTW8.CR2',\n",
       "  '/mnt/data/Photos/Repository/2018/10-Harz/JPB-8F7_NTLJ.CR2',\n",
       "  '/mnt/data/Photos/Repository/2018/10-Harz/JPB-8F7_NTLM.CR2',\n",
       "  '/mnt/data/Photos/Repository/2018/10-Harz/JPB-8F7_NTLK.CR2',\n",
       "  '/mnt/data/Photos/Repository/2018/10-Harz/JPB-8F7_NTWC.CR2',\n",
       "  '/mnt/data/Photos/Repository/2018/10-Harz/JPB-8F7_NTLD.CR2',\n",
       "  '/mnt/data/Photos/Repository/2018/10-Harz/JPB-8F7_NTLH.CR2',\n",
       "  '/mnt/data/Photos/Repository/2018/10-Harz/JPB-8F7_NTWT.CR2',\n",
       "  '/mnt/data/Photos/Repository/2018/10-Harz/JPB-8F7_NTWA.CR2',\n",
       "  '/mnt/data/Photos/Repository/2018/10-Harz/JPB-8F7_NTL2.CR2',\n",
       "  '/mnt/data/Photos/Repository/2018/10-Harz/JPB-8F7_NTLR.CR2',\n",
       "  '/mnt/data/Photos/Repository/2018/10-Harz/JPB-8F7_NTL3.CR2',\n",
       "  '/mnt/data/Photos/Repository/2018/10-Harz/JPB-8F7_NTL4.CR2',\n",
       "  '/mnt/data/Photos/Repository/2018/10-Harz/JPB-8F7_NTL5.CR2',\n",
       "  '/mnt/data/Photos/Repository/2018/10-Harz/JPB-8F7_NTLP.CR2'],\n",
       " 'M33_LIGHT': ['/mnt/data/Photos/Repository/2018/10-Harz/JPB-8F7_NTHZ.CR2',\n",
       "  '/mnt/data/Photos/Repository/2018/10-Harz/JPB-8F7_NTH8.CR2',\n",
       "  '/mnt/data/Photos/Repository/2018/10-Harz/JPB-8F7_NTYM.CR2',\n",
       "  '/mnt/data/Photos/Repository/2018/10-Harz/JPB-8F7_NTYS.CR2',\n",
       "  '/mnt/data/Photos/Repository/2018/10-Harz/JPB-8F7_NTHC.CR2',\n",
       "  '/mnt/data/Photos/Repository/2018/10-Harz/JPB-8F7_NTHG.CR2',\n",
       "  '/mnt/data/Photos/Repository/2018/10-Harz/JPB-8F7_NTHN.CR2',\n",
       "  '/mnt/data/Photos/Repository/2018/10-Harz/JPB-8F7_NTHA.CR2',\n",
       "  '/mnt/data/Photos/Repository/2018/10-Harz/JPB-8F7_NTHW.CR2',\n",
       "  '/mnt/data/Photos/Repository/2018/10-Harz/JPB-8F7_NTHB.CR2',\n",
       "  '/mnt/data/Photos/Repository/2018/10-Harz/JPB-8F7_NTY2.CR2',\n",
       "  '/mnt/data/Photos/Repository/2018/10-Harz/JPB-8F7_NTY5.CR2'],\n",
       " 'M45_LIGHT': ['/mnt/data/Photos/Repository/2018/10-Harz/JPB-8F7_NTUL.CR2',\n",
       "  '/mnt/data/Photos/Repository/2018/10-Harz/JPB-8F7_NTU2.CR2',\n",
       "  '/mnt/data/Photos/Repository/2018/10-Harz/JPB-8F7_NTU5.CR2',\n",
       "  '/mnt/data/Photos/Repository/2018/10-Harz/JPB-8F7_NTUN.CR2',\n",
       "  '/mnt/data/Photos/Repository/2018/10-Harz/JPB-8F7_NTUG.CR2',\n",
       "  '/mnt/data/Photos/Repository/2018/10-Harz/JPB-8F7_NT7E.CR2',\n",
       "  '/mnt/data/Photos/Repository/2018/10-Harz/JPB-8F7_NTUF.CR2',\n",
       "  '/mnt/data/Photos/Repository/2018/10-Harz/JPB-8F7_NTU3.CR2',\n",
       "  '/mnt/data/Photos/Repository/2018/10-Harz/JPB-8F7_NTUY.CR2',\n",
       "  '/mnt/data/Photos/Repository/2018/10-Harz/JPB-8F7_NTUP.CR2',\n",
       "  '/mnt/data/Photos/Repository/2018/10-Harz/JPB-8F7_NTU9.CR2',\n",
       "  '/mnt/data/Photos/Repository/2018/10-Harz/JPB-8F7_NT78.CR2',\n",
       "  '/mnt/data/Photos/Repository/2018/10-Harz/JPB-8F7_NTUR.CR2',\n",
       "  '/mnt/data/Photos/Repository/2018/10-Harz/JPB-8F7_NTUV.CR2',\n",
       "  '/mnt/data/Photos/Repository/2018/10-Harz/JPB-8F7_NTUM.CR2',\n",
       "  '/mnt/data/Photos/Repository/2018/10-Harz/JPB-8F7_NTU7.CR2',\n",
       "  '/mnt/data/Photos/Repository/2018/10-Harz/JPB-8F7_NTUZ.CR2',\n",
       "  '/mnt/data/Photos/Repository/2018/10-Harz/JPB-8F7_NT76.CR2',\n",
       "  '/mnt/data/Photos/Repository/2018/10-Harz/JPB-8F7_NT7A.CR2',\n",
       "  '/mnt/data/Photos/Repository/2018/10-Harz/JPB-8F7_NTUH.CR2',\n",
       "  '/mnt/data/Photos/Repository/2018/10-Harz/JPB-8F7_NTUK.CR2',\n",
       "  '/mnt/data/Photos/Repository/2018/10-Harz/JPB-8F7_NTUX.CR2',\n",
       "  '/mnt/data/Photos/Repository/2018/10-Harz/JPB-8F7_NTUS.CR2',\n",
       "  '/mnt/data/Photos/Repository/2018/10-Harz/JPB-8F7_NTUB.CR2',\n",
       "  '/mnt/data/Photos/Repository/2018/10-Harz/JPB-8F7_NT7C.CR2',\n",
       "  '/mnt/data/Photos/Repository/2018/10-Harz/JPB-8F7_NT7T.CR2',\n",
       "  '/mnt/data/Photos/Repository/2018/10-Harz/JPB-8F7_NTUJ.CR2',\n",
       "  '/mnt/data/Photos/Repository/2018/10-Harz/JPB-8F7_NTU4.CR2',\n",
       "  '/mnt/data/Photos/Repository/2018/10-Harz/JPB-8F7_NTUD.CR2',\n",
       "  '/mnt/data/Photos/Repository/2018/10-Harz/JPB-8F7_NTUW.CR2']}"
      ]
     },
     "execution_count": 7,
     "metadata": {},
     "output_type": "execute_result"
    }
   ],
   "source": [
    "categories"
   ]
  },
  {
   "cell_type": "markdown",
   "metadata": {},
   "source": [
    "# Generating master offset"
   ]
  },
  {
   "cell_type": "markdown",
   "metadata": {},
   "source": [
    "The generation of the master offset is just a median of all offset image"
   ]
  },
  {
   "cell_type": "code",
   "execution_count": 8,
   "metadata": {
    "ExecuteTime": {
     "end_time": "2018-10-14T15:52:25.414415Z",
     "start_time": "2018-10-14T15:52:24.804887Z"
    }
   },
   "outputs": [],
   "source": [
    "if regenerateOffset:\n",
    "    masterOffset = astrolights.processImages.calculateMedianFromFiles(offsetList)\n",
    "    masterOffset = masterOffset.astype(np.uint16, copy=False)\n",
    "    cv2.imwrite(tmpDir + '/' + \"masterOffset.pgm\", masterOffset)\n",
    "else:\n",
    "    try:\n",
    "        masterOffset = cv2.imread(tmpDir + '/' + \"masterOffset.pgm\", flags=cv2.IMREAD_GRAYSCALE | cv2.IMREAD_IGNORE_ORIENTATION | cv2.IMREAD_ANYDEPTH)\n",
    "    except:\n",
    "        print('File: {} for the Master Offset not found.'.format(tmpDir + '/' + \"masterOffset.pgm\"))"
   ]
  },
  {
   "cell_type": "code",
   "execution_count": 9,
   "metadata": {
    "ExecuteTime": {
     "end_time": "2018-10-14T15:52:25.420796Z",
     "start_time": "2018-10-14T15:52:25.416094Z"
    }
   },
   "outputs": [
    {
     "data": {
      "text/plain": [
       "array([[134,   0,  53, ...,  21,   0,   0],\n",
       "       [ 32,  15,   0, ...,  52,  37, 142],\n",
       "       [ 67,   0,   0, ...,   0,   0,  48],\n",
       "       ..., \n",
       "       [  0,  48,   0, ...,   0,  40,   0],\n",
       "       [  0,   0, 107, ...,  75,  75,  37],\n",
       "       [  0,  42,   0, ...,  91,   0,   0]], dtype=uint16)"
      ]
     },
     "execution_count": 9,
     "metadata": {},
     "output_type": "execute_result"
    }
   ],
   "source": [
    "masterOffset"
   ]
  },
  {
   "cell_type": "markdown",
   "metadata": {},
   "source": [
    "# Generating master Dark"
   ]
  },
  {
   "cell_type": "code",
   "execution_count": 10,
   "metadata": {
    "ExecuteTime": {
     "end_time": "2018-10-14T15:52:25.905533Z",
     "start_time": "2018-10-14T15:52:25.426272Z"
    }
   },
   "outputs": [],
   "source": [
    "if regenerateDark:\n",
    "    masterDark = astrolights.processImages.calculateMedianFromFiles(darkList)\n",
    "    masterDark = masterDark.astype(np.uint16, copy=False)\n",
    "    cv2.imwrite(tmpDir + '/' + \"masterDark.pgm\", masterDark)\n",
    "else:\n",
    "    try:\n",
    "        masterDark = cv2.imread(tmpDir + '/' + \"masterDark.pgm\", flags=cv2.IMREAD_GRAYSCALE | cv2.IMREAD_IGNORE_ORIENTATION | cv2.IMREAD_ANYDEPTH)\n",
    "    except:\n",
    "        print('File: {} for the Master Dark not found.'.format(tmpDir + '/' + \"masterDark.pgm\"))"
   ]
  },
  {
   "cell_type": "code",
   "execution_count": 11,
   "metadata": {
    "ExecuteTime": {
     "end_time": "2018-10-14T15:52:25.913359Z",
     "start_time": "2018-10-14T15:52:25.907001Z"
    }
   },
   "outputs": [
    {
     "data": {
      "text/plain": [
       "array([[ 550,    0,    0, ...,    0,    0,    0],\n",
       "       [ 123,    0,    0, ...,    0,    0,  188],\n",
       "       [2536,    0,  415, ...,    0,    0, 1921],\n",
       "       ..., \n",
       "       [   0,    0,    0, ...,    0,    0,   48],\n",
       "       [   0,    0,    0, ...,   97,   96,    0],\n",
       "       [ 724,    0,    0, ...,    0,   40,   80]], dtype=uint16)"
      ]
     },
     "execution_count": 11,
     "metadata": {},
     "output_type": "execute_result"
    }
   ],
   "source": [
    "masterDark"
   ]
  },
  {
   "cell_type": "markdown",
   "metadata": {},
   "source": [
    "# Generating master Flat"
   ]
  },
  {
   "cell_type": "code",
   "execution_count": 12,
   "metadata": {
    "ExecuteTime": {
     "end_time": "2018-10-14T15:52:26.384137Z",
     "start_time": "2018-10-14T15:52:25.915803Z"
    }
   },
   "outputs": [],
   "source": [
    "if regenerateFlat:\n",
    "    masterFlat = astrolights.processImages.calculateMedianFromFiles(flatList)\n",
    "    masterFlat = masterFlat.astype(np.uint16, copy=False)\n",
    "    cv2.imwrite(tmpDir + '/' + \"masterFlat.pgm\", masterFlat)\n",
    "else:\n",
    "    try:\n",
    "        masterFlat = cv2.imread(tmpDir + '/' + \"masterFlat.pgm\", flags=cv2.IMREAD_GRAYSCALE | cv2.IMREAD_IGNORE_ORIENTATION | cv2.IMREAD_ANYDEPTH)\n",
    "    except:\n",
    "        print('File: {} for the Master Flat not found.'.format(tmpDir + '/' + \"masterFlat.pgm\"))"
   ]
  },
  {
   "cell_type": "code",
   "execution_count": 13,
   "metadata": {
    "ExecuteTime": {
     "end_time": "2018-10-14T15:52:26.401036Z",
     "start_time": "2018-10-14T15:52:26.385836Z"
    }
   },
   "outputs": [],
   "source": [
    "meanFlat = np.mean(masterFlat)"
   ]
  },
  {
   "cell_type": "code",
   "execution_count": 14,
   "metadata": {
    "ExecuteTime": {
     "end_time": "2018-10-14T15:52:26.405611Z",
     "start_time": "2018-10-14T15:52:26.402322Z"
    }
   },
   "outputs": [
    {
     "data": {
      "text/plain": [
       "array([[24928, 14521, 22772, ..., 16663, 28292, 16364],\n",
       "       [14546, 12090, 14037, ..., 13495, 17081, 13878],\n",
       "       [23201, 14117, 23227, ..., 16401, 27664, 17049],\n",
       "       ..., \n",
       "       [24097, 15023, 24526, ..., 17378, 28586, 17548],\n",
       "       [15382, 13081, 14895, ..., 15049, 18100, 14982],\n",
       "       [24796, 15136, 23817, ..., 16872, 28292, 17796]], dtype=uint16)"
      ]
     },
     "execution_count": 14,
     "metadata": {},
     "output_type": "execute_result"
    }
   ],
   "source": [
    "masterFlat"
   ]
  },
  {
   "cell_type": "code",
   "execution_count": 15,
   "metadata": {
    "ExecuteTime": {
     "end_time": "2018-10-14T15:52:26.410812Z",
     "start_time": "2018-10-14T15:52:26.407002Z"
    }
   },
   "outputs": [
    {
     "data": {
      "text/plain": [
       "23736.1620684796"
      ]
     },
     "execution_count": 15,
     "metadata": {},
     "output_type": "execute_result"
    }
   ],
   "source": [
    "meanFlat"
   ]
  },
  {
   "cell_type": "markdown",
   "metadata": {},
   "source": [
    "# Calculate images"
   ]
  },
  {
   "cell_type": "code",
   "execution_count": 16,
   "metadata": {
    "ExecuteTime": {
     "end_time": "2018-10-14T15:52:26.415358Z",
     "start_time": "2018-10-14T15:52:26.412203Z"
    }
   },
   "outputs": [],
   "source": [
    "#correctedImages = astrolights.processImages.correctImages(imageList, masterOffset, masterDark, masterFlat)"
   ]
  },
  {
   "cell_type": "code",
   "execution_count": 17,
   "metadata": {
    "ExecuteTime": {
     "end_time": "2018-10-14T15:59:32.729021Z",
     "start_time": "2018-10-14T15:52:26.416870Z"
    }
   },
   "outputs": [
    {
     "name": "stdout",
     "output_type": "stream",
     "text": [
      "dcraw -d -4 -t 0 /mnt/data/Photos/Repository/2018/10-Harz/JPB-8F7_NT9Y.CR2\n",
      "-47719.9973823\n",
      "121860.507729\n",
      "0.0\n",
      "65535.0\n",
      "(3465, 5202)\n",
      "Normalize the histogram\n",
      "Writing: Corrected_0001.png\n",
      "dcraw -d -4 -t 0 /mnt/data/Photos/Repository/2018/10-Harz/JPB-8F7_NT9K.CR2\n",
      "-30466.8792079\n",
      "123819.898206\n",
      "0.0\n",
      "65535.0\n",
      "(3465, 5202)\n",
      "Normalize the histogram\n",
      "Writing: Corrected_0002.png\n",
      "dcraw -d -4 -t 0 /mnt/data/Photos/Repository/2018/10-Harz/JPB-8F7_NT95.CR2\n",
      "-47851.1185122\n",
      "122493.848426\n",
      "0.0\n",
      "65535.0\n",
      "(3465, 5202)\n",
      "Normalize the histogram\n",
      "Writing: Corrected_0003.png\n",
      "dcraw -d -4 -t 0 /mnt/data/Photos/Repository/2018/10-Harz/JPB-8F7_NT9H.CR2\n",
      "-29176.117925\n",
      "123681.077419\n",
      "0.0\n",
      "65535.0\n",
      "(3465, 5202)\n",
      "Normalize the histogram\n",
      "Writing: Corrected_0004.png\n",
      "dcraw -d -4 -t 0 /mnt/data/Photos/Repository/2018/10-Harz/JPB-8F7_NT9V.CR2\n",
      "-46916.2734195\n",
      "123682.068948\n",
      "0.0\n",
      "65535.0\n",
      "(3465, 5202)\n",
      "Normalize the histogram\n",
      "Writing: Corrected_0005.png\n"
     ]
    }
   ],
   "source": [
    "i=0\n",
    "for image in imageList:\n",
    "    correctedImage = astrolights.processImages.correctImages(image, masterOffset, masterDark, masterFlat)\n",
    "    #correctedImage = correctedImage/correctedImage.max()*65535\n",
    "    \n",
    "    # Correction Gamma\n",
    "    #print('Ajust Gamma')\n",
    "    correctedImage = correctedImage.astype(np.float64, copy=False) \n",
    "    print(correctedImage.min())\n",
    "    print(correctedImage.max())\n",
    "    \n",
    "    correctedImage -= correctedImage.min()\n",
    "    correctedImage = (correctedImage / correctedImage.max()) * 65535\n",
    "    print(correctedImage.min())\n",
    "    print(correctedImage.max())\n",
    "    correctedImage = correctedImage.astype(np.uint16, copy=False)\n",
    "    print(correctedImage.shape)\n",
    "    BGR_image = cv2.cvtColor(correctedImage, cv2.COLOR_BayerBG2BGR_EA)\n",
    "\n",
    "    bitDepth = 2.0**16\n",
    "    BGR_image = np.power(BGR_image/bitDepth, 1/2.1)*bitDepth\n",
    "    \n",
    "    #Correction of the white balance\n",
    "    #print('Ajust White balance')\n",
    "    #BGR_image = astrolights.histogram.ajustWhiteBalance(BGR_image)\n",
    "    \n",
    "    #Normalization of the histogram\n",
    "    print('Normalize the histogram')\n",
    "    BGR_image = astrolights.histogram.normalizeHistogram(BGR_image, sigma1=3, sigma2=10)\n",
    "    \n",
    "    BGR_image = BGR_image.astype(np.uint16, copy=False)\n",
    "    i += 1\n",
    "    print(\"Writing: Corrected_{:04d}.png\".format(i))\n",
    "    cv2.imwrite(tmpDir + '/' + \"Corrected_{:04d}.png\".format(i), BGR_image)\n"
   ]
  },
  {
   "cell_type": "markdown",
   "metadata": {},
   "source": [
    "# Aligns images"
   ]
  },
  {
   "cell_type": "markdown",
   "metadata": {},
   "source": [
    "Hugin is used to align the generated images:\n",
    "\n",
    "    align_image_stack -v --gpu -a Aligned_ Corrected_*.png"
   ]
  },
  {
   "cell_type": "markdown",
   "metadata": {
    "ExecuteTime": {
     "end_time": "2018-09-04T12:53:04.585040Z",
     "start_time": "2018-09-04T12:53:04.582363Z"
    }
   },
   "source": [
    "# Add aligned Images"
   ]
  },
  {
   "cell_type": "code",
   "execution_count": 18,
   "metadata": {
    "ExecuteTime": {
     "end_time": "2018-10-14T16:00:52.843946Z",
     "start_time": "2018-10-14T16:00:52.838365Z"
    }
   },
   "outputs": [],
   "source": [
    "alignedImages = astrolights.files.listAllFileinDir(tmpDir, '^Aligned_.*')"
   ]
  },
  {
   "cell_type": "code",
   "execution_count": 19,
   "metadata": {
    "ExecuteTime": {
     "end_time": "2018-10-14T16:00:53.337025Z",
     "start_time": "2018-10-14T16:00:53.329528Z"
    }
   },
   "outputs": [
    {
     "data": {
      "text/plain": [
       "['/mnt/data/Photos/Repository/tmp/Aligned_0003.tif',\n",
       " '/mnt/data/Photos/Repository/tmp/Aligned_0001.tif',\n",
       " '/mnt/data/Photos/Repository/tmp/Aligned_0004.tif',\n",
       " '/mnt/data/Photos/Repository/tmp/Aligned_0002.tif',\n",
       " '/mnt/data/Photos/Repository/tmp/Aligned_0000.tif']"
      ]
     },
     "execution_count": 19,
     "metadata": {},
     "output_type": "execute_result"
    }
   ],
   "source": [
    "alignedImages"
   ]
  },
  {
   "cell_type": "code",
   "execution_count": 20,
   "metadata": {
    "ExecuteTime": {
     "end_time": "2018-10-14T16:01:00.228759Z",
     "start_time": "2018-10-14T16:00:53.711309Z"
    }
   },
   "outputs": [
    {
     "name": "stdout",
     "output_type": "stream",
     "text": [
      "Adding /mnt/data/Photos/Repository/tmp/Aligned_0001.tif\n",
      "Adding /mnt/data/Photos/Repository/tmp/Aligned_0004.tif\n",
      "Adding /mnt/data/Photos/Repository/tmp/Aligned_0002.tif\n",
      "Adding /mnt/data/Photos/Repository/tmp/Aligned_0000.tif\n"
     ]
    }
   ],
   "source": [
    "image = cv2.imread(alignedImages.pop(0), cv2.IMREAD_IGNORE_ORIENTATION | cv2.IMREAD_ANYDEPTH | cv2.IMREAD_ANYCOLOR)\n",
    "image = image.astype(np.float64, copy=False)\n",
    "\n",
    "imageCpt = 0\n",
    "for i in alignedImages:\n",
    "    print('Adding {}'.format(i))\n",
    "    image += cv2.imread(i, cv2.IMREAD_IGNORE_ORIENTATION | cv2.IMREAD_ANYDEPTH | cv2.IMREAD_ANYCOLOR)\n",
    "    imageCpt += 1\n",
    "\n",
    "image = image / imageCpt\n"
   ]
  },
  {
   "cell_type": "code",
   "execution_count": 21,
   "metadata": {
    "ExecuteTime": {
     "end_time": "2018-10-14T16:01:00.799789Z",
     "start_time": "2018-10-14T16:01:00.314314Z"
    }
   },
   "outputs": [],
   "source": [
    "image2 = image - image.min()\n",
    "image2 = (image2 / image2.max()) * 65535.0"
   ]
  },
  {
   "cell_type": "code",
   "execution_count": 22,
   "metadata": {
    "ExecuteTime": {
     "end_time": "2018-10-14T16:01:00.991246Z",
     "start_time": "2018-10-14T16:01:00.944426Z"
    }
   },
   "outputs": [
    {
     "data": {
      "text/plain": [
       "65535.0"
      ]
     },
     "execution_count": 22,
     "metadata": {},
     "output_type": "execute_result"
    }
   ],
   "source": [
    "image2.max()"
   ]
  },
  {
   "cell_type": "code",
   "execution_count": 23,
   "metadata": {
    "ExecuteTime": {
     "end_time": "2018-10-14T16:01:06.080140Z",
     "start_time": "2018-10-14T16:01:01.095010Z"
    }
   },
   "outputs": [],
   "source": [
    "# Gamma ajustement\n",
    "image2 = image2.astype(np.float32, copy=False) \n",
    "bitDepth = 2.0**16\n",
    "image2 = np.power(image2/bitDepth, 1/2.1)*bitDepth"
   ]
  },
  {
   "cell_type": "code",
   "execution_count": null,
   "metadata": {
    "ExecuteTime": {
     "end_time": "2018-10-13T11:37:13.699845Z",
     "start_time": "2018-10-13T11:37:13.266413Z"
    }
   },
   "outputs": [],
   "source": [
    "print('Ajust White balance')\n",
    "image3 = astrolights.histogram.ajustWhiteBalance(image2)\n",
    "    \n",
    "#Normalization of the histogram\n",
    "#print('Normalize the histogram')\n",
    "#image2 = astrolights.histogram.normalizeHistogram(image2)"
   ]
  },
  {
   "cell_type": "code",
   "execution_count": null,
   "metadata": {
    "ExecuteTime": {
     "end_time": "2018-10-13T11:37:13.766047Z",
     "start_time": "2018-10-13T11:37:13.763524Z"
    }
   },
   "outputs": [],
   "source": [
    "#image2 = astrolights.histogram.normalizeHistogram(image)"
   ]
  },
  {
   "cell_type": "code",
   "execution_count": 24,
   "metadata": {
    "ExecuteTime": {
     "end_time": "2018-10-14T16:01:06.294045Z",
     "start_time": "2018-10-14T16:01:06.197956Z"
    }
   },
   "outputs": [],
   "source": [
    "image2 = image2.astype(np.uint16, copy=False)"
   ]
  },
  {
   "cell_type": "code",
   "execution_count": 25,
   "metadata": {
    "ExecuteTime": {
     "end_time": "2018-10-14T16:01:08.542459Z",
     "start_time": "2018-10-14T16:01:06.443924Z"
    }
   },
   "outputs": [
    {
     "data": {
      "text/plain": [
       "True"
      ]
     },
     "execution_count": 25,
     "metadata": {},
     "output_type": "execute_result"
    }
   ],
   "source": [
    "cv2.imwrite(tmpDir + '/' + 'image.tif', image2)"
   ]
  },
  {
   "cell_type": "code",
   "execution_count": 26,
   "metadata": {
    "ExecuteTime": {
     "end_time": "2018-10-14T16:01:08.737951Z",
     "start_time": "2018-10-14T16:01:08.732364Z"
    }
   },
   "outputs": [],
   "source": [
    "# remove files: RAWoffsetFiles, RAWdarkFiles, RAWflatFiles and RAWimageFiles"
   ]
  },
  {
   "cell_type": "markdown",
   "metadata": {},
   "source": [
    "Make a median from image list:\n",
    "convert Aligned_* -evaluate-sequence median colors.tif"
   ]
  }
 ],
 "metadata": {
  "kernelspec": {
   "display_name": "Python 3",
   "language": "python",
   "name": "python3"
  },
  "language_info": {
   "codemirror_mode": {
    "name": "ipython",
    "version": 3
   },
   "file_extension": ".py",
   "mimetype": "text/x-python",
   "name": "python",
   "nbconvert_exporter": "python",
   "pygments_lexer": "ipython3",
   "version": "3.5.2"
  },
  "toc": {
   "base_numbering": 1,
   "nav_menu": {},
   "number_sections": true,
   "sideBar": true,
   "skip_h1_title": false,
   "title_cell": "Table of Contents",
   "title_sidebar": "Contents",
   "toc_cell": false,
   "toc_position": {},
   "toc_section_display": true,
   "toc_window_display": false
  },
  "varInspector": {
   "cols": {
    "lenName": 16,
    "lenType": 16,
    "lenVar": 40
   },
   "kernels_config": {
    "python": {
     "delete_cmd_postfix": "",
     "delete_cmd_prefix": "del ",
     "library": "var_list.py",
     "varRefreshCmd": "print(var_dic_list())"
    },
    "r": {
     "delete_cmd_postfix": ") ",
     "delete_cmd_prefix": "rm(",
     "library": "var_list.r",
     "varRefreshCmd": "cat(var_dic_list()) "
    }
   },
   "types_to_exclude": [
    "module",
    "function",
    "builtin_function_or_method",
    "instance",
    "_Feature"
   ],
   "window_display": false
  }
 },
 "nbformat": 4,
 "nbformat_minor": 2
}
