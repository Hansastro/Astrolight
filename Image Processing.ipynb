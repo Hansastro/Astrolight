{
 "cells": [
  {
   "cell_type": "code",
   "execution_count": null,
   "metadata": {
    "ExecuteTime": {
     "end_time": "2018-08-19T21:14:22.108876Z",
     "start_time": "2018-08-19T21:14:21.720249Z"
    }
   },
   "outputs": [],
   "source": [
    "import astrolights"
   ]
  },
  {
   "cell_type": "code",
   "execution_count": null,
   "metadata": {
    "ExecuteTime": {
     "end_time": "2018-08-19T21:14:22.116778Z",
     "start_time": "2018-08-19T21:14:22.110950Z"
    }
   },
   "outputs": [],
   "source": [
    "import cv2\n",
    "import os\n",
    "import re\n",
    "import numpy as np"
   ]
  },
  {
   "cell_type": "code",
   "execution_count": null,
   "metadata": {
    "ExecuteTime": {
     "end_time": "2018-08-19T21:14:22.120640Z",
     "start_time": "2018-08-19T21:14:22.118372Z"
    }
   },
   "outputs": [],
   "source": [
    "#import importlib\n",
    "#importlib.reload(astrolights)"
   ]
  },
  {
   "cell_type": "code",
   "execution_count": null,
   "metadata": {
    "ExecuteTime": {
     "end_time": "2018-08-19T21:14:22.127364Z",
     "start_time": "2018-08-19T21:14:22.122455Z"
    }
   },
   "outputs": [],
   "source": [
    "tmpDir='/mnt/data/Photos/Repository/tmp'\n",
    "tmpGeneratedFiles = []\n",
    "regenerateOffset = False\n",
    "regenerateFlat = False\n",
    "regenerateDark = False"
   ]
  },
  {
   "cell_type": "code",
   "execution_count": null,
   "metadata": {
    "ExecuteTime": {
     "end_time": "2018-08-19T21:14:22.206747Z",
     "start_time": "2018-08-19T21:14:22.129483Z"
    }
   },
   "outputs": [],
   "source": [
    "imagesDirectory = '/mnt/data/Photos/Repository/2018/08-Astro_Test'\n",
    "categories = astrolights.files.categorifyRawImages(imagesDirectory)"
   ]
  },
  {
   "cell_type": "code",
   "execution_count": null,
   "metadata": {
    "ExecuteTime": {
     "end_time": "2018-08-19T21:14:22.221257Z",
     "start_time": "2018-08-19T21:14:22.208155Z"
    }
   },
   "outputs": [],
   "source": [
    "flatSky = ['/mnt/data/Photos/2018/08-Astro/to_be_sorted/IMG_0741.CR2', '/mnt/data/Photos/2018/08-Astro/to_be_sorted/IMG_0730.CR2', '/mnt/data/Photos/2018/08-Astro/to_be_sorted/IMG_0745.CR2', '/mnt/data/Photos/2018/08-Astro/to_be_sorted/IMG_0733.CR2', '/mnt/data/Photos/2018/08-Astro/to_be_sorted/IMG_0736.CR2', '/mnt/data/Photos/2018/08-Astro/to_be_sorted/IMG_0738.CR2', '/mnt/data/Photos/2018/08-Astro/to_be_sorted/IMG_0739.CR2', '/mnt/data/Photos/2018/08-Astro/to_be_sorted/IMG_0737.CR2', '/mnt/data/Photos/2018/08-Astro/to_be_sorted/IMG_0746.CR2', '/mnt/data/Photos/2018/08-Astro/to_be_sorted/IMG_0732.CR2', '/mnt/data/Photos/2018/08-Astro/to_be_sorted/IMG_0735.CR2', '/mnt/data/Photos/2018/08-Astro/to_be_sorted/IMG_0748.CR2', '/mnt/data/Photos/2018/08-Astro/to_be_sorted/IMG_0731.CR2', '/mnt/data/Photos/2018/08-Astro/to_be_sorted/IMG_0734.CR2', '/mnt/data/Photos/2018/08-Astro/to_be_sorted/IMG_0743.CR2', '/mnt/data/Photos/2018/08-Astro/to_be_sorted/IMG_0749.CR2', '/mnt/data/Photos/2018/08-Astro/to_be_sorted/IMG_0742.CR2', '/mnt/data/Photos/2018/08-Astro/to_be_sorted/IMG_0744.CR2', '/mnt/data/Photos/2018/08-Astro/to_be_sorted/IMG_0740.CR2', '/mnt/data/Photos/2018/08-Astro/to_be_sorted/IMG_0747.CR2']\n",
    "offset1600ISO = ['/mnt/data/Photos/2018/08-Astro/to_be_sorted/IMG_0992.CR2', '/mnt/data/Photos/2018/08-Astro/to_be_sorted/IMG_1010.CR2', '/mnt/data/Photos/2018/08-Astro/to_be_sorted/IMG_1020.CR2', '/mnt/data/Photos/2018/08-Astro/to_be_sorted/IMG_0991.CR2', '/mnt/data/Photos/2018/08-Astro/to_be_sorted/IMG_1013.CR2', '/mnt/data/Photos/2018/08-Astro/to_be_sorted/IMG_1005.CR2', '/mnt/data/Photos/2018/08-Astro/to_be_sorted/IMG_0998.CR2', '/mnt/data/Photos/2018/08-Astro/to_be_sorted/IMG_1037.CR2', '/mnt/data/Photos/2018/08-Astro/to_be_sorted/IMG_1006.CR2', '/mnt/data/Photos/2018/08-Astro/to_be_sorted/IMG_1028.CR2', '/mnt/data/Photos/2018/08-Astro/to_be_sorted/IMG_1012.CR2', '/mnt/data/Photos/2018/08-Astro/to_be_sorted/IMG_1014.CR2', '/mnt/data/Photos/2018/08-Astro/to_be_sorted/IMG_1009.CR2', '/mnt/data/Photos/2018/08-Astro/to_be_sorted/IMG_1003.CR2', '/mnt/data/Photos/2018/08-Astro/to_be_sorted/IMG_1026.CR2', '/mnt/data/Photos/2018/08-Astro/to_be_sorted/IMG_1024.CR2', '/mnt/data/Photos/2018/08-Astro/to_be_sorted/IMG_1032.CR2', '/mnt/data/Photos/2018/08-Astro/to_be_sorted/IMG_1021.CR2', '/mnt/data/Photos/2018/08-Astro/to_be_sorted/IMG_1015.CR2', '/mnt/data/Photos/2018/08-Astro/to_be_sorted/IMG_1034.CR2', '/mnt/data/Photos/2018/08-Astro/to_be_sorted/IMG_1029.CR2', '/mnt/data/Photos/2018/08-Astro/to_be_sorted/IMG_1008.CR2', '/mnt/data/Photos/2018/08-Astro/to_be_sorted/IMG_1004.CR2', '/mnt/data/Photos/2018/08-Astro/to_be_sorted/IMG_0990.CR2', '/mnt/data/Photos/2018/08-Astro/to_be_sorted/IMG_1033.CR2', '/mnt/data/Photos/2018/08-Astro/to_be_sorted/IMG_1001.CR2', '/mnt/data/Photos/2018/08-Astro/to_be_sorted/IMG_0999.CR2', '/mnt/data/Photos/2018/08-Astro/to_be_sorted/IMG_1039.CR2', '/mnt/data/Photos/2018/08-Astro/to_be_sorted/IMG_0997.CR2', '/mnt/data/Photos/2018/08-Astro/to_be_sorted/IMG_1007.CR2', '/mnt/data/Photos/2018/08-Astro/to_be_sorted/IMG_1018.CR2', '/mnt/data/Photos/2018/08-Astro/to_be_sorted/IMG_1019.CR2', '/mnt/data/Photos/2018/08-Astro/to_be_sorted/IMG_1022.CR2', '/mnt/data/Photos/2018/08-Astro/to_be_sorted/IMG_1011.CR2', '/mnt/data/Photos/2018/08-Astro/to_be_sorted/IMG_1027.CR2', '/mnt/data/Photos/2018/08-Astro/to_be_sorted/IMG_1002.CR2', '/mnt/data/Photos/2018/08-Astro/to_be_sorted/IMG_1023.CR2', '/mnt/data/Photos/2018/08-Astro/to_be_sorted/IMG_1036.CR2', '/mnt/data/Photos/2018/08-Astro/to_be_sorted/IMG_1017.CR2', '/mnt/data/Photos/2018/08-Astro/to_be_sorted/IMG_1025.CR2', '/mnt/data/Photos/2018/08-Astro/to_be_sorted/IMG_1031.CR2', '/mnt/data/Photos/2018/08-Astro/to_be_sorted/IMG_1038.CR2', '/mnt/data/Photos/2018/08-Astro/to_be_sorted/IMG_0993.CR2', '/mnt/data/Photos/2018/08-Astro/to_be_sorted/IMG_1000.CR2', '/mnt/data/Photos/2018/08-Astro/to_be_sorted/IMG_0996.CR2', '/mnt/data/Photos/2018/08-Astro/to_be_sorted/IMG_1016.CR2', '/mnt/data/Photos/2018/08-Astro/to_be_sorted/IMG_0995.CR2', '/mnt/data/Photos/2018/08-Astro/to_be_sorted/IMG_1030.CR2', '/mnt/data/Photos/2018/08-Astro/to_be_sorted/IMG_1035.CR2', '/mnt/data/Photos/2018/08-Astro/to_be_sorted/IMG_1040.CR2', '/mnt/data/Photos/2018/08-Astro/to_be_sorted/IMG_0994.CR2']\n",
    "dark60s1600ISO = ['/mnt/data/Photos/2018/08-Astro/to_be_sorted/IMG_0884.CR2', '/mnt/data/Photos/2018/08-Astro/to_be_sorted/IMG_0888.CR2', '/mnt/data/Photos/2018/08-Astro/to_be_sorted/IMG_0875.CR2', '/mnt/data/Photos/2018/08-Astro/to_be_sorted/IMG_0876.CR2', '/mnt/data/Photos/2018/08-Astro/to_be_sorted/IMG_0881.CR2', '/mnt/data/Photos/2018/08-Astro/to_be_sorted/IMG_0880.CR2', '/mnt/data/Photos/2018/08-Astro/to_be_sorted/IMG_0878.CR2', '/mnt/data/Photos/2018/08-Astro/to_be_sorted/IMG_0882.CR2', '/mnt/data/Photos/2018/08-Astro/to_be_sorted/IMG_0874.CR2', '/mnt/data/Photos/2018/08-Astro/to_be_sorted/IMG_0885.CR2', '/mnt/data/Photos/2018/08-Astro/to_be_sorted/IMG_0889.CR2', '/mnt/data/Photos/2018/08-Astro/to_be_sorted/IMG_0879.CR2', '/mnt/data/Photos/2018/08-Astro/to_be_sorted/IMG_0883.CR2', '/mnt/data/Photos/2018/08-Astro/to_be_sorted/IMG_0890.CR2', '/mnt/data/Photos/2018/08-Astro/to_be_sorted/IMG_0886.CR2', '/mnt/data/Photos/2018/08-Astro/to_be_sorted/IMG_0877.CR2', '/mnt/data/Photos/2018/08-Astro/to_be_sorted/IMG_0887.CR2']\n",
    "ngc7000Images = ['/mnt/data/Photos/2018/08-Astro/to_be_sorted/IMG_0856.CR2', '/mnt/data/Photos/2018/08-Astro/to_be_sorted/IMG_0855.CR2', '/mnt/data/Photos/2018/08-Astro/to_be_sorted/IMG_0854.CR2', '/mnt/data/Photos/2018/08-Astro/to_be_sorted/IMG_0853.CR2', '/mnt/data/Photos/2018/08-Astro/to_be_sorted/IMG_0858.CR2', '/mnt/data/Photos/2018/08-Astro/to_be_sorted/IMG_0850.CR2', '/mnt/data/Photos/2018/08-Astro/to_be_sorted/IMG_0849.CR2', '/mnt/data/Photos/2018/08-Astro/to_be_sorted/IMG_0859.CR2', '/mnt/data/Photos/2018/08-Astro/to_be_sorted/IMG_0851.CR2', '/mnt/data/Photos/2018/08-Astro/to_be_sorted/IMG_0860.CR2', '/mnt/data/Photos/2018/08-Astro/to_be_sorted/IMG_0863.CR2', '/mnt/data/Photos/2018/08-Astro/to_be_sorted/IMG_0844.CR2', '/mnt/data/Photos/2018/08-Astro/to_be_sorted/IMG_0852.CR2', '/mnt/data/Photos/2018/08-Astro/to_be_sorted/IMG_0862.CR2', '/mnt/data/Photos/2018/08-Astro/to_be_sorted/IMG_0868.CR2', '/mnt/data/Photos/2018/08-Astro/to_be_sorted/IMG_0872.CR2', '/mnt/data/Photos/2018/08-Astro/to_be_sorted/IMG_0871.CR2', '/mnt/data/Photos/2018/08-Astro/to_be_sorted/IMG_0870.CR2', '/mnt/data/Photos/2018/08-Astro/to_be_sorted/IMG_0864.CR2', '/mnt/data/Photos/2018/08-Astro/to_be_sorted/IMG_0873.CR2', '/mnt/data/Photos/2018/08-Astro/to_be_sorted/IMG_0865.CR2', '/mnt/data/Photos/2018/08-Astro/to_be_sorted/IMG_0848.CR2', '/mnt/data/Photos/2018/08-Astro/to_be_sorted/IMG_0847.CR2', '/mnt/data/Photos/2018/08-Astro/to_be_sorted/IMG_0857.CR2', '/mnt/data/Photos/2018/08-Astro/to_be_sorted/IMG_0845.CR2', '/mnt/data/Photos/2018/08-Astro/to_be_sorted/IMG_0867.CR2', '/mnt/data/Photos/2018/08-Astro/to_be_sorted/IMG_0869.CR2', '/mnt/data/Photos/2018/08-Astro/to_be_sorted/IMG_0846.CR2', '/mnt/data/Photos/2018/08-Astro/to_be_sorted/IMG_0861.CR2', '/mnt/data/Photos/2018/08-Astro/to_be_sorted/IMG_0843.CR2', '/mnt/data/Photos/2018/08-Astro/to_be_sorted/IMG_0866.CR2']\n",
    "alignedImages = ['/mnt/data/Photos/2018/08-Astro/to_be_sorted/Aligned_0019.tif', '/mnt/data/Photos/2018/08-Astro/to_be_sorted/Aligned_0029.tif', '/mnt/data/Photos/2018/08-Astro/to_be_sorted/Aligned_0008.tif', '/mnt/data/Photos/2018/08-Astro/to_be_sorted/Aligned_0026.tif', '/mnt/data/Photos/2018/08-Astro/to_be_sorted/Aligned_0006.tif', '/mnt/data/Photos/2018/08-Astro/to_be_sorted/Aligned_0017.tif', '/mnt/data/Photos/2018/08-Astro/to_be_sorted/Aligned_0028.tif', '/mnt/data/Photos/2018/08-Astro/to_be_sorted/Aligned_0018.tif', '/mnt/data/Photos/2018/08-Astro/to_be_sorted/Aligned_0016.tif', '/mnt/data/Photos/2018/08-Astro/to_be_sorted/Aligned_0015.tif', '/mnt/data/Photos/2018/08-Astro/to_be_sorted/Aligned_0024.tif', '/mnt/data/Photos/2018/08-Astro/to_be_sorted/Aligned_0007.tif', '/mnt/data/Photos/2018/08-Astro/to_be_sorted/Aligned_0009.tif', '/mnt/data/Photos/2018/08-Astro/to_be_sorted/Aligned_0021.tif', '/mnt/data/Photos/2018/08-Astro/to_be_sorted/Aligned_0003.tif', '/mnt/data/Photos/2018/08-Astro/to_be_sorted/Aligned_0027.tif', '/mnt/data/Photos/2018/08-Astro/to_be_sorted/Aligned_0011.tif', '/mnt/data/Photos/2018/08-Astro/to_be_sorted/Aligned_0022.tif', '/mnt/data/Photos/2018/08-Astro/to_be_sorted/Aligned_0025.tif', '/mnt/data/Photos/2018/08-Astro/to_be_sorted/Aligned_0030.tif', '/mnt/data/Photos/2018/08-Astro/to_be_sorted/Aligned_0001.tif', '/mnt/data/Photos/2018/08-Astro/to_be_sorted/Aligned_0010.tif', '/mnt/data/Photos/2018/08-Astro/to_be_sorted/Aligned_0013.tif', '/mnt/data/Photos/2018/08-Astro/to_be_sorted/Aligned_0020.tif', '/mnt/data/Photos/2018/08-Astro/to_be_sorted/Aligned_0005.tif', '/mnt/data/Photos/2018/08-Astro/to_be_sorted/Aligned_0004.tif', '/mnt/data/Photos/2018/08-Astro/to_be_sorted/Aligned_0012.tif', '/mnt/data/Photos/2018/08-Astro/to_be_sorted/Aligned_0014.tif', '/mnt/data/Photos/2018/08-Astro/to_be_sorted/Aligned_0002.tif', '/mnt/data/Photos/2018/08-Astro/to_be_sorted/Aligned_0023.tif', '/mnt/data/Photos/2018/08-Astro/to_be_sorted/Aligned_0000.tif']"
   ]
  },
  {
   "cell_type": "code",
   "execution_count": null,
   "metadata": {
    "ExecuteTime": {
     "end_time": "2018-08-19T21:14:22.227222Z",
     "start_time": "2018-08-19T21:14:22.223138Z"
    }
   },
   "outputs": [],
   "source": [
    "#offsetList = ['/mnt/data/Photos/2018/08-Astro/to_be_sorted/IMG_0992.CR2', '/mnt/data/Photos/2018/08-Astro/to_be_sorted/IMG_1010.CR2', '/mnt/data/Photos/2018/08-Astro/to_be_sorted/IMG_1020.CR2']\n",
    "offsetList = offset1600ISO\n",
    "darkList = categories['DARK']\n",
    "flatList = categories['FLAT']\n",
    "imageList = categories['LIGHT']\n",
    "alignedImages = alignedImages"
   ]
  },
  {
   "cell_type": "markdown",
   "metadata": {},
   "source": [
    "# Generating master offset"
   ]
  },
  {
   "cell_type": "markdown",
   "metadata": {},
   "source": [
    "The generation of the master offset is just a median of all offset image"
   ]
  },
  {
   "cell_type": "code",
   "execution_count": null,
   "metadata": {
    "ExecuteTime": {
     "end_time": "2018-08-19T21:14:22.277363Z",
     "start_time": "2018-08-19T21:14:22.229117Z"
    }
   },
   "outputs": [],
   "source": [
    "if regenerateOffset:\n",
    "    masterOffset = astrolights.processImages.calculateMedianFromFiles(offsetList)\n",
    "    masterOffset = masterOffset.astype(np.uint16, copy=False)\n",
    "    cv2.imwrite(tmpDir + '/' + \"masterOffset.pgm\", masterOffset)\n",
    "else:\n",
    "    try:\n",
    "        masterOffset = cv2.imread(tmpDir + '/' + \"masterOffset.pgm\", flags=cv2.IMREAD_GRAYSCALE | cv2.IMREAD_IGNORE_ORIENTATION | cv2.IMREAD_ANYDEPTH)\n",
    "    except:\n",
    "        print('File: {} for the Master Offset not found.'.format(tmpDir + '/' + \"masterOffset.pgm\"))"
   ]
  },
  {
   "cell_type": "code",
   "execution_count": null,
   "metadata": {
    "ExecuteTime": {
     "end_time": "2018-08-19T21:14:22.289866Z",
     "start_time": "2018-08-19T21:14:22.279278Z"
    }
   },
   "outputs": [],
   "source": [
    "masterOffset"
   ]
  },
  {
   "cell_type": "markdown",
   "metadata": {},
   "source": [
    "# Generating master Dark"
   ]
  },
  {
   "cell_type": "code",
   "execution_count": null,
   "metadata": {
    "ExecuteTime": {
     "end_time": "2018-08-19T21:14:22.342371Z",
     "start_time": "2018-08-19T21:14:22.292079Z"
    }
   },
   "outputs": [],
   "source": [
    "if regenerateDark:\n",
    "    masterDark = astrolights.processImages.calculateMedianFromFiles(darkList)\n",
    "    masterDark = masterDark.astype(np.uint16, copy=False)\n",
    "    cv2.imwrite(tmpDir + '/' + \"masterDark.pgm\", masterDark)\n",
    "else:\n",
    "    try:\n",
    "        masterDark = cv2.imread(tmpDir + '/' + \"masterDark.pgm\", flags=cv2.IMREAD_GRAYSCALE | cv2.IMREAD_IGNORE_ORIENTATION | cv2.IMREAD_ANYDEPTH)\n",
    "    except:\n",
    "        print('File: {} for the Master Dark not found.'.format(tmpDir + '/' + \"masterDark.pgm\"))"
   ]
  },
  {
   "cell_type": "code",
   "execution_count": null,
   "metadata": {
    "ExecuteTime": {
     "end_time": "2018-08-19T21:14:22.347326Z",
     "start_time": "2018-08-19T21:14:22.344067Z"
    }
   },
   "outputs": [],
   "source": [
    "masterDark"
   ]
  },
  {
   "cell_type": "markdown",
   "metadata": {},
   "source": [
    "# Generating master Flat"
   ]
  },
  {
   "cell_type": "code",
   "execution_count": null,
   "metadata": {
    "ExecuteTime": {
     "end_time": "2018-08-19T21:14:22.399783Z",
     "start_time": "2018-08-19T21:14:22.348974Z"
    }
   },
   "outputs": [],
   "source": [
    "if regenerateFlat:\n",
    "    masterFlat = astrolights.processImages.calculateMedianFromFiles(flatList)\n",
    "    masterFlat = masterFlat.astype(np.uint16, copy=False)\n",
    "    cv2.imwrite(tmpDir + '/' + \"masterFlat.pgm\", masterFlat)\n",
    "else:\n",
    "    try:\n",
    "        masterFlat = cv2.imread(tmpDir + '/' + \"masterFlat.pgm\", flags=cv2.IMREAD_GRAYSCALE | cv2.IMREAD_IGNORE_ORIENTATION | cv2.IMREAD_ANYDEPTH)\n",
    "    except:\n",
    "        print('File: {} for the Master Flat not found.'.format(tmpDir + '/' + \"masterFlat.pgm\"))"
   ]
  },
  {
   "cell_type": "code",
   "execution_count": null,
   "metadata": {
    "ExecuteTime": {
     "end_time": "2018-08-19T21:14:22.423281Z",
     "start_time": "2018-08-19T21:14:22.401783Z"
    }
   },
   "outputs": [],
   "source": [
    "meanFlat = np.mean(masterFlat)"
   ]
  },
  {
   "cell_type": "code",
   "execution_count": null,
   "metadata": {
    "ExecuteTime": {
     "end_time": "2018-08-19T21:14:22.430591Z",
     "start_time": "2018-08-19T21:14:22.425949Z"
    }
   },
   "outputs": [],
   "source": [
    "masterFlat"
   ]
  },
  {
   "cell_type": "code",
   "execution_count": null,
   "metadata": {
    "ExecuteTime": {
     "end_time": "2018-08-19T21:14:22.440622Z",
     "start_time": "2018-08-19T21:14:22.433243Z"
    }
   },
   "outputs": [],
   "source": [
    "meanFlat"
   ]
  },
  {
   "cell_type": "markdown",
   "metadata": {},
   "source": [
    "# Calculate images"
   ]
  },
  {
   "cell_type": "code",
   "execution_count": null,
   "metadata": {
    "ExecuteTime": {
     "end_time": "2018-08-19T21:14:22.447546Z",
     "start_time": "2018-08-19T21:14:22.444348Z"
    }
   },
   "outputs": [],
   "source": [
    "#correctedImages = astrolights.processImages.correctImages(imageList, masterOffset, masterDark, masterFlat)"
   ]
  },
  {
   "cell_type": "code",
   "execution_count": null,
   "metadata": {
    "ExecuteTime": {
     "start_time": "2018-08-19T21:14:25.630Z"
    },
    "scrolled": true
   },
   "outputs": [],
   "source": [
    "i=0\n",
    "for image in imageList:\n",
    "    correctedImage = astrolights.processImages.correctImages(image, masterOffset, masterDark, masterFlat)\n",
    "    #correctedImage = correctedImage/correctedImage.max()*65535\n",
    "    \n",
    "    # Correction Gamma\n",
    "    print('Ajust Gamma')\n",
    "    correctedImage = correctedImage.astype(np.uint16, copy=False) \n",
    "    #print(correctedImage.min())\n",
    "    bitDepth = 2**16\n",
    "    correctedImage = np.power(correctedImage/bitDepth, 1/2.1)*bitDepth \n",
    "    correctedImage = correctedImage.astype(np.uint16, copy=False)\n",
    "    BGR_image = cv2.cvtColor(correctedImage, cv2.COLOR_BayerBG2BGR)\n",
    "\n",
    "    #Correction of the white balance\n",
    "    print('Ajust White balance')\n",
    "    BGR_image = astrolights.histogram.ajustWhiteBalance(BGR_image)\n",
    "    \n",
    "    #Normalization of the histogram\n",
    "    print('Normalize the histogram')\n",
    "    BGR_image = astrolights.histogram.normalizeHistogram(BGR_image)\n",
    "    \n",
    "    BGR_image = BGR_image.astype(np.uint16, copy=False)\n",
    "    i += 1\n",
    "    print(\"Writing: Corrected_{:04d}.png\".format(i))\n",
    "    cv2.imwrite(tmpDir + '/' + \"Corrected_{:04d}.png\".format(i), BGR_image)\n"
   ]
  },
  {
   "cell_type": "markdown",
   "metadata": {},
   "source": [
    "# Add aligned images"
   ]
  },
  {
   "cell_type": "markdown",
   "metadata": {},
   "source": [
    "Hugin is used to align the generated images:\n",
    "\n",
    "    align_image_stack -v --gpu -a Aligned_ Corrected_*.png"
   ]
  },
  {
   "cell_type": "code",
   "execution_count": null,
   "metadata": {
    "ExecuteTime": {
     "end_time": "2018-08-19T19:46:07.257562Z",
     "start_time": "2018-08-19T19:46:07.248643Z"
    }
   },
   "outputs": [],
   "source": [
    "alignedImages = astrolights.files.listAllFileinDir(tmpDir, '^Aligned_.*')"
   ]
  },
  {
   "cell_type": "code",
   "execution_count": null,
   "metadata": {
    "ExecuteTime": {
     "end_time": "2018-08-19T19:46:08.235417Z",
     "start_time": "2018-08-19T19:46:08.215493Z"
    }
   },
   "outputs": [],
   "source": [
    "alignedImages"
   ]
  },
  {
   "cell_type": "code",
   "execution_count": null,
   "metadata": {
    "ExecuteTime": {
     "end_time": "2018-08-19T19:46:46.240892Z",
     "start_time": "2018-08-19T19:46:12.398134Z"
    }
   },
   "outputs": [],
   "source": [
    "image = cv2.imread(alignedImages.pop(0), cv2.IMREAD_IGNORE_ORIENTATION | cv2.IMREAD_ANYDEPTH | cv2.IMREAD_ANYCOLOR)\n",
    "image = image.astype(np.float64, copy=False)\n",
    "\n",
    "imageCpt = 0\n",
    "for i in alignedImages:\n",
    "    print('Adding {}'.format(i))\n",
    "    image += cv2.imread(i, cv2.IMREAD_IGNORE_ORIENTATION | cv2.IMREAD_ANYDEPTH | cv2.IMREAD_ANYCOLOR)\n",
    "    imageCpt += 1\n",
    "\n",
    "#image = image / imageCpt\n"
   ]
  },
  {
   "cell_type": "code",
   "execution_count": null,
   "metadata": {
    "ExecuteTime": {
     "end_time": "2018-08-19T19:50:02.469239Z",
     "start_time": "2018-08-19T19:50:02.220693Z"
    }
   },
   "outputs": [],
   "source": [
    "image2 = (image / image.max()) * 65535.0"
   ]
  },
  {
   "cell_type": "code",
   "execution_count": null,
   "metadata": {
    "ExecuteTime": {
     "end_time": "2018-08-19T19:50:27.775587Z",
     "start_time": "2018-08-19T19:50:27.735961Z"
    }
   },
   "outputs": [],
   "source": [
    "image2.max()"
   ]
  },
  {
   "cell_type": "code",
   "execution_count": null,
   "metadata": {
    "ExecuteTime": {
     "end_time": "2018-08-19T19:52:05.342048Z",
     "start_time": "2018-08-19T19:51:03.230615Z"
    }
   },
   "outputs": [],
   "source": [
    "image2 = astrolights.histogram.normalizeHistogram(image)"
   ]
  },
  {
   "cell_type": "code",
   "execution_count": null,
   "metadata": {
    "ExecuteTime": {
     "end_time": "2018-08-19T19:52:19.450052Z",
     "start_time": "2018-08-19T19:52:19.381451Z"
    }
   },
   "outputs": [],
   "source": [
    "image2 = image2.astype(np.uint16, copy=False)"
   ]
  },
  {
   "cell_type": "code",
   "execution_count": null,
   "metadata": {
    "ExecuteTime": {
     "end_time": "2018-08-19T19:52:22.121099Z",
     "start_time": "2018-08-19T19:52:20.295521Z"
    }
   },
   "outputs": [],
   "source": [
    "i#mage2 = RGB_image.astype(np.uint16, copy=False)\n",
    "cv2.imwrite('image.tif', image2)"
   ]
  },
  {
   "cell_type": "code",
   "execution_count": null,
   "metadata": {
    "ExecuteTime": {
     "end_time": "2018-08-19T13:48:53.497945Z",
     "start_time": "2018-08-19T13:47:50.492Z"
    }
   },
   "outputs": [],
   "source": [
    "# remove files: RAWoffsetFiles, RAWdarkFiles, RAWflatFiles and RAWimageFiles"
   ]
  },
  {
   "cell_type": "code",
   "execution_count": null,
   "metadata": {},
   "outputs": [],
   "source": []
  }
 ],
 "metadata": {
  "kernelspec": {
   "display_name": "Python 3",
   "language": "python",
   "name": "python3"
  },
  "language_info": {
   "codemirror_mode": {
    "name": "ipython",
    "version": 3
   },
   "file_extension": ".py",
   "mimetype": "text/x-python",
   "name": "python",
   "nbconvert_exporter": "python",
   "pygments_lexer": "ipython3",
   "version": "3.5.2"
  },
  "toc": {
   "base_numbering": 1,
   "nav_menu": {},
   "number_sections": true,
   "sideBar": true,
   "skip_h1_title": false,
   "title_cell": "Table of Contents",
   "title_sidebar": "Contents",
   "toc_cell": false,
   "toc_position": {},
   "toc_section_display": true,
   "toc_window_display": false
  },
  "varInspector": {
   "cols": {
    "lenName": 16,
    "lenType": 16,
    "lenVar": 40
   },
   "kernels_config": {
    "python": {
     "delete_cmd_postfix": "",
     "delete_cmd_prefix": "del ",
     "library": "var_list.py",
     "varRefreshCmd": "print(var_dic_list())"
    },
    "r": {
     "delete_cmd_postfix": ") ",
     "delete_cmd_prefix": "rm(",
     "library": "var_list.r",
     "varRefreshCmd": "cat(var_dic_list()) "
    }
   },
   "types_to_exclude": [
    "module",
    "function",
    "builtin_function_or_method",
    "instance",
    "_Feature"
   ],
   "window_display": false
  }
 },
 "nbformat": 4,
 "nbformat_minor": 2
}
