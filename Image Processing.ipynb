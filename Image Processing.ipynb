{
 "cells": [
  {
   "cell_type": "code",
   "execution_count": 1,
   "metadata": {
    "ExecuteTime": {
     "end_time": "2018-08-02T20:03:30.354991Z",
     "start_time": "2018-08-02T20:03:30.053010Z"
    }
   },
   "outputs": [],
   "source": [
    "import cv2\n",
    "import os\n",
    "import re"
   ]
  },
  {
   "cell_type": "code",
   "execution_count": 2,
   "metadata": {
    "ExecuteTime": {
     "end_time": "2018-08-02T20:03:32.192666Z",
     "start_time": "2018-08-02T20:03:32.186394Z"
    }
   },
   "outputs": [],
   "source": [
    "tmpDir='/tmp'\n",
    "tmpGeneratedFiles = []"
   ]
  },
  {
   "cell_type": "code",
   "execution_count": 3,
   "metadata": {
    "ExecuteTime": {
     "end_time": "2018-08-02T20:03:33.375495Z",
     "start_time": "2018-08-02T20:03:33.361799Z"
    }
   },
   "outputs": [],
   "source": [
    "offsetList = [\"offset2.cr2\", \"offset2.cr2\", \"offset3.cr2\"]\n",
    "darkList = []\n",
    "flatList = []\n",
    "imageList = []"
   ]
  },
  {
   "cell_type": "code",
   "execution_count": 4,
   "metadata": {
    "ExecuteTime": {
     "end_time": "2018-08-02T20:03:34.642700Z",
     "start_time": "2018-08-02T20:03:34.624802Z"
    }
   },
   "outputs": [],
   "source": [
    "def getFileName(fileName, removeExtention=False, removePath=True):\n",
    "    '''\n",
    "    get the name of a file from a string (can remove the extention or the complete path)\n",
    "    \n",
    "    parameters:\n",
    "    fileName as a string. The name can include the path\n",
    "    removeExtention as boolean. Default is False. This parameter remove the extention of the filename. (e.g: 'test.jpg'\n",
    "    will become 'test')\n",
    "    removePath as boolean. Default is True. If the complete path is given in the filename is it possible to remove it or not\n",
    "    \n",
    "    return value:\n",
    "    the filename\n",
    "    \n",
    "    '''\n",
    "    if removePath:\n",
    "        fileName = os.path.basename(fileName)\n",
    "    if removeExtention:\n",
    "        re_catchFileName = re.compile('(.*)\\..*$')\n",
    "        catchFileNameResult = re_catchFileName.match(fileName)\n",
    "        if catchFileNameResult:\n",
    "            fileName = catchFileNameResult.group(1)\n",
    "\n",
    "    return fileName"
   ]
  },
  {
   "cell_type": "code",
   "execution_count": 5,
   "metadata": {
    "ExecuteTime": {
     "end_time": "2018-08-02T20:03:35.087179Z",
     "start_time": "2018-08-02T20:03:35.076611Z"
    }
   },
   "outputs": [
    {
     "data": {
      "text/plain": [
       "'IMG_0679'"
      ]
     },
     "execution_count": 5,
     "metadata": {},
     "output_type": "execute_result"
    }
   ],
   "source": [
    "getFileName('/media/jean-phi/EOS_DIGITAL/DCIM/100CANON/IMG_0679.CR2', removeExtention=True, removePath=True)"
   ]
  },
  {
   "cell_type": "code",
   "execution_count": 6,
   "metadata": {
    "ExecuteTime": {
     "end_time": "2018-08-02T20:03:38.020938Z",
     "start_time": "2018-08-02T20:03:38.002136Z"
    }
   },
   "outputs": [],
   "source": [
    "def uncompressRawFiles(rawFileList):\n",
    "    '''\n",
    "    Generate a pgm file from a raw file.\n",
    "    \n",
    "    Parameters:\n",
    "    rawFileList as a list of strings. this parameter is the list of some filenames of camera RAW files.\n",
    "    \n",
    "    return value:\n",
    "    a list of the generated files (with their path)\n",
    "    '''\n",
    "    generatedFiles = []\n",
    "    for file in rawFileList:\n",
    "        # Extract Raw data in a PGM file with dcraw\n",
    "        os.system('dcraw -d -4 ' + file)\n",
    "        generatedFiles.append(getFileName(file, getFileName(file, removeExtention=True, removePath=False) + '.pgm'))\n",
    "    \n",
    "    return generatedFiles     "
   ]
  },
  {
   "cell_type": "code",
   "execution_count": 10,
   "metadata": {
    "ExecuteTime": {
     "end_time": "2018-08-02T20:04:30.243855Z",
     "start_time": "2018-08-02T20:04:30.234822Z"
    }
   },
   "outputs": [],
   "source": [
    "def getRAWdata(rawFileList):\n",
    "    '''\n",
    "    Get the image raw data from a list of pgm files\n",
    "    \n",
    "    Parameters:\n",
    "    rawFileList as a list of string. each element of the list is a string of the filname of a pgm file containing the raw data.\n",
    "    \n",
    "    Return Value:\n",
    "    an array of array containing all images RAW data. Each element is an image.\n",
    "    '''\n",
    "    offsetStackList = cv2.imread(rawFileList.pop(0), cv2.IMREAD_UNCHANGED)\n",
    "\n",
    "    for file in offsetList:\n",
    "        offsetStackList.append(offsetStackList, [cv2.imread(file, cv2.IMREAD_UNCHANGED)], axis=0)\n",
    "    \n",
    "    return offsetStackList"
   ]
  },
  {
   "cell_type": "code",
   "execution_count": 11,
   "metadata": {
    "ExecuteTime": {
     "end_time": "2018-08-02T20:04:33.556374Z",
     "start_time": "2018-08-02T20:04:33.538738Z"
    }
   },
   "outputs": [],
   "source": [
    "def calculateMedian(RAWdataList):\n",
    "    '''\n",
    "    Calculate the median of a stack of RAW images\n",
    "    \n",
    "    Parameters:\n",
    "    RAWdataList as an array of array of all images.\n",
    "    \n",
    "    Return value:\n",
    "    The median of each pixel of the image stack\n",
    "    '''\n",
    "        \n",
    "    #offsetStack = np.stack(offsetStackList)\n",
    "    masterOffset = np.median(offsetStack, axis=0)\n",
    "    \n",
    "    return masterOffset"
   ]
  },
  {
   "cell_type": "markdown",
   "metadata": {},
   "source": [
    "# Generating master offset"
   ]
  },
  {
   "cell_type": "markdown",
   "metadata": {},
   "source": [
    "The generation of the master offset is just a median of all offset image"
   ]
  },
  {
   "cell_type": "code",
   "execution_count": 12,
   "metadata": {
    "ExecuteTime": {
     "end_time": "2018-08-02T20:04:35.039445Z",
     "start_time": "2018-08-02T20:04:35.007256Z"
    }
   },
   "outputs": [
    {
     "ename": "AttributeError",
     "evalue": "'NoneType' object has no attribute 'append'",
     "output_type": "error",
     "traceback": [
      "\u001b[0;31m---------------------------------------------------------------------------\u001b[0m",
      "\u001b[0;31mAttributeError\u001b[0m                            Traceback (most recent call last)",
      "\u001b[0;32m<ipython-input-12-2ba8ab6a01ed>\u001b[0m in \u001b[0;36m<module>\u001b[0;34m()\u001b[0m\n\u001b[1;32m      1\u001b[0m \u001b[0mRAWoffsetFiles\u001b[0m \u001b[0;34m=\u001b[0m \u001b[0muncompressRawFiles\u001b[0m\u001b[0;34m(\u001b[0m\u001b[0moffsetList\u001b[0m\u001b[0;34m)\u001b[0m\u001b[0;34m\u001b[0m\u001b[0m\n\u001b[0;32m----> 2\u001b[0;31m \u001b[0mRAWoffsetData\u001b[0m \u001b[0;34m=\u001b[0m \u001b[0mgetRAWdata\u001b[0m\u001b[0;34m(\u001b[0m\u001b[0mRAWoffsetFiles\u001b[0m\u001b[0;34m)\u001b[0m\u001b[0;34m\u001b[0m\u001b[0m\n\u001b[0m\u001b[1;32m      3\u001b[0m \u001b[0mmasterOffet\u001b[0m \u001b[0;34m=\u001b[0m \u001b[0mcalculateMedian\u001b[0m\u001b[0;34m(\u001b[0m\u001b[0mRAWoffsetData\u001b[0m\u001b[0;34m)\u001b[0m\u001b[0;34m\u001b[0m\u001b[0m\n",
      "\u001b[0;32m<ipython-input-10-b26bcb292a53>\u001b[0m in \u001b[0;36mgetRAWdata\u001b[0;34m(rawFileList)\u001b[0m\n\u001b[1;32m     12\u001b[0m \u001b[0;34m\u001b[0m\u001b[0m\n\u001b[1;32m     13\u001b[0m     \u001b[0;32mfor\u001b[0m \u001b[0mfile\u001b[0m \u001b[0;32min\u001b[0m \u001b[0moffsetList\u001b[0m\u001b[0;34m:\u001b[0m\u001b[0;34m\u001b[0m\u001b[0m\n\u001b[0;32m---> 14\u001b[0;31m         \u001b[0moffsetStackList\u001b[0m\u001b[0;34m.\u001b[0m\u001b[0mappend\u001b[0m\u001b[0;34m(\u001b[0m\u001b[0moffsetStackList\u001b[0m\u001b[0;34m,\u001b[0m \u001b[0;34m[\u001b[0m\u001b[0mcv2\u001b[0m\u001b[0;34m.\u001b[0m\u001b[0mimread\u001b[0m\u001b[0;34m(\u001b[0m\u001b[0mfile\u001b[0m\u001b[0;34m,\u001b[0m \u001b[0mcv2\u001b[0m\u001b[0;34m.\u001b[0m\u001b[0mIMREAD_UNCHANGED\u001b[0m\u001b[0;34m)\u001b[0m\u001b[0;34m]\u001b[0m\u001b[0;34m,\u001b[0m \u001b[0maxis\u001b[0m\u001b[0;34m=\u001b[0m\u001b[0;36m0\u001b[0m\u001b[0;34m)\u001b[0m\u001b[0;34m\u001b[0m\u001b[0m\n\u001b[0m\u001b[1;32m     15\u001b[0m \u001b[0;34m\u001b[0m\u001b[0m\n\u001b[1;32m     16\u001b[0m     \u001b[0;32mreturn\u001b[0m \u001b[0moffsetStackList\u001b[0m\u001b[0;34m\u001b[0m\u001b[0m\n",
      "\u001b[0;31mAttributeError\u001b[0m: 'NoneType' object has no attribute 'append'"
     ]
    }
   ],
   "source": [
    "RAWoffsetFiles = uncompressRawFiles(offsetList)\n",
    "RAWoffsetData = getRAWdata(RAWoffsetFiles)\n",
    "masterOffet = calculateMedian(RAWoffsetData)"
   ]
  },
  {
   "cell_type": "markdown",
   "metadata": {},
   "source": [
    "# Generating master Dark"
   ]
  },
  {
   "cell_type": "code",
   "execution_count": null,
   "metadata": {
    "collapsed": true
   },
   "outputs": [],
   "source": [
    "RAWdarkFiles = uncompressRawFiles(darkList)\n",
    "RAWdarkData = getRAWdata(RAWdarkFiles)\n",
    "masterDark = calculateMedian(RAWdarkData)"
   ]
  },
  {
   "cell_type": "markdown",
   "metadata": {},
   "source": [
    "# Generating master Flat"
   ]
  },
  {
   "cell_type": "code",
   "execution_count": null,
   "metadata": {
    "collapsed": true
   },
   "outputs": [],
   "source": [
    "RAWflatFiles = extractRawData(FlatList)\n",
    "RAWflatData = getRAWdata(RAWflatFiles)\n",
    "RAWflatData -= masterOffset\n",
    "masterFlat = calculateMedian(RAWflatData)\n",
    "meanFlat = np.mean(masterFlat)"
   ]
  },
  {
   "cell_type": "markdown",
   "metadata": {},
   "source": [
    "# Calculate images"
   ]
  },
  {
   "cell_type": "code",
   "execution_count": null,
   "metadata": {
    "collapsed": true
   },
   "outputs": [],
   "source": [
    "# image= (Brute - black)/(PLU - offset)*meanFlat\n",
    "RAWimageFiles = extractRawData(imageList)\n",
    "RAWimageData = getRAWdata(RAWimageFiles)\n",
    "images = ((RAWimageData - masterDark)/(masterFlat - masterOffser))*meanFlat\n",
    "\n",
    "for i in imageList:\n",
    "    index = imageList.index(i)\n",
    "    # Debayreizing the RAW image\n",
    "    RGB_image = cv2.cvtColor(RAWimageData[index], cv2.COLOR_BayerBG2RGB)\n",
    "    # Gamma correction\n",
    "    bitDepth = 2**16\n",
    "    RGB_image = np.power(RGB_image/bitDepth, 1/2.1)*bitDepth\n",
    "    tgtFileName = getFileName(i, removeExtention=True, removePath=False) + 'png'\n",
    "    cv2.imwrite(\"tgtFileName, RGB_image)"
   ]
  },
  {
   "cell_type": "code",
   "execution_count": null,
   "metadata": {
    "collapsed": true
   },
   "outputs": [],
   "source": [
    "# remove files: RAWoffsetFiles, RAWdarkFiles, RAWflatFiles and RAWimageFiles"
   ]
  }
 ],
 "metadata": {
  "kernelspec": {
   "display_name": "Python 3",
   "language": "python",
   "name": "python3"
  },
  "language_info": {
   "codemirror_mode": {
    "name": "ipython",
    "version": 3
   },
   "file_extension": ".py",
   "mimetype": "text/x-python",
   "name": "python",
   "nbconvert_exporter": "python",
   "pygments_lexer": "ipython3",
   "version": "3.5.2"
  },
  "toc": {
   "base_numbering": 1,
   "nav_menu": {},
   "number_sections": true,
   "sideBar": true,
   "skip_h1_title": false,
   "title_cell": "Table of Contents",
   "title_sidebar": "Contents",
   "toc_cell": false,
   "toc_position": {},
   "toc_section_display": true,
   "toc_window_display": false
  },
  "varInspector": {
   "cols": {
    "lenName": 16,
    "lenType": 16,
    "lenVar": 40
   },
   "kernels_config": {
    "python": {
     "delete_cmd_postfix": "",
     "delete_cmd_prefix": "del ",
     "library": "var_list.py",
     "varRefreshCmd": "print(var_dic_list())"
    },
    "r": {
     "delete_cmd_postfix": ") ",
     "delete_cmd_prefix": "rm(",
     "library": "var_list.r",
     "varRefreshCmd": "cat(var_dic_list()) "
    }
   },
   "types_to_exclude": [
    "module",
    "function",
    "builtin_function_or_method",
    "instance",
    "_Feature"
   ],
   "window_display": false
  }
 },
 "nbformat": 4,
 "nbformat_minor": 2
}
