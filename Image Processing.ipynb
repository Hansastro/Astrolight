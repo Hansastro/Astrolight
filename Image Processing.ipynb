{
 "cells": [
  {
   "cell_type": "code",
   "execution_count": 1,
   "metadata": {
    "ExecuteTime": {
     "end_time": "2018-09-10T10:42:45.820967Z",
     "start_time": "2018-09-10T10:42:42.573845Z"
    }
   },
   "outputs": [
    {
     "name": "stdout",
     "output_type": "stream",
     "text": [
      "Initilization module astrolights\n"
     ]
    }
   ],
   "source": [
    "import astrolights"
   ]
  },
  {
   "cell_type": "code",
   "execution_count": 2,
   "metadata": {
    "ExecuteTime": {
     "end_time": "2018-09-10T10:42:46.643805Z",
     "start_time": "2018-09-10T10:42:46.636839Z"
    }
   },
   "outputs": [],
   "source": [
    "import cv2\n",
    "import os\n",
    "import re\n",
    "import numpy as np"
   ]
  },
  {
   "cell_type": "code",
   "execution_count": 3,
   "metadata": {
    "ExecuteTime": {
     "end_time": "2018-09-10T10:42:47.530466Z",
     "start_time": "2018-09-10T10:42:47.523152Z"
    }
   },
   "outputs": [],
   "source": [
    "#import importlib\n",
    "#importlib.reload(astrolights)"
   ]
  },
  {
   "cell_type": "code",
   "execution_count": 4,
   "metadata": {
    "ExecuteTime": {
     "end_time": "2018-09-10T10:42:48.268383Z",
     "start_time": "2018-09-10T10:42:48.258867Z"
    }
   },
   "outputs": [],
   "source": [
    "tmpDir='/mnt/data/Photos/Repository/tmp'\n",
    "tmpGeneratedFiles = []\n",
    "regenerateOffset = False\n",
    "regenerateFlat = True\n",
    "regenerateDark = True"
   ]
  },
  {
   "cell_type": "code",
   "execution_count": 5,
   "metadata": {
    "ExecuteTime": {
     "end_time": "2018-09-10T10:42:49.150166Z",
     "start_time": "2018-09-10T10:42:48.967586Z"
    }
   },
   "outputs": [],
   "source": [
    "imagesDirectory = '/mnt/data/Photos/Repository/2018/08-AstroReise-La_Palma-Astro9'\n",
    "categories = astrolights.files.categorifyRawImages(imagesDirectory)\n",
    "\n",
    "flatDirectory = '/mnt/data/Photos/Repository/2018/08-AstroReise-La_Palma-Astro9'\n",
    "categoriesFlat = astrolights.files.categorifyRawImages(flatDirectory)\n",
    "\n",
    "darkDirectory = '/mnt/data/Photos/Repository/2018/08-AstroReise-La_Palma-Astro9'\n",
    "categoriesDark = astrolights.files.categorifyRawImages(darkDirectory)\n",
    "\n",
    "offsetDirectory = '/mnt/data/Photos/Repository/2018/Offset_1600iso'\n",
    "categoriesOffset = astrolights.files.categorifyRawImages(offsetDirectory)"
   ]
  },
  {
   "cell_type": "code",
   "execution_count": 6,
   "metadata": {
    "ExecuteTime": {
     "end_time": "2018-09-10T10:42:49.623405Z",
     "start_time": "2018-09-10T10:42:49.618060Z"
    }
   },
   "outputs": [],
   "source": [
    "offsetList = categoriesOffset['OFFSET']\n",
    "darkList = categoriesDark['DARK']\n",
    "flatList = categoriesFlat['FLAT']\n",
    "imageList = categories['LIGHT']"
   ]
  },
  {
   "cell_type": "code",
   "execution_count": 7,
   "metadata": {
    "ExecuteTime": {
     "end_time": "2018-09-10T10:42:50.691628Z",
     "start_time": "2018-09-10T10:42:50.667483Z"
    }
   },
   "outputs": [
    {
     "data": {
      "text/plain": [
       "['/mnt/data/Photos/Repository/2018/08-AstroReise-La_Palma-Astro9/JPB-8F7_Z3J9.CR2',\n",
       " '/mnt/data/Photos/Repository/2018/08-AstroReise-La_Palma-Astro9/JPB-8F7_Z3JK.CR2',\n",
       " '/mnt/data/Photos/Repository/2018/08-AstroReise-La_Palma-Astro9/JPB-8F7_Z3J7.CR2',\n",
       " '/mnt/data/Photos/Repository/2018/08-AstroReise-La_Palma-Astro9/JPB-8F7_Z3JY.CR2',\n",
       " '/mnt/data/Photos/Repository/2018/08-AstroReise-La_Palma-Astro9/JPB-8F7_Z3JV.CR2',\n",
       " '/mnt/data/Photos/Repository/2018/08-AstroReise-La_Palma-Astro9/JPB-8F7_Z3J4.CR2',\n",
       " '/mnt/data/Photos/Repository/2018/08-AstroReise-La_Palma-Astro9/JPB-8F7_Z3JS.CR2',\n",
       " '/mnt/data/Photos/Repository/2018/08-AstroReise-La_Palma-Astro9/JPB-8F7_Z3JR.CR2',\n",
       " '/mnt/data/Photos/Repository/2018/08-AstroReise-La_Palma-Astro9/JPB-8F7_Z3J3.CR2',\n",
       " '/mnt/data/Photos/Repository/2018/08-AstroReise-La_Palma-Astro9/JPB-8F7_Z3JH.CR2']"
      ]
     },
     "execution_count": 7,
     "metadata": {},
     "output_type": "execute_result"
    }
   ],
   "source": [
    "imageList"
   ]
  },
  {
   "cell_type": "markdown",
   "metadata": {},
   "source": [
    "# Generating master offset"
   ]
  },
  {
   "cell_type": "markdown",
   "metadata": {},
   "source": [
    "The generation of the master offset is just a median of all offset image"
   ]
  },
  {
   "cell_type": "code",
   "execution_count": 8,
   "metadata": {
    "ExecuteTime": {
     "end_time": "2018-09-10T10:42:55.313569Z",
     "start_time": "2018-09-10T10:42:54.807865Z"
    }
   },
   "outputs": [],
   "source": [
    "if regenerateOffset:\n",
    "    masterOffset = astrolights.processImages.calculateMedianFromFiles(offsetList)\n",
    "    masterOffset = masterOffset.astype(np.uint16, copy=False)\n",
    "    cv2.imwrite(tmpDir + '/' + \"masterOffset.pgm\", masterOffset)\n",
    "else:\n",
    "    try:\n",
    "        masterOffset = cv2.imread(tmpDir + '/' + \"masterOffset.pgm\", flags=cv2.IMREAD_GRAYSCALE | cv2.IMREAD_IGNORE_ORIENTATION | cv2.IMREAD_ANYDEPTH)\n",
    "    except:\n",
    "        print('File: {} for the Master Offset not found.'.format(tmpDir + '/' + \"masterOffset.pgm\"))"
   ]
  },
  {
   "cell_type": "code",
   "execution_count": 9,
   "metadata": {
    "ExecuteTime": {
     "end_time": "2018-09-10T10:42:55.340957Z",
     "start_time": "2018-09-10T10:42:55.336376Z"
    }
   },
   "outputs": [
    {
     "data": {
      "text/plain": [
       "array([[ 26,   0,  48, ...,   0,  21,  48],\n",
       "       [105,  69,  45, ...,  60,   0,  32],\n",
       "       [  0,   0,   0, ...,   0,  16,   0],\n",
       "       ..., \n",
       "       [ 26,   0,   0, ...,   0,   0,   0],\n",
       "       [ 97,   5,  75, ...,   5,  75,  85],\n",
       "       [  0,   0,   5, ...,  53,  26,  80]], dtype=uint16)"
      ]
     },
     "execution_count": 9,
     "metadata": {},
     "output_type": "execute_result"
    }
   ],
   "source": [
    "masterOffset"
   ]
  },
  {
   "cell_type": "markdown",
   "metadata": {},
   "source": [
    "# Generating master Dark"
   ]
  },
  {
   "cell_type": "code",
   "execution_count": 10,
   "metadata": {
    "ExecuteTime": {
     "end_time": "2018-09-10T10:43:30.715425Z",
     "start_time": "2018-09-10T10:42:56.443033Z"
    }
   },
   "outputs": [
    {
     "name": "stdout",
     "output_type": "stream",
     "text": [
      "dcraw -d -4 /mnt/data/Photos/Repository/2018/08-AstroReise-La_Palma-Astro9/JPB-8F7_Z3DZ.CR2\n",
      "dcraw -d -4 /mnt/data/Photos/Repository/2018/08-AstroReise-La_Palma-Astro9/JPB-8F7_Z32S.CR2\n",
      "dcraw -d -4 /mnt/data/Photos/Repository/2018/08-AstroReise-La_Palma-Astro9/JPB-8F7_Z32J.CR2\n",
      "dcraw -d -4 /mnt/data/Photos/Repository/2018/08-AstroReise-La_Palma-Astro9/JPB-8F7_Z3DC.CR2\n",
      "dcraw -d -4 /mnt/data/Photos/Repository/2018/08-AstroReise-La_Palma-Astro9/JPB-8F7_Z32P.CR2\n",
      "dcraw -d -4 /mnt/data/Photos/Repository/2018/08-AstroReise-La_Palma-Astro9/JPB-8F7_Z3D8.CR2\n",
      "dcraw -d -4 /mnt/data/Photos/Repository/2018/08-AstroReise-La_Palma-Astro9/JPB-8F7_Z3D6.CR2\n",
      "dcraw -d -4 /mnt/data/Photos/Repository/2018/08-AstroReise-La_Palma-Astro9/JPB-8F7_Z322.CR2\n",
      "dcraw -d -4 /mnt/data/Photos/Repository/2018/08-AstroReise-La_Palma-Astro9/JPB-8F7_Z325.CR2\n",
      "dcraw -d -4 /mnt/data/Photos/Repository/2018/08-AstroReise-La_Palma-Astro9/JPB-8F7_Z32D.CR2\n",
      "dcraw -d -4 /mnt/data/Photos/Repository/2018/08-AstroReise-La_Palma-Astro9/JPB-8F7_Z32K.CR2\n",
      "dcraw -d -4 /mnt/data/Photos/Repository/2018/08-AstroReise-La_Palma-Astro9/JPB-8F7_Z3DA.CR2\n",
      "dcraw -d -4 /mnt/data/Photos/Repository/2018/08-AstroReise-La_Palma-Astro9/JPB-8F7_Z32M.CR2\n",
      "dcraw -d -4 /mnt/data/Photos/Repository/2018/08-AstroReise-La_Palma-Astro9/JPB-8F7_Z3DT.CR2\n",
      "dcraw -d -4 /mnt/data/Photos/Repository/2018/08-AstroReise-La_Palma-Astro9/JPB-8F7_Z3DE.CR2\n"
     ]
    }
   ],
   "source": [
    "if regenerateDark:\n",
    "    masterDark = astrolights.processImages.calculateMedianFromFiles(darkList)\n",
    "    masterDark = masterDark.astype(np.uint16, copy=False)\n",
    "    cv2.imwrite(tmpDir + '/' + \"masterDark.pgm\", masterDark)\n",
    "else:\n",
    "    try:\n",
    "        masterDark = cv2.imread(tmpDir + '/' + \"masterDark.pgm\", flags=cv2.IMREAD_GRAYSCALE | cv2.IMREAD_IGNORE_ORIENTATION | cv2.IMREAD_ANYDEPTH)\n",
    "    except:\n",
    "        print('File: {} for the Master Dark not found.'.format(tmpDir + '/' + \"masterDark.pgm\"))"
   ]
  },
  {
   "cell_type": "code",
   "execution_count": 11,
   "metadata": {
    "ExecuteTime": {
     "end_time": "2018-09-10T10:43:30.739642Z",
     "start_time": "2018-09-10T10:43:30.734130Z"
    }
   },
   "outputs": [
    {
     "data": {
      "text/plain": [
       "array([[ 523,    0,    0, ...,  102,    0,    0],\n",
       "       [  32,    0,    0, ...,    0,    0,   15],\n",
       "       [5572,    0,  537, ...,    0,    0, 4055],\n",
       "       ..., \n",
       "       [   0,    0,    0, ...,    0,    0,   59],\n",
       "       [   0,    0,    0, ...,    0,    0,    0],\n",
       "       [ 738,  171,    0, ...,    0,    0,  418]], dtype=uint16)"
      ]
     },
     "execution_count": 11,
     "metadata": {},
     "output_type": "execute_result"
    }
   ],
   "source": [
    "masterDark"
   ]
  },
  {
   "cell_type": "markdown",
   "metadata": {},
   "source": [
    "# Generating master Flat"
   ]
  },
  {
   "cell_type": "code",
   "execution_count": 12,
   "metadata": {
    "ExecuteTime": {
     "end_time": "2018-09-10T10:44:12.371195Z",
     "start_time": "2018-09-10T10:43:30.760791Z"
    }
   },
   "outputs": [
    {
     "name": "stdout",
     "output_type": "stream",
     "text": [
      "dcraw -d -4 /mnt/data/Photos/Repository/2018/08-AstroReise-La_Palma-Astro9/JPB-8F7_Z3JD.CR2\n",
      "dcraw -d -4 /mnt/data/Photos/Repository/2018/08-AstroReise-La_Palma-Astro9/JPB-8F7_Z329.CR2\n",
      "dcraw -d -4 /mnt/data/Photos/Repository/2018/08-AstroReise-La_Palma-Astro9/JPB-8F7_Z32C.CR2\n",
      "dcraw -d -4 /mnt/data/Photos/Repository/2018/08-AstroReise-La_Palma-Astro9/JPB-8F7_Z32L.CR2\n",
      "dcraw -d -4 /mnt/data/Photos/Repository/2018/08-AstroReise-La_Palma-Astro9/JPB-8F7_Z32A.CR2\n",
      "dcraw -d -4 /mnt/data/Photos/Repository/2018/08-AstroReise-La_Palma-Astro9/JPB-8F7_Z32U.CR2\n",
      "dcraw -d -4 /mnt/data/Photos/Repository/2018/08-AstroReise-La_Palma-Astro9/JPB-8F7_Z32Z.CR2\n",
      "dcraw -d -4 /mnt/data/Photos/Repository/2018/08-AstroReise-La_Palma-Astro9/JPB-8F7_Z327.CR2\n",
      "dcraw -d -4 /mnt/data/Photos/Repository/2018/08-AstroReise-La_Palma-Astro9/JPB-8F7_Z328.CR2\n",
      "dcraw -d -4 /mnt/data/Photos/Repository/2018/08-AstroReise-La_Palma-Astro9/JPB-8F7_Z32F.CR2\n",
      "dcraw -d -4 /mnt/data/Photos/Repository/2018/08-AstroReise-La_Palma-Astro9/JPB-8F7_Z32B.CR2\n",
      "dcraw -d -4 /mnt/data/Photos/Repository/2018/08-AstroReise-La_Palma-Astro9/JPB-8F7_Z3J2.CR2\n",
      "dcraw -d -4 /mnt/data/Photos/Repository/2018/08-AstroReise-La_Palma-Astro9/JPB-8F7_Z32T.CR2\n",
      "dcraw -d -4 /mnt/data/Photos/Repository/2018/08-AstroReise-La_Palma-Astro9/JPB-8F7_Z326.CR2\n",
      "dcraw -d -4 /mnt/data/Photos/Repository/2018/08-AstroReise-La_Palma-Astro9/JPB-8F7_Z32E.CR2\n",
      "dcraw -d -4 /mnt/data/Photos/Repository/2018/08-AstroReise-La_Palma-Astro9/JPB-8F7_Z32Y.CR2\n",
      "dcraw -d -4 /mnt/data/Photos/Repository/2018/08-AstroReise-La_Palma-Astro9/JPB-8F7_Z32G.CR2\n",
      "dcraw -d -4 /mnt/data/Photos/Repository/2018/08-AstroReise-La_Palma-Astro9/JPB-8F7_Z32W.CR2\n",
      "dcraw -d -4 /mnt/data/Photos/Repository/2018/08-AstroReise-La_Palma-Astro9/JPB-8F7_Z32X.CR2\n",
      "dcraw -d -4 /mnt/data/Photos/Repository/2018/08-AstroReise-La_Palma-Astro9/JPB-8F7_Z32N.CR2\n"
     ]
    }
   ],
   "source": [
    "if regenerateFlat:\n",
    "    masterFlat = astrolights.processImages.calculateMedianFromFiles(flatList)\n",
    "    masterFlat = masterFlat.astype(np.uint16, copy=False)\n",
    "    cv2.imwrite(tmpDir + '/' + \"masterFlat.pgm\", masterFlat)\n",
    "else:\n",
    "    try:\n",
    "        masterFlat = cv2.imread(tmpDir + '/' + \"masterFlat.pgm\", flags=cv2.IMREAD_GRAYSCALE | cv2.IMREAD_IGNORE_ORIENTATION | cv2.IMREAD_ANYDEPTH)\n",
    "    except:\n",
    "        print('File: {} for the Master Flat not found.'.format(tmpDir + '/' + \"masterFlat.pgm\"))"
   ]
  },
  {
   "cell_type": "code",
   "execution_count": 13,
   "metadata": {
    "ExecuteTime": {
     "end_time": "2018-09-10T10:44:12.404324Z",
     "start_time": "2018-09-10T10:44:12.387904Z"
    }
   },
   "outputs": [],
   "source": [
    "meanFlat = np.mean(masterFlat)"
   ]
  },
  {
   "cell_type": "code",
   "execution_count": 14,
   "metadata": {
    "ExecuteTime": {
     "end_time": "2018-09-10T10:44:12.424072Z",
     "start_time": "2018-09-10T10:44:12.419988Z"
    }
   },
   "outputs": [
    {
     "data": {
      "text/plain": [
       "array([[18295, 12932, 19191, ..., 14049, 21712, 14428],\n",
       "       [13627, 11421, 13405, ..., 12409, 14971, 13183],\n",
       "       [19192, 13020, 17598, ..., 14909, 22021, 15059],\n",
       "       ..., \n",
       "       [18147, 12673, 17999, ..., 14029, 21914, 14560],\n",
       "       [12832, 10778, 12448, ..., 13040, 14930, 12901],\n",
       "       [18837, 12922, 18026, ..., 14491, 21009, 14694]], dtype=uint16)"
      ]
     },
     "execution_count": 14,
     "metadata": {},
     "output_type": "execute_result"
    }
   ],
   "source": [
    "masterFlat"
   ]
  },
  {
   "cell_type": "code",
   "execution_count": 15,
   "metadata": {
    "ExecuteTime": {
     "end_time": "2018-09-10T10:44:12.455395Z",
     "start_time": "2018-09-10T10:44:12.444528Z"
    }
   },
   "outputs": [
    {
     "data": {
      "text/plain": [
       "21112.80730865529"
      ]
     },
     "execution_count": 15,
     "metadata": {},
     "output_type": "execute_result"
    }
   ],
   "source": [
    "meanFlat"
   ]
  },
  {
   "cell_type": "markdown",
   "metadata": {},
   "source": [
    "# Calculate images"
   ]
  },
  {
   "cell_type": "code",
   "execution_count": 16,
   "metadata": {
    "ExecuteTime": {
     "end_time": "2018-09-10T10:44:12.475456Z",
     "start_time": "2018-09-10T10:44:12.472150Z"
    }
   },
   "outputs": [],
   "source": [
    "#correctedImages = astrolights.processImages.correctImages(imageList, masterOffset, masterDark, masterFlat)"
   ]
  },
  {
   "cell_type": "code",
   "execution_count": 17,
   "metadata": {
    "ExecuteTime": {
     "end_time": "2018-09-10T10:55:34.788163Z",
     "start_time": "2018-09-10T10:44:12.498286Z"
    }
   },
   "outputs": [
    {
     "name": "stdout",
     "output_type": "stream",
     "text": [
      "dcraw -d -4 /mnt/data/Photos/Repository/2018/08-AstroReise-La_Palma-Astro9/JPB-8F7_Z3J9.CR2\n",
      "-53633.9062172\n",
      "121693.062222\n",
      "0.0\n",
      "65535.0\n",
      "(3465, 5202)\n",
      "Normalize the histogram\n",
      "Writing: Corrected_0001.png\n",
      "dcraw -d -4 /mnt/data/Photos/Repository/2018/08-AstroReise-La_Palma-Astro9/JPB-8F7_Z3JK.CR2\n",
      "-47950.7588991\n",
      "125249.192267\n",
      "0.0\n",
      "65535.0\n",
      "(3465, 5202)\n",
      "Normalize the histogram\n",
      "Writing: Corrected_0002.png\n",
      "dcraw -d -4 /mnt/data/Photos/Repository/2018/08-AstroReise-La_Palma-Astro9/JPB-8F7_Z3J7.CR2\n",
      "-52794.0037081\n",
      "119815.364303\n",
      "0.0\n",
      "65535.0\n",
      "(3465, 5202)\n",
      "Normalize the histogram\n",
      "Writing: Corrected_0003.png\n",
      "dcraw -d -4 /mnt/data/Photos/Repository/2018/08-AstroReise-La_Palma-Astro9/JPB-8F7_Z3JY.CR2\n",
      "-50471.3716477\n",
      "121693.062222\n",
      "0.0\n",
      "65535.0\n",
      "(3465, 5202)\n",
      "Normalize the histogram\n",
      "Writing: Corrected_0004.png\n",
      "dcraw -d -4 /mnt/data/Photos/Repository/2018/08-AstroReise-La_Palma-Astro9/JPB-8F7_Z3JV.CR2\n",
      "-50847.7532178\n",
      "123296.010245\n",
      "0.0\n",
      "65535.0\n",
      "(3465, 5202)\n",
      "Normalize the histogram\n",
      "Writing: Corrected_0005.png\n",
      "dcraw -d -4 /mnt/data/Photos/Repository/2018/08-AstroReise-La_Palma-Astro9/JPB-8F7_Z3J4.CR2\n",
      "-50415.3127309\n",
      "125249.192267\n",
      "0.0\n",
      "65535.0\n",
      "(3465, 5202)\n",
      "Normalize the histogram\n",
      "Writing: Corrected_0006.png\n",
      "dcraw -d -4 /mnt/data/Photos/Repository/2018/08-AstroReise-La_Palma-Astro9/JPB-8F7_Z3JS.CR2\n",
      "-48954.0542565\n",
      "120715.624253\n",
      "0.0\n",
      "65535.0\n",
      "(3465, 5202)\n",
      "Normalize the histogram\n",
      "Writing: Corrected_0007.png\n",
      "dcraw -d -4 /mnt/data/Photos/Repository/2018/08-AstroReise-La_Palma-Astro9/JPB-8F7_Z3JR.CR2\n",
      "-50970.3734524\n",
      "125249.192267\n",
      "0.0\n",
      "65535.0\n",
      "(3465, 5202)\n",
      "Normalize the histogram\n",
      "Writing: Corrected_0008.png\n",
      "dcraw -d -4 /mnt/data/Photos/Repository/2018/08-AstroReise-La_Palma-Astro9/JPB-8F7_Z3J3.CR2\n",
      "-50934.417143\n",
      "121905.535416\n",
      "0.0\n",
      "65535.0\n",
      "(3465, 5202)\n",
      "Normalize the histogram\n",
      "Writing: Corrected_0009.png\n",
      "dcraw -d -4 /mnt/data/Photos/Repository/2018/08-AstroReise-La_Palma-Astro9/JPB-8F7_Z3JH.CR2\n",
      "-52482.3823601\n",
      "121693.062222\n",
      "0.0\n",
      "65535.0\n",
      "(3465, 5202)\n",
      "Normalize the histogram\n",
      "Writing: Corrected_0010.png\n"
     ]
    }
   ],
   "source": [
    "i=0\n",
    "for image in imageList:\n",
    "    correctedImage = astrolights.processImages.correctImages(image, masterOffset, masterDark, masterFlat)\n",
    "    #correctedImage = correctedImage/correctedImage.max()*65535\n",
    "    \n",
    "    # Correction Gamma\n",
    "    #print('Ajust Gamma')\n",
    "    correctedImage = correctedImage.astype(np.float64, copy=False) \n",
    "    print(correctedImage.min())\n",
    "    print(correctedImage.max())\n",
    "    \n",
    "    correctedImage -= correctedImage.min()\n",
    "    correctedImage = (correctedImage / correctedImage.max()) * 65535\n",
    "    print(correctedImage.min())\n",
    "    print(correctedImage.max())\n",
    "    correctedImage = correctedImage.astype(np.uint16, copy=False)\n",
    "    print(correctedImage.shape)\n",
    "    BGR_image = cv2.cvtColor(correctedImage, cv2.COLOR_BayerBG2BGR_EA)\n",
    "\n",
    "    bitDepth = 2.0**16\n",
    "    BGR_image = np.power(BGR_image/bitDepth, 1/2.1)*bitDepth\n",
    "    \n",
    "    #Correction of the white balance\n",
    "    #print('Ajust White balance')\n",
    "    #BGR_image = astrolights.histogram.ajustWhiteBalance(BGR_image)\n",
    "    \n",
    "    #Normalization of the histogram\n",
    "    print('Normalize the histogram')\n",
    "    BGR_image = astrolights.histogram.normalizeHistogram(BGR_image, sigma1=3, sigma2=10)\n",
    "    \n",
    "    BGR_image = BGR_image.astype(np.uint16, copy=False)\n",
    "    i += 1\n",
    "    print(\"Writing: Corrected_{:04d}.png\".format(i))\n",
    "    cv2.imwrite(tmpDir + '/' + \"Corrected_{:04d}.png\".format(i), BGR_image)\n"
   ]
  },
  {
   "cell_type": "markdown",
   "metadata": {},
   "source": [
    "# Aligns images"
   ]
  },
  {
   "cell_type": "markdown",
   "metadata": {},
   "source": [
    "Hugin is used to align the generated images:\n",
    "\n",
    "    align_image_stack -v --gpu -a Aligned_ Corrected_*.png"
   ]
  },
  {
   "cell_type": "markdown",
   "metadata": {
    "ExecuteTime": {
     "end_time": "2018-09-04T12:53:04.585040Z",
     "start_time": "2018-09-04T12:53:04.582363Z"
    }
   },
   "source": [
    "# Add aligned Images"
   ]
  },
  {
   "cell_type": "code",
   "execution_count": 18,
   "metadata": {
    "ExecuteTime": {
     "end_time": "2018-09-10T10:57:00.013055Z",
     "start_time": "2018-09-10T10:57:00.009351Z"
    }
   },
   "outputs": [],
   "source": [
    "alignedImages = astrolights.files.listAllFileinDir(tmpDir, '^Aligned_.*')"
   ]
  },
  {
   "cell_type": "code",
   "execution_count": 19,
   "metadata": {
    "ExecuteTime": {
     "end_time": "2018-09-10T10:57:00.714035Z",
     "start_time": "2018-09-10T10:57:00.705034Z"
    }
   },
   "outputs": [
    {
     "data": {
      "text/plain": [
       "['/mnt/data/Photos/Repository/tmp/Aligned_0008.tif',\n",
       " '/mnt/data/Photos/Repository/tmp/Aligned_0006.tif',\n",
       " '/mnt/data/Photos/Repository/tmp/Aligned_0007.tif',\n",
       " '/mnt/data/Photos/Repository/tmp/Aligned_0009.tif',\n",
       " '/mnt/data/Photos/Repository/tmp/Aligned_0003.tif',\n",
       " '/mnt/data/Photos/Repository/tmp/Aligned_0001.tif',\n",
       " '/mnt/data/Photos/Repository/tmp/Aligned_0005.tif',\n",
       " '/mnt/data/Photos/Repository/tmp/Aligned_0004.tif',\n",
       " '/mnt/data/Photos/Repository/tmp/Aligned_0002.tif',\n",
       " '/mnt/data/Photos/Repository/tmp/Aligned_0000.tif']"
      ]
     },
     "execution_count": 19,
     "metadata": {},
     "output_type": "execute_result"
    }
   ],
   "source": [
    "alignedImages"
   ]
  },
  {
   "cell_type": "code",
   "execution_count": 20,
   "metadata": {
    "ExecuteTime": {
     "end_time": "2018-09-10T10:57:12.152382Z",
     "start_time": "2018-09-10T10:57:01.890525Z"
    }
   },
   "outputs": [
    {
     "name": "stdout",
     "output_type": "stream",
     "text": [
      "Adding /mnt/data/Photos/Repository/tmp/Aligned_0006.tif\n",
      "Adding /mnt/data/Photos/Repository/tmp/Aligned_0007.tif\n",
      "Adding /mnt/data/Photos/Repository/tmp/Aligned_0009.tif\n",
      "Adding /mnt/data/Photos/Repository/tmp/Aligned_0003.tif\n",
      "Adding /mnt/data/Photos/Repository/tmp/Aligned_0001.tif\n",
      "Adding /mnt/data/Photos/Repository/tmp/Aligned_0005.tif\n",
      "Adding /mnt/data/Photos/Repository/tmp/Aligned_0004.tif\n",
      "Adding /mnt/data/Photos/Repository/tmp/Aligned_0002.tif\n",
      "Adding /mnt/data/Photos/Repository/tmp/Aligned_0000.tif\n"
     ]
    }
   ],
   "source": [
    "image = cv2.imread(alignedImages.pop(0), cv2.IMREAD_IGNORE_ORIENTATION | cv2.IMREAD_ANYDEPTH | cv2.IMREAD_ANYCOLOR)\n",
    "image = image.astype(np.float64, copy=False)\n",
    "\n",
    "imageCpt = 0\n",
    "for i in alignedImages:\n",
    "    print('Adding {}'.format(i))\n",
    "    image += cv2.imread(i, cv2.IMREAD_IGNORE_ORIENTATION | cv2.IMREAD_ANYDEPTH | cv2.IMREAD_ANYCOLOR)\n",
    "    imageCpt += 1\n",
    "\n",
    "image = image / imageCpt\n"
   ]
  },
  {
   "cell_type": "code",
   "execution_count": 21,
   "metadata": {
    "ExecuteTime": {
     "end_time": "2018-09-10T10:57:53.358874Z",
     "start_time": "2018-09-10T10:57:52.879785Z"
    }
   },
   "outputs": [],
   "source": [
    "image2 = image - image.min()\n",
    "image2 = (image2 / image2.max()) * 65535.0"
   ]
  },
  {
   "cell_type": "code",
   "execution_count": 22,
   "metadata": {
    "ExecuteTime": {
     "end_time": "2018-09-10T10:57:53.858873Z",
     "start_time": "2018-09-10T10:57:53.806966Z"
    }
   },
   "outputs": [
    {
     "data": {
      "text/plain": [
       "65535.0"
      ]
     },
     "execution_count": 22,
     "metadata": {},
     "output_type": "execute_result"
    }
   ],
   "source": [
    "image2.max()"
   ]
  },
  {
   "cell_type": "code",
   "execution_count": 23,
   "metadata": {
    "ExecuteTime": {
     "end_time": "2018-09-10T10:57:59.615961Z",
     "start_time": "2018-09-10T10:57:54.374907Z"
    }
   },
   "outputs": [],
   "source": [
    "# Gamma ajustement\n",
    "image2 = image2.astype(np.float32, copy=False) \n",
    "bitDepth = 2.0**16\n",
    "image2 = np.power(image2/bitDepth, 1/2.1)*bitDepth"
   ]
  },
  {
   "cell_type": "code",
   "execution_count": 24,
   "metadata": {
    "ExecuteTime": {
     "end_time": "2018-09-10T10:58:00.251836Z",
     "start_time": "2018-09-10T10:57:59.647566Z"
    }
   },
   "outputs": [
    {
     "name": "stdout",
     "output_type": "stream",
     "text": [
      "Ajust White balance\n"
     ]
    }
   ],
   "source": [
    "print('Ajust White balance')\n",
    "image3 = astrolights.histogram.ajustWhiteBalance(image2)\n",
    "    \n",
    "#Normalization of the histogram\n",
    "#print('Normalize the histogram')\n",
    "#image2 = astrolights.histogram.normalizeHistogram(image2)"
   ]
  },
  {
   "cell_type": "code",
   "execution_count": 25,
   "metadata": {
    "ExecuteTime": {
     "end_time": "2018-09-10T10:58:00.327925Z",
     "start_time": "2018-09-10T10:58:00.325258Z"
    }
   },
   "outputs": [],
   "source": [
    "#image2 = astrolights.histogram.normalizeHistogram(image)"
   ]
  },
  {
   "cell_type": "code",
   "execution_count": 26,
   "metadata": {
    "ExecuteTime": {
     "end_time": "2018-09-10T10:58:00.494902Z",
     "start_time": "2018-09-10T10:58:00.402777Z"
    }
   },
   "outputs": [],
   "source": [
    "image2 = image2.astype(np.uint16, copy=False)"
   ]
  },
  {
   "cell_type": "code",
   "execution_count": 27,
   "metadata": {
    "ExecuteTime": {
     "end_time": "2018-09-10T10:58:03.368806Z",
     "start_time": "2018-09-10T10:58:00.556071Z"
    }
   },
   "outputs": [
    {
     "data": {
      "text/plain": [
       "True"
      ]
     },
     "execution_count": 27,
     "metadata": {},
     "output_type": "execute_result"
    }
   ],
   "source": [
    "cv2.imwrite(tmpDir + '/' + 'image.tif', image2)"
   ]
  },
  {
   "cell_type": "code",
   "execution_count": null,
   "metadata": {
    "ExecuteTime": {
     "end_time": "2018-09-01T22:38:31.095582Z",
     "start_time": "2018-09-01T22:34:41.316Z"
    }
   },
   "outputs": [],
   "source": [
    "# remove files: RAWoffsetFiles, RAWdarkFiles, RAWflatFiles and RAWimageFiles"
   ]
  },
  {
   "cell_type": "code",
   "execution_count": null,
   "metadata": {},
   "outputs": [],
   "source": []
  }
 ],
 "metadata": {
  "kernelspec": {
   "display_name": "Python 3",
   "language": "python",
   "name": "python3"
  },
  "language_info": {
   "codemirror_mode": {
    "name": "ipython",
    "version": 3
   },
   "file_extension": ".py",
   "mimetype": "text/x-python",
   "name": "python",
   "nbconvert_exporter": "python",
   "pygments_lexer": "ipython3",
   "version": "3.5.2"
  },
  "toc": {
   "base_numbering": 1,
   "nav_menu": {},
   "number_sections": true,
   "sideBar": true,
   "skip_h1_title": false,
   "title_cell": "Table of Contents",
   "title_sidebar": "Contents",
   "toc_cell": false,
   "toc_position": {},
   "toc_section_display": true,
   "toc_window_display": false
  },
  "varInspector": {
   "cols": {
    "lenName": 16,
    "lenType": 16,
    "lenVar": 40
   },
   "kernels_config": {
    "python": {
     "delete_cmd_postfix": "",
     "delete_cmd_prefix": "del ",
     "library": "var_list.py",
     "varRefreshCmd": "print(var_dic_list())"
    },
    "r": {
     "delete_cmd_postfix": ") ",
     "delete_cmd_prefix": "rm(",
     "library": "var_list.r",
     "varRefreshCmd": "cat(var_dic_list()) "
    }
   },
   "types_to_exclude": [
    "module",
    "function",
    "builtin_function_or_method",
    "instance",
    "_Feature"
   ],
   "window_display": false
  }
 },
 "nbformat": 4,
 "nbformat_minor": 2
}
