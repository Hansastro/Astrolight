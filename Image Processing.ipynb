{
 "cells": [
  {
   "cell_type": "code",
   "execution_count": 1,
   "metadata": {
    "ExecuteTime": {
     "end_time": "2018-08-04T20:04:15.073945Z",
     "start_time": "2018-08-04T20:04:14.720979Z"
    }
   },
   "outputs": [],
   "source": [
    "import cv2\n",
    "import os\n",
    "import re\n",
    "import numpy as np"
   ]
  },
  {
   "cell_type": "code",
   "execution_count": 2,
   "metadata": {
    "ExecuteTime": {
     "end_time": "2018-08-04T20:04:15.078752Z",
     "start_time": "2018-08-04T20:04:15.075889Z"
    }
   },
   "outputs": [],
   "source": [
    "tmpDir='/tmp'\n",
    "tmpGeneratedFiles = []"
   ]
  },
  {
   "cell_type": "code",
   "execution_count": 3,
   "metadata": {
    "ExecuteTime": {
     "end_time": "2018-08-04T20:04:15.093964Z",
     "start_time": "2018-08-04T20:04:15.081290Z"
    }
   },
   "outputs": [],
   "source": [
    "flatSky = ['/mnt/data/Photos/2018/08-Astro/to_be_sorted/IMG_0741.CR2', '/mnt/data/Photos/2018/08-Astro/to_be_sorted/IMG_0730.CR2', '/mnt/data/Photos/2018/08-Astro/to_be_sorted/IMG_0745.CR2', '/mnt/data/Photos/2018/08-Astro/to_be_sorted/IMG_0733.CR2', '/mnt/data/Photos/2018/08-Astro/to_be_sorted/IMG_0736.CR2', '/mnt/data/Photos/2018/08-Astro/to_be_sorted/IMG_0738.CR2', '/mnt/data/Photos/2018/08-Astro/to_be_sorted/IMG_0739.CR2', '/mnt/data/Photos/2018/08-Astro/to_be_sorted/IMG_0737.CR2', '/mnt/data/Photos/2018/08-Astro/to_be_sorted/IMG_0746.CR2', '/mnt/data/Photos/2018/08-Astro/to_be_sorted/IMG_0732.CR2', '/mnt/data/Photos/2018/08-Astro/to_be_sorted/IMG_0735.CR2', '/mnt/data/Photos/2018/08-Astro/to_be_sorted/IMG_0748.CR2', '/mnt/data/Photos/2018/08-Astro/to_be_sorted/IMG_0731.CR2', '/mnt/data/Photos/2018/08-Astro/to_be_sorted/IMG_0734.CR2', '/mnt/data/Photos/2018/08-Astro/to_be_sorted/IMG_0743.CR2', '/mnt/data/Photos/2018/08-Astro/to_be_sorted/IMG_0749.CR2', '/mnt/data/Photos/2018/08-Astro/to_be_sorted/IMG_0742.CR2', '/mnt/data/Photos/2018/08-Astro/to_be_sorted/IMG_0744.CR2', '/mnt/data/Photos/2018/08-Astro/to_be_sorted/IMG_0740.CR2', '/mnt/data/Photos/2018/08-Astro/to_be_sorted/IMG_0747.CR2']\n",
    "offset1600ISO = ['/mnt/data/Photos/2018/08-Astro/to_be_sorted/IMG_0992.CR2', '/mnt/data/Photos/2018/08-Astro/to_be_sorted/IMG_1010.CR2', '/mnt/data/Photos/2018/08-Astro/to_be_sorted/IMG_1020.CR2', '/mnt/data/Photos/2018/08-Astro/to_be_sorted/IMG_0991.CR2', '/mnt/data/Photos/2018/08-Astro/to_be_sorted/IMG_1013.CR2', '/mnt/data/Photos/2018/08-Astro/to_be_sorted/IMG_1005.CR2', '/mnt/data/Photos/2018/08-Astro/to_be_sorted/IMG_0998.CR2', '/mnt/data/Photos/2018/08-Astro/to_be_sorted/IMG_1037.CR2', '/mnt/data/Photos/2018/08-Astro/to_be_sorted/IMG_1006.CR2', '/mnt/data/Photos/2018/08-Astro/to_be_sorted/IMG_1028.CR2', '/mnt/data/Photos/2018/08-Astro/to_be_sorted/IMG_1012.CR2', '/mnt/data/Photos/2018/08-Astro/to_be_sorted/IMG_1014.CR2', '/mnt/data/Photos/2018/08-Astro/to_be_sorted/IMG_1009.CR2', '/mnt/data/Photos/2018/08-Astro/to_be_sorted/IMG_1003.CR2', '/mnt/data/Photos/2018/08-Astro/to_be_sorted/IMG_1026.CR2', '/mnt/data/Photos/2018/08-Astro/to_be_sorted/IMG_1024.CR2', '/mnt/data/Photos/2018/08-Astro/to_be_sorted/IMG_1032.CR2', '/mnt/data/Photos/2018/08-Astro/to_be_sorted/IMG_1021.CR2', '/mnt/data/Photos/2018/08-Astro/to_be_sorted/IMG_1015.CR2', '/mnt/data/Photos/2018/08-Astro/to_be_sorted/IMG_1034.CR2', '/mnt/data/Photos/2018/08-Astro/to_be_sorted/IMG_1029.CR2', '/mnt/data/Photos/2018/08-Astro/to_be_sorted/IMG_1008.CR2', '/mnt/data/Photos/2018/08-Astro/to_be_sorted/IMG_1004.CR2', '/mnt/data/Photos/2018/08-Astro/to_be_sorted/IMG_0990.CR2', '/mnt/data/Photos/2018/08-Astro/to_be_sorted/IMG_1033.CR2', '/mnt/data/Photos/2018/08-Astro/to_be_sorted/IMG_1001.CR2', '/mnt/data/Photos/2018/08-Astro/to_be_sorted/IMG_0999.CR2', '/mnt/data/Photos/2018/08-Astro/to_be_sorted/IMG_1039.CR2', '/mnt/data/Photos/2018/08-Astro/to_be_sorted/IMG_0997.CR2', '/mnt/data/Photos/2018/08-Astro/to_be_sorted/IMG_1007.CR2', '/mnt/data/Photos/2018/08-Astro/to_be_sorted/IMG_1018.CR2', '/mnt/data/Photos/2018/08-Astro/to_be_sorted/IMG_1019.CR2', '/mnt/data/Photos/2018/08-Astro/to_be_sorted/IMG_1022.CR2', '/mnt/data/Photos/2018/08-Astro/to_be_sorted/IMG_1011.CR2', '/mnt/data/Photos/2018/08-Astro/to_be_sorted/IMG_1027.CR2', '/mnt/data/Photos/2018/08-Astro/to_be_sorted/IMG_1002.CR2', '/mnt/data/Photos/2018/08-Astro/to_be_sorted/IMG_1023.CR2', '/mnt/data/Photos/2018/08-Astro/to_be_sorted/IMG_1036.CR2', '/mnt/data/Photos/2018/08-Astro/to_be_sorted/IMG_1017.CR2', '/mnt/data/Photos/2018/08-Astro/to_be_sorted/IMG_1025.CR2', '/mnt/data/Photos/2018/08-Astro/to_be_sorted/IMG_1031.CR2', '/mnt/data/Photos/2018/08-Astro/to_be_sorted/IMG_1038.CR2', '/mnt/data/Photos/2018/08-Astro/to_be_sorted/IMG_0993.CR2', '/mnt/data/Photos/2018/08-Astro/to_be_sorted/IMG_1000.CR2', '/mnt/data/Photos/2018/08-Astro/to_be_sorted/IMG_0996.CR2', '/mnt/data/Photos/2018/08-Astro/to_be_sorted/IMG_1016.CR2', '/mnt/data/Photos/2018/08-Astro/to_be_sorted/IMG_0995.CR2', '/mnt/data/Photos/2018/08-Astro/to_be_sorted/IMG_1030.CR2', '/mnt/data/Photos/2018/08-Astro/to_be_sorted/IMG_1035.CR2', '/mnt/data/Photos/2018/08-Astro/to_be_sorted/IMG_1040.CR2', '/mnt/data/Photos/2018/08-Astro/to_be_sorted/IMG_0994.CR2']\n",
    "dark60s1600ISO = ['/mnt/data/Photos/2018/08-Astro/to_be_sorted/IMG_0884.CR2', '/mnt/data/Photos/2018/08-Astro/to_be_sorted/IMG_0888.CR2', '/mnt/data/Photos/2018/08-Astro/to_be_sorted/IMG_0875.CR2', '/mnt/data/Photos/2018/08-Astro/to_be_sorted/IMG_0876.CR2', '/mnt/data/Photos/2018/08-Astro/to_be_sorted/IMG_0881.CR2', '/mnt/data/Photos/2018/08-Astro/to_be_sorted/IMG_0880.CR2', '/mnt/data/Photos/2018/08-Astro/to_be_sorted/IMG_0878.CR2', '/mnt/data/Photos/2018/08-Astro/to_be_sorted/IMG_0882.CR2', '/mnt/data/Photos/2018/08-Astro/to_be_sorted/IMG_0874.CR2', '/mnt/data/Photos/2018/08-Astro/to_be_sorted/IMG_0885.CR2', '/mnt/data/Photos/2018/08-Astro/to_be_sorted/IMG_0889.CR2', '/mnt/data/Photos/2018/08-Astro/to_be_sorted/IMG_0879.CR2', '/mnt/data/Photos/2018/08-Astro/to_be_sorted/IMG_0883.CR2', '/mnt/data/Photos/2018/08-Astro/to_be_sorted/IMG_0890.CR2', '/mnt/data/Photos/2018/08-Astro/to_be_sorted/IMG_0886.CR2', '/mnt/data/Photos/2018/08-Astro/to_be_sorted/IMG_0877.CR2', '/mnt/data/Photos/2018/08-Astro/to_be_sorted/IMG_0887.CR2']\n",
    "ngc7000Images = ['/mnt/data/Photos/2018/08-Astro/to_be_sorted/IMG_0856.CR2', '/mnt/data/Photos/2018/08-Astro/to_be_sorted/IMG_0855.CR2', '/mnt/data/Photos/2018/08-Astro/to_be_sorted/IMG_0854.CR2', '/mnt/data/Photos/2018/08-Astro/to_be_sorted/IMG_0853.CR2', '/mnt/data/Photos/2018/08-Astro/to_be_sorted/IMG_0858.CR2', '/mnt/data/Photos/2018/08-Astro/to_be_sorted/IMG_0850.CR2', '/mnt/data/Photos/2018/08-Astro/to_be_sorted/IMG_0849.CR2', '/mnt/data/Photos/2018/08-Astro/to_be_sorted/IMG_0859.CR2', '/mnt/data/Photos/2018/08-Astro/to_be_sorted/IMG_0851.CR2', '/mnt/data/Photos/2018/08-Astro/to_be_sorted/IMG_0860.CR2', '/mnt/data/Photos/2018/08-Astro/to_be_sorted/IMG_0863.CR2', '/mnt/data/Photos/2018/08-Astro/to_be_sorted/IMG_0844.CR2', '/mnt/data/Photos/2018/08-Astro/to_be_sorted/IMG_0852.CR2', '/mnt/data/Photos/2018/08-Astro/to_be_sorted/IMG_0862.CR2', '/mnt/data/Photos/2018/08-Astro/to_be_sorted/IMG_0868.CR2', '/mnt/data/Photos/2018/08-Astro/to_be_sorted/IMG_0872.CR2', '/mnt/data/Photos/2018/08-Astro/to_be_sorted/IMG_0871.CR2', '/mnt/data/Photos/2018/08-Astro/to_be_sorted/IMG_0870.CR2', '/mnt/data/Photos/2018/08-Astro/to_be_sorted/IMG_0864.CR2', '/mnt/data/Photos/2018/08-Astro/to_be_sorted/IMG_0873.CR2', '/mnt/data/Photos/2018/08-Astro/to_be_sorted/IMG_0865.CR2', '/mnt/data/Photos/2018/08-Astro/to_be_sorted/IMG_0848.CR2', '/mnt/data/Photos/2018/08-Astro/to_be_sorted/IMG_0847.CR2', '/mnt/data/Photos/2018/08-Astro/to_be_sorted/IMG_0857.CR2', '/mnt/data/Photos/2018/08-Astro/to_be_sorted/IMG_0845.CR2', '/mnt/data/Photos/2018/08-Astro/to_be_sorted/IMG_0867.CR2', '/mnt/data/Photos/2018/08-Astro/to_be_sorted/IMG_0869.CR2', '/mnt/data/Photos/2018/08-Astro/to_be_sorted/IMG_0846.CR2', '/mnt/data/Photos/2018/08-Astro/to_be_sorted/IMG_0861.CR2', '/mnt/data/Photos/2018/08-Astro/to_be_sorted/IMG_0843.CR2', '/mnt/data/Photos/2018/08-Astro/to_be_sorted/IMG_0866.CR2']\n",
    "alignedImages = ['/mnt/data/Photos/2018/08-Astro/to_be_sorted/Aligned_0019.tif', '/mnt/data/Photos/2018/08-Astro/to_be_sorted/Aligned_0029.tif', '/mnt/data/Photos/2018/08-Astro/to_be_sorted/Aligned_0008.tif', '/mnt/data/Photos/2018/08-Astro/to_be_sorted/Aligned_0026.tif', '/mnt/data/Photos/2018/08-Astro/to_be_sorted/Aligned_0006.tif', '/mnt/data/Photos/2018/08-Astro/to_be_sorted/Aligned_0017.tif', '/mnt/data/Photos/2018/08-Astro/to_be_sorted/Aligned_0028.tif', '/mnt/data/Photos/2018/08-Astro/to_be_sorted/Aligned_0018.tif', '/mnt/data/Photos/2018/08-Astro/to_be_sorted/Aligned_0016.tif', '/mnt/data/Photos/2018/08-Astro/to_be_sorted/Aligned_0015.tif', '/mnt/data/Photos/2018/08-Astro/to_be_sorted/Aligned_0024.tif', '/mnt/data/Photos/2018/08-Astro/to_be_sorted/Aligned_0007.tif', '/mnt/data/Photos/2018/08-Astro/to_be_sorted/Aligned_0009.tif', '/mnt/data/Photos/2018/08-Astro/to_be_sorted/Aligned_0021.tif', '/mnt/data/Photos/2018/08-Astro/to_be_sorted/Aligned_0003.tif', '/mnt/data/Photos/2018/08-Astro/to_be_sorted/Aligned_0027.tif', '/mnt/data/Photos/2018/08-Astro/to_be_sorted/Aligned_0011.tif', '/mnt/data/Photos/2018/08-Astro/to_be_sorted/Aligned_0022.tif', '/mnt/data/Photos/2018/08-Astro/to_be_sorted/Aligned_0025.tif', '/mnt/data/Photos/2018/08-Astro/to_be_sorted/Aligned_0030.tif', '/mnt/data/Photos/2018/08-Astro/to_be_sorted/Aligned_0001.tif', '/mnt/data/Photos/2018/08-Astro/to_be_sorted/Aligned_0010.tif', '/mnt/data/Photos/2018/08-Astro/to_be_sorted/Aligned_0013.tif', '/mnt/data/Photos/2018/08-Astro/to_be_sorted/Aligned_0020.tif', '/mnt/data/Photos/2018/08-Astro/to_be_sorted/Aligned_0005.tif', '/mnt/data/Photos/2018/08-Astro/to_be_sorted/Aligned_0004.tif', '/mnt/data/Photos/2018/08-Astro/to_be_sorted/Aligned_0012.tif', '/mnt/data/Photos/2018/08-Astro/to_be_sorted/Aligned_0014.tif', '/mnt/data/Photos/2018/08-Astro/to_be_sorted/Aligned_0002.tif', '/mnt/data/Photos/2018/08-Astro/to_be_sorted/Aligned_0023.tif', '/mnt/data/Photos/2018/08-Astro/to_be_sorted/Aligned_0000.tif']"
   ]
  },
  {
   "cell_type": "code",
   "execution_count": 4,
   "metadata": {
    "ExecuteTime": {
     "end_time": "2018-08-04T20:04:15.100075Z",
     "start_time": "2018-08-04T20:04:15.096679Z"
    }
   },
   "outputs": [],
   "source": [
    "#offsetList = ['/mnt/data/Photos/2018/08-Astro/to_be_sorted/IMG_0992.CR2', '/mnt/data/Photos/2018/08-Astro/to_be_sorted/IMG_1010.CR2', '/mnt/data/Photos/2018/08-Astro/to_be_sorted/IMG_1020.CR2']\n",
    "offsetList = offset1600ISO\n",
    "darkList = dark60s1600ISO\n",
    "flatList = flatSky\n",
    "imageList = ngc7000Images"
   ]
  },
  {
   "cell_type": "code",
   "execution_count": 5,
   "metadata": {
    "ExecuteTime": {
     "end_time": "2018-08-04T20:04:15.109724Z",
     "start_time": "2018-08-04T20:04:15.101577Z"
    }
   },
   "outputs": [],
   "source": [
    "def getFileName(fileName, removeExtention=False, removePath=True):\n",
    "    '''\n",
    "    get the name of a file from a string (can remove the extention or the complete path)\n",
    "    \n",
    "    parameters:\n",
    "    fileName as a string. The name can include the path\n",
    "    removeExtention as boolean. Default is False. This parameter remove the extention of the filename. (e.g: 'test.jpg'\n",
    "    will become 'test')\n",
    "    removePath as boolean. Default is True. If the complete path is given in the filename is it possible to remove it or not\n",
    "    \n",
    "    return value:\n",
    "    the filename\n",
    "    \n",
    "    '''\n",
    "    if removePath:\n",
    "        fileName = os.path.basename(fileName)\n",
    "    if removeExtention:\n",
    "        re_catchFileName = re.compile('(.*)\\..*$')\n",
    "        catchFileNameResult = re_catchFileName.match(fileName)\n",
    "        if catchFileNameResult:\n",
    "            fileName = catchFileNameResult.group(1)\n",
    "\n",
    "    return fileName"
   ]
  },
  {
   "cell_type": "code",
   "execution_count": 6,
   "metadata": {
    "ExecuteTime": {
     "end_time": "2018-08-04T20:04:15.120996Z",
     "start_time": "2018-08-04T20:04:15.111223Z"
    }
   },
   "outputs": [
    {
     "data": {
      "text/plain": [
       "'/mnt/data/Photos/2018/08-Astro/to_be_sorted/IMG_0992'"
      ]
     },
     "execution_count": 6,
     "metadata": {},
     "output_type": "execute_result"
    }
   ],
   "source": [
    "getFileName('/mnt/data/Photos/2018/08-Astro/to_be_sorted/IMG_0992.CR2', removeExtention=True, removePath=False)"
   ]
  },
  {
   "cell_type": "code",
   "execution_count": 7,
   "metadata": {
    "ExecuteTime": {
     "end_time": "2018-08-04T20:04:15.129972Z",
     "start_time": "2018-08-04T20:04:15.122581Z"
    }
   },
   "outputs": [],
   "source": [
    "def uncompressRawFiles(rawFileList):\n",
    "    '''\n",
    "    Generate a pgm file from a raw file.\n",
    "    \n",
    "    Parameters:\n",
    "    rawFileList as a list of strings. this parameter is the list of some filenames of camera RAW files.\n",
    "    \n",
    "    return value:\n",
    "    a list of the generated files (with their path)\n",
    "    '''\n",
    "    generatedFiles = []\n",
    "    for file in rawFileList:\n",
    "        # Extract Raw data in a PGM file with dcraw\n",
    "        print('dcraw -d -4 ' + file)\n",
    "        os.system('dcraw -d -4 ' + file)\n",
    "        generatedFiles.append(getFileName(file, removeExtention=True, removePath=False) + '.pgm')\n",
    "\n",
    "    #print(generatedFiles)\n",
    "    return generatedFiles     "
   ]
  },
  {
   "cell_type": "code",
   "execution_count": 8,
   "metadata": {
    "ExecuteTime": {
     "end_time": "2018-08-04T20:04:15.138306Z",
     "start_time": "2018-08-04T20:04:15.133830Z"
    }
   },
   "outputs": [],
   "source": [
    "def correctImageOrientation(image):\n",
    "    if image.shape[0] < image.shape[1]:\n",
    "        return image.T\n",
    "    else:\n",
    "        return image"
   ]
  },
  {
   "cell_type": "code",
   "execution_count": 9,
   "metadata": {
    "ExecuteTime": {
     "end_time": "2018-08-04T20:04:15.152587Z",
     "start_time": "2018-08-04T20:04:15.139960Z"
    }
   },
   "outputs": [],
   "source": [
    "def getRAWdata(rawFileList):\n",
    "    '''\n",
    "    Get the image raw data from a list of pgm files\n",
    "    \n",
    "    Parameters:\n",
    "    rawFileList as a list of string. each element of the list is a string of the filname of a pgm file containing the raw data.\n",
    "    \n",
    "    Return Value:\n",
    "    an array of array containing all images RAW data. Each element is an image.\n",
    "    '''\n",
    "    fileList = rawFileList[:]\n",
    "    image = correctImageOrientation(cv2.imread(fileList.pop(0), flags=cv2.IMREAD_GRAYSCALE | cv2.IMREAD_IGNORE_ORIENTATION | cv2.IMREAD_ANYDEPTH))\n",
    "    stackList = [image]\n",
    "\n",
    "    for file in fileList:\n",
    "        image = correctImageOrientation(cv2.imread(file, flags=cv2.IMREAD_GRAYSCALE | cv2.IMREAD_IGNORE_ORIENTATION | cv2.IMREAD_ANYDEPTH))\n",
    "        stackList.append(image)\n",
    "    \n",
    "    stack = np.stack(stackList)\n",
    "    \n",
    "    return stack"
   ]
  },
  {
   "cell_type": "code",
   "execution_count": 10,
   "metadata": {
    "ExecuteTime": {
     "end_time": "2018-08-04T20:04:15.159542Z",
     "start_time": "2018-08-04T20:04:15.154169Z"
    }
   },
   "outputs": [],
   "source": [
    "def calculateMedian(RAWdataList):\n",
    "    '''\n",
    "    Calculate the median of a stack of RAW images\n",
    "    \n",
    "    Parameters:\n",
    "    RAWdataList as an array of array of all images.\n",
    "    \n",
    "    Return value:\n",
    "    The median of each pixel of the image stack\n",
    "    '''\n",
    "        \n",
    "    #offsetStack = np.stack(offsetStackList)\n",
    "    masterOffset = np.median(RAWdataList, axis=0)\n",
    "    \n",
    "    return masterOffset"
   ]
  },
  {
   "cell_type": "markdown",
   "metadata": {},
   "source": [
    "# Generating master offset"
   ]
  },
  {
   "cell_type": "markdown",
   "metadata": {},
   "source": [
    "The generation of the master offset is just a median of all offset image"
   ]
  },
  {
   "cell_type": "code",
   "execution_count": 11,
   "metadata": {
    "ExecuteTime": {
     "end_time": "2018-08-04T20:05:54.246295Z",
     "start_time": "2018-08-04T20:04:15.161170Z"
    }
   },
   "outputs": [
    {
     "name": "stdout",
     "output_type": "stream",
     "text": [
      "dcraw -d -4 /mnt/data/Photos/2018/08-Astro/to_be_sorted/IMG_0992.CR2\n",
      "dcraw -d -4 /mnt/data/Photos/2018/08-Astro/to_be_sorted/IMG_1010.CR2\n",
      "dcraw -d -4 /mnt/data/Photos/2018/08-Astro/to_be_sorted/IMG_1020.CR2\n",
      "dcraw -d -4 /mnt/data/Photos/2018/08-Astro/to_be_sorted/IMG_0991.CR2\n",
      "dcraw -d -4 /mnt/data/Photos/2018/08-Astro/to_be_sorted/IMG_1013.CR2\n",
      "dcraw -d -4 /mnt/data/Photos/2018/08-Astro/to_be_sorted/IMG_1005.CR2\n",
      "dcraw -d -4 /mnt/data/Photos/2018/08-Astro/to_be_sorted/IMG_0998.CR2\n",
      "dcraw -d -4 /mnt/data/Photos/2018/08-Astro/to_be_sorted/IMG_1037.CR2\n",
      "dcraw -d -4 /mnt/data/Photos/2018/08-Astro/to_be_sorted/IMG_1006.CR2\n",
      "dcraw -d -4 /mnt/data/Photos/2018/08-Astro/to_be_sorted/IMG_1028.CR2\n",
      "dcraw -d -4 /mnt/data/Photos/2018/08-Astro/to_be_sorted/IMG_1012.CR2\n",
      "dcraw -d -4 /mnt/data/Photos/2018/08-Astro/to_be_sorted/IMG_1014.CR2\n",
      "dcraw -d -4 /mnt/data/Photos/2018/08-Astro/to_be_sorted/IMG_1009.CR2\n",
      "dcraw -d -4 /mnt/data/Photos/2018/08-Astro/to_be_sorted/IMG_1003.CR2\n",
      "dcraw -d -4 /mnt/data/Photos/2018/08-Astro/to_be_sorted/IMG_1026.CR2\n",
      "dcraw -d -4 /mnt/data/Photos/2018/08-Astro/to_be_sorted/IMG_1024.CR2\n",
      "dcraw -d -4 /mnt/data/Photos/2018/08-Astro/to_be_sorted/IMG_1032.CR2\n",
      "dcraw -d -4 /mnt/data/Photos/2018/08-Astro/to_be_sorted/IMG_1021.CR2\n",
      "dcraw -d -4 /mnt/data/Photos/2018/08-Astro/to_be_sorted/IMG_1015.CR2\n",
      "dcraw -d -4 /mnt/data/Photos/2018/08-Astro/to_be_sorted/IMG_1034.CR2\n",
      "dcraw -d -4 /mnt/data/Photos/2018/08-Astro/to_be_sorted/IMG_1029.CR2\n",
      "dcraw -d -4 /mnt/data/Photos/2018/08-Astro/to_be_sorted/IMG_1008.CR2\n",
      "dcraw -d -4 /mnt/data/Photos/2018/08-Astro/to_be_sorted/IMG_1004.CR2\n",
      "dcraw -d -4 /mnt/data/Photos/2018/08-Astro/to_be_sorted/IMG_0990.CR2\n",
      "dcraw -d -4 /mnt/data/Photos/2018/08-Astro/to_be_sorted/IMG_1033.CR2\n",
      "dcraw -d -4 /mnt/data/Photos/2018/08-Astro/to_be_sorted/IMG_1001.CR2\n",
      "dcraw -d -4 /mnt/data/Photos/2018/08-Astro/to_be_sorted/IMG_0999.CR2\n",
      "dcraw -d -4 /mnt/data/Photos/2018/08-Astro/to_be_sorted/IMG_1039.CR2\n",
      "dcraw -d -4 /mnt/data/Photos/2018/08-Astro/to_be_sorted/IMG_0997.CR2\n",
      "dcraw -d -4 /mnt/data/Photos/2018/08-Astro/to_be_sorted/IMG_1007.CR2\n",
      "dcraw -d -4 /mnt/data/Photos/2018/08-Astro/to_be_sorted/IMG_1018.CR2\n",
      "dcraw -d -4 /mnt/data/Photos/2018/08-Astro/to_be_sorted/IMG_1019.CR2\n",
      "dcraw -d -4 /mnt/data/Photos/2018/08-Astro/to_be_sorted/IMG_1022.CR2\n",
      "dcraw -d -4 /mnt/data/Photos/2018/08-Astro/to_be_sorted/IMG_1011.CR2\n",
      "dcraw -d -4 /mnt/data/Photos/2018/08-Astro/to_be_sorted/IMG_1027.CR2\n",
      "dcraw -d -4 /mnt/data/Photos/2018/08-Astro/to_be_sorted/IMG_1002.CR2\n",
      "dcraw -d -4 /mnt/data/Photos/2018/08-Astro/to_be_sorted/IMG_1023.CR2\n",
      "dcraw -d -4 /mnt/data/Photos/2018/08-Astro/to_be_sorted/IMG_1036.CR2\n",
      "dcraw -d -4 /mnt/data/Photos/2018/08-Astro/to_be_sorted/IMG_1017.CR2\n",
      "dcraw -d -4 /mnt/data/Photos/2018/08-Astro/to_be_sorted/IMG_1025.CR2\n",
      "dcraw -d -4 /mnt/data/Photos/2018/08-Astro/to_be_sorted/IMG_1031.CR2\n",
      "dcraw -d -4 /mnt/data/Photos/2018/08-Astro/to_be_sorted/IMG_1038.CR2\n",
      "dcraw -d -4 /mnt/data/Photos/2018/08-Astro/to_be_sorted/IMG_0993.CR2\n",
      "dcraw -d -4 /mnt/data/Photos/2018/08-Astro/to_be_sorted/IMG_1000.CR2\n",
      "dcraw -d -4 /mnt/data/Photos/2018/08-Astro/to_be_sorted/IMG_0996.CR2\n",
      "dcraw -d -4 /mnt/data/Photos/2018/08-Astro/to_be_sorted/IMG_1016.CR2\n",
      "dcraw -d -4 /mnt/data/Photos/2018/08-Astro/to_be_sorted/IMG_0995.CR2\n",
      "dcraw -d -4 /mnt/data/Photos/2018/08-Astro/to_be_sorted/IMG_1030.CR2\n",
      "dcraw -d -4 /mnt/data/Photos/2018/08-Astro/to_be_sorted/IMG_1035.CR2\n",
      "dcraw -d -4 /mnt/data/Photos/2018/08-Astro/to_be_sorted/IMG_1040.CR2\n",
      "dcraw -d -4 /mnt/data/Photos/2018/08-Astro/to_be_sorted/IMG_0994.CR2\n"
     ]
    }
   ],
   "source": [
    "RAWoffsetFiles = uncompressRawFiles(offsetList)\n",
    "RAWoffsetData = getRAWdata(RAWoffsetFiles)\n",
    "masterOffset = calculateMedian(RAWoffsetData)"
   ]
  },
  {
   "cell_type": "code",
   "execution_count": 12,
   "metadata": {
    "ExecuteTime": {
     "end_time": "2018-08-04T20:05:54.278813Z",
     "start_time": "2018-08-04T20:05:54.258763Z"
    }
   },
   "outputs": [
    {
     "data": {
      "text/plain": [
       "array([[[160,  21,   0, ...,   0,   0,   0],\n",
       "        [  0, 150,  64, ...,  75,   0,  75],\n",
       "        [134,   0,   0, ...,   0, 225, 174],\n",
       "        ..., \n",
       "        [ 10,   0,  32, ...,   0,   0,   0],\n",
       "        [  0,  26, 375, ...,   0,  75, 160],\n",
       "        [  0,  82, 155, ...,   0,  45,   0]],\n",
       "\n",
       "       [[  0, 210,  85, ...,   0,   0,   0],\n",
       "        [  0,   0,   0, ...,   0,  69,   0],\n",
       "        [  0,   0,  80, ...,   0,  75,  96],\n",
       "        ..., \n",
       "        [  0,   0,   0, ..., 120,   0, 160],\n",
       "        [182, 135,   0, ...,  16, 112,  26],\n",
       "        [  0,   0,   0, ...,  80,   0, 214]],\n",
       "\n",
       "       [[ 96,   0,  10, ...,   0, 105,  16],\n",
       "        [174,   0,   0, ...,   0,   0,   0],\n",
       "        [  0,   0,  58, ...,   0, 187,   0],\n",
       "        ..., \n",
       "        [335,  26,   0, ...,   0, 257,   0],\n",
       "        [  0,  37,  75, ...,   0,   0,   0],\n",
       "        [241,  37,   0, ...,   0,  58,   0]],\n",
       "\n",
       "       ..., \n",
       "       [[  5, 187,  96, ...,  16, 150,   0],\n",
       "        [  0,  69, 308, ..., 174,  26, 120],\n",
       "        [ 64,   0,  32, ...,   0,  45,   0],\n",
       "        ..., \n",
       "        [227,   0,   0, ...,   0,  42,   0],\n",
       "        [214,   0, 128, ...,   0,   0, 171],\n",
       "        [134,   0, 107, ...,   0,   0, 134]],\n",
       "\n",
       "       [[415,  91,  40, ...,   0,   0,   0],\n",
       "        [  0,  75, 101, ..., 139,   0,  96],\n",
       "        [  0,   0,   0, ...,   0,   0,   0],\n",
       "        ..., \n",
       "        [  0, 120,   0, ...,   0, 210, 214],\n",
       "        [  0,  69,  93, ...,   0,  16,   0],\n",
       "        [  0, 217, 117, ...,   0, 150,  75]],\n",
       "\n",
       "       [[268,   0, 268, ...,   0,   0,   0],\n",
       "        [ 96, 232,   0, ...,   0,  97,  85],\n",
       "        [254,   0,   0, ...,   0,  91,  93],\n",
       "        ..., \n",
       "        [  0, 127,   5, ...,   0,  97, 182],\n",
       "        [214,   0,  93, ...,  80,  91,   0],\n",
       "        [112, 315,  42, ..., 101,  22,   0]]], dtype=uint16)"
      ]
     },
     "execution_count": 12,
     "metadata": {},
     "output_type": "execute_result"
    }
   ],
   "source": [
    "RAWoffsetData"
   ]
  },
  {
   "cell_type": "code",
   "execution_count": 13,
   "metadata": {
    "ExecuteTime": {
     "end_time": "2018-08-04T20:05:54.302244Z",
     "start_time": "2018-08-04T20:05:54.283484Z"
    }
   },
   "outputs": [
    {
     "name": "stdout",
     "output_type": "stream",
     "text": [
      "(5202, 3465)\n",
      "(5202, 3465)\n",
      "(5202, 3465)\n",
      "(5202, 3465)\n",
      "(5202, 3465)\n",
      "(5202, 3465)\n",
      "(5202, 3465)\n",
      "(5202, 3465)\n",
      "(5202, 3465)\n",
      "(5202, 3465)\n",
      "(5202, 3465)\n",
      "(5202, 3465)\n",
      "(5202, 3465)\n",
      "(5202, 3465)\n",
      "(5202, 3465)\n",
      "(5202, 3465)\n",
      "(5202, 3465)\n",
      "(5202, 3465)\n",
      "(5202, 3465)\n",
      "(5202, 3465)\n",
      "(5202, 3465)\n",
      "(5202, 3465)\n",
      "(5202, 3465)\n",
      "(5202, 3465)\n",
      "(5202, 3465)\n",
      "(5202, 3465)\n",
      "(5202, 3465)\n",
      "(5202, 3465)\n",
      "(5202, 3465)\n",
      "(5202, 3465)\n",
      "(5202, 3465)\n",
      "(5202, 3465)\n",
      "(5202, 3465)\n",
      "(5202, 3465)\n",
      "(5202, 3465)\n",
      "(5202, 3465)\n",
      "(5202, 3465)\n",
      "(5202, 3465)\n",
      "(5202, 3465)\n",
      "(5202, 3465)\n",
      "(5202, 3465)\n",
      "(5202, 3465)\n",
      "(5202, 3465)\n",
      "(5202, 3465)\n",
      "(5202, 3465)\n",
      "(5202, 3465)\n",
      "(5202, 3465)\n",
      "(5202, 3465)\n",
      "(5202, 3465)\n",
      "(5202, 3465)\n",
      "(5202, 3465)\n"
     ]
    }
   ],
   "source": [
    "for i in range(len(RAWoffsetData)):\n",
    "    print(RAWoffsetData[i].shape)"
   ]
  },
  {
   "cell_type": "code",
   "execution_count": 14,
   "metadata": {
    "ExecuteTime": {
     "end_time": "2018-08-04T20:05:54.309641Z",
     "start_time": "2018-08-04T20:05:54.304555Z"
    }
   },
   "outputs": [
    {
     "data": {
      "text/plain": [
       "array([[  10.,  105.,   53., ...,    0.,   67.,    0.],\n",
       "       [   0.,   37.,    0., ...,   16.,   21.,   42.],\n",
       "       [   0.,   75.,    0., ...,    0.,  105.,   85.],\n",
       "       ..., \n",
       "       [   0.,    0.,    0., ...,    0.,   97.,    0.],\n",
       "       [   0.,   67.,    0., ...,   16.,    0.,   37.],\n",
       "       [ 112.,   42.,   67., ...,    0.,    5.,    0.]])"
      ]
     },
     "execution_count": 14,
     "metadata": {},
     "output_type": "execute_result"
    }
   ],
   "source": [
    "masterOffset"
   ]
  },
  {
   "cell_type": "code",
   "execution_count": 15,
   "metadata": {
    "ExecuteTime": {
     "end_time": "2018-08-04T20:05:54.369782Z",
     "start_time": "2018-08-04T20:05:54.311888Z"
    }
   },
   "outputs": [
    {
     "data": {
      "text/plain": [
       "True"
      ]
     },
     "execution_count": 15,
     "metadata": {},
     "output_type": "execute_result"
    }
   ],
   "source": [
    "cv2.imwrite(\"masterOffset.pgm\", masterOffset)"
   ]
  },
  {
   "cell_type": "markdown",
   "metadata": {},
   "source": [
    "# Generating master Dark"
   ]
  },
  {
   "cell_type": "code",
   "execution_count": 16,
   "metadata": {
    "ExecuteTime": {
     "end_time": "2018-08-04T20:06:31.897874Z",
     "start_time": "2018-08-04T20:05:54.371265Z"
    }
   },
   "outputs": [
    {
     "name": "stdout",
     "output_type": "stream",
     "text": [
      "dcraw -d -4 /mnt/data/Photos/2018/08-Astro/to_be_sorted/IMG_0884.CR2\n",
      "dcraw -d -4 /mnt/data/Photos/2018/08-Astro/to_be_sorted/IMG_0888.CR2\n",
      "dcraw -d -4 /mnt/data/Photos/2018/08-Astro/to_be_sorted/IMG_0875.CR2\n",
      "dcraw -d -4 /mnt/data/Photos/2018/08-Astro/to_be_sorted/IMG_0876.CR2\n",
      "dcraw -d -4 /mnt/data/Photos/2018/08-Astro/to_be_sorted/IMG_0881.CR2\n",
      "dcraw -d -4 /mnt/data/Photos/2018/08-Astro/to_be_sorted/IMG_0880.CR2\n",
      "dcraw -d -4 /mnt/data/Photos/2018/08-Astro/to_be_sorted/IMG_0878.CR2\n",
      "dcraw -d -4 /mnt/data/Photos/2018/08-Astro/to_be_sorted/IMG_0882.CR2\n",
      "dcraw -d -4 /mnt/data/Photos/2018/08-Astro/to_be_sorted/IMG_0874.CR2\n",
      "dcraw -d -4 /mnt/data/Photos/2018/08-Astro/to_be_sorted/IMG_0885.CR2\n",
      "dcraw -d -4 /mnt/data/Photos/2018/08-Astro/to_be_sorted/IMG_0889.CR2\n",
      "dcraw -d -4 /mnt/data/Photos/2018/08-Astro/to_be_sorted/IMG_0879.CR2\n",
      "dcraw -d -4 /mnt/data/Photos/2018/08-Astro/to_be_sorted/IMG_0883.CR2\n",
      "dcraw -d -4 /mnt/data/Photos/2018/08-Astro/to_be_sorted/IMG_0890.CR2\n",
      "dcraw -d -4 /mnt/data/Photos/2018/08-Astro/to_be_sorted/IMG_0886.CR2\n",
      "dcraw -d -4 /mnt/data/Photos/2018/08-Astro/to_be_sorted/IMG_0877.CR2\n",
      "dcraw -d -4 /mnt/data/Photos/2018/08-Astro/to_be_sorted/IMG_0887.CR2\n"
     ]
    }
   ],
   "source": [
    "RAWdarkFiles = uncompressRawFiles(darkList)\n",
    "RAWdarkData = getRAWdata(RAWdarkFiles)\n",
    "masterDark = calculateMedian(RAWdarkData)"
   ]
  },
  {
   "cell_type": "code",
   "execution_count": 17,
   "metadata": {
    "ExecuteTime": {
     "end_time": "2018-08-04T20:06:31.905081Z",
     "start_time": "2018-08-04T20:06:31.899442Z"
    }
   },
   "outputs": [
    {
     "data": {
      "text/plain": [
       "array([[  831.,   209.,  1663., ...,     0.,     0.,   590.],\n",
       "       [    0.,     0.,     0., ...,     0.,    52.,    53.],\n",
       "       [    0.,     0.,   308., ...,     0.,     0.,     0.],\n",
       "       ..., \n",
       "       [   69.,    82.,     0., ...,     0.,   172.,    10.],\n",
       "       [    0.,     0.,     0., ...,     0.,     0.,     0.],\n",
       "       [    0.,    75.,  1094., ...,    48.,     0.,    53.]])"
      ]
     },
     "execution_count": 17,
     "metadata": {},
     "output_type": "execute_result"
    }
   ],
   "source": [
    "masterDark"
   ]
  },
  {
   "cell_type": "code",
   "execution_count": 18,
   "metadata": {
    "ExecuteTime": {
     "end_time": "2018-08-04T20:06:32.157239Z",
     "start_time": "2018-08-04T20:06:31.906755Z"
    }
   },
   "outputs": [
    {
     "data": {
      "text/plain": [
       "True"
      ]
     },
     "execution_count": 18,
     "metadata": {},
     "output_type": "execute_result"
    }
   ],
   "source": [
    "cv2.imwrite(\"masterDark.pgm\", masterDark)"
   ]
  },
  {
   "cell_type": "markdown",
   "metadata": {},
   "source": [
    "# Generating master Flat"
   ]
  },
  {
   "cell_type": "code",
   "execution_count": 19,
   "metadata": {
    "ExecuteTime": {
     "end_time": "2018-08-04T20:07:55.027917Z",
     "start_time": "2018-08-04T20:06:32.159133Z"
    }
   },
   "outputs": [
    {
     "name": "stdout",
     "output_type": "stream",
     "text": [
      "dcraw -d -4 /mnt/data/Photos/2018/08-Astro/to_be_sorted/IMG_0741.CR2\n",
      "dcraw -d -4 /mnt/data/Photos/2018/08-Astro/to_be_sorted/IMG_0730.CR2\n",
      "dcraw -d -4 /mnt/data/Photos/2018/08-Astro/to_be_sorted/IMG_0745.CR2\n",
      "dcraw -d -4 /mnt/data/Photos/2018/08-Astro/to_be_sorted/IMG_0733.CR2\n",
      "dcraw -d -4 /mnt/data/Photos/2018/08-Astro/to_be_sorted/IMG_0736.CR2\n",
      "dcraw -d -4 /mnt/data/Photos/2018/08-Astro/to_be_sorted/IMG_0738.CR2\n",
      "dcraw -d -4 /mnt/data/Photos/2018/08-Astro/to_be_sorted/IMG_0739.CR2\n",
      "dcraw -d -4 /mnt/data/Photos/2018/08-Astro/to_be_sorted/IMG_0737.CR2\n",
      "dcraw -d -4 /mnt/data/Photos/2018/08-Astro/to_be_sorted/IMG_0746.CR2\n",
      "dcraw -d -4 /mnt/data/Photos/2018/08-Astro/to_be_sorted/IMG_0732.CR2\n",
      "dcraw -d -4 /mnt/data/Photos/2018/08-Astro/to_be_sorted/IMG_0735.CR2\n",
      "dcraw -d -4 /mnt/data/Photos/2018/08-Astro/to_be_sorted/IMG_0748.CR2\n",
      "dcraw -d -4 /mnt/data/Photos/2018/08-Astro/to_be_sorted/IMG_0731.CR2\n",
      "dcraw -d -4 /mnt/data/Photos/2018/08-Astro/to_be_sorted/IMG_0734.CR2\n",
      "dcraw -d -4 /mnt/data/Photos/2018/08-Astro/to_be_sorted/IMG_0743.CR2\n",
      "dcraw -d -4 /mnt/data/Photos/2018/08-Astro/to_be_sorted/IMG_0749.CR2\n",
      "dcraw -d -4 /mnt/data/Photos/2018/08-Astro/to_be_sorted/IMG_0742.CR2\n",
      "dcraw -d -4 /mnt/data/Photos/2018/08-Astro/to_be_sorted/IMG_0744.CR2\n",
      "dcraw -d -4 /mnt/data/Photos/2018/08-Astro/to_be_sorted/IMG_0740.CR2\n",
      "dcraw -d -4 /mnt/data/Photos/2018/08-Astro/to_be_sorted/IMG_0747.CR2\n"
     ]
    }
   ],
   "source": [
    "RAWflatFiles = uncompressRawFiles(flatList)\n",
    "RAWflatData = getRAWdata(RAWflatFiles)\n",
    "RAWflatData = RAWflatData.astype(np.float64, copy=False)\n",
    "RAWflatData -= masterOffset\n",
    "masterFlat = calculateMedian(RAWflatData)\n",
    "meanFlat = np.mean(masterFlat)"
   ]
  },
  {
   "cell_type": "code",
   "execution_count": 20,
   "metadata": {
    "ExecuteTime": {
     "end_time": "2018-08-04T20:07:55.218344Z",
     "start_time": "2018-08-04T20:07:55.115077Z"
    }
   },
   "outputs": [
    {
     "data": {
      "text/plain": [
       "array([[ 21875. ,  14503. ,  20982.5, ...,  25216. ,  17814.5,  25605.5],\n",
       "       [ 14461. ,  21687. ,  14318.5, ...,  17780.5,  25972. ,  17068.5],\n",
       "       [ 20384. ,  14563. ,  19238.5, ...,  24143.5,  17314. ,  25029.5],\n",
       "       ..., \n",
       "       [ 15867. ,  23187. ,  15213.5, ...,  19811.5,  27965.5,  19407.5],\n",
       "       [ 21342.5,  15853.5,  22669.5, ...,  29957.5,  20932.5,  31518. ],\n",
       "       [ 15444.5,  23118. ,  15706.5, ...,  20538.5,  29143.5,  19932.5]])"
      ]
     },
     "execution_count": 20,
     "metadata": {},
     "output_type": "execute_result"
    }
   ],
   "source": [
    "masterFlat"
   ]
  },
  {
   "cell_type": "code",
   "execution_count": 21,
   "metadata": {
    "ExecuteTime": {
     "end_time": "2018-08-04T20:07:55.227020Z",
     "start_time": "2018-08-04T20:07:55.221184Z"
    }
   },
   "outputs": [
    {
     "data": {
      "text/plain": [
       "21864.837575319292"
      ]
     },
     "execution_count": 21,
     "metadata": {},
     "output_type": "execute_result"
    }
   ],
   "source": [
    "meanFlat"
   ]
  },
  {
   "cell_type": "code",
   "execution_count": 22,
   "metadata": {
    "ExecuteTime": {
     "end_time": "2018-08-04T20:07:55.547699Z",
     "start_time": "2018-08-04T20:07:55.229889Z"
    }
   },
   "outputs": [
    {
     "data": {
      "text/plain": [
       "True"
      ]
     },
     "execution_count": 22,
     "metadata": {},
     "output_type": "execute_result"
    }
   ],
   "source": [
    "cv2.imwrite(\"masterFlat.pgm\", masterFlat)"
   ]
  },
  {
   "cell_type": "markdown",
   "metadata": {},
   "source": [
    "# Calculate images"
   ]
  },
  {
   "cell_type": "code",
   "execution_count": 23,
   "metadata": {
    "ExecuteTime": {
     "end_time": "2018-08-04T20:12:32.416101Z",
     "start_time": "2018-08-04T20:07:55.552880Z"
    }
   },
   "outputs": [
    {
     "name": "stdout",
     "output_type": "stream",
     "text": [
      "dcraw -d -4 /mnt/data/Photos/2018/08-Astro/to_be_sorted/IMG_0856.CR2\n",
      "/mnt/data/Photos/2018/08-Astro/to_be_sorted/IMG_0856.png\n",
      "dcraw -d -4 /mnt/data/Photos/2018/08-Astro/to_be_sorted/IMG_0855.CR2\n",
      "/mnt/data/Photos/2018/08-Astro/to_be_sorted/IMG_0855.png\n",
      "dcraw -d -4 /mnt/data/Photos/2018/08-Astro/to_be_sorted/IMG_0854.CR2\n",
      "/mnt/data/Photos/2018/08-Astro/to_be_sorted/IMG_0854.png\n",
      "dcraw -d -4 /mnt/data/Photos/2018/08-Astro/to_be_sorted/IMG_0853.CR2\n",
      "/mnt/data/Photos/2018/08-Astro/to_be_sorted/IMG_0853.png\n",
      "dcraw -d -4 /mnt/data/Photos/2018/08-Astro/to_be_sorted/IMG_0858.CR2\n",
      "/mnt/data/Photos/2018/08-Astro/to_be_sorted/IMG_0858.png\n",
      "dcraw -d -4 /mnt/data/Photos/2018/08-Astro/to_be_sorted/IMG_0850.CR2\n",
      "/mnt/data/Photos/2018/08-Astro/to_be_sorted/IMG_0850.png\n",
      "dcraw -d -4 /mnt/data/Photos/2018/08-Astro/to_be_sorted/IMG_0849.CR2\n",
      "/mnt/data/Photos/2018/08-Astro/to_be_sorted/IMG_0849.png\n",
      "dcraw -d -4 /mnt/data/Photos/2018/08-Astro/to_be_sorted/IMG_0859.CR2\n",
      "/mnt/data/Photos/2018/08-Astro/to_be_sorted/IMG_0859.png\n",
      "dcraw -d -4 /mnt/data/Photos/2018/08-Astro/to_be_sorted/IMG_0851.CR2\n",
      "/mnt/data/Photos/2018/08-Astro/to_be_sorted/IMG_0851.png\n",
      "dcraw -d -4 /mnt/data/Photos/2018/08-Astro/to_be_sorted/IMG_0860.CR2\n",
      "/mnt/data/Photos/2018/08-Astro/to_be_sorted/IMG_0860.png\n",
      "dcraw -d -4 /mnt/data/Photos/2018/08-Astro/to_be_sorted/IMG_0863.CR2\n",
      "/mnt/data/Photos/2018/08-Astro/to_be_sorted/IMG_0863.png\n",
      "dcraw -d -4 /mnt/data/Photos/2018/08-Astro/to_be_sorted/IMG_0844.CR2\n",
      "/mnt/data/Photos/2018/08-Astro/to_be_sorted/IMG_0844.png\n",
      "dcraw -d -4 /mnt/data/Photos/2018/08-Astro/to_be_sorted/IMG_0852.CR2\n",
      "/mnt/data/Photos/2018/08-Astro/to_be_sorted/IMG_0852.png\n",
      "dcraw -d -4 /mnt/data/Photos/2018/08-Astro/to_be_sorted/IMG_0862.CR2\n",
      "/mnt/data/Photos/2018/08-Astro/to_be_sorted/IMG_0862.png\n",
      "dcraw -d -4 /mnt/data/Photos/2018/08-Astro/to_be_sorted/IMG_0868.CR2\n",
      "/mnt/data/Photos/2018/08-Astro/to_be_sorted/IMG_0868.png\n",
      "dcraw -d -4 /mnt/data/Photos/2018/08-Astro/to_be_sorted/IMG_0872.CR2\n",
      "/mnt/data/Photos/2018/08-Astro/to_be_sorted/IMG_0872.png\n",
      "dcraw -d -4 /mnt/data/Photos/2018/08-Astro/to_be_sorted/IMG_0871.CR2\n",
      "/mnt/data/Photos/2018/08-Astro/to_be_sorted/IMG_0871.png\n",
      "dcraw -d -4 /mnt/data/Photos/2018/08-Astro/to_be_sorted/IMG_0870.CR2\n",
      "/mnt/data/Photos/2018/08-Astro/to_be_sorted/IMG_0870.png\n",
      "dcraw -d -4 /mnt/data/Photos/2018/08-Astro/to_be_sorted/IMG_0864.CR2\n",
      "/mnt/data/Photos/2018/08-Astro/to_be_sorted/IMG_0864.png\n",
      "dcraw -d -4 /mnt/data/Photos/2018/08-Astro/to_be_sorted/IMG_0873.CR2\n",
      "/mnt/data/Photos/2018/08-Astro/to_be_sorted/IMG_0873.png\n",
      "dcraw -d -4 /mnt/data/Photos/2018/08-Astro/to_be_sorted/IMG_0865.CR2\n",
      "/mnt/data/Photos/2018/08-Astro/to_be_sorted/IMG_0865.png\n",
      "dcraw -d -4 /mnt/data/Photos/2018/08-Astro/to_be_sorted/IMG_0848.CR2\n",
      "/mnt/data/Photos/2018/08-Astro/to_be_sorted/IMG_0848.png\n",
      "dcraw -d -4 /mnt/data/Photos/2018/08-Astro/to_be_sorted/IMG_0847.CR2\n",
      "/mnt/data/Photos/2018/08-Astro/to_be_sorted/IMG_0847.png\n",
      "dcraw -d -4 /mnt/data/Photos/2018/08-Astro/to_be_sorted/IMG_0857.CR2\n",
      "/mnt/data/Photos/2018/08-Astro/to_be_sorted/IMG_0857.png\n",
      "dcraw -d -4 /mnt/data/Photos/2018/08-Astro/to_be_sorted/IMG_0845.CR2\n",
      "/mnt/data/Photos/2018/08-Astro/to_be_sorted/IMG_0845.png\n",
      "dcraw -d -4 /mnt/data/Photos/2018/08-Astro/to_be_sorted/IMG_0867.CR2\n",
      "/mnt/data/Photos/2018/08-Astro/to_be_sorted/IMG_0867.png\n",
      "dcraw -d -4 /mnt/data/Photos/2018/08-Astro/to_be_sorted/IMG_0869.CR2\n",
      "/mnt/data/Photos/2018/08-Astro/to_be_sorted/IMG_0869.png\n",
      "dcraw -d -4 /mnt/data/Photos/2018/08-Astro/to_be_sorted/IMG_0846.CR2\n",
      "/mnt/data/Photos/2018/08-Astro/to_be_sorted/IMG_0846.png\n",
      "dcraw -d -4 /mnt/data/Photos/2018/08-Astro/to_be_sorted/IMG_0861.CR2\n",
      "/mnt/data/Photos/2018/08-Astro/to_be_sorted/IMG_0861.png\n",
      "dcraw -d -4 /mnt/data/Photos/2018/08-Astro/to_be_sorted/IMG_0843.CR2\n",
      "/mnt/data/Photos/2018/08-Astro/to_be_sorted/IMG_0843.png\n",
      "dcraw -d -4 /mnt/data/Photos/2018/08-Astro/to_be_sorted/IMG_0866.CR2\n",
      "/mnt/data/Photos/2018/08-Astro/to_be_sorted/IMG_0866.png\n"
     ]
    }
   ],
   "source": [
    "# image= (Brute - black)/(PLU - offset)*meanFlat\n",
    "#RAWimageFiles = uncompressRawFiles(imageList)\n",
    "#RAWimageData = getRAWdata(RAWimageFiles)\n",
    "#RAWimageData = RAWimageData.astype(np.float64, copy=False)\n",
    "#images = ((RAWimageData - masterDark)/(masterFlat - masterOffser))*meanFlat\n",
    "\n",
    "for i in imageList:\n",
    "    RAWimageFiles = uncompressRawFiles([i])\n",
    "    RAWimageData = getRAWdata(RAWimageFiles)\n",
    "    #RAWimageData = RAWimageData.astype(np.float64, copy=False)\n",
    "    image = ((RAWimageData - masterDark)/(masterFlat - masterOffset))*meanFlat\n",
    "    #image = (RAWimageData - masterDark)\n",
    "    \n",
    "    index = imageList.index(i)\n",
    "    # Debayreizing the RAW image\n",
    "    image = image/image.max()*65535\n",
    "    image = image.astype(np.uint16, copy=False)\n",
    "    RGB_image = cv2.cvtColor(image[0], cv2.COLOR_BayerBG2RGB)\n",
    "    # Gamma correction\n",
    "    bitDepth = 2**16\n",
    "    RGB_image = np.power(RGB_image/bitDepth, 1/2.1)*bitDepth\n",
    "    RGB_image = RGB_image/RGB_image.max()*65535\n",
    "    RGB_image = RGB_image.astype(np.uint16, copy=False)\n",
    "    #RGB_image = cv2.cvtColor(RGB_image, cv2.COLOR_BGR2RGB)\n",
    "    tgtFileName = getFileName(i, removeExtention=True, removePath=False) + '.png'\n",
    "    print(tgtFileName)\n",
    "    cv2.imwrite(tgtFileName, RGB_image)"
   ]
  },
  {
   "cell_type": "code",
   "execution_count": 24,
   "metadata": {
    "ExecuteTime": {
     "end_time": "2018-08-04T20:12:34.720415Z",
     "start_time": "2018-08-04T20:12:32.418353Z"
    }
   },
   "outputs": [
    {
     "name": "stdout",
     "output_type": "stream",
     "text": [
      "dcraw -d -4 /mnt/data/Photos/2018/08-Astro/to_be_sorted/IMG_0856.CR2\n"
     ]
    }
   ],
   "source": [
    "RAWimageFiles = uncompressRawFiles(['/mnt/data/Photos/2018/08-Astro/to_be_sorted/IMG_0856.CR2'])\n",
    "RAWimageData = getRAWdata(RAWimageFiles)"
   ]
  },
  {
   "cell_type": "code",
   "execution_count": 25,
   "metadata": {
    "ExecuteTime": {
     "end_time": "2018-08-04T20:12:35.250067Z",
     "start_time": "2018-08-04T20:12:34.722481Z"
    }
   },
   "outputs": [],
   "source": [
    "image = ((RAWimageData - masterDark)/(masterFlat - masterOffset))*meanFlat"
   ]
  },
  {
   "cell_type": "code",
   "execution_count": 26,
   "metadata": {
    "ExecuteTime": {
     "end_time": "2018-08-04T20:12:35.264892Z",
     "start_time": "2018-08-04T20:12:35.253665Z"
    }
   },
   "outputs": [
    {
     "data": {
      "text/plain": [
       "array([[[ 12433.90763373,   5603.64291241,   7440.2815744 , ...,\n",
       "           4873.11180097,   2953.09286762,   4902.3074152 ],\n",
       "        [  5741.01295024,   3143.89096406,   4889.56314671, ...,\n",
       "           3696.14158792,   2489.71504123,   4477.88380613],\n",
       "        [ 10042.12173176,   5641.27297464,   7927.18985825, ...,\n",
       "           4822.42674379,   3687.12642475,   5254.85382606],\n",
       "        ..., \n",
       "        [  2047.71844942,   1503.10739186,   3337.17769415, ...,\n",
       "           2036.22266494,   1127.4295924 ,   3154.53021826],\n",
       "        [  4795.56306384,   2102.48145183,   2988.03532536, ...,\n",
       "           5132.21042631,   2510.0300821 ,   4015.14011699],\n",
       "        [  3326.96338257,   1823.96482633,   3464.37338225, ...,\n",
       "           3729.21713009,   1415.95993289,   3837.11033932]]])"
      ]
     },
     "execution_count": 26,
     "metadata": {},
     "output_type": "execute_result"
    }
   ],
   "source": [
    "image"
   ]
  },
  {
   "cell_type": "code",
   "execution_count": 27,
   "metadata": {
    "ExecuteTime": {
     "end_time": "2018-08-04T20:12:35.347355Z",
     "start_time": "2018-08-04T20:12:35.267326Z"
    }
   },
   "outputs": [],
   "source": [
    "image = image / image.max()"
   ]
  },
  {
   "cell_type": "code",
   "execution_count": 28,
   "metadata": {
    "ExecuteTime": {
     "end_time": "2018-08-04T20:12:35.388200Z",
     "start_time": "2018-08-04T20:12:35.349310Z"
    }
   },
   "outputs": [],
   "source": [
    "image = image.astype(np.uint16, copy=False)"
   ]
  },
  {
   "cell_type": "code",
   "execution_count": 29,
   "metadata": {
    "ExecuteTime": {
     "end_time": "2018-08-04T20:12:35.399185Z",
     "start_time": "2018-08-04T20:12:35.390260Z"
    }
   },
   "outputs": [
    {
     "data": {
      "text/plain": [
       "array([[0, 0, 0, ..., 0, 0, 0],\n",
       "       [0, 0, 0, ..., 0, 0, 0],\n",
       "       [0, 0, 0, ..., 0, 0, 0],\n",
       "       ..., \n",
       "       [0, 0, 0, ..., 0, 0, 0],\n",
       "       [0, 0, 0, ..., 0, 0, 0],\n",
       "       [0, 0, 0, ..., 0, 0, 0]], dtype=uint16)"
      ]
     },
     "execution_count": 29,
     "metadata": {},
     "output_type": "execute_result"
    }
   ],
   "source": [
    "image[0]"
   ]
  },
  {
   "cell_type": "code",
   "execution_count": 30,
   "metadata": {
    "ExecuteTime": {
     "end_time": "2018-08-04T20:12:35.445385Z",
     "start_time": "2018-08-04T20:12:35.401607Z"
    }
   },
   "outputs": [],
   "source": [
    "RGB_image = cv2.cvtColor(image[0], cv2.COLOR_BayerBG2RGB)"
   ]
  },
  {
   "cell_type": "code",
   "execution_count": 31,
   "metadata": {
    "ExecuteTime": {
     "end_time": "2018-08-04T20:12:36.705217Z",
     "start_time": "2018-08-04T20:12:35.447325Z"
    }
   },
   "outputs": [],
   "source": [
    "RGB_image = np.power(RGB_image/bitDepth, 1/2.1)*bitDepth"
   ]
  },
  {
   "cell_type": "code",
   "execution_count": 32,
   "metadata": {
    "ExecuteTime": {
     "end_time": "2018-08-04T20:12:36.718183Z",
     "start_time": "2018-08-04T20:12:36.707279Z"
    }
   },
   "outputs": [
    {
     "data": {
      "text/plain": [
       "array([[[ 0.,  0.,  0.],\n",
       "        [ 0.,  0.,  0.],\n",
       "        [ 0.,  0.,  0.],\n",
       "        ..., \n",
       "        [ 0.,  0.,  0.],\n",
       "        [ 0.,  0.,  0.],\n",
       "        [ 0.,  0.,  0.]],\n",
       "\n",
       "       [[ 0.,  0.,  0.],\n",
       "        [ 0.,  0.,  0.],\n",
       "        [ 0.,  0.,  0.],\n",
       "        ..., \n",
       "        [ 0.,  0.,  0.],\n",
       "        [ 0.,  0.,  0.],\n",
       "        [ 0.,  0.,  0.]],\n",
       "\n",
       "       [[ 0.,  0.,  0.],\n",
       "        [ 0.,  0.,  0.],\n",
       "        [ 0.,  0.,  0.],\n",
       "        ..., \n",
       "        [ 0.,  0.,  0.],\n",
       "        [ 0.,  0.,  0.],\n",
       "        [ 0.,  0.,  0.]],\n",
       "\n",
       "       ..., \n",
       "       [[ 0.,  0.,  0.],\n",
       "        [ 0.,  0.,  0.],\n",
       "        [ 0.,  0.,  0.],\n",
       "        ..., \n",
       "        [ 0.,  0.,  0.],\n",
       "        [ 0.,  0.,  0.],\n",
       "        [ 0.,  0.,  0.]],\n",
       "\n",
       "       [[ 0.,  0.,  0.],\n",
       "        [ 0.,  0.,  0.],\n",
       "        [ 0.,  0.,  0.],\n",
       "        ..., \n",
       "        [ 0.,  0.,  0.],\n",
       "        [ 0.,  0.,  0.],\n",
       "        [ 0.,  0.,  0.]],\n",
       "\n",
       "       [[ 0.,  0.,  0.],\n",
       "        [ 0.,  0.,  0.],\n",
       "        [ 0.,  0.,  0.],\n",
       "        ..., \n",
       "        [ 0.,  0.,  0.],\n",
       "        [ 0.,  0.,  0.],\n",
       "        [ 0.,  0.,  0.]]])"
      ]
     },
     "execution_count": 32,
     "metadata": {},
     "output_type": "execute_result"
    }
   ],
   "source": [
    "RGB_image"
   ]
  },
  {
   "cell_type": "code",
   "execution_count": 33,
   "metadata": {
    "ExecuteTime": {
     "end_time": "2018-08-04T20:12:37.232857Z",
     "start_time": "2018-08-04T20:12:36.720253Z"
    }
   },
   "outputs": [
    {
     "data": {
      "text/plain": [
       "True"
      ]
     },
     "execution_count": 33,
     "metadata": {},
     "output_type": "execute_result"
    }
   ],
   "source": [
    "RGB_image2 = RGB_image.astype(np.uint16, copy=False)\n",
    "cv2.imwrite('test.png', RGB_image2)"
   ]
  },
  {
   "cell_type": "code",
   "execution_count": null,
   "metadata": {
    "ExecuteTime": {
     "end_time": "2018-08-04T14:13:17.798027Z",
     "start_time": "2018-08-04T14:13:17.753362Z"
    }
   },
   "outputs": [],
   "source": []
  },
  {
   "cell_type": "code",
   "execution_count": 34,
   "metadata": {
    "ExecuteTime": {
     "end_time": "2018-08-04T20:12:38.527793Z",
     "start_time": "2018-08-04T20:12:37.234795Z"
    }
   },
   "outputs": [
    {
     "data": {
      "text/plain": [
       "array([[[84, 65, 50],\n",
       "        [84, 65, 50],\n",
       "        [76, 62, 47],\n",
       "        ..., \n",
       "        [61, 54, 45],\n",
       "        [62, 54, 44],\n",
       "        [62, 54, 44]],\n",
       "\n",
       "       [[84, 65, 50],\n",
       "        [84, 65, 50],\n",
       "        [76, 62, 47],\n",
       "        ..., \n",
       "        [61, 54, 45],\n",
       "        [62, 54, 44],\n",
       "        [62, 54, 44]],\n",
       "\n",
       "       [[82, 66, 45],\n",
       "        [82, 66, 45],\n",
       "        [78, 65, 42],\n",
       "        ..., \n",
       "        [61, 54, 43],\n",
       "        [62, 54, 44],\n",
       "        [62, 54, 44]],\n",
       "\n",
       "       ..., \n",
       "       [[57, 44, 35],\n",
       "        [57, 44, 35],\n",
       "        [56, 51, 36],\n",
       "        ..., \n",
       "        [60, 40, 36],\n",
       "        [59, 45, 30],\n",
       "        [59, 45, 30]],\n",
       "\n",
       "       [[55, 41, 37],\n",
       "        [55, 41, 37],\n",
       "        [49, 48, 35],\n",
       "        ..., \n",
       "        [63, 47, 35],\n",
       "        [60, 45, 32],\n",
       "        [60, 45, 32]],\n",
       "\n",
       "       [[55, 41, 37],\n",
       "        [55, 41, 37],\n",
       "        [49, 48, 35],\n",
       "        ..., \n",
       "        [63, 47, 35],\n",
       "        [60, 45, 32],\n",
       "        [60, 45, 32]]], dtype=uint8)"
      ]
     },
     "execution_count": 34,
     "metadata": {},
     "output_type": "execute_result"
    }
   ],
   "source": [
    "cv2.imread('/mnt/data/Photos/2018/08-Astro/to_be_sorted/IMG_0856.png')"
   ]
  },
  {
   "cell_type": "markdown",
   "metadata": {},
   "source": [
    "# Add aligned images"
   ]
  },
  {
   "cell_type": "markdown",
   "metadata": {},
   "source": [
    "Hugin is used to align the generated images:\n",
    "\n",
    "    align_image_stack -v --gpu -a Aligned_ *.png"
   ]
  },
  {
   "cell_type": "code",
   "execution_count": 40,
   "metadata": {
    "ExecuteTime": {
     "end_time": "2018-08-04T20:19:10.770851Z",
     "start_time": "2018-08-04T20:18:08.337503Z"
    }
   },
   "outputs": [
    {
     "name": "stdout",
     "output_type": "stream",
     "text": [
      "Adding /mnt/data/Photos/2018/08-Astro/to_be_sorted/Aligned_0008.tif\n",
      "Adding /mnt/data/Photos/2018/08-Astro/to_be_sorted/Aligned_0026.tif\n",
      "Adding /mnt/data/Photos/2018/08-Astro/to_be_sorted/Aligned_0006.tif\n",
      "Adding /mnt/data/Photos/2018/08-Astro/to_be_sorted/Aligned_0017.tif\n",
      "Adding /mnt/data/Photos/2018/08-Astro/to_be_sorted/Aligned_0028.tif\n",
      "Adding /mnt/data/Photos/2018/08-Astro/to_be_sorted/Aligned_0018.tif\n",
      "Adding /mnt/data/Photos/2018/08-Astro/to_be_sorted/Aligned_0016.tif\n",
      "Adding /mnt/data/Photos/2018/08-Astro/to_be_sorted/Aligned_0015.tif\n",
      "Adding /mnt/data/Photos/2018/08-Astro/to_be_sorted/Aligned_0024.tif\n",
      "Adding /mnt/data/Photos/2018/08-Astro/to_be_sorted/Aligned_0007.tif\n",
      "Adding /mnt/data/Photos/2018/08-Astro/to_be_sorted/Aligned_0009.tif\n",
      "Adding /mnt/data/Photos/2018/08-Astro/to_be_sorted/Aligned_0021.tif\n",
      "Adding /mnt/data/Photos/2018/08-Astro/to_be_sorted/Aligned_0003.tif\n",
      "Adding /mnt/data/Photos/2018/08-Astro/to_be_sorted/Aligned_0027.tif\n",
      "Adding /mnt/data/Photos/2018/08-Astro/to_be_sorted/Aligned_0011.tif\n",
      "Adding /mnt/data/Photos/2018/08-Astro/to_be_sorted/Aligned_0022.tif\n",
      "Adding /mnt/data/Photos/2018/08-Astro/to_be_sorted/Aligned_0025.tif\n",
      "Adding /mnt/data/Photos/2018/08-Astro/to_be_sorted/Aligned_0030.tif\n",
      "Adding /mnt/data/Photos/2018/08-Astro/to_be_sorted/Aligned_0001.tif\n",
      "Adding /mnt/data/Photos/2018/08-Astro/to_be_sorted/Aligned_0010.tif\n",
      "Adding /mnt/data/Photos/2018/08-Astro/to_be_sorted/Aligned_0013.tif\n",
      "Adding /mnt/data/Photos/2018/08-Astro/to_be_sorted/Aligned_0020.tif\n",
      "Adding /mnt/data/Photos/2018/08-Astro/to_be_sorted/Aligned_0005.tif\n",
      "Adding /mnt/data/Photos/2018/08-Astro/to_be_sorted/Aligned_0004.tif\n",
      "Adding /mnt/data/Photos/2018/08-Astro/to_be_sorted/Aligned_0012.tif\n",
      "Adding /mnt/data/Photos/2018/08-Astro/to_be_sorted/Aligned_0014.tif\n",
      "Adding /mnt/data/Photos/2018/08-Astro/to_be_sorted/Aligned_0002.tif\n",
      "Adding /mnt/data/Photos/2018/08-Astro/to_be_sorted/Aligned_0023.tif\n",
      "Adding /mnt/data/Photos/2018/08-Astro/to_be_sorted/Aligned_0000.tif\n"
     ]
    }
   ],
   "source": [
    "image = cv2.imread(alignedImages.pop(0), cv2.IMREAD_IGNORE_ORIENTATION | cv2.IMREAD_ANYDEPTH | cv2.IMREAD_ANYCOLOR)\n",
    "image = image.astype(np.float64, copy=False)\n",
    "\n",
    "for i in alignedImages:\n",
    "    print('Adding {}'.format(i))\n",
    "    image += cv2.imread(i, cv2.IMREAD_IGNORE_ORIENTATION | cv2.IMREAD_ANYDEPTH | cv2.IMREAD_ANYCOLOR)\n",
    "\n"
   ]
  },
  {
   "cell_type": "code",
   "execution_count": 41,
   "metadata": {
    "ExecuteTime": {
     "end_time": "2018-08-04T20:21:24.340059Z",
     "start_time": "2018-08-04T20:21:24.322877Z"
    }
   },
   "outputs": [
    {
     "data": {
      "text/plain": [
       "array([[[  41843.,   34292.,   23730.],\n",
       "        [  41252.,   34512.,   23372.],\n",
       "        [  40277.,   32347.,   22359.],\n",
       "        ..., \n",
       "        [  36275.,   29416.,   22375.],\n",
       "        [  37113.,   29889.,   23945.],\n",
       "        [  37032.,   29836.,   23872.]],\n",
       "\n",
       "       [[ 106788.,   85342.,   59130.],\n",
       "        [ 105354.,   85274.,   58452.],\n",
       "        [ 101004.,   82276.,   55062.],\n",
       "        ..., \n",
       "        [  71293.,   58592.,   42404.],\n",
       "        [  72329.,   59141.,   43633.],\n",
       "        [  55120.,   44435.,   33161.]],\n",
       "\n",
       "       [[ 176340.,  134819.,   95849.],\n",
       "        [ 173874.,  134859.,   95000.],\n",
       "        [ 164091.,  133044.,   90074.],\n",
       "        ..., \n",
       "        [ 143757.,  116352.,   82721.],\n",
       "        [ 127750.,  101220.,   74615.],\n",
       "        [  72470.,   57116.,   42358.]],\n",
       "\n",
       "       ..., \n",
       "       [[ 441438.,  363551.,  259014.],\n",
       "        [ 440861.,  369121.,  261742.],\n",
       "        [ 435502.,  367755.,  263181.],\n",
       "        ..., \n",
       "        [ 419452.,  348242.,  252648.],\n",
       "        [ 420891.,  349980.,  254084.],\n",
       "        [ 419922.,  348486.,  254900.]],\n",
       "\n",
       "       [[ 444798.,  366596.,  261996.],\n",
       "        [ 440569.,  368583.,  262477.],\n",
       "        [ 433113.,  367892.,  260164.],\n",
       "        ..., \n",
       "        [ 422032.,  354085.,  251640.],\n",
       "        [ 422761.,  347845.,  252587.],\n",
       "        [ 420123.,  347211.,  252935.]],\n",
       "\n",
       "       [[ 440629.,  370983.,  260967.],\n",
       "        [ 442411.,  367989.,  257537.],\n",
       "        [ 437599.,  365911.,  252473.],\n",
       "        ..., \n",
       "        [ 426746.,  367412.,  255378.],\n",
       "        [ 427836.,  353895.,  257448.],\n",
       "        [ 426019.,  351068.,  256973.]]])"
      ]
     },
     "execution_count": 41,
     "metadata": {},
     "output_type": "execute_result"
    }
   ],
   "source": [
    "image"
   ]
  },
  {
   "cell_type": "code",
   "execution_count": 42,
   "metadata": {
    "ExecuteTime": {
     "end_time": "2018-08-04T20:21:28.647233Z",
     "start_time": "2018-08-04T20:21:28.304947Z"
    }
   },
   "outputs": [],
   "source": [
    "image2 = image/image.max()*65535"
   ]
  },
  {
   "cell_type": "code",
   "execution_count": 45,
   "metadata": {
    "ExecuteTime": {
     "end_time": "2018-08-04T20:53:47.024277Z",
     "start_time": "2018-08-04T20:53:46.970353Z"
    }
   },
   "outputs": [],
   "source": [
    "lab_image = cv2.cvtColor(image, cv2.COLOR_BGR2LAB);"
   ]
  },
  {
   "cell_type": "code",
   "execution_count": 46,
   "metadata": {
    "ExecuteTime": {
     "end_time": "2018-08-04T20:53:50.133429Z",
     "start_time": "2018-08-04T20:53:48.265887Z"
    }
   },
   "outputs": [
    {
     "data": {
      "text/plain": [
       "True"
      ]
     },
     "execution_count": 46,
     "metadata": {},
     "output_type": "execute_result"
    }
   ],
   "source": [
    "image2 = RGB_image.astype(np.uint16, copy=False)\n",
    "cv2.imwrite('image.tif', image2)"
   ]
  },
  {
   "cell_type": "code",
   "execution_count": 39,
   "metadata": {
    "ExecuteTime": {
     "end_time": "2018-08-04T20:13:41.316770Z",
     "start_time": "2018-08-04T20:13:41.314747Z"
    }
   },
   "outputs": [],
   "source": [
    "# remove files: RAWoffsetFiles, RAWdarkFiles, RAWflatFiles and RAWimageFiles"
   ]
  }
 ],
 "metadata": {
  "kernelspec": {
   "display_name": "Python 3",
   "language": "python",
   "name": "python3"
  },
  "language_info": {
   "codemirror_mode": {
    "name": "ipython",
    "version": 3
   },
   "file_extension": ".py",
   "mimetype": "text/x-python",
   "name": "python",
   "nbconvert_exporter": "python",
   "pygments_lexer": "ipython3",
   "version": "3.5.2"
  },
  "toc": {
   "base_numbering": 1,
   "nav_menu": {},
   "number_sections": true,
   "sideBar": true,
   "skip_h1_title": false,
   "title_cell": "Table of Contents",
   "title_sidebar": "Contents",
   "toc_cell": false,
   "toc_position": {},
   "toc_section_display": true,
   "toc_window_display": false
  },
  "varInspector": {
   "cols": {
    "lenName": 16,
    "lenType": 16,
    "lenVar": 40
   },
   "kernels_config": {
    "python": {
     "delete_cmd_postfix": "",
     "delete_cmd_prefix": "del ",
     "library": "var_list.py",
     "varRefreshCmd": "print(var_dic_list())"
    },
    "r": {
     "delete_cmd_postfix": ") ",
     "delete_cmd_prefix": "rm(",
     "library": "var_list.r",
     "varRefreshCmd": "cat(var_dic_list()) "
    }
   },
   "types_to_exclude": [
    "module",
    "function",
    "builtin_function_or_method",
    "instance",
    "_Feature"
   ],
   "window_display": false
  }
 },
 "nbformat": 4,
 "nbformat_minor": 2
}
