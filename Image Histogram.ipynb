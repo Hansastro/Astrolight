{
 "cells": [
  {
   "cell_type": "markdown",
   "metadata": {},
   "source": [
    "# Histogram management of an image"
   ]
  },
  {
   "cell_type": "code",
   "execution_count": 1,
   "metadata": {
    "ExecuteTime": {
     "end_time": "2018-08-04T20:54:10.446402Z",
     "start_time": "2018-08-04T20:54:09.745785Z"
    }
   },
   "outputs": [],
   "source": [
    "import cv2\n",
    "import numpy as np\n",
    "import matplotlib.pyplot as plt\n",
    "%matplotlib inline"
   ]
  },
  {
   "cell_type": "code",
   "execution_count": 2,
   "metadata": {
    "ExecuteTime": {
     "end_time": "2018-08-04T20:54:10.451990Z",
     "start_time": "2018-08-04T20:54:10.448414Z"
    }
   },
   "outputs": [],
   "source": [
    "#testImage = './Test_Images/NGC7000.tif'\n",
    "testImage = './NGC7000.tif'"
   ]
  },
  {
   "cell_type": "code",
   "execution_count": 3,
   "metadata": {
    "ExecuteTime": {
     "end_time": "2018-08-04T20:54:11.365383Z",
     "start_time": "2018-08-04T20:54:10.453636Z"
    }
   },
   "outputs": [],
   "source": [
    "#image = cv2.imread(testImage, cv2.IMREAD_ANYDEPTH | cv2.IMREAD_ANYCOLOR)\n",
    "image = cv2.imread(testImage, cv2.IMREAD_UNCHANGED | cv2.IMREAD_ANYCOLOR)"
   ]
  },
  {
   "cell_type": "code",
   "execution_count": 4,
   "metadata": {
    "ExecuteTime": {
     "end_time": "2018-08-04T20:54:11.429638Z",
     "start_time": "2018-08-04T20:54:11.367336Z"
    }
   },
   "outputs": [
    {
     "data": {
      "text/plain": [
       "65535"
      ]
     },
     "execution_count": 4,
     "metadata": {},
     "output_type": "execute_result"
    }
   ],
   "source": [
    "image.max()"
   ]
  },
  {
   "cell_type": "code",
   "execution_count": 5,
   "metadata": {
    "ExecuteTime": {
     "end_time": "2018-08-04T20:54:11.436463Z",
     "start_time": "2018-08-04T20:54:11.431663Z"
    }
   },
   "outputs": [
    {
     "data": {
      "text/plain": [
       "array([[[ 1420,  1164,   805],\n",
       "        [ 1400,  1171,   793],\n",
       "        [ 1367,  1098,   758],\n",
       "        ..., \n",
       "        [ 1231,   998,   759],\n",
       "        [ 1259,  1014,   812],\n",
       "        [ 1257,  1012,   810]],\n",
       "\n",
       "       [[ 3625,  2897,  2007],\n",
       "        [ 3576,  2894,  1984],\n",
       "        [ 3428,  2792,  1869],\n",
       "        ..., \n",
       "        [ 2420,  1988,  1439],\n",
       "        [ 2455,  2007,  1481],\n",
       "        [ 1871,  1508,  1125]],\n",
       "\n",
       "       [[ 5985,  4576,  3253],\n",
       "        [ 5902,  4577,  3224],\n",
       "        [ 5570,  4516,  3057],\n",
       "        ..., \n",
       "        [ 4879,  3949,  2808],\n",
       "        [ 4336,  3435,  2532],\n",
       "        [ 2460,  1938,  1437]],\n",
       "\n",
       "       ..., \n",
       "       [[14984, 12341,  8792],\n",
       "        [14965, 12530,  8885],\n",
       "        [14783, 12483,  8933],\n",
       "        ..., \n",
       "        [14238, 11821,  8576],\n",
       "        [14287, 11880,  8625],\n",
       "        [14254, 11829,  8652]],\n",
       "\n",
       "       [[15099, 12444,  8893],\n",
       "        [14955, 12511,  8909],\n",
       "        [14702, 12488,  8831],\n",
       "        ..., \n",
       "        [14326, 12019,  8542],\n",
       "        [14350, 11807,  8574],\n",
       "        [14261, 11786,  8586]],\n",
       "\n",
       "       [[14957, 12593,  8858],\n",
       "        [15017, 12491,  8742],\n",
       "        [14854, 12421,  8570],\n",
       "        ..., \n",
       "        [14486, 12472,  8669],\n",
       "        [14523, 12013,  8739],\n",
       "        [14461, 11917,  8723]]], dtype=uint16)"
      ]
     },
     "execution_count": 5,
     "metadata": {},
     "output_type": "execute_result"
    }
   ],
   "source": [
    "image"
   ]
  },
  {
   "cell_type": "code",
   "execution_count": 6,
   "metadata": {
    "ExecuteTime": {
     "end_time": "2018-08-04T20:54:11.660298Z",
     "start_time": "2018-08-04T20:54:11.438269Z"
    }
   },
   "outputs": [],
   "source": [
    "r, g, b = cv2.split(image)"
   ]
  },
  {
   "cell_type": "code",
   "execution_count": 7,
   "metadata": {
    "ExecuteTime": {
     "end_time": "2018-08-04T20:54:12.161648Z",
     "start_time": "2018-08-04T20:54:11.661994Z"
    }
   },
   "outputs": [
    {
     "data": {
      "text/plain": [
       "(array([  1.35500000e+04,   1.45960000e+04,   1.23172260e+07,\n",
       "          5.47286000e+06,   1.38060000e+05,   3.90170000e+04,\n",
       "          1.68460000e+04,   7.98200000e+03,   3.80000000e+03,\n",
       "          9.93000000e+02]),\n",
       " array([   961. ,   6468.1,  11975.2,  17482.3,  22989.4,  28496.5,\n",
       "         34003.6,  39510.7,  45017.8,  50524.9,  56032. ]),\n",
       " <a list of 10 Patch objects>)"
      ]
     },
     "execution_count": 7,
     "metadata": {},
     "output_type": "execute_result"
    },
    {
     "data": {
      "image/png": "[encoded data removed]",
      "text/plain": [
       "<matplotlib.figure.Figure at 0x7fe2299e7898>"
      ]
     },
     "metadata": {},
     "output_type": "display_data"
    }
   ],
   "source": [
    "plt.hist(r.flatten())"
   ]
  },
  {
   "cell_type": "code",
   "execution_count": 8,
   "metadata": {
    "ExecuteTime": {
     "end_time": "2018-08-04T20:54:12.190750Z",
     "start_time": "2018-08-04T20:54:12.164173Z"
    }
   },
   "outputs": [
    {
     "data": {
      "text/plain": [
       "961"
      ]
     },
     "execution_count": 8,
     "metadata": {},
     "output_type": "execute_result"
    }
   ],
   "source": [
    "r.min()"
   ]
  },
  {
   "cell_type": "code",
   "execution_count": 9,
   "metadata": {
    "ExecuteTime": {
     "end_time": "2018-08-04T20:54:12.198037Z",
     "start_time": "2018-08-04T20:54:12.192973Z"
    }
   },
   "outputs": [],
   "source": [
    "def normalizationRange(data, sigmaMult=2):\n",
    "    dataMean = data.mean()\n",
    "    dataStd = data.std()\n",
    "    return(data.mean() - data.std()*sigmaMult, data.mean() + data.std()*sigmaMult)"
   ]
  },
  {
   "cell_type": "code",
   "execution_count": 10,
   "metadata": {
    "ExecuteTime": {
     "end_time": "2018-08-04T20:54:12.292119Z",
     "start_time": "2018-08-04T20:54:12.200645Z"
    }
   },
   "outputs": [],
   "source": [
    "image = image.astype(np.float32)"
   ]
  },
  {
   "cell_type": "code",
   "execution_count": 11,
   "metadata": {
    "ExecuteTime": {
     "end_time": "2018-08-04T20:54:12.338906Z",
     "start_time": "2018-08-04T20:54:12.294208Z"
    }
   },
   "outputs": [],
   "source": [
    "image /= image.max()"
   ]
  },
  {
   "cell_type": "code",
   "execution_count": 12,
   "metadata": {
    "ExecuteTime": {
     "end_time": "2018-08-04T20:54:12.565146Z",
     "start_time": "2018-08-04T20:54:12.341193Z"
    }
   },
   "outputs": [],
   "source": [
    "lab_image = cv2.cvtColor(image, cv2.COLOR_BGR2LAB);"
   ]
  },
  {
   "cell_type": "code",
   "execution_count": 13,
   "metadata": {
    "ExecuteTime": {
     "end_time": "2018-08-04T20:54:12.572854Z",
     "start_time": "2018-08-04T20:54:12.566614Z"
    }
   },
   "outputs": [
    {
     "data": {
      "text/plain": [
       "array([[[  1.15966797e+00,  -2.50000000e-01,  -5.15625000e-01],\n",
       "        [  1.15356445e+00,  -3.12500000e-01,  -3.28125000e-01],\n",
       "        [  1.02539062e+00,  -2.50000000e-01,  -5.15625000e-01],\n",
       "        ..., \n",
       "        [  9.15527344e-01,  -1.25000000e-01,  -4.68750000e-01],\n",
       "        [  9.46044922e-01,   1.56250000e-02,  -4.21875000e-01],\n",
       "        [  9.46044922e-01,   1.56250000e-02,  -4.21875000e-01]],\n",
       "\n",
       "       [[  2.95410156e+00,  -5.46875000e-01,  -1.64062500e+00],\n",
       "        [  2.94189453e+00,  -6.25000000e-01,  -1.42187500e+00],\n",
       "        [  2.78930664e+00,  -6.09375000e-01,  -1.42187500e+00],\n",
       "        ..., \n",
       "        [  1.96533203e+00,  -2.96875000e-01,  -7.96875000e-01],\n",
       "        [  1.97753906e+00,  -2.18750000e-01,  -1.01562500e+00],\n",
       "        [  1.44653320e+00,  -1.87500000e-01,  -7.03125000e-01]],\n",
       "\n",
       "       [[  5.12695312e+00,  -4.21875000e-01,  -3.95312500e+00],\n",
       "        [  5.12695312e+00,  -4.21875000e-01,  -3.95312500e+00],\n",
       "        [  5.01098633e+00,  -1.06250000e+00,  -3.14062500e+00],\n",
       "        ..., \n",
       "        [  4.16870117e+00,  -5.00000000e-01,  -2.71875000e+00],\n",
       "        [  3.58276367e+00,  -4.53125000e-01,  -1.95312500e+00],\n",
       "        [  1.97753906e+00,  -2.18750000e-01,  -1.01562500e+00]],\n",
       "\n",
       "       ..., \n",
       "       [[  1.90063477e+01,  -2.56250000e+00,  -8.46875000e+00],\n",
       "        [  1.91955566e+01,  -2.87500000e+00,  -7.84375000e+00],\n",
       "        [  1.91711426e+01,  -3.04687500e+00,  -7.53125000e+00],\n",
       "        ..., \n",
       "        [  1.81518555e+01,  -2.32812500e+00,  -7.71875000e+00],\n",
       "        [  1.81518555e+01,  -2.32812500e+00,  -7.71875000e+00],\n",
       "        [  1.81518555e+01,  -2.32812500e+00,  -7.71875000e+00]],\n",
       "\n",
       "       [[  1.92199707e+01,  -2.71875000e+00,  -8.14062500e+00],\n",
       "        [  1.91955566e+01,  -2.87500000e+00,  -7.84375000e+00],\n",
       "        [  1.91528320e+01,  -3.20312500e+00,  -7.21875000e+00],\n",
       "        ..., \n",
       "        [  1.82861328e+01,  -2.85937500e+00,  -7.51562500e+00],\n",
       "        [  1.81701660e+01,  -2.18750000e+00,  -8.03125000e+00],\n",
       "        [  1.81518555e+01,  -2.32812500e+00,  -7.71875000e+00]],\n",
       "\n",
       "       [[  1.93664551e+01,  -3.20312500e+00,  -7.57812500e+00],\n",
       "        [  1.91833496e+01,  -2.89062500e+00,  -8.20312500e+00],\n",
       "        [  1.90856934e+01,  -3.40625000e+00,  -8.01562500e+00],\n",
       "        ..., \n",
       "        [  1.90551758e+01,  -3.71875000e+00,  -7.03125000e+00],\n",
       "        [  1.84020996e+01,  -2.18750000e+00,  -8.01562500e+00],\n",
       "        [  1.83837891e+01,  -2.34375000e+00,  -7.71875000e+00]]], dtype=float32)"
      ]
     },
     "execution_count": 13,
     "metadata": {},
     "output_type": "execute_result"
    }
   ],
   "source": [
    "lab_image"
   ]
  },
  {
   "cell_type": "code",
   "execution_count": 14,
   "metadata": {
    "ExecuteTime": {
     "end_time": "2018-08-04T20:54:12.776661Z",
     "start_time": "2018-08-04T20:54:12.574914Z"
    }
   },
   "outputs": [],
   "source": [
    "l, a, b = cv2.split(lab_image)"
   ]
  },
  {
   "cell_type": "code",
   "execution_count": 15,
   "metadata": {
    "ExecuteTime": {
     "end_time": "2018-08-04T20:54:12.785040Z",
     "start_time": "2018-08-04T20:54:12.778551Z"
    }
   },
   "outputs": [
    {
     "data": {
      "text/plain": [
       "array([[  1.15966797,   1.15356445,   1.02539062, ...,   0.91552734,\n",
       "          0.94604492,   0.94604492],\n",
       "       [  2.95410156,   2.94189453,   2.78930664, ...,   1.96533203,\n",
       "          1.97753906,   1.4465332 ],\n",
       "       [  5.12695312,   5.12695312,   5.01098633, ...,   4.16870117,\n",
       "          3.58276367,   1.97753906],\n",
       "       ..., \n",
       "       [ 19.00634766,  19.19555664,  19.17114258, ...,  18.15185547,\n",
       "         18.15185547,  18.15185547],\n",
       "       [ 19.2199707 ,  19.19555664,  19.15283203, ...,  18.28613281,\n",
       "         18.17016602,  18.15185547],\n",
       "       [ 19.36645508,  19.18334961,  19.08569336, ...,  19.05517578,\n",
       "         18.40209961,  18.38378906]], dtype=float32)"
      ]
     },
     "execution_count": 15,
     "metadata": {},
     "output_type": "execute_result"
    }
   ],
   "source": [
    "l"
   ]
  },
  {
   "cell_type": "code",
   "execution_count": 16,
   "metadata": {
    "ExecuteTime": {
     "end_time": "2018-08-04T20:54:13.247247Z",
     "start_time": "2018-08-04T20:54:12.787101Z"
    }
   },
   "outputs": [
    {
     "data": {
      "text/plain": [
       "(array([  2.11830000e+04,   3.82003200e+06,   1.39604090e+07,\n",
       "          1.64161000e+05,   3.40530000e+04,   1.29120000e+04,\n",
       "          6.19500000e+03,   3.18800000e+03,   1.88400000e+03,\n",
       "          9.13000000e+02]),\n",
       " array([  0.81787109,  10.29907227,  19.78027344,  29.26147461,\n",
       "         38.74267578,  48.22387695,  57.70507812,  67.1862793 ,\n",
       "         76.66748047,  86.14868164,  95.62988281]),\n",
       " <a list of 10 Patch objects>)"
      ]
     },
     "execution_count": 16,
     "metadata": {},
     "output_type": "execute_result"
    },
    {
     "data": {
      "image/png": "[encoded data removed]",
      "text/plain": [
       "<matplotlib.figure.Figure at 0x7fe22970bef0>"
      ]
     },
     "metadata": {},
     "output_type": "display_data"
    }
   ],
   "source": [
    "plt.hist(l.flatten())"
   ]
  },
  {
   "cell_type": "code",
   "execution_count": 17,
   "metadata": {
    "ExecuteTime": {
     "end_time": "2018-08-04T20:54:13.431974Z",
     "start_time": "2018-08-04T20:54:13.248697Z"
    }
   },
   "outputs": [],
   "source": [
    "normalization = normalizationRange(l, 3)"
   ]
  },
  {
   "cell_type": "code",
   "execution_count": 18,
   "metadata": {
    "ExecuteTime": {
     "end_time": "2018-08-04T20:54:13.437547Z",
     "start_time": "2018-08-04T20:54:13.433676Z"
    }
   },
   "outputs": [
    {
     "data": {
      "text/plain": [
       "(12.840951919555664, 30.63365364074707)"
      ]
     },
     "execution_count": 18,
     "metadata": {},
     "output_type": "execute_result"
    }
   ],
   "source": [
    "normalization"
   ]
  },
  {
   "cell_type": "code",
   "execution_count": 19,
   "metadata": {
    "ExecuteTime": {
     "end_time": "2018-08-04T20:54:13.444013Z",
     "start_time": "2018-08-04T20:54:13.439549Z"
    }
   },
   "outputs": [
    {
     "data": {
      "text/plain": [
       "array([[  1.15966797,   1.15356445,   1.02539062, ...,   0.91552734,\n",
       "          0.94604492,   0.94604492],\n",
       "       [  2.95410156,   2.94189453,   2.78930664, ...,   1.96533203,\n",
       "          1.97753906,   1.4465332 ],\n",
       "       [  5.12695312,   5.12695312,   5.01098633, ...,   4.16870117,\n",
       "          3.58276367,   1.97753906],\n",
       "       ..., \n",
       "       [ 19.00634766,  19.19555664,  19.17114258, ...,  18.15185547,\n",
       "         18.15185547,  18.15185547],\n",
       "       [ 19.2199707 ,  19.19555664,  19.15283203, ...,  18.28613281,\n",
       "         18.17016602,  18.15185547],\n",
       "       [ 19.36645508,  19.18334961,  19.08569336, ...,  19.05517578,\n",
       "         18.40209961,  18.38378906]], dtype=float32)"
      ]
     },
     "execution_count": 19,
     "metadata": {},
     "output_type": "execute_result"
    }
   ],
   "source": [
    "l"
   ]
  },
  {
   "cell_type": "code",
   "execution_count": 20,
   "metadata": {
    "ExecuteTime": {
     "end_time": "2018-08-04T20:54:13.451005Z",
     "start_time": "2018-08-04T20:54:13.446082Z"
    }
   },
   "outputs": [],
   "source": [
    "def process(elem, normalization):\n",
    "    if elem < normalization[0]:\n",
    "        return normalization[0]\n",
    "    elif elem > normalization[1]:\n",
    "        return normalization[1]\n",
    "    else:\n",
    "        return elem"
   ]
  },
  {
   "cell_type": "code",
   "execution_count": 21,
   "metadata": {
    "ExecuteTime": {
     "end_time": "2018-08-04T20:55:16.755504Z",
     "start_time": "2018-08-04T20:54:13.452863Z"
    }
   },
   "outputs": [],
   "source": [
    "res = np.array([[process(elem, normalization) for elem in line] for line in l])"
   ]
  },
  {
   "cell_type": "code",
   "execution_count": 22,
   "metadata": {
    "ExecuteTime": {
     "end_time": "2018-08-04T20:55:16.762696Z",
     "start_time": "2018-08-04T20:55:16.757134Z"
    }
   },
   "outputs": [
    {
     "data": {
      "text/plain": [
       "array([[ 12.84095192,  12.84095192,  12.84095192, ...,  12.84095192,\n",
       "         12.84095192,  12.84095192],\n",
       "       [ 12.84095192,  12.84095192,  12.84095192, ...,  12.84095192,\n",
       "         12.84095192,  12.84095192],\n",
       "       [ 12.84095192,  12.84095192,  12.84095192, ...,  12.84095192,\n",
       "         12.84095192,  12.84095192],\n",
       "       ..., \n",
       "       [ 19.00634766,  19.19555664,  19.17114258, ...,  18.15185547,\n",
       "         18.15185547,  18.15185547],\n",
       "       [ 19.2199707 ,  19.19555664,  19.15283203, ...,  18.28613281,\n",
       "         18.17016602,  18.15185547],\n",
       "       [ 19.36645508,  19.18334961,  19.08569336, ...,  19.05517578,\n",
       "         18.40209961,  18.38378906]])"
      ]
     },
     "execution_count": 22,
     "metadata": {},
     "output_type": "execute_result"
    }
   ],
   "source": [
    "res"
   ]
  },
  {
   "cell_type": "code",
   "execution_count": 23,
   "metadata": {
    "ExecuteTime": {
     "end_time": "2018-08-04T20:55:16.779319Z",
     "start_time": "2018-08-04T20:55:16.765045Z"
    }
   },
   "outputs": [
    {
     "data": {
      "text/plain": [
       "30.63365364074707"
      ]
     },
     "execution_count": 23,
     "metadata": {},
     "output_type": "execute_result"
    }
   ],
   "source": [
    "res.max()"
   ]
  },
  {
   "cell_type": "code",
   "execution_count": 24,
   "metadata": {
    "ExecuteTime": {
     "end_time": "2018-08-04T20:55:16.851904Z",
     "start_time": "2018-08-04T20:55:16.781249Z"
    }
   },
   "outputs": [],
   "source": [
    "res = res - res.min()"
   ]
  },
  {
   "cell_type": "code",
   "execution_count": 25,
   "metadata": {
    "ExecuteTime": {
     "end_time": "2018-08-04T20:55:16.949972Z",
     "start_time": "2018-08-04T20:55:16.853746Z"
    }
   },
   "outputs": [],
   "source": [
    "res = res * 100/res.max()"
   ]
  },
  {
   "cell_type": "code",
   "execution_count": 26,
   "metadata": {
    "ExecuteTime": {
     "end_time": "2018-08-04T20:55:16.978673Z",
     "start_time": "2018-08-04T20:55:16.951672Z"
    }
   },
   "outputs": [],
   "source": [
    "res = res.astype(np.float32, copy=False)"
   ]
  },
  {
   "cell_type": "code",
   "execution_count": 27,
   "metadata": {
    "ExecuteTime": {
     "end_time": "2018-08-04T20:55:16.986019Z",
     "start_time": "2018-08-04T20:55:16.980524Z"
    }
   },
   "outputs": [
    {
     "data": {
      "text/plain": [
       "array([[  0.        ,   0.        ,   0.        , ...,   0.        ,\n",
       "          0.        ,   0.        ],\n",
       "       [  0.        ,   0.        ,   0.        , ...,   0.        ,\n",
       "          0.        ,   0.        ],\n",
       "       [  0.        ,   0.        ,   0.        , ...,   0.        ,\n",
       "          0.        ,   0.        ],\n",
       "       ..., \n",
       "       [ 34.65126038,  35.71466827,  35.57745743, ...,  29.84877586,\n",
       "         29.84877586,  29.84877586],\n",
       "       [ 35.85188293,  35.71466827,  35.47454453, ...,  30.60345268,\n",
       "         29.95168495,  29.84877586],\n",
       "       [ 36.67516708,  35.64606476,  35.09720612, ...,  34.9256897 ,\n",
       "         31.25521851,  31.15230751]], dtype=float32)"
      ]
     },
     "execution_count": 27,
     "metadata": {},
     "output_type": "execute_result"
    }
   ],
   "source": [
    "res"
   ]
  },
  {
   "cell_type": "code",
   "execution_count": 28,
   "metadata": {
    "ExecuteTime": {
     "end_time": "2018-08-04T20:55:16.994121Z",
     "start_time": "2018-08-04T20:55:16.988423Z"
    }
   },
   "outputs": [
    {
     "data": {
      "text/plain": [
       "array([[  1.15966797,   1.15356445,   1.02539062, ...,   0.91552734,\n",
       "          0.94604492,   0.94604492],\n",
       "       [  2.95410156,   2.94189453,   2.78930664, ...,   1.96533203,\n",
       "          1.97753906,   1.4465332 ],\n",
       "       [  5.12695312,   5.12695312,   5.01098633, ...,   4.16870117,\n",
       "          3.58276367,   1.97753906],\n",
       "       ..., \n",
       "       [ 19.00634766,  19.19555664,  19.17114258, ...,  18.15185547,\n",
       "         18.15185547,  18.15185547],\n",
       "       [ 19.2199707 ,  19.19555664,  19.15283203, ...,  18.28613281,\n",
       "         18.17016602,  18.15185547],\n",
       "       [ 19.36645508,  19.18334961,  19.08569336, ...,  19.05517578,\n",
       "         18.40209961,  18.38378906]], dtype=float32)"
      ]
     },
     "execution_count": 28,
     "metadata": {},
     "output_type": "execute_result"
    }
   ],
   "source": [
    "l"
   ]
  },
  {
   "cell_type": "code",
   "execution_count": 29,
   "metadata": {
    "ExecuteTime": {
     "end_time": "2018-08-04T20:55:17.473970Z",
     "start_time": "2018-08-04T20:55:16.995750Z"
    }
   },
   "outputs": [
    {
     "data": {
      "text/plain": [
       "(array([  2.77880000e+04,   3.01900000e+03,   3.29030000e+05,\n",
       "          4.01631100e+06,   5.54069000e+06,   4.85069500e+06,\n",
       "          2.16177500e+06,   6.92542000e+05,   1.58497000e+05,\n",
       "          2.44583000e+05]),\n",
       " array([   0.,   10.,   20.,   30.,   40.,   50.,   60.,   70.,   80.,\n",
       "          90.,  100.]),\n",
       " <a list of 10 Patch objects>)"
      ]
     },
     "execution_count": 29,
     "metadata": {},
     "output_type": "execute_result"
    },
    {
     "data": {
      "image/png": "[encoded data removed]",
      "text/plain": [
       "<matplotlib.figure.Figure at 0x7fe21df43160>"
      ]
     },
     "metadata": {},
     "output_type": "display_data"
    }
   ],
   "source": [
    "plt.hist(res.flatten())"
   ]
  },
  {
   "cell_type": "code",
   "execution_count": 30,
   "metadata": {
    "ExecuteTime": {
     "end_time": "2018-08-04T20:55:17.588402Z",
     "start_time": "2018-08-04T20:55:17.475808Z"
    }
   },
   "outputs": [],
   "source": [
    "lab_image = cv2.merge((res,a,b))"
   ]
  },
  {
   "cell_type": "code",
   "execution_count": 31,
   "metadata": {
    "ExecuteTime": {
     "end_time": "2018-08-04T20:55:17.609263Z",
     "start_time": "2018-08-04T20:55:17.589981Z"
    }
   },
   "outputs": [
    {
     "data": {
      "text/plain": [
       "100.0"
      ]
     },
     "execution_count": 31,
     "metadata": {},
     "output_type": "execute_result"
    }
   ],
   "source": [
    "lab_image.max()"
   ]
  },
  {
   "cell_type": "code",
   "execution_count": 32,
   "metadata": {
    "ExecuteTime": {
     "end_time": "2018-08-04T20:55:17.736763Z",
     "start_time": "2018-08-04T20:55:17.611445Z"
    }
   },
   "outputs": [],
   "source": [
    "RGB_image = cv2.cvtColor(lab_image, cv2.COLOR_LAB2BGR);"
   ]
  },
  {
   "cell_type": "code",
   "execution_count": 33,
   "metadata": {
    "ExecuteTime": {
     "end_time": "2018-08-04T20:55:17.745447Z",
     "start_time": "2018-08-04T20:55:17.738202Z"
    }
   },
   "outputs": [
    {
     "data": {
      "text/plain": [
       "array([[[  4.88298712e-03,   9.58400080e-04,   0.00000000e+00],\n",
       "        [  3.08058551e-03,   1.07917178e-03,   0.00000000e+00],\n",
       "        [  4.88298712e-03,   9.58400080e-04,   0.00000000e+00],\n",
       "        ..., \n",
       "        [  4.45710216e-03,   5.58426487e-04,   0.00000000e+00],\n",
       "        [  4.03396925e-03,   1.10658417e-04,   0.00000000e+00],\n",
       "        [  4.03396925e-03,   1.10658417e-04,   0.00000000e+00]],\n",
       "\n",
       "       [[  1.55669283e-02,   2.28903536e-03,   0.00000000e+00],\n",
       "        [  1.34677170e-02,   2.44585448e-03,   0.00000000e+00],\n",
       "        [  1.34704541e-02,   2.39806436e-03,   0.00000000e+00],\n",
       "        ..., \n",
       "        [  7.56110856e-03,   1.20743411e-03,   0.00000000e+00],\n",
       "        [  9.66327358e-03,   1.05060637e-03,   0.00000000e+00],\n",
       "        [  6.68499339e-03,   8.37651023e-04,   0.00000000e+00]],\n",
       "\n",
       "       [[  3.76804918e-02,   2.77517620e-03,   0.00000000e+00],\n",
       "        [  3.76804918e-02,   2.77517620e-03,   0.00000000e+00],\n",
       "        [  2.98326574e-02,   4.42940649e-03,   0.00000000e+00],\n",
       "        ..., \n",
       "        [  2.58790012e-02,   2.55056797e-03,   0.00000000e+00],\n",
       "        [  1.85633898e-02,   2.11963383e-03,   0.00000000e+00],\n",
       "        [  9.66327358e-03,   1.05060637e-03,   0.00000000e+00]],\n",
       "\n",
       "       ..., \n",
       "       [[  3.71513337e-01,   3.26635867e-01,   2.71398187e-01],\n",
       "        [  3.77718627e-01,   3.36937845e-01,   2.81348318e-01],\n",
       "        [  3.74454528e-01,   3.35893989e-01,   2.80048519e-01],\n",
       "        ..., \n",
       "        [  3.21896553e-01,   2.81984806e-01,   2.32898757e-01],\n",
       "        [  3.21896553e-01,   2.81984806e-01,   2.32898757e-01],\n",
       "        [  3.21896553e-01,   2.81984806e-01,   2.32898757e-01]],\n",
       "\n",
       "       [[  3.80887538e-01,   3.38006943e-01,   2.82587737e-01],\n",
       "        [  3.77718627e-01,   3.36937845e-01,   2.81348318e-01],\n",
       "        [  3.71520907e-01,   3.35140795e-01,   2.79180378e-01],\n",
       "        ..., \n",
       "        [  3.27621460e-01,   2.89744020e-01,   2.36421913e-01],\n",
       "        [  3.24750245e-01,   2.82745123e-01,   2.33591869e-01],\n",
       "        [  3.21896553e-01,   2.81984806e-01,   2.32898757e-01]],\n",
       "\n",
       "       [[  3.85192603e-01,   3.46461207e-01,   2.88742721e-01],\n",
       "        [  3.79298300e-01,   3.36428732e-01,   2.79085010e-01],\n",
       "        [  3.72863799e-01,   3.32227796e-01,   2.70779222e-01],\n",
       "        ..., \n",
       "        [  3.65107179e-01,   3.30938816e-01,   2.70906121e-01],\n",
       "        [  3.36788207e-01,   2.94580221e-01,   2.45357081e-01],\n",
       "        [  3.34008932e-01,   2.93848515e-01,   2.44466230e-01]]], dtype=float32)"
      ]
     },
     "execution_count": 33,
     "metadata": {},
     "output_type": "execute_result"
    }
   ],
   "source": [
    "RGB_image"
   ]
  },
  {
   "cell_type": "code",
   "execution_count": 34,
   "metadata": {
    "ExecuteTime": {
     "end_time": "2018-08-04T20:55:17.775375Z",
     "start_time": "2018-08-04T20:55:17.747597Z"
    }
   },
   "outputs": [],
   "source": [
    "RGB_image *= 2**16 - 1"
   ]
  },
  {
   "cell_type": "code",
   "execution_count": 37,
   "metadata": {
    "ExecuteTime": {
     "end_time": "2018-08-04T20:56:14.330149Z",
     "start_time": "2018-08-04T20:56:14.274207Z"
    }
   },
   "outputs": [],
   "source": [
    "RGB_image = cv2.cvtColor(RGB_image, cv2.COLOR_BGR2RGB);"
   ]
  },
  {
   "cell_type": "code",
   "execution_count": 38,
   "metadata": {
    "ExecuteTime": {
     "end_time": "2018-08-04T20:56:15.156969Z",
     "start_time": "2018-08-04T20:56:15.092381Z"
    }
   },
   "outputs": [
    {
     "data": {
      "text/plain": [
       "65535.0"
      ]
     },
     "execution_count": 38,
     "metadata": {},
     "output_type": "execute_result"
    }
   ],
   "source": [
    "RGB_image.max()"
   ]
  },
  {
   "cell_type": "code",
   "execution_count": 39,
   "metadata": {
    "ExecuteTime": {
     "end_time": "2018-08-04T20:56:17.730048Z",
     "start_time": "2018-08-04T20:56:16.078183Z"
    }
   },
   "outputs": [
    {
     "data": {
      "text/plain": [
       "True"
      ]
     },
     "execution_count": 39,
     "metadata": {},
     "output_type": "execute_result"
    }
   ],
   "source": [
    "image2 = RGB_image.astype(np.uint16)\n",
    "cv2.imwrite('image.png', image2)"
   ]
  },
  {
   "cell_type": "code",
   "execution_count": null,
   "metadata": {},
   "outputs": [],
   "source": []
  },
  {
   "cell_type": "code",
   "execution_count": null,
   "metadata": {},
   "outputs": [],
   "source": []
  }
 ],
 "metadata": {
  "kernelspec": {
   "display_name": "Python 3",
   "language": "python",
   "name": "python3"
  },
  "language_info": {
   "codemirror_mode": {
    "name": "ipython",
    "version": 3
   },
   "file_extension": ".py",
   "mimetype": "text/x-python",
   "name": "python",
   "nbconvert_exporter": "python",
   "pygments_lexer": "ipython3",
   "version": "3.5.2"
  },
  "toc": {
   "base_numbering": 1,
   "nav_menu": {},
   "number_sections": true,
   "sideBar": true,
   "skip_h1_title": false,
   "title_cell": "Table of Contents",
   "title_sidebar": "Contents",
   "toc_cell": false,
   "toc_position": {},
   "toc_section_display": true,
   "toc_window_display": false
  },
  "varInspector": {
   "cols": {
    "lenName": 16,
    "lenType": 16,
    "lenVar": 40
   },
   "kernels_config": {
    "python": {
     "delete_cmd_postfix": "",
     "delete_cmd_prefix": "del ",
     "library": "var_list.py",
     "varRefreshCmd": "print(var_dic_list())"
    },
    "r": {
     "delete_cmd_postfix": ") ",
     "delete_cmd_prefix": "rm(",
     "library": "var_list.r",
     "varRefreshCmd": "cat(var_dic_list()) "
    }
   },
   "types_to_exclude": [
    "module",
    "function",
    "builtin_function_or_method",
    "instance",
    "_Feature"
   ],
   "window_display": false
  }
 },
 "nbformat": 4,
 "nbformat_minor": 2
}
