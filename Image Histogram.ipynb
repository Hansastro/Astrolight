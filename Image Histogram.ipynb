{
 "cells": [
  {
   "cell_type": "markdown",
   "metadata": {},
   "source": [
    "# Histogram management of an image"
   ]
  },
  {
   "cell_type": "code",
   "execution_count": 1,
   "metadata": {
    "ExecuteTime": {
     "end_time": "2018-08-19T13:35:19.793127Z",
     "start_time": "2018-08-19T13:35:19.505040Z"
    }
   },
   "outputs": [],
   "source": [
    "import cv2\n",
    "import numpy as np\n",
    "import matplotlib.pyplot as plt\n",
    "%matplotlib inline"
   ]
  },
  {
   "cell_type": "code",
   "execution_count": 11,
   "metadata": {
    "ExecuteTime": {
     "end_time": "2018-08-19T13:37:24.643936Z",
     "start_time": "2018-08-19T13:37:24.636994Z"
    }
   },
   "outputs": [],
   "source": [
    "#testImage = './Test_Images/NGC7000.tif'\n",
    "testImage = '/mnt/data/Photos/Repository/2018/08-Astro_Test/JPB-8F7_ZGYN.pgm'"
   ]
  },
  {
   "cell_type": "code",
   "execution_count": 12,
   "metadata": {
    "ExecuteTime": {
     "end_time": "2018-08-19T13:38:03.699828Z",
     "start_time": "2018-08-19T13:38:03.652353Z"
    }
   },
   "outputs": [],
   "source": [
    "#image = cv2.imread(testImage, cv2.IMREAD_ANYDEPTH | cv2.IMREAD_ANYCOLOR)\n",
    "image = cv2.imread(testImage, cv2.IMREAD_IGNORE_ORIENTATION | cv2.IMREAD_ANYDEPTH | cv2.IMREAD_ANYCOLOR)"
   ]
  },
  {
   "cell_type": "code",
   "execution_count": 16,
   "metadata": {
    "ExecuteTime": {
     "end_time": "2018-08-19T13:38:41.231933Z",
     "start_time": "2018-08-19T13:38:41.132827Z"
    }
   },
   "outputs": [],
   "source": [
    "image = cv2.cvtColor(image, cv2.COLOR_BayerBG2BGR)"
   ]
  },
  {
   "cell_type": "code",
   "execution_count": 22,
   "metadata": {
    "ExecuteTime": {
     "end_time": "2018-08-19T13:38:55.887661Z",
     "start_time": "2018-08-19T13:38:55.879895Z"
    }
   },
   "outputs": [],
   "source": [
    "def normalizationRange(data, sigmaMult=2):\n",
    "    dataMean = data.mean()\n",
    "    dataStd = data.std()\n",
    "    return(data.mean() - data.std()*sigmaMult, data.mean() + data.std()*sigmaMult)"
   ]
  },
  {
   "cell_type": "code",
   "execution_count": 23,
   "metadata": {
    "ExecuteTime": {
     "end_time": "2018-08-19T13:38:56.668611Z",
     "start_time": "2018-08-19T13:38:56.531713Z"
    }
   },
   "outputs": [],
   "source": [
    "image = image.astype(np.float32)"
   ]
  },
  {
   "cell_type": "code",
   "execution_count": 24,
   "metadata": {
    "ExecuteTime": {
     "end_time": "2018-08-19T13:38:58.414324Z",
     "start_time": "2018-08-19T13:38:58.360473Z"
    }
   },
   "outputs": [],
   "source": [
    "image /= image.max()"
   ]
  },
  {
   "cell_type": "code",
   "execution_count": 25,
   "metadata": {
    "ExecuteTime": {
     "end_time": "2018-08-19T13:38:59.208917Z",
     "start_time": "2018-08-19T13:38:58.966993Z"
    }
   },
   "outputs": [],
   "source": [
    "lab_image = cv2.cvtColor(image, cv2.COLOR_BGR2LAB);"
   ]
  },
  {
   "cell_type": "code",
   "execution_count": 26,
   "metadata": {
    "ExecuteTime": {
     "end_time": "2018-08-19T13:39:04.571071Z",
     "start_time": "2018-08-19T13:39:04.554646Z"
    }
   },
   "outputs": [
    {
     "data": {
      "text/plain": [
       "array([[[ 1.28173828,  1.921875  ,  1.953125  ],\n",
       "        [ 1.28173828,  1.921875  ,  1.953125  ],\n",
       "        [ 0.84838867,  1.296875  ,  0.875     ],\n",
       "        ..., \n",
       "        [ 1.11083984,  0.640625  ,  0.65625   ],\n",
       "        [ 1.34277344, -0.21875   ,  0.984375  ],\n",
       "        [ 1.34277344, -0.21875   ,  0.984375  ]],\n",
       "\n",
       "       [[ 1.28173828,  1.921875  ,  1.953125  ],\n",
       "        [ 1.28173828,  1.921875  ,  1.953125  ],\n",
       "        [ 0.84838867,  1.296875  ,  0.875     ],\n",
       "        ..., \n",
       "        [ 1.11083984,  0.640625  ,  0.65625   ],\n",
       "        [ 1.34277344, -0.21875   ,  0.984375  ],\n",
       "        [ 1.34277344, -0.21875   ,  0.984375  ]],\n",
       "\n",
       "       [[ 1.30004883,  1.40625   ,  1.5625    ],\n",
       "        [ 1.30004883,  1.40625   ,  1.5625    ],\n",
       "        [ 1.00097656,  0.765625  ,  0.703125  ],\n",
       "        ..., \n",
       "        [ 1.22070312,  1.109375  ,  1.03125   ],\n",
       "        [ 1.59912109,  0.9375    ,  1.1875    ],\n",
       "        [ 1.59912109,  0.9375    ,  1.1875    ]],\n",
       "\n",
       "       ..., \n",
       "       [[ 0.51879883,  0.53125   , -0.234375  ],\n",
       "        [ 0.51879883,  0.53125   , -0.234375  ],\n",
       "        [ 0.67138672, -0.734375  ,  0.375     ],\n",
       "        ..., \n",
       "        [ 0.8972168 ,  0.328125  ,  0.328125  ],\n",
       "        [ 0.78125   , -0.203125  ,  0.140625  ],\n",
       "        [ 0.78125   , -0.203125  ,  0.140625  ]],\n",
       "\n",
       "       [[ 0.84838867,  0.78125   , -0.140625  ],\n",
       "        [ 0.84838867,  0.78125   , -0.140625  ],\n",
       "        [ 1.02539062, -0.40625   ,  0.703125  ],\n",
       "        ..., \n",
       "        [ 1.00097656,  0.84375   ,  0.09375   ],\n",
       "        [ 0.83618164,  0.71875   ,  0.046875  ],\n",
       "        [ 0.83618164,  0.71875   ,  0.046875  ]],\n",
       "\n",
       "       [[ 0.84838867,  0.78125   , -0.140625  ],\n",
       "        [ 0.84838867,  0.78125   , -0.140625  ],\n",
       "        [ 1.02539062, -0.40625   ,  0.703125  ],\n",
       "        ..., \n",
       "        [ 1.00097656,  0.84375   ,  0.09375   ],\n",
       "        [ 0.83618164,  0.71875   ,  0.046875  ],\n",
       "        [ 0.83618164,  0.71875   ,  0.046875  ]]], dtype=float32)"
      ]
     },
     "execution_count": 26,
     "metadata": {},
     "output_type": "execute_result"
    }
   ],
   "source": [
    "lab_image"
   ]
  },
  {
   "cell_type": "code",
   "execution_count": 27,
   "metadata": {
    "ExecuteTime": {
     "end_time": "2018-08-19T13:39:06.010931Z",
     "start_time": "2018-08-19T13:39:05.802778Z"
    }
   },
   "outputs": [],
   "source": [
    "l, a, b = cv2.split(lab_image)"
   ]
  },
  {
   "cell_type": "code",
   "execution_count": 28,
   "metadata": {
    "ExecuteTime": {
     "end_time": "2018-08-19T13:39:07.158116Z",
     "start_time": "2018-08-19T13:39:07.142750Z"
    }
   },
   "outputs": [
    {
     "data": {
      "text/plain": [
       "array([[ 1.28173828,  1.28173828,  0.84838867, ...,  1.11083984,\n",
       "         1.34277344,  1.34277344],\n",
       "       [ 1.28173828,  1.28173828,  0.84838867, ...,  1.11083984,\n",
       "         1.34277344,  1.34277344],\n",
       "       [ 1.30004883,  1.30004883,  1.00097656, ...,  1.22070312,\n",
       "         1.59912109,  1.59912109],\n",
       "       ..., \n",
       "       [ 0.51879883,  0.51879883,  0.67138672, ...,  0.8972168 ,\n",
       "         0.78125   ,  0.78125   ],\n",
       "       [ 0.84838867,  0.84838867,  1.02539062, ...,  1.00097656,\n",
       "         0.83618164,  0.83618164],\n",
       "       [ 0.84838867,  0.84838867,  1.02539062, ...,  1.00097656,\n",
       "         0.83618164,  0.83618164]], dtype=float32)"
      ]
     },
     "execution_count": 28,
     "metadata": {},
     "output_type": "execute_result"
    }
   ],
   "source": [
    "l"
   ]
  },
  {
   "cell_type": "code",
   "execution_count": 29,
   "metadata": {
    "ExecuteTime": {
     "end_time": "2018-08-19T13:39:08.200662Z",
     "start_time": "2018-08-19T13:39:07.786001Z"
    }
   },
   "outputs": [
    {
     "data": {
      "text/plain": [
       "(array([  1.79584520e+07,   3.55510000e+04,   1.46990000e+04,\n",
       "          6.55600000e+03,   3.07600000e+03,   2.52400000e+03,\n",
       "          1.33400000e+03,   7.96000000e+02,   7.20000000e+02,\n",
       "          1.22200000e+03]),\n",
       " array([  6.71386719e-02,   1.00604248e+01,   2.00537109e+01,\n",
       "          3.00469971e+01,   4.00402832e+01,   5.00335693e+01,\n",
       "          6.00268555e+01,   7.00201416e+01,   8.00134277e+01,\n",
       "          9.00067139e+01,   1.00000000e+02]),\n",
       " <a list of 10 Patch objects>)"
      ]
     },
     "execution_count": 29,
     "metadata": {},
     "output_type": "execute_result"
    },
    {
     "data": {
      "image/png": "[encoded data removed]",
      "text/plain": [
       "<matplotlib.figure.Figure at 0x7f866e381940>"
      ]
     },
     "metadata": {},
     "output_type": "display_data"
    }
   ],
   "source": [
    "plt.hist(l.flatten())"
   ]
  },
  {
   "cell_type": "code",
   "execution_count": 30,
   "metadata": {
    "ExecuteTime": {
     "end_time": "2018-08-19T13:39:10.604029Z",
     "start_time": "2018-08-19T13:39:10.434839Z"
    }
   },
   "outputs": [],
   "source": [
    "normalization = normalizationRange(l, 3)"
   ]
  },
  {
   "cell_type": "code",
   "execution_count": 31,
   "metadata": {
    "ExecuteTime": {
     "end_time": "2018-08-19T13:39:10.925950Z",
     "start_time": "2018-08-19T13:39:10.921509Z"
    }
   },
   "outputs": [
    {
     "data": {
      "text/plain": [
       "(-4.3946187496185303, 7.0055406093597412)"
      ]
     },
     "execution_count": 31,
     "metadata": {},
     "output_type": "execute_result"
    }
   ],
   "source": [
    "normalization"
   ]
  },
  {
   "cell_type": "code",
   "execution_count": 32,
   "metadata": {
    "ExecuteTime": {
     "end_time": "2018-08-19T13:39:11.887006Z",
     "start_time": "2018-08-19T13:39:11.875036Z"
    }
   },
   "outputs": [
    {
     "data": {
      "text/plain": [
       "array([[ 1.28173828,  1.28173828,  0.84838867, ...,  1.11083984,\n",
       "         1.34277344,  1.34277344],\n",
       "       [ 1.28173828,  1.28173828,  0.84838867, ...,  1.11083984,\n",
       "         1.34277344,  1.34277344],\n",
       "       [ 1.30004883,  1.30004883,  1.00097656, ...,  1.22070312,\n",
       "         1.59912109,  1.59912109],\n",
       "       ..., \n",
       "       [ 0.51879883,  0.51879883,  0.67138672, ...,  0.8972168 ,\n",
       "         0.78125   ,  0.78125   ],\n",
       "       [ 0.84838867,  0.84838867,  1.02539062, ...,  1.00097656,\n",
       "         0.83618164,  0.83618164],\n",
       "       [ 0.84838867,  0.84838867,  1.02539062, ...,  1.00097656,\n",
       "         0.83618164,  0.83618164]], dtype=float32)"
      ]
     },
     "execution_count": 32,
     "metadata": {},
     "output_type": "execute_result"
    }
   ],
   "source": [
    "l"
   ]
  },
  {
   "cell_type": "code",
   "execution_count": 33,
   "metadata": {
    "ExecuteTime": {
     "end_time": "2018-08-19T13:39:14.746292Z",
     "start_time": "2018-08-19T13:39:14.728142Z"
    }
   },
   "outputs": [],
   "source": [
    "def process(elem, normalization):\n",
    "    if elem < normalization[0]:\n",
    "        return normalization[0]\n",
    "    elif elem > normalization[1]:\n",
    "        return normalization[1]\n",
    "    else:\n",
    "        return elem"
   ]
  },
  {
   "cell_type": "code",
   "execution_count": 34,
   "metadata": {
    "ExecuteTime": {
     "end_time": "2018-08-19T13:40:09.518936Z",
     "start_time": "2018-08-19T13:39:15.558641Z"
    }
   },
   "outputs": [],
   "source": [
    "res = np.array([[process(elem, normalization) for elem in line] for line in l])"
   ]
  },
  {
   "cell_type": "code",
   "execution_count": 35,
   "metadata": {
    "ExecuteTime": {
     "end_time": "2018-08-19T13:40:09.556672Z",
     "start_time": "2018-08-19T13:40:09.552567Z"
    }
   },
   "outputs": [
    {
     "data": {
      "text/plain": [
       "array([[ 1.28173828,  1.28173828,  0.84838867, ...,  1.11083984,\n",
       "         1.34277344,  1.34277344],\n",
       "       [ 1.28173828,  1.28173828,  0.84838867, ...,  1.11083984,\n",
       "         1.34277344,  1.34277344],\n",
       "       [ 1.30004883,  1.30004883,  1.00097656, ...,  1.22070312,\n",
       "         1.59912109,  1.59912109],\n",
       "       ..., \n",
       "       [ 0.51879883,  0.51879883,  0.67138672, ...,  0.8972168 ,\n",
       "         0.78125   ,  0.78125   ],\n",
       "       [ 0.84838867,  0.84838867,  1.02539062, ...,  1.00097656,\n",
       "         0.83618164,  0.83618164],\n",
       "       [ 0.84838867,  0.84838867,  1.02539062, ...,  1.00097656,\n",
       "         0.83618164,  0.83618164]])"
      ]
     },
     "execution_count": 35,
     "metadata": {},
     "output_type": "execute_result"
    }
   ],
   "source": [
    "res"
   ]
  },
  {
   "cell_type": "code",
   "execution_count": 36,
   "metadata": {
    "ExecuteTime": {
     "end_time": "2018-08-19T13:44:06.487563Z",
     "start_time": "2018-08-19T13:44:06.463257Z"
    }
   },
   "outputs": [
    {
     "data": {
      "text/plain": [
       "7.0055406093597412"
      ]
     },
     "execution_count": 36,
     "metadata": {},
     "output_type": "execute_result"
    }
   ],
   "source": [
    "res.max()"
   ]
  },
  {
   "cell_type": "code",
   "execution_count": 37,
   "metadata": {
    "ExecuteTime": {
     "end_time": "2018-08-19T13:44:07.461126Z",
     "start_time": "2018-08-19T13:44:07.375007Z"
    }
   },
   "outputs": [],
   "source": [
    "res = res - res.min()"
   ]
  },
  {
   "cell_type": "code",
   "execution_count": 38,
   "metadata": {
    "ExecuteTime": {
     "end_time": "2018-08-19T13:44:08.207518Z",
     "start_time": "2018-08-19T13:44:08.119180Z"
    }
   },
   "outputs": [],
   "source": [
    "res = res * 100/res.max()"
   ]
  },
  {
   "cell_type": "code",
   "execution_count": 39,
   "metadata": {
    "ExecuteTime": {
     "end_time": "2018-08-19T13:44:09.261582Z",
     "start_time": "2018-08-19T13:44:09.228083Z"
    }
   },
   "outputs": [],
   "source": [
    "res = res.astype(np.float32, copy=False)"
   ]
  },
  {
   "cell_type": "code",
   "execution_count": 40,
   "metadata": {
    "ExecuteTime": {
     "end_time": "2018-08-19T13:44:09.803225Z",
     "start_time": "2018-08-19T13:44:09.791503Z"
    }
   },
   "outputs": [
    {
     "data": {
      "text/plain": [
       "array([[ 17.50546646,  17.50546646,  11.2597971 , ...,  15.0423851 ,\n",
       "         18.38513756,  18.38513756],\n",
       "       [ 17.50546646,  17.50546646,  11.2597971 , ...,  15.0423851 ,\n",
       "         18.38513756,  18.38513756],\n",
       "       [ 17.76936722,  17.76936722,  13.45897675, ...,  16.62579536,\n",
       "         22.0797596 ,  22.0797596 ],\n",
       "       ..., \n",
       "       [  6.5095706 ,   6.5095706 ,   8.70874977, ...,  11.96353436,\n",
       "         10.29215813,  10.29215813],\n",
       "       [ 11.2597971 ,  11.2597971 ,  13.81084538, ...,  13.45897675,\n",
       "         11.08386326,  11.08386326],\n",
       "       [ 11.2597971 ,  11.2597971 ,  13.81084538, ...,  13.45897675,\n",
       "         11.08386326,  11.08386326]], dtype=float32)"
      ]
     },
     "execution_count": 40,
     "metadata": {},
     "output_type": "execute_result"
    }
   ],
   "source": [
    "res"
   ]
  },
  {
   "cell_type": "code",
   "execution_count": 41,
   "metadata": {
    "ExecuteTime": {
     "end_time": "2018-08-19T13:44:13.546650Z",
     "start_time": "2018-08-19T13:44:13.533443Z"
    }
   },
   "outputs": [
    {
     "data": {
      "text/plain": [
       "array([[ 1.28173828,  1.28173828,  0.84838867, ...,  1.11083984,\n",
       "         1.34277344,  1.34277344],\n",
       "       [ 1.28173828,  1.28173828,  0.84838867, ...,  1.11083984,\n",
       "         1.34277344,  1.34277344],\n",
       "       [ 1.30004883,  1.30004883,  1.00097656, ...,  1.22070312,\n",
       "         1.59912109,  1.59912109],\n",
       "       ..., \n",
       "       [ 0.51879883,  0.51879883,  0.67138672, ...,  0.8972168 ,\n",
       "         0.78125   ,  0.78125   ],\n",
       "       [ 0.84838867,  0.84838867,  1.02539062, ...,  1.00097656,\n",
       "         0.83618164,  0.83618164],\n",
       "       [ 0.84838867,  0.84838867,  1.02539062, ...,  1.00097656,\n",
       "         0.83618164,  0.83618164]], dtype=float32)"
      ]
     },
     "execution_count": 41,
     "metadata": {},
     "output_type": "execute_result"
    }
   ],
   "source": [
    "l"
   ]
  },
  {
   "cell_type": "code",
   "execution_count": 52,
   "metadata": {
    "ExecuteTime": {
     "end_time": "2018-08-19T13:46:11.613187Z",
     "start_time": "2018-08-19T13:46:11.588291Z"
    }
   },
   "outputs": [
    {
     "data": {
      "text/plain": [
       "100.0"
      ]
     },
     "execution_count": 52,
     "metadata": {},
     "output_type": "execute_result"
    }
   ],
   "source": [
    "l.max()"
   ]
  },
  {
   "cell_type": "code",
   "execution_count": 42,
   "metadata": {
    "ExecuteTime": {
     "end_time": "2018-08-19T13:44:14.972475Z",
     "start_time": "2018-08-19T13:44:14.545419Z"
    }
   },
   "outputs": [
    {
     "data": {
      "text/plain": [
       "(array([  8.10656000e+05,   1.45724870e+07,   2.10543800e+06,\n",
       "          2.39764000e+05,   8.65800000e+04,   4.47410000e+04,\n",
       "          2.79260000e+04,   1.83590000e+04,   1.37460000e+04,\n",
       "          1.05233000e+05]),\n",
       " array([   0.,   10.,   20.,   30.,   40.,   50.,   60.,   70.,   80.,\n",
       "          90.,  100.]),\n",
       " <a list of 10 Patch objects>)"
      ]
     },
     "execution_count": 42,
     "metadata": {},
     "output_type": "execute_result"
    },
    {
     "data": {
      "image/png": "[encoded data removed]",
      "text/plain": [
       "<matplotlib.figure.Figure at 0x7f866a1a7978>"
      ]
     },
     "metadata": {},
     "output_type": "display_data"
    }
   ],
   "source": [
    "plt.hist(res.flatten())"
   ]
  },
  {
   "cell_type": "code",
   "execution_count": 43,
   "metadata": {
    "ExecuteTime": {
     "end_time": "2018-08-19T13:44:19.035102Z",
     "start_time": "2018-08-19T13:44:18.919731Z"
    }
   },
   "outputs": [],
   "source": [
    "lab_image = cv2.merge((res,a,b))"
   ]
  },
  {
   "cell_type": "code",
   "execution_count": 44,
   "metadata": {
    "ExecuteTime": {
     "end_time": "2018-08-19T13:44:19.784577Z",
     "start_time": "2018-08-19T13:44:19.756823Z"
    }
   },
   "outputs": [
    {
     "data": {
      "text/plain": [
       "100.0"
      ]
     },
     "execution_count": 44,
     "metadata": {},
     "output_type": "execute_result"
    }
   ],
   "source": [
    "lab_image.max()"
   ]
  },
  {
   "cell_type": "code",
   "execution_count": 45,
   "metadata": {
    "ExecuteTime": {
     "end_time": "2018-08-19T13:44:22.675651Z",
     "start_time": "2018-08-19T13:44:22.568963Z"
    }
   },
   "outputs": [],
   "source": [
    "RGB_image = cv2.cvtColor(lab_image, cv2.COLOR_LAB2BGR);"
   ]
  },
  {
   "cell_type": "code",
   "execution_count": 46,
   "metadata": {
    "ExecuteTime": {
     "end_time": "2018-08-19T13:44:24.908050Z",
     "start_time": "2018-08-19T13:44:24.893219Z"
    }
   },
   "outputs": [
    {
     "data": {
      "text/plain": [
       "array([[[ 0.15773602,  0.16446529,  0.18416096],\n",
       "        [ 0.15773602,  0.16446529,  0.18416096],\n",
       "        [ 0.11312396,  0.11519651,  0.12682678],\n",
       "        ..., \n",
       "        [ 0.14454283,  0.14679016,  0.15339102],\n",
       "        [ 0.17021352,  0.17592934,  0.1769937 ],\n",
       "        [ 0.17021352,  0.17592934,  0.1769937 ]],\n",
       "\n",
       "       [[ 0.15773602,  0.16446529,  0.18416096],\n",
       "        [ 0.15773602,  0.16446529,  0.18416096],\n",
       "        [ 0.11312396,  0.11519651,  0.12682678],\n",
       "        ..., \n",
       "        [ 0.14454283,  0.14679016,  0.15339102],\n",
       "        [ 0.17021352,  0.17592934,  0.1769937 ],\n",
       "        [ 0.17021352,  0.17592934,  0.1769937 ]],\n",
       "\n",
       "       [[ 0.16203639,  0.16770376,  0.18261653],\n",
       "        [ 0.16203639,  0.16770376,  0.18261653],\n",
       "        [ 0.13148552,  0.1337128 ,  0.14126381],\n",
       "        ..., \n",
       "        [ 0.15550472,  0.15887398,  0.17007864],\n",
       "        [ 0.20042796,  0.2051405 ,  0.21590006],\n",
       "        [ 0.20042796,  0.2051405 ,  0.21590006]],\n",
       "\n",
       "       ..., \n",
       "       [[ 0.08149305,  0.07916049,  0.08270293],\n",
       "        [ 0.08149305,  0.07916049,  0.08270293],\n",
       "        [ 0.09566212,  0.09878916,  0.09449949],\n",
       "        ..., \n",
       "        [ 0.12149239,  0.12257525,  0.12586729],\n",
       "        [ 0.10923579,  0.11030263,  0.10919906],\n",
       "        [ 0.10923579,  0.11030263,  0.10919906]],\n",
       "\n",
       "       [[ 0.11843593,  0.11630876,  0.12164747],\n",
       "        [ 0.11843593,  0.11630876,  0.12164747],\n",
       "        [ 0.13419841,  0.13859239,  0.13746418],\n",
       "        ..., \n",
       "        [ 0.13477552,  0.13370326,  0.14023823],\n",
       "        [ 0.1160483 ,  0.11498801,  0.12035561],\n",
       "        [ 0.1160483 ,  0.11498801,  0.12035561]],\n",
       "\n",
       "       [[ 0.11843593,  0.11630876,  0.12164747],\n",
       "        [ 0.11843593,  0.11630876,  0.12164747],\n",
       "        [ 0.13419841,  0.13859239,  0.13746418],\n",
       "        ..., \n",
       "        [ 0.13477552,  0.13370326,  0.14023823],\n",
       "        [ 0.1160483 ,  0.11498801,  0.12035561],\n",
       "        [ 0.1160483 ,  0.11498801,  0.12035561]]], dtype=float32)"
      ]
     },
     "execution_count": 46,
     "metadata": {},
     "output_type": "execute_result"
    }
   ],
   "source": [
    "RGB_image"
   ]
  },
  {
   "cell_type": "code",
   "execution_count": 47,
   "metadata": {
    "ExecuteTime": {
     "end_time": "2018-08-19T13:44:29.644164Z",
     "start_time": "2018-08-19T13:44:29.612671Z"
    }
   },
   "outputs": [],
   "source": [
    "RGB_image *= 2**16 - 1"
   ]
  },
  {
   "cell_type": "code",
   "execution_count": 48,
   "metadata": {
    "ExecuteTime": {
     "end_time": "2018-08-19T13:44:30.870884Z",
     "start_time": "2018-08-19T13:44:30.813452Z"
    }
   },
   "outputs": [],
   "source": [
    "RGB_image = cv2.cvtColor(RGB_image, cv2.COLOR_BGR2RGB);"
   ]
  },
  {
   "cell_type": "code",
   "execution_count": 49,
   "metadata": {
    "ExecuteTime": {
     "end_time": "2018-08-19T13:44:32.216903Z",
     "start_time": "2018-08-19T13:44:32.187801Z"
    }
   },
   "outputs": [
    {
     "data": {
      "text/plain": [
       "65535.0"
      ]
     },
     "execution_count": 49,
     "metadata": {},
     "output_type": "execute_result"
    }
   ],
   "source": [
    "RGB_image.max()"
   ]
  },
  {
   "cell_type": "code",
   "execution_count": 50,
   "metadata": {
    "ExecuteTime": {
     "end_time": "2018-08-19T13:44:36.461492Z",
     "start_time": "2018-08-19T13:44:34.856653Z"
    }
   },
   "outputs": [
    {
     "data": {
      "text/plain": [
       "True"
      ]
     },
     "execution_count": 50,
     "metadata": {},
     "output_type": "execute_result"
    }
   ],
   "source": [
    "image2 = RGB_image.astype(np.uint16)\n",
    "cv2.imwrite('image.png', image2)"
   ]
  },
  {
   "cell_type": "code",
   "execution_count": null,
   "metadata": {},
   "outputs": [],
   "source": []
  },
  {
   "cell_type": "code",
   "execution_count": null,
   "metadata": {},
   "outputs": [],
   "source": []
  }
 ],
 "metadata": {
  "kernelspec": {
   "display_name": "Python 3",
   "language": "python",
   "name": "python3"
  },
  "language_info": {
   "codemirror_mode": {
    "name": "ipython",
    "version": 3
   },
   "file_extension": ".py",
   "mimetype": "text/x-python",
   "name": "python",
   "nbconvert_exporter": "python",
   "pygments_lexer": "ipython3",
   "version": "3.5.2"
  },
  "toc": {
   "base_numbering": 1,
   "nav_menu": {},
   "number_sections": true,
   "sideBar": true,
   "skip_h1_title": false,
   "title_cell": "Table of Contents",
   "title_sidebar": "Contents",
   "toc_cell": false,
   "toc_position": {},
   "toc_section_display": true,
   "toc_window_display": false
  },
  "varInspector": {
   "cols": {
    "lenName": 16,
    "lenType": 16,
    "lenVar": 40
   },
   "kernels_config": {
    "python": {
     "delete_cmd_postfix": "",
     "delete_cmd_prefix": "del ",
     "library": "var_list.py",
     "varRefreshCmd": "print(var_dic_list())"
    },
    "r": {
     "delete_cmd_postfix": ") ",
     "delete_cmd_prefix": "rm(",
     "library": "var_list.r",
     "varRefreshCmd": "cat(var_dic_list()) "
    }
   },
   "types_to_exclude": [
    "module",
    "function",
    "builtin_function_or_method",
    "instance",
    "_Feature"
   ],
   "window_display": false
  }
 },
 "nbformat": 4,
 "nbformat_minor": 2
}
