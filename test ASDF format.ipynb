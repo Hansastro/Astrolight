{
 "cells": [
  {
   "cell_type": "code",
   "execution_count": 4,
   "metadata": {},
   "outputs": [],
   "source": [
    "import asdf\n",
    "import numpy as np\n",
    "\n",
    "# Create some data\n",
    "sequence = np.array([x for x in range(100)])\n",
    "squares = np.array([x**2 for x in range(100)])\n",
    "random = np.random.random(100)\n",
    "\n",
    "# Store the data in an arbitrarily nested dictionary\n",
    "tree = {\n",
    "    'foo': 42,\n",
    "    'name': 'Monty',\n",
    "    'sequence': sequence,\n",
    "    'powers': { 'squares' : squares },\n",
    "    'random': random\n",
    "}\n",
    "\n",
    "# Create the ASDF file object from our data tree\n",
    "af = asdf.AsdfFile(tree)\n",
    "\n",
    "# Write the data to a new file\n",
    "af.write_to('example.asdf',  all_array_compression='zlib')\n"
   ]
  },
  {
   "cell_type": "code",
   "execution_count": 5,
   "metadata": {},
   "outputs": [
    {
     "data": {
      "text/plain": [
       "{'asdf_library': {'author': 'Space Telescope Science Institute',\n",
       "  'homepage': 'http://github.com/spacetelescope/asdf',\n",
       "  'name': 'asdf',\n",
       "  'version': '2.3.3'},\n",
       " 'history': {'extensions': [<asdf.tags.core.ExtensionMetadata at 0x7ffb4b974b00>]},\n",
       " 'foo': 42,\n",
       " 'name': 'Monty',\n",
       " 'powers': {'squares': <array (unloaded) shape: [100] dtype: int64>},\n",
       " 'random': <array (unloaded) shape: [100] dtype: float64>,\n",
       " 'sequence': <array (unloaded) shape: [100] dtype: int64>}"
      ]
     },
     "execution_count": 5,
     "metadata": {},
     "output_type": "execute_result"
    }
   ],
   "source": [
    "af = asdf.open('example.asdf')\n",
    "af.tree"
   ]
  },
  {
   "cell_type": "code",
   "execution_count": 9,
   "metadata": {},
   "outputs": [
    {
     "data": {
      "text/plain": [
       "array([   0,    1,    4,    9,   16,   25,   36,   49,   64,   81,  100,\n",
       "        121,  144,  169,  196,  225,  256,  289,  324,  361,  400,  441,\n",
       "        484,  529,  576,  625,  676,  729,  784,  841,  900,  961, 1024,\n",
       "       1089, 1156, 1225, 1296, 1369, 1444, 1521, 1600, 1681, 1764, 1849,\n",
       "       1936, 2025, 2116, 2209, 2304, 2401, 2500, 2601, 2704, 2809, 2916,\n",
       "       3025, 3136, 3249, 3364, 3481, 3600, 3721, 3844, 3969, 4096, 4225,\n",
       "       4356, 4489, 4624, 4761, 4900, 5041, 5184, 5329, 5476, 5625, 5776,\n",
       "       5929, 6084, 6241, 6400, 6561, 6724, 6889, 7056, 7225, 7396, 7569,\n",
       "       7744, 7921, 8100, 8281, 8464, 8649, 8836, 9025, 9216, 9409, 9604,\n",
       "       9801])"
      ]
     },
     "execution_count": 9,
     "metadata": {},
     "output_type": "execute_result"
    }
   ],
   "source": [
    "af.tree['powers']['squares']"
   ]
  },
  {
   "cell_type": "code",
   "execution_count": null,
   "metadata": {},
   "outputs": [],
   "source": []
  }
 ],
 "metadata": {
  "kernelspec": {
   "display_name": "Python 3",
   "language": "python",
   "name": "python3"
  },
  "language_info": {
   "codemirror_mode": {
    "name": "ipython",
    "version": 3
   },
   "file_extension": ".py",
   "mimetype": "text/x-python",
   "name": "python",
   "nbconvert_exporter": "python",
   "pygments_lexer": "ipython3",
   "version": "3.6.8"
  },
  "toc": {
   "base_numbering": 1,
   "nav_menu": {},
   "number_sections": true,
   "sideBar": true,
   "skip_h1_title": false,
   "title_cell": "Table of Contents",
   "title_sidebar": "Contents",
   "toc_cell": false,
   "toc_position": {},
   "toc_section_display": true,
   "toc_window_display": false
  }
 },
 "nbformat": 4,
 "nbformat_minor": 2
}
