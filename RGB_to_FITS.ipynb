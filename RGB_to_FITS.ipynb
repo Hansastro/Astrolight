{
 "cells": [
  {
   "cell_type": "markdown",
   "metadata": {},
   "source": [
    "# RGB to FITS\n",
    "Convert a RGB image to a FITS files"
   ]
  },
  {
   "cell_type": "code",
   "execution_count": 13,
   "metadata": {
    "collapsed": true
   },
   "outputs": [],
   "source": [
    "from astropy.io import fits\n",
    "import os\n",
    "import cv2"
   ]
  },
  {
   "cell_type": "markdown",
   "metadata": {},
   "source": [
    "The first thing is to extract an RGB image like proposed in RAW_to_RGB or FITS_to_RGB. Here we will extract the data from a RAW file"
   ]
  },
  {
   "cell_type": "code",
   "execution_count": 9,
   "metadata": {},
   "outputs": [],
   "source": [
    "sourcepath = \"./Test_Images\"\n",
    "sourcefile = \"Non_Defiltered\"\n",
    "# Read the RAW file with dcraw and write the result in a PGM file.\n",
    "os.system('dcraw -d -4 ' + sourcepath +'/' + sourcefile + '.CR2')\n",
    "\n",
    "# Read the PGM file with opencv\n",
    "image = cv2.imread(\"./Test_Images/Non_Defiltered.pgm\", cv2.IMREAD_UNCHANGED)\n",
    "\n",
    "# Debayer the PGM file\n",
    "RGB_image = cv2.cvtColor(image, cv2.COLOR_BayerBG2RGB)"
   ]
  },
  {
   "cell_type": "code",
   "execution_count": 10,
   "metadata": {},
   "outputs": [
    {
     "data": {
      "text/plain": [
       "array([[[19957, 23724, 31516],\n",
       "        [19957, 23724, 31516],\n",
       "        [20678, 23420, 31783],\n",
       "        ..., \n",
       "        [ 5916,  5351,  4973],\n",
       "        [ 5789,  5348,  4864],\n",
       "        [ 5789,  5348,  4864]],\n",
       "\n",
       "       [[19957, 23724, 31516],\n",
       "        [19957, 23724, 31516],\n",
       "        [20678, 23420, 31783],\n",
       "        ..., \n",
       "        [ 5916,  5351,  4973],\n",
       "        [ 5789,  5348,  4864],\n",
       "        [ 5789,  5348,  4864]],\n",
       "\n",
       "       [[19666, 24406, 32133],\n",
       "        [19666, 24406, 32133],\n",
       "        [20905, 23624, 32210],\n",
       "        ..., \n",
       "        [ 5709,  5289,  4924],\n",
       "        [ 5414,  5226,  4898],\n",
       "        [ 5414,  5226,  4898]],\n",
       "\n",
       "       ..., \n",
       "       [[ 9494, 10220, 10871],\n",
       "        [ 9494, 10220, 10871],\n",
       "        [ 9876,  9708, 10792],\n",
       "        ..., \n",
       "        [11639, 11763, 12212],\n",
       "        [11632, 11315, 12195],\n",
       "        [11632, 11315, 12195]],\n",
       "\n",
       "       [[ 9454,  9723, 10848],\n",
       "        [ 9454,  9723, 10848],\n",
       "        [ 9528,  9925, 10600],\n",
       "        ..., \n",
       "        [11143, 11177, 12201],\n",
       "        [11505, 11147, 12107],\n",
       "        [11505, 11147, 12107]],\n",
       "\n",
       "       [[ 9454,  9723, 10848],\n",
       "        [ 9454,  9723, 10848],\n",
       "        [ 9528,  9925, 10600],\n",
       "        ..., \n",
       "        [11143, 11177, 12201],\n",
       "        [11505, 11147, 12107],\n",
       "        [11505, 11147, 12107]]], dtype=uint16)"
      ]
     },
     "execution_count": 10,
     "metadata": {},
     "output_type": "execute_result"
    }
   ],
   "source": [
    "RGB_image"
   ]
  },
  {
   "cell_type": "markdown",
   "metadata": {},
   "source": [
    "We create now the FITS file with the astropy module.\n",
    "We create first the primary HDU"
   ]
  },
  {
   "cell_type": "code",
   "execution_count": 14,
   "metadata": {},
   "outputs": [],
   "source": [
    "hdu = fits.PrimaryHDU(RGB_image)"
   ]
  },
  {
   "cell_type": "markdown",
   "metadata": {},
   "source": [
    "Now we create a list to store our HDU"
   ]
  },
  {
   "cell_type": "code",
   "execution_count": 19,
   "metadata": {
    "collapsed": true
   },
   "outputs": [],
   "source": [
    "hdulist = fits.HDUList([hdu])"
   ]
  },
  {
   "cell_type": "markdown",
   "metadata": {},
   "source": [
    "We can add some fields according as needed:"
   ]
  },
  {
   "cell_type": "code",
   "execution_count": 20,
   "metadata": {
    "collapsed": true
   },
   "outputs": [],
   "source": [
    "hdulist[0].header.set('OBSERVER','Hansastro')"
   ]
  },
  {
   "cell_type": "markdown",
   "metadata": {},
   "source": [
    "And we write the result in the target file. The overwrite parameter is needed if there is a risk that the file exists. This parameter is set to false per default. If the file exists, an error is returned."
   ]
  },
  {
   "cell_type": "code",
   "execution_count": 22,
   "metadata": {},
   "outputs": [],
   "source": [
    "hdulist.writeto('test.fits', overwrite=True)"
   ]
  }
 ],
 "metadata": {
  "kernelspec": {
   "display_name": "Python 3",
   "language": "python",
   "name": "python3"
  },
  "language_info": {
   "codemirror_mode": {
    "name": "ipython",
    "version": 3
   },
   "file_extension": ".py",
   "mimetype": "text/x-python",
   "name": "python",
   "nbconvert_exporter": "python",
   "pygments_lexer": "ipython3",
   "version": "3.5.2"
  }
 },
 "nbformat": 4,
 "nbformat_minor": 2
}
