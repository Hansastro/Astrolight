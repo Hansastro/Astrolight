{
 "cells": [
  {
   "cell_type": "code",
   "execution_count": 1,
   "metadata": {},
   "outputs": [],
   "source": [
    "import numpy as np\n",
    "import math\n",
    "import matplotlib.pyplot as plt\n",
    "import random\n",
    "\n",
    "%matplotlib notebook\n",
    "%config InlineBackend.print_figure_kwargs = {}"
   ]
  },
  {
   "cell_type": "code",
   "execution_count": 2,
   "metadata": {},
   "outputs": [],
   "source": [
    "npArray = np.zeros([3194, 5822, 3], dtype=np.int32)"
   ]
  },
  {
   "cell_type": "code",
   "execution_count": 3,
   "metadata": {},
   "outputs": [
    {
     "data": {
      "text/plain": [
       "55786404"
      ]
     },
     "execution_count": 3,
     "metadata": {},
     "output_type": "execute_result"
    }
   ],
   "source": [
    "npArray.size"
   ]
  },
  {
   "cell_type": "code",
   "execution_count": 4,
   "metadata": {},
   "outputs": [
    {
     "data": {
      "text/plain": [
       "6000000"
      ]
     },
     "execution_count": 4,
     "metadata": {},
     "output_type": "execute_result"
    }
   ],
   "source": [
    "1000*2000*3"
   ]
  },
  {
   "cell_type": "code",
   "execution_count": 5,
   "metadata": {},
   "outputs": [
    {
     "data": {
      "text/plain": [
       "223145616"
      ]
     },
     "execution_count": 5,
     "metadata": {},
     "output_type": "execute_result"
    }
   ],
   "source": [
    "npArray.nbytes"
   ]
  },
  {
   "cell_type": "code",
   "execution_count": 6,
   "metadata": {},
   "outputs": [],
   "source": [
    "def splitNpArray(npArray, maxSize):\n",
    "    arraySize = npArray.nbytes\n",
    "    arrayShape = npArray.shape[0:2]\n",
    "    aspectRatio = arrayShape[1] / arrayShape[0]\n",
    "    nbBlocks = math.ceil(arraySize / maxSize)  \n",
    "    \n",
    "    nbX = math.sqrt(nbBlocks)\n",
    "    nbY = math.sqrt(nbBlocks)\n",
    "    \n",
    "    #nbX = math.sqrt(nbBlocks) * aspectRatio\n",
    "    #nbY = math.sqrt(nbBlocks) / aspectRatio\n",
    "    \n",
    "    splits = []\n",
    "    for x in range(0, arrayShape[0], round(arrayShape[0]/nbX)):\n",
    "        for y in range(0, arrayShape[1], round(arrayShape[1]/nbY)):\n",
    "            splits.append([[x, x + round(arrayShape[0]/nbX)], [y, y + round(arrayShape[1]/nbY)]])\n",
    "            #print(f\"({x}-{x + math.ceil(arrayShape[0]/nbX)}, {y}-{y + math.ceil(arrayShape[1]/nbY)})\")\n",
    "    \n",
    "    return splits        "
   ]
  },
  {
   "cell_type": "code",
   "execution_count": 7,
   "metadata": {},
   "outputs": [],
   "source": [
    "def paintNbArray(npArray, splits):\n",
    "    for s in splits:\n",
    "        npArray[s[0][0]:s[0][1], s[1][0]:s[1][1]] = random_color()"
   ]
  },
  {
   "cell_type": "code",
   "execution_count": 8,
   "metadata": {},
   "outputs": [],
   "source": [
    "def random_color():\n",
    "    levels = range(32,256,32)\n",
    "    return tuple(random.choice(levels) for _ in range(3))"
   ]
  },
  {
   "cell_type": "code",
   "execution_count": 9,
   "metadata": {},
   "outputs": [
    {
     "data": {
      "text/plain": [
       "(32, 64, 64)"
      ]
     },
     "execution_count": 9,
     "metadata": {},
     "output_type": "execute_result"
    }
   ],
   "source": [
    "random_color()"
   ]
  },
  {
   "cell_type": "code",
   "execution_count": 10,
   "metadata": {},
   "outputs": [],
   "source": [
    "splits = splitNpArray(npArray, 1500000)"
   ]
  },
  {
   "cell_type": "code",
   "execution_count": 11,
   "metadata": {},
   "outputs": [],
   "source": [
    "paintNbArray(npArray, splits)"
   ]
  },
  {
   "cell_type": "code",
   "execution_count": 12,
   "metadata": {},
   "outputs": [
    {
     "data": {
      "text/plain": [
       "1499688"
      ]
     },
     "execution_count": 12,
     "metadata": {},
     "output_type": "execute_result"
    }
   ],
   "source": [
    "splits[0][0][1] * splits[0][1][1] * 3 * 4"
   ]
  },
  {
   "cell_type": "code",
   "execution_count": 18,
   "metadata": {},
   "outputs": [
    {
     "data": {
      "text/plain": [
       "1499688"
      ]
     },
     "execution_count": 18,
     "metadata": {},
     "output_type": "execute_result"
    }
   ],
   "source": [
    "262*477*3*4"
   ]
  },
  {
   "cell_type": "code",
   "execution_count": 14,
   "metadata": {},
   "outputs": [
    {
     "data": {
      "text/plain": [
       "[[[0, 262], [0, 477]],\n",
       " [[0, 262], [477, 954]],\n",
       " [[0, 262], [954, 1431]],\n",
       " [[0, 262], [1431, 1908]],\n",
       " [[0, 262], [1908, 2385]],\n",
       " [[0, 262], [2385, 2862]],\n",
       " [[0, 262], [2862, 3339]],\n",
       " [[0, 262], [3339, 3816]],\n",
       " [[0, 262], [3816, 4293]],\n",
       " [[0, 262], [4293, 4770]],\n",
       " [[0, 262], [4770, 5247]],\n",
       " [[0, 262], [5247, 5724]],\n",
       " [[0, 262], [5724, 6201]],\n",
       " [[262, 524], [0, 477]],\n",
       " [[262, 524], [477, 954]],\n",
       " [[262, 524], [954, 1431]],\n",
       " [[262, 524], [1431, 1908]],\n",
       " [[262, 524], [1908, 2385]],\n",
       " [[262, 524], [2385, 2862]],\n",
       " [[262, 524], [2862, 3339]],\n",
       " [[262, 524], [3339, 3816]],\n",
       " [[262, 524], [3816, 4293]],\n",
       " [[262, 524], [4293, 4770]],\n",
       " [[262, 524], [4770, 5247]],\n",
       " [[262, 524], [5247, 5724]],\n",
       " [[262, 524], [5724, 6201]],\n",
       " [[524, 786], [0, 477]],\n",
       " [[524, 786], [477, 954]],\n",
       " [[524, 786], [954, 1431]],\n",
       " [[524, 786], [1431, 1908]],\n",
       " [[524, 786], [1908, 2385]],\n",
       " [[524, 786], [2385, 2862]],\n",
       " [[524, 786], [2862, 3339]],\n",
       " [[524, 786], [3339, 3816]],\n",
       " [[524, 786], [3816, 4293]],\n",
       " [[524, 786], [4293, 4770]],\n",
       " [[524, 786], [4770, 5247]],\n",
       " [[524, 786], [5247, 5724]],\n",
       " [[524, 786], [5724, 6201]],\n",
       " [[786, 1048], [0, 477]],\n",
       " [[786, 1048], [477, 954]],\n",
       " [[786, 1048], [954, 1431]],\n",
       " [[786, 1048], [1431, 1908]],\n",
       " [[786, 1048], [1908, 2385]],\n",
       " [[786, 1048], [2385, 2862]],\n",
       " [[786, 1048], [2862, 3339]],\n",
       " [[786, 1048], [3339, 3816]],\n",
       " [[786, 1048], [3816, 4293]],\n",
       " [[786, 1048], [4293, 4770]],\n",
       " [[786, 1048], [4770, 5247]],\n",
       " [[786, 1048], [5247, 5724]],\n",
       " [[786, 1048], [5724, 6201]],\n",
       " [[1048, 1310], [0, 477]],\n",
       " [[1048, 1310], [477, 954]],\n",
       " [[1048, 1310], [954, 1431]],\n",
       " [[1048, 1310], [1431, 1908]],\n",
       " [[1048, 1310], [1908, 2385]],\n",
       " [[1048, 1310], [2385, 2862]],\n",
       " [[1048, 1310], [2862, 3339]],\n",
       " [[1048, 1310], [3339, 3816]],\n",
       " [[1048, 1310], [3816, 4293]],\n",
       " [[1048, 1310], [4293, 4770]],\n",
       " [[1048, 1310], [4770, 5247]],\n",
       " [[1048, 1310], [5247, 5724]],\n",
       " [[1048, 1310], [5724, 6201]],\n",
       " [[1310, 1572], [0, 477]],\n",
       " [[1310, 1572], [477, 954]],\n",
       " [[1310, 1572], [954, 1431]],\n",
       " [[1310, 1572], [1431, 1908]],\n",
       " [[1310, 1572], [1908, 2385]],\n",
       " [[1310, 1572], [2385, 2862]],\n",
       " [[1310, 1572], [2862, 3339]],\n",
       " [[1310, 1572], [3339, 3816]],\n",
       " [[1310, 1572], [3816, 4293]],\n",
       " [[1310, 1572], [4293, 4770]],\n",
       " [[1310, 1572], [4770, 5247]],\n",
       " [[1310, 1572], [5247, 5724]],\n",
       " [[1310, 1572], [5724, 6201]],\n",
       " [[1572, 1834], [0, 477]],\n",
       " [[1572, 1834], [477, 954]],\n",
       " [[1572, 1834], [954, 1431]],\n",
       " [[1572, 1834], [1431, 1908]],\n",
       " [[1572, 1834], [1908, 2385]],\n",
       " [[1572, 1834], [2385, 2862]],\n",
       " [[1572, 1834], [2862, 3339]],\n",
       " [[1572, 1834], [3339, 3816]],\n",
       " [[1572, 1834], [3816, 4293]],\n",
       " [[1572, 1834], [4293, 4770]],\n",
       " [[1572, 1834], [4770, 5247]],\n",
       " [[1572, 1834], [5247, 5724]],\n",
       " [[1572, 1834], [5724, 6201]],\n",
       " [[1834, 2096], [0, 477]],\n",
       " [[1834, 2096], [477, 954]],\n",
       " [[1834, 2096], [954, 1431]],\n",
       " [[1834, 2096], [1431, 1908]],\n",
       " [[1834, 2096], [1908, 2385]],\n",
       " [[1834, 2096], [2385, 2862]],\n",
       " [[1834, 2096], [2862, 3339]],\n",
       " [[1834, 2096], [3339, 3816]],\n",
       " [[1834, 2096], [3816, 4293]],\n",
       " [[1834, 2096], [4293, 4770]],\n",
       " [[1834, 2096], [4770, 5247]],\n",
       " [[1834, 2096], [5247, 5724]],\n",
       " [[1834, 2096], [5724, 6201]],\n",
       " [[2096, 2358], [0, 477]],\n",
       " [[2096, 2358], [477, 954]],\n",
       " [[2096, 2358], [954, 1431]],\n",
       " [[2096, 2358], [1431, 1908]],\n",
       " [[2096, 2358], [1908, 2385]],\n",
       " [[2096, 2358], [2385, 2862]],\n",
       " [[2096, 2358], [2862, 3339]],\n",
       " [[2096, 2358], [3339, 3816]],\n",
       " [[2096, 2358], [3816, 4293]],\n",
       " [[2096, 2358], [4293, 4770]],\n",
       " [[2096, 2358], [4770, 5247]],\n",
       " [[2096, 2358], [5247, 5724]],\n",
       " [[2096, 2358], [5724, 6201]],\n",
       " [[2358, 2620], [0, 477]],\n",
       " [[2358, 2620], [477, 954]],\n",
       " [[2358, 2620], [954, 1431]],\n",
       " [[2358, 2620], [1431, 1908]],\n",
       " [[2358, 2620], [1908, 2385]],\n",
       " [[2358, 2620], [2385, 2862]],\n",
       " [[2358, 2620], [2862, 3339]],\n",
       " [[2358, 2620], [3339, 3816]],\n",
       " [[2358, 2620], [3816, 4293]],\n",
       " [[2358, 2620], [4293, 4770]],\n",
       " [[2358, 2620], [4770, 5247]],\n",
       " [[2358, 2620], [5247, 5724]],\n",
       " [[2358, 2620], [5724, 6201]],\n",
       " [[2620, 2882], [0, 477]],\n",
       " [[2620, 2882], [477, 954]],\n",
       " [[2620, 2882], [954, 1431]],\n",
       " [[2620, 2882], [1431, 1908]],\n",
       " [[2620, 2882], [1908, 2385]],\n",
       " [[2620, 2882], [2385, 2862]],\n",
       " [[2620, 2882], [2862, 3339]],\n",
       " [[2620, 2882], [3339, 3816]],\n",
       " [[2620, 2882], [3816, 4293]],\n",
       " [[2620, 2882], [4293, 4770]],\n",
       " [[2620, 2882], [4770, 5247]],\n",
       " [[2620, 2882], [5247, 5724]],\n",
       " [[2620, 2882], [5724, 6201]],\n",
       " [[2882, 3144], [0, 477]],\n",
       " [[2882, 3144], [477, 954]],\n",
       " [[2882, 3144], [954, 1431]],\n",
       " [[2882, 3144], [1431, 1908]],\n",
       " [[2882, 3144], [1908, 2385]],\n",
       " [[2882, 3144], [2385, 2862]],\n",
       " [[2882, 3144], [2862, 3339]],\n",
       " [[2882, 3144], [3339, 3816]],\n",
       " [[2882, 3144], [3816, 4293]],\n",
       " [[2882, 3144], [4293, 4770]],\n",
       " [[2882, 3144], [4770, 5247]],\n",
       " [[2882, 3144], [5247, 5724]],\n",
       " [[2882, 3144], [5724, 6201]],\n",
       " [[3144, 3406], [0, 477]],\n",
       " [[3144, 3406], [477, 954]],\n",
       " [[3144, 3406], [954, 1431]],\n",
       " [[3144, 3406], [1431, 1908]],\n",
       " [[3144, 3406], [1908, 2385]],\n",
       " [[3144, 3406], [2385, 2862]],\n",
       " [[3144, 3406], [2862, 3339]],\n",
       " [[3144, 3406], [3339, 3816]],\n",
       " [[3144, 3406], [3816, 4293]],\n",
       " [[3144, 3406], [4293, 4770]],\n",
       " [[3144, 3406], [4770, 5247]],\n",
       " [[3144, 3406], [5247, 5724]],\n",
       " [[3144, 3406], [5724, 6201]]]"
      ]
     },
     "execution_count": 14,
     "metadata": {},
     "output_type": "execute_result"
    }
   ],
   "source": [
    "splits"
   ]
  },
  {
   "cell_type": "code",
   "execution_count": 15,
   "metadata": {},
   "outputs": [
    {
     "data": {
      "image/png": "[encoded data removed]",
      "text/plain": [
       "<Figure size 432x288 with 1 Axes>"
      ]
     },
     "metadata": {
      "needs_background": "light"
     },
     "output_type": "display_data"
    }
   ],
   "source": [
    "\n",
    "plt.imshow(npArray, aspect='auto', interpolation=None)\n",
    "plt.tight_layout()"
   ]
  },
  {
   "cell_type": "code",
   "execution_count": null,
   "metadata": {},
   "outputs": [],
   "source": []
  }
 ],
 "metadata": {
  "kernelspec": {
   "display_name": "Python 3",
   "language": "python",
   "name": "python3"
  },
  "language_info": {
   "codemirror_mode": {
    "name": "ipython",
    "version": 3
   },
   "file_extension": ".py",
   "mimetype": "text/x-python",
   "name": "python",
   "nbconvert_exporter": "python",
   "pygments_lexer": "ipython3",
   "version": "3.6.8"
  },
  "toc": {
   "base_numbering": 1,
   "nav_menu": {},
   "number_sections": true,
   "sideBar": true,
   "skip_h1_title": false,
   "title_cell": "Table of Contents",
   "title_sidebar": "Contents",
   "toc_cell": false,
   "toc_position": {},
   "toc_section_display": true,
   "toc_window_display": false
  }
 },
 "nbformat": 4,
 "nbformat_minor": 2
}
