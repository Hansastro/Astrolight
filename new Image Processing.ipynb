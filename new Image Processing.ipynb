{
 "cells": [
  {
   "cell_type": "code",
   "execution_count": 1,
   "metadata": {},
   "outputs": [],
   "source": [
    "%matplotlib inline"
   ]
  },
  {
   "cell_type": "markdown",
   "metadata": {},
   "source": [
    "# Process RAW Astro Images"
   ]
  },
  {
   "cell_type": "markdown",
   "metadata": {},
   "source": [
    "## Configuration information"
   ]
  },
  {
   "cell_type": "code",
   "execution_count": 2,
   "metadata": {},
   "outputs": [],
   "source": [
    "OffsetsDir = r'/home/jean-phi/Projects/Astrolights/Test_Images/Lagoon/BIAS'\n",
    "FlatsDir = r'/home/jean-phi/Projects/Astrolights/Test_Images/Lagoon/FLAT'\n",
    "DarksDir = r'/home/jean-phi/Projects/Astrolights/Test_Images/Lagoon/DARK'\n",
    "LightsDir = r'/home/jean-phi/Projects/Astrolights/Test_Images/Lagoon/LIGHT'\n",
    "\n",
    "parameters = {'OFFSET': OffsetsDir, 'FLAT':FlatsDir, 'DARK':DarksDir, 'LIGHT':LightsDir}"
   ]
  },
  {
   "cell_type": "markdown",
   "metadata": {},
   "source": [
    "## Master Generation"
   ]
  },
  {
   "cell_type": "markdown",
   "metadata": {},
   "source": [
    "### Master Offset"
   ]
  },
  {
   "cell_type": "code",
   "execution_count": 3,
   "metadata": {},
   "outputs": [],
   "source": [
    "import os\n",
    "import re\n",
    "import rawpy\n",
    "import imageio\n",
    "import numpy as np\n",
    "\n",
    "RAW_FORMAT = ['CR2', 'NEF']\n",
    "VALID_FILE_EXTENTION = RAW_FORMAT + ['FIT', 'ASDF']\n",
    "\n",
    "def buildValidFileExtentionRegex(validFileExtentionArray):\n",
    "    resRegex = r'|'\n",
    "    resRegex = r'^.*\\.(' + resRegex.join(validFileExtentionArray) + ')$'\n",
    "    \n",
    "    return resRegex\n",
    "\n",
    "def getFileList(method='directory', parameters={}):\n",
    "    filesType = ['OFFSET', 'FLAT', 'DARK', 'LIGHT']\n",
    "    files = {}\n",
    "    # TODO: Add regex for accepted file extentions\n",
    "    matchFiles = re.compile(buildValidFileExtentionRegex(VALID_FILE_EXTENTION))\n",
    "    if method == 'directory':\n",
    "        for fileType in filesType:\n",
    "            if fileType in parameters:\n",
    "                files[fileType] = [os.path.join(parameters[fileType], f) for f in os.listdir(parameters[fileType]) if matchFiles.match(f)]\n",
    "    else:\n",
    "        raise ValueError(\"Method {}: Import unkown import method\".format(method))\n",
    "    \n",
    "    return files"
   ]
  },
  {
   "cell_type": "code",
   "execution_count": 4,
   "metadata": {},
   "outputs": [],
   "source": [
    "listFiles = getFileList(parameters=parameters)"
   ]
  },
  {
   "cell_type": "code",
   "execution_count": null,
   "metadata": {},
   "outputs": [],
   "source": [
    "%timeit\n",
    "tobeTreated = listFiles['OFFSET'][0:15]\n",
    "with rawpy.imread(tobeTreated[0]) as raw:\n",
    "        #rgb = raw.postprocess()\n",
    "        #rgb = raw.postprocess(gamma=(1,1), no_auto_bright=True, output_bps=16)\n",
    "        firstImage = raw.postprocess(no_auto_bright=True, output_bps=16)\n",
    "\n",
    "res = np.empty(firstImage.shape + (len(tobeTreated),), np.int32)\n",
    "res[:,:,:,0] = firstImage\n",
    "cpt = 1\n",
    "        \n",
    "for f in tobeTreated[1:]:\n",
    "    with rawpy.imread(f) as raw:\n",
    "        #rgb = raw.postprocess()\n",
    "        #rgb = raw.postprocess(gamma=(1,1), no_auto_bright=True, output_bps=16)\n",
    "        res[:,:,:,cpt] = raw.postprocess(no_auto_bright=True, output_bps=16)\n",
    "        cpt += 1"
   ]
  },
  {
   "cell_type": "code",
   "execution_count": null,
   "metadata": {},
   "outputs": [],
   "source": [
    "res.shape"
   ]
  },
  {
   "cell_type": "code",
   "execution_count": null,
   "metadata": {},
   "outputs": [],
   "source": [
    "res.size"
   ]
  },
  {
   "cell_type": "code",
   "execution_count": null,
   "metadata": {},
   "outputs": [],
   "source": [
    "resMedian = np.median(res, axis=3)"
   ]
  },
  {
   "cell_type": "code",
   "execution_count": null,
   "metadata": {},
   "outputs": [],
   "source": [
    "resMedian.shape"
   ]
  },
  {
   "cell_type": "code",
   "execution_count": null,
   "metadata": {},
   "outputs": [],
   "source": [
    "resMedian"
   ]
  },
  {
   "cell_type": "code",
   "execution_count": null,
   "metadata": {},
   "outputs": [],
   "source": [
    "import matplotlib.pyplot as plt\n",
    "plt.imshow(resMedian)\n",
    "plt.show()"
   ]
  },
  {
   "cell_type": "code",
   "execution_count": null,
   "metadata": {},
   "outputs": [],
   "source": []
  }
 ],
 "metadata": {
  "kernelspec": {
   "display_name": "Python 3",
   "language": "python",
   "name": "python3"
  },
  "language_info": {
   "codemirror_mode": {
    "name": "ipython",
    "version": 3
   },
   "file_extension": ".py",
   "mimetype": "text/x-python",
   "name": "python",
   "nbconvert_exporter": "python",
   "pygments_lexer": "ipython3",
   "version": "3.6.8"
  },
  "toc": {
   "base_numbering": 1,
   "nav_menu": {},
   "number_sections": true,
   "sideBar": true,
   "skip_h1_title": false,
   "title_cell": "Table of Contents",
   "title_sidebar": "Contents",
   "toc_cell": false,
   "toc_position": {},
   "toc_section_display": true,
   "toc_window_display": false
  }
 },
 "nbformat": 4,
 "nbformat_minor": 2
}
