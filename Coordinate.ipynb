{
 "cells": [
  {
   "cell_type": "code",
   "execution_count": 37,
   "metadata": {},
   "outputs": [],
   "source": [
    "import pandas as pd\n",
    "import re\n",
    "import matplotlib.pyplot as plt\n",
    "import math"
   ]
  },
  {
   "cell_type": "code",
   "execution_count": 2,
   "metadata": {},
   "outputs": [],
   "source": [
    "df = pd.read_excel('Stars List.xlsx', skiprows=1)"
   ]
  },
  {
   "cell_type": "code",
   "execution_count": 3,
   "metadata": {},
   "outputs": [
    {
     "data": {
      "text/html": [
       "<div>\n",
       "<style scoped>\n",
       "    .dataframe tbody tr th:only-of-type {\n",
       "        vertical-align: middle;\n",
       "    }\n",
       "\n",
       "    .dataframe tbody tr th {\n",
       "        vertical-align: top;\n",
       "    }\n",
       "\n",
       "    .dataframe thead th {\n",
       "        text-align: right;\n",
       "    }\n",
       "</style>\n",
       "<table border=\"1\" class=\"dataframe\">\n",
       "  <thead>\n",
       "    <tr style=\"text-align: right;\">\n",
       "      <th></th>\n",
       "      <th>Constellation</th>\n",
       "      <th>Common Name</th>\n",
       "      <th>Name</th>\n",
       "      <th>HD</th>\n",
       "      <th>Hipparcos Catalogue</th>\n",
       "      <th>RA</th>\n",
       "      <th>Dec</th>\n",
       "      <th>vis.\n",
       "mag.</th>\n",
       "      <th>abs.\n",
       "mag.</th>\n",
       "      <th>Dist. (ly)</th>\n",
       "      <th>Sp. class</th>\n",
       "      <th>Notes</th>\n",
       "    </tr>\n",
       "  </thead>\n",
       "  <tbody>\n",
       "    <tr>\n",
       "      <th>0</th>\n",
       "      <td>UMa</td>\n",
       "      <td>Alkaid</td>\n",
       "      <td>η UMa</td>\n",
       "      <td>120315</td>\n",
       "      <td>67301</td>\n",
       "      <td>13h 47m 32.55s</td>\n",
       "      <td>+49° 18′ 47.9″</td>\n",
       "      <td>1.85</td>\n",
       "      <td>−0.60</td>\n",
       "      <td>101</td>\n",
       "      <td>B3V SB</td>\n",
       "      <td>Benetnasch, Alkaid, Elkeid</td>\n",
       "    </tr>\n",
       "    <tr>\n",
       "      <th>1</th>\n",
       "      <td>UMa</td>\n",
       "      <td>Alcor</td>\n",
       "      <td>ζ UMa</td>\n",
       "      <td>116842</td>\n",
       "      <td>65477</td>\n",
       "      <td>13h 25m 13.54s</td>\n",
       "      <td>+54° 59′ 16.7″</td>\n",
       "      <td>3.99</td>\n",
       "      <td>2</td>\n",
       "      <td>82</td>\n",
       "      <td>A5Vn</td>\n",
       "      <td>Saidak, Suha, Arundhati; naked-eye double star...</td>\n",
       "    </tr>\n",
       "    <tr>\n",
       "      <th>2</th>\n",
       "      <td>UMa</td>\n",
       "      <td>Mizar</td>\n",
       "      <td>ζ1 UMa</td>\n",
       "      <td>116656</td>\n",
       "      <td>65378</td>\n",
       "      <td>13h 23m 55.54s</td>\n",
       "      <td>+54° 55′ 31.3″</td>\n",
       "      <td>2.23</td>\n",
       "      <td>0.32</td>\n",
       "      <td>83</td>\n",
       "      <td>A2V SB</td>\n",
       "      <td>Mizar A; spectroscopic binary, visual double s...</td>\n",
       "    </tr>\n",
       "    <tr>\n",
       "      <th>3</th>\n",
       "      <td>UMa</td>\n",
       "      <td>Alioth</td>\n",
       "      <td>ε UMa</td>\n",
       "      <td>112185</td>\n",
       "      <td>62956</td>\n",
       "      <td>12h 54m 01.63s</td>\n",
       "      <td>+55° 57′ 35.4″</td>\n",
       "      <td>1.76</td>\n",
       "      <td>−0.21</td>\n",
       "      <td>81</td>\n",
       "      <td>A0p</td>\n",
       "      <td>Alioth; brown dwarf companion?; α² CVn variable</td>\n",
       "    </tr>\n",
       "    <tr>\n",
       "      <th>4</th>\n",
       "      <td>UMa</td>\n",
       "      <td>Megrez</td>\n",
       "      <td>δ UMa</td>\n",
       "      <td>106591</td>\n",
       "      <td>59774</td>\n",
       "      <td>12h 15m 25.45s</td>\n",
       "      <td>+57° 01′ 57.4″</td>\n",
       "      <td>3.32</td>\n",
       "      <td>1.33</td>\n",
       "      <td>81</td>\n",
       "      <td>A3Vvar</td>\n",
       "      <td>Megrez, Kaffa</td>\n",
       "    </tr>\n",
       "    <tr>\n",
       "      <th>5</th>\n",
       "      <td>UMa</td>\n",
       "      <td>Dubhe</td>\n",
       "      <td>α UMa</td>\n",
       "      <td>95689</td>\n",
       "      <td>54061</td>\n",
       "      <td>11h 03m 43.84s</td>\n",
       "      <td>+61° 45′ 04.0″</td>\n",
       "      <td>1.81</td>\n",
       "      <td>−1.08</td>\n",
       "      <td>124</td>\n",
       "      <td>F7V comp</td>\n",
       "      <td>Dubhe, Dubh, Dubb, Thahr al Dub al Akbar, Ak</td>\n",
       "    </tr>\n",
       "    <tr>\n",
       "      <th>6</th>\n",
       "      <td>UMa</td>\n",
       "      <td>Merak</td>\n",
       "      <td>β UMa</td>\n",
       "      <td>95418</td>\n",
       "      <td>53910</td>\n",
       "      <td>11h 01m 50.39s</td>\n",
       "      <td>+56° 22′ 56.4″</td>\n",
       "      <td>2.34</td>\n",
       "      <td>0.41</td>\n",
       "      <td>79</td>\n",
       "      <td>A1V</td>\n",
       "      <td>Merak, Mirak</td>\n",
       "    </tr>\n",
       "    <tr>\n",
       "      <th>7</th>\n",
       "      <td>UMa</td>\n",
       "      <td>Phecda</td>\n",
       "      <td>γ UMa</td>\n",
       "      <td>103287</td>\n",
       "      <td>58001</td>\n",
       "      <td>11h 53m 49.74s</td>\n",
       "      <td>+53° 41′ 41.0″</td>\n",
       "      <td>2.41</td>\n",
       "      <td>0.36</td>\n",
       "      <td>84</td>\n",
       "      <td>A0V SB</td>\n",
       "      <td>Phad, Phecda, Phegda, Phekha, Phacd</td>\n",
       "    </tr>\n",
       "  </tbody>\n",
       "</table>\n",
       "</div>"
      ],
      "text/plain": [
       "  Constellation Common Name    Name      HD  Hipparcos Catalogue  \\\n",
       "0           UMa      Alkaid   η UMa  120315                67301   \n",
       "1           UMa       Alcor   ζ UMa  116842                65477   \n",
       "2           UMa       Mizar  ζ1 UMa  116656                65378   \n",
       "3           UMa      Alioth   ε UMa  112185                62956   \n",
       "4           UMa      Megrez   δ UMa  106591                59774   \n",
       "5           UMa       Dubhe   α UMa   95689                54061   \n",
       "6           UMa       Merak   β UMa   95418                53910   \n",
       "7           UMa      Phecda   γ UMa  103287                58001   \n",
       "\n",
       "               RA             Dec  vis.\\nmag. abs.\\nmag.  Dist. (ly)  \\\n",
       "0  13h 47m 32.55s  +49° 18′ 47.9″        1.85      −0.60         101   \n",
       "1  13h 25m 13.54s  +54° 59′ 16.7″        3.99          2          82   \n",
       "2  13h 23m 55.54s  +54° 55′ 31.3″        2.23       0.32          83   \n",
       "3  12h 54m 01.63s  +55° 57′ 35.4″        1.76      −0.21          81   \n",
       "4  12h 15m 25.45s  +57° 01′ 57.4″        3.32       1.33          81   \n",
       "5  11h 03m 43.84s  +61° 45′ 04.0″        1.81      −1.08         124   \n",
       "6  11h 01m 50.39s  +56° 22′ 56.4″        2.34       0.41          79   \n",
       "7  11h 53m 49.74s  +53° 41′ 41.0″        2.41       0.36          84   \n",
       "\n",
       "  Sp. class                                              Notes  \n",
       "0    B3V SB                         Benetnasch, Alkaid, Elkeid  \n",
       "1      A5Vn  Saidak, Suha, Arundhati; naked-eye double star...  \n",
       "2    A2V SB  Mizar A; spectroscopic binary, visual double s...  \n",
       "3       A0p    Alioth; brown dwarf companion?; α² CVn variable  \n",
       "4    A3Vvar                                      Megrez, Kaffa  \n",
       "5  F7V comp       Dubhe, Dubh, Dubb, Thahr al Dub al Akbar, Ak  \n",
       "6       A1V                                       Merak, Mirak  \n",
       "7    A0V SB                Phad, Phecda, Phegda, Phekha, Phacd  "
      ]
     },
     "execution_count": 3,
     "metadata": {},
     "output_type": "execute_result"
    }
   ],
   "source": [
    "df"
   ]
  },
  {
   "cell_type": "code",
   "execution_count": 29,
   "metadata": {},
   "outputs": [],
   "source": [
    "def convert_RA_to_Num(value):\n",
    "    RA_Text = re.compile('\\+?(?P<hour>[0-9]{1,2})(?P<unit>[hH°]) ?((?P<minute>[0-9]{1,2}).)? ?((?P<second>[0-9]{1,2}\\.?[0-9]+).)?')\n",
    "    result = RA_Text.match(value)\n",
    "    if result:\n",
    "        coordonate = {}\n",
    "        for i in ['hour', 'minute', 'second']:\n",
    "            coordonate[i] = float(result.group(i)) if result.group(i) is not None else 0\n",
    "        if result.group('unit') in ['h', 'H']:\n",
    "            degree = coordonate['hour'] * 360 / 24\n",
    "        else:\n",
    "            degree = coordonate['hour']\n",
    "        res = degree + (coordonate['minute'] / 60) + (coordonate['second'] / 3600)\n",
    "    else:\n",
    "        res = None\n",
    "    \n",
    "    return res\n"
   ]
  },
  {
   "cell_type": "code",
   "execution_count": 30,
   "metadata": {},
   "outputs": [
    {
     "data": {
      "text/plain": [
       "49.31330555555555"
      ]
     },
     "execution_count": 30,
     "metadata": {},
     "output_type": "execute_result"
    }
   ],
   "source": [
    "convert_RA_to_Num('+49° 18′ 47.9″')"
   ]
  },
  {
   "cell_type": "code",
   "execution_count": 31,
   "metadata": {},
   "outputs": [],
   "source": [
    "df['RA_Num'] = df['RA'].apply(convert_RA_to_Num)\n",
    "df['Dec_Num'] = df['Dec'].apply(convert_RA_to_Num)\n"
   ]
  },
  {
   "cell_type": "code",
   "execution_count": 32,
   "metadata": {},
   "outputs": [
    {
     "data": {
      "text/html": [
       "<div>\n",
       "<style scoped>\n",
       "    .dataframe tbody tr th:only-of-type {\n",
       "        vertical-align: middle;\n",
       "    }\n",
       "\n",
       "    .dataframe tbody tr th {\n",
       "        vertical-align: top;\n",
       "    }\n",
       "\n",
       "    .dataframe thead th {\n",
       "        text-align: right;\n",
       "    }\n",
       "</style>\n",
       "<table border=\"1\" class=\"dataframe\">\n",
       "  <thead>\n",
       "    <tr style=\"text-align: right;\">\n",
       "      <th></th>\n",
       "      <th>Constellation</th>\n",
       "      <th>Common Name</th>\n",
       "      <th>Name</th>\n",
       "      <th>HD</th>\n",
       "      <th>Hipparcos Catalogue</th>\n",
       "      <th>RA</th>\n",
       "      <th>Dec</th>\n",
       "      <th>vis.\n",
       "mag.</th>\n",
       "      <th>abs.\n",
       "mag.</th>\n",
       "      <th>Dist. (ly)</th>\n",
       "      <th>Sp. class</th>\n",
       "      <th>Notes</th>\n",
       "      <th>RA_Num</th>\n",
       "      <th>Dec_Num</th>\n",
       "    </tr>\n",
       "  </thead>\n",
       "  <tbody>\n",
       "    <tr>\n",
       "      <th>0</th>\n",
       "      <td>UMa</td>\n",
       "      <td>Alkaid</td>\n",
       "      <td>η UMa</td>\n",
       "      <td>120315</td>\n",
       "      <td>67301</td>\n",
       "      <td>13h 47m 32.55s</td>\n",
       "      <td>+49° 18′ 47.9″</td>\n",
       "      <td>1.85</td>\n",
       "      <td>−0.60</td>\n",
       "      <td>101</td>\n",
       "      <td>B3V SB</td>\n",
       "      <td>Benetnasch, Alkaid, Elkeid</td>\n",
       "      <td>195.792375</td>\n",
       "      <td>49.313306</td>\n",
       "    </tr>\n",
       "    <tr>\n",
       "      <th>1</th>\n",
       "      <td>UMa</td>\n",
       "      <td>Alcor</td>\n",
       "      <td>ζ UMa</td>\n",
       "      <td>116842</td>\n",
       "      <td>65477</td>\n",
       "      <td>13h 25m 13.54s</td>\n",
       "      <td>+54° 59′ 16.7″</td>\n",
       "      <td>3.99</td>\n",
       "      <td>2</td>\n",
       "      <td>82</td>\n",
       "      <td>A5Vn</td>\n",
       "      <td>Saidak, Suha, Arundhati; naked-eye double star...</td>\n",
       "      <td>195.420428</td>\n",
       "      <td>54.987972</td>\n",
       "    </tr>\n",
       "    <tr>\n",
       "      <th>2</th>\n",
       "      <td>UMa</td>\n",
       "      <td>Mizar</td>\n",
       "      <td>ζ1 UMa</td>\n",
       "      <td>116656</td>\n",
       "      <td>65378</td>\n",
       "      <td>13h 23m 55.54s</td>\n",
       "      <td>+54° 55′ 31.3″</td>\n",
       "      <td>2.23</td>\n",
       "      <td>0.32</td>\n",
       "      <td>83</td>\n",
       "      <td>A2V SB</td>\n",
       "      <td>Mizar A; spectroscopic binary, visual double s...</td>\n",
       "      <td>195.398761</td>\n",
       "      <td>54.925361</td>\n",
       "    </tr>\n",
       "    <tr>\n",
       "      <th>3</th>\n",
       "      <td>UMa</td>\n",
       "      <td>Alioth</td>\n",
       "      <td>ε UMa</td>\n",
       "      <td>112185</td>\n",
       "      <td>62956</td>\n",
       "      <td>12h 54m 01.63s</td>\n",
       "      <td>+55° 57′ 35.4″</td>\n",
       "      <td>1.76</td>\n",
       "      <td>−0.21</td>\n",
       "      <td>81</td>\n",
       "      <td>A0p</td>\n",
       "      <td>Alioth; brown dwarf companion?; α² CVn variable</td>\n",
       "      <td>180.900453</td>\n",
       "      <td>55.959833</td>\n",
       "    </tr>\n",
       "    <tr>\n",
       "      <th>4</th>\n",
       "      <td>UMa</td>\n",
       "      <td>Megrez</td>\n",
       "      <td>δ UMa</td>\n",
       "      <td>106591</td>\n",
       "      <td>59774</td>\n",
       "      <td>12h 15m 25.45s</td>\n",
       "      <td>+57° 01′ 57.4″</td>\n",
       "      <td>3.32</td>\n",
       "      <td>1.33</td>\n",
       "      <td>81</td>\n",
       "      <td>A3Vvar</td>\n",
       "      <td>Megrez, Kaffa</td>\n",
       "      <td>180.257069</td>\n",
       "      <td>57.032611</td>\n",
       "    </tr>\n",
       "    <tr>\n",
       "      <th>5</th>\n",
       "      <td>UMa</td>\n",
       "      <td>Dubhe</td>\n",
       "      <td>α UMa</td>\n",
       "      <td>95689</td>\n",
       "      <td>54061</td>\n",
       "      <td>11h 03m 43.84s</td>\n",
       "      <td>+61° 45′ 04.0″</td>\n",
       "      <td>1.81</td>\n",
       "      <td>−1.08</td>\n",
       "      <td>124</td>\n",
       "      <td>F7V comp</td>\n",
       "      <td>Dubhe, Dubh, Dubb, Thahr al Dub al Akbar, Ak</td>\n",
       "      <td>165.062178</td>\n",
       "      <td>61.751111</td>\n",
       "    </tr>\n",
       "    <tr>\n",
       "      <th>6</th>\n",
       "      <td>UMa</td>\n",
       "      <td>Merak</td>\n",
       "      <td>β UMa</td>\n",
       "      <td>95418</td>\n",
       "      <td>53910</td>\n",
       "      <td>11h 01m 50.39s</td>\n",
       "      <td>+56° 22′ 56.4″</td>\n",
       "      <td>2.34</td>\n",
       "      <td>0.41</td>\n",
       "      <td>79</td>\n",
       "      <td>A1V</td>\n",
       "      <td>Merak, Mirak</td>\n",
       "      <td>165.030664</td>\n",
       "      <td>56.382333</td>\n",
       "    </tr>\n",
       "    <tr>\n",
       "      <th>7</th>\n",
       "      <td>UMa</td>\n",
       "      <td>Phecda</td>\n",
       "      <td>γ UMa</td>\n",
       "      <td>103287</td>\n",
       "      <td>58001</td>\n",
       "      <td>11h 53m 49.74s</td>\n",
       "      <td>+53° 41′ 41.0″</td>\n",
       "      <td>2.41</td>\n",
       "      <td>0.36</td>\n",
       "      <td>84</td>\n",
       "      <td>A0V SB</td>\n",
       "      <td>Phad, Phecda, Phegda, Phekha, Phacd</td>\n",
       "      <td>165.897150</td>\n",
       "      <td>53.694722</td>\n",
       "    </tr>\n",
       "  </tbody>\n",
       "</table>\n",
       "</div>"
      ],
      "text/plain": [
       "  Constellation Common Name    Name      HD  Hipparcos Catalogue  \\\n",
       "0           UMa      Alkaid   η UMa  120315                67301   \n",
       "1           UMa       Alcor   ζ UMa  116842                65477   \n",
       "2           UMa       Mizar  ζ1 UMa  116656                65378   \n",
       "3           UMa      Alioth   ε UMa  112185                62956   \n",
       "4           UMa      Megrez   δ UMa  106591                59774   \n",
       "5           UMa       Dubhe   α UMa   95689                54061   \n",
       "6           UMa       Merak   β UMa   95418                53910   \n",
       "7           UMa      Phecda   γ UMa  103287                58001   \n",
       "\n",
       "               RA             Dec  vis.\\nmag. abs.\\nmag.  Dist. (ly)  \\\n",
       "0  13h 47m 32.55s  +49° 18′ 47.9″        1.85      −0.60         101   \n",
       "1  13h 25m 13.54s  +54° 59′ 16.7″        3.99          2          82   \n",
       "2  13h 23m 55.54s  +54° 55′ 31.3″        2.23       0.32          83   \n",
       "3  12h 54m 01.63s  +55° 57′ 35.4″        1.76      −0.21          81   \n",
       "4  12h 15m 25.45s  +57° 01′ 57.4″        3.32       1.33          81   \n",
       "5  11h 03m 43.84s  +61° 45′ 04.0″        1.81      −1.08         124   \n",
       "6  11h 01m 50.39s  +56° 22′ 56.4″        2.34       0.41          79   \n",
       "7  11h 53m 49.74s  +53° 41′ 41.0″        2.41       0.36          84   \n",
       "\n",
       "  Sp. class                                              Notes      RA_Num  \\\n",
       "0    B3V SB                         Benetnasch, Alkaid, Elkeid  195.792375   \n",
       "1      A5Vn  Saidak, Suha, Arundhati; naked-eye double star...  195.420428   \n",
       "2    A2V SB  Mizar A; spectroscopic binary, visual double s...  195.398761   \n",
       "3       A0p    Alioth; brown dwarf companion?; α² CVn variable  180.900453   \n",
       "4    A3Vvar                                      Megrez, Kaffa  180.257069   \n",
       "5  F7V comp       Dubhe, Dubh, Dubb, Thahr al Dub al Akbar, Ak  165.062178   \n",
       "6       A1V                                       Merak, Mirak  165.030664   \n",
       "7    A0V SB                Phad, Phecda, Phegda, Phekha, Phacd  165.897150   \n",
       "\n",
       "     Dec_Num  \n",
       "0  49.313306  \n",
       "1  54.987972  \n",
       "2  54.925361  \n",
       "3  55.959833  \n",
       "4  57.032611  \n",
       "5  61.751111  \n",
       "6  56.382333  \n",
       "7  53.694722  "
      ]
     },
     "execution_count": 32,
     "metadata": {},
     "output_type": "execute_result"
    }
   ],
   "source": [
    "df"
   ]
  },
  {
   "cell_type": "code",
   "execution_count": 33,
   "metadata": {},
   "outputs": [
    {
     "name": "stdout",
     "output_type": "stream",
     "text": [
      "Dec: [195.792375, 49.31330555555555]\n",
      "Dec: [195.42042777777777, 54.987972222222226]\n",
      "Dec: [195.3987611111111, 54.92536111111111]\n",
      "Dec: [180.9004527777778, 55.959833333333336]\n",
      "Dec: [180.25706944444445, 57.03261111111111]\n",
      "Dec: [165.06217777777778, 61.75111111111111]\n",
      "Dec: [165.0306638888889, 56.382333333333335]\n",
      "Dec: [165.89714999999998, 53.69472222222222]\n"
     ]
    }
   ],
   "source": [
    "for i, txt in enumerate(df['Common Name']):\n",
    "    #print(i)\n",
    "    print('Dec: {}'.format(df.iloc[i][['RA_Num','Dec_Num']].values.tolist()))"
   ]
  },
  {
   "cell_type": "code",
   "execution_count": 34,
   "metadata": {},
   "outputs": [
    {
     "data": {
      "image/png": "[encoded data removed]",
      "text/plain": [
       "<Figure size 432x288 with 1 Axes>"
      ]
     },
     "metadata": {
      "needs_background": "light"
     },
     "output_type": "display_data"
    }
   ],
   "source": [
    "# Data for plotting\n",
    "fig, ax = plt.subplots()\n",
    "ax.scatter(df['RA_Num'], df['Dec_Num'])\n",
    "\n",
    "ax.set(xlabel='RA', ylabel='Dec',\n",
    "       title='About as simple as it gets, folks')\n",
    "ax.grid()\n",
    "\n",
    "for i, txt in enumerate(df['Common Name']):\n",
    "    ax.annotate(txt, df.iloc[i][['RA_Num','Dec_Num']].values.tolist())\n",
    "\n",
    "#fig.savefig(\"test.png\")\n",
    "plt.xlim(200, 160)\n",
    "#plt.ylim(63, 45)\n",
    "\n",
    "\n",
    "plt.show()"
   ]
  },
  {
   "cell_type": "code",
   "execution_count": 36,
   "metadata": {},
   "outputs": [
    {
     "data": {
      "text/plain": [
       "180.0"
      ]
     },
     "execution_count": 36,
     "metadata": {},
     "output_type": "execute_result"
    }
   ],
   "source": [
    "12*360/24"
   ]
  },
  {
   "cell_type": "code",
   "execution_count": 101,
   "metadata": {},
   "outputs": [],
   "source": [
    "def orthographic_Projection(point0, point):\n",
    "    R = 1000\n",
    "    lat = point[0] * math.pi / 180\n",
    "    long = point[1] * math.pi / 180\n",
    "    lat0 = point0[0] * math.pi / 180\n",
    "    long0 = point0[1] * math.pi / 180\n",
    "    \n",
    "    x = R * math.cos(lat) * math.sin(long - long0)\n",
    "    y = R * (math.cos(lat0)*math.sin(lat) - math.sin(lat0) * math.cos(lat) * math.cos(long - long0))\n",
    "    c = math.sin(lat0) * math.sin(lat) + math.cos(lat0) * math.cos(lat) * math.cos(long - long0)\n",
    "    \n",
    "    print(f\"x: {x}, y: {y}, c:{c}\")\n",
    "    #if c >= 0:\n",
    "    return (x,y)\n",
    "    #else:\n",
    "    #    return None"
   ]
  },
  {
   "cell_type": "code",
   "execution_count": 102,
   "metadata": {},
   "outputs": [
    {
     "name": "stdout",
     "output_type": "stream",
     "text": [
      "x: 117.71674622792335, y: 258.8190451025205, c:0.9587259616541789\n"
     ]
    },
    {
     "data": {
      "text/plain": [
       "(117.71674622792335, 258.8190451025205)"
      ]
     },
     "execution_count": 102,
     "metadata": {},
     "output_type": "execute_result"
    }
   ],
   "source": [
    "orthographic_Projection((180,56), (195,49))"
   ]
  },
  {
   "cell_type": "code",
   "execution_count": 103,
   "metadata": {},
   "outputs": [
    {
     "name": "stdout",
     "output_type": "stream",
     "text": [
      "x: 112.0449720265572, y: 272.15219135499115, c:0.9557086946262675\n",
      "x: 17.02646738280658, y: 265.8998314458659, c:0.9638502887095705\n",
      "x: 18.081608257853198, y: 265.53527108850375, c:0.9639315718715538\n",
      "x: 0.7009539527928798, y: 15.715218799424997, c:0.9998762626253522\n",
      "x: -18.02130676279939, y: 4.48669315852567, c:0.9998275361716451\n",
      "x: -96.82096215489177, y: -257.7706634921564, c:0.9613428037543187\n",
      "x: -6.446474930506321, y: -258.30205825333263, c:0.9660426955694361\n",
      "x: 39.011482259796644, y: -243.66325474559096, c:0.969074982928916\n"
     ]
    }
   ],
   "source": [
    "points = []\n",
    "for i in df.iterrows():\n",
    "    points.append(orthographic_Projection((180,56), (i[1]['RA_Num'], i[1]['Dec_Num'])))"
   ]
  },
  {
   "cell_type": "code",
   "execution_count": 104,
   "metadata": {},
   "outputs": [],
   "source": [
    "x = []\n",
    "y = []\n",
    "for p in points:\n",
    "    x.append(p[0])\n",
    "    y.append(p[1])"
   ]
  },
  {
   "cell_type": "code",
   "execution_count": 106,
   "metadata": {},
   "outputs": [
    {
     "data": {
      "image/png": "[encoded data removed]",
      "text/plain": [
       "<Figure size 432x288 with 1 Axes>"
      ]
     },
     "metadata": {
      "needs_background": "light"
     },
     "output_type": "display_data"
    }
   ],
   "source": [
    "# Data for plotting\n",
    "fig, ax = plt.subplots()\n",
    "ax.scatter(x, y)\n",
    "\n",
    "ax.set(xlabel='RA', ylabel='Dec',\n",
    "       title='About as simple as it gets, folks')\n",
    "ax.grid()\n",
    "\n",
    "#for i, txt in enumerate(df['Common Name']):\n",
    "#    ax.annotate(txt, df.iloc[i][['RA_Num','Dec_Num']].values.tolist())\n",
    "\n",
    "#fig.savefig(\"test.png\")\n",
    "#plt.xlim(0.11, -0.11)\n",
    "#plt.ylim(63, 45)"
   ]
  },
  {
   "cell_type": "code",
   "execution_count": null,
   "metadata": {},
   "outputs": [],
   "source": []
  },
  {
   "cell_type": "code",
   "execution_count": null,
   "metadata": {},
   "outputs": [],
   "source": []
  }
 ],
 "metadata": {
  "kernelspec": {
   "display_name": "Python 3",
   "language": "python",
   "name": "python3"
  },
  "language_info": {
   "codemirror_mode": {
    "name": "ipython",
    "version": 3
   },
   "file_extension": ".py",
   "mimetype": "text/x-python",
   "name": "python",
   "nbconvert_exporter": "python",
   "pygments_lexer": "ipython3",
   "version": "3.6.8"
  },
  "toc": {
   "base_numbering": 1,
   "nav_menu": {},
   "number_sections": true,
   "sideBar": true,
   "skip_h1_title": false,
   "title_cell": "Table of Contents",
   "title_sidebar": "Contents",
   "toc_cell": false,
   "toc_position": {},
   "toc_section_display": true,
   "toc_window_display": false
  }
 },
 "nbformat": 4,
 "nbformat_minor": 2
}
