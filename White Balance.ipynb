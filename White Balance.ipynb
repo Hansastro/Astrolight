{
 "cells": [
  {
   "cell_type": "code",
   "execution_count": 1,
   "metadata": {
    "ExecuteTime": {
     "end_time": "2018-08-12T19:33:42.623580Z",
     "start_time": "2018-08-12T19:33:42.113183Z"
    }
   },
   "outputs": [],
   "source": [
    "import cv2\n",
    "import numpy as np\n",
    "import pandas as pd\n",
    "import matplotlib.pyplot as plt\n",
    "\n",
    "% matplotlib inline"
   ]
  },
  {
   "cell_type": "code",
   "execution_count": 2,
   "metadata": {
    "ExecuteTime": {
     "end_time": "2018-08-12T19:33:42.628449Z",
     "start_time": "2018-08-12T19:33:42.625499Z"
    }
   },
   "outputs": [],
   "source": [
    "imageFileName = 'IMG_0858.pgm'\n",
    "#imageFileName='./Test_Images/Non_Defiltered.pgm'"
   ]
  },
  {
   "cell_type": "code",
   "execution_count": 3,
   "metadata": {
    "ExecuteTime": {
     "end_time": "2018-08-12T19:33:42.791031Z",
     "start_time": "2018-08-12T19:33:42.630763Z"
    }
   },
   "outputs": [],
   "source": [
    "rawImage = cv2.imread(imageFileName, flags=cv2.IMREAD_GRAYSCALE | cv2.IMREAD_IGNORE_ORIENTATION | cv2.IMREAD_ANYDEPTH)\n",
    "BGR_image = cv2.cvtColor(rawImage, cv2.COLOR_BayerBG2BGR)"
   ]
  },
  {
   "cell_type": "code",
   "execution_count": 27,
   "metadata": {
    "ExecuteTime": {
     "end_time": "2018-08-12T19:45:02.188062Z",
     "start_time": "2018-08-12T19:45:01.374475Z"
    }
   },
   "outputs": [],
   "source": [
    "BGR_image = cv2.imread('NGC7000.tif', flags=cv2.IMREAD_ANYCOLOR | cv2.IMREAD_IGNORE_ORIENTATION | cv2.IMREAD_ANYDEPTH)"
   ]
  },
  {
   "cell_type": "code",
   "execution_count": 28,
   "metadata": {
    "ExecuteTime": {
     "end_time": "2018-08-12T19:45:05.931306Z",
     "start_time": "2018-08-12T19:45:05.916292Z"
    }
   },
   "outputs": [
    {
     "data": {
      "text/plain": [
       "array([[9912, 4044, 8490, ..., 2285, 5244, 1662],\n",
       "       [3808, 2481, 4425, ..., 1834, 1534, 1300],\n",
       "       [8866, 3411, 6599, ..., 1180, 5432, 3207],\n",
       "       ..., \n",
       "       [5942, 3095, 6103, ..., 2317, 6022, 2644],\n",
       "       [3577, 1955, 3256, ..., 2000, 3524, 1857],\n",
       "       [7390, 3476, 7766, ..., 2210, 7310, 2365]], dtype=uint16)"
      ]
     },
     "execution_count": 28,
     "metadata": {},
     "output_type": "execute_result"
    }
   ],
   "source": [
    "rawImage"
   ]
  },
  {
   "cell_type": "code",
   "execution_count": 29,
   "metadata": {
    "ExecuteTime": {
     "end_time": "2018-08-12T19:45:05.937555Z",
     "start_time": "2018-08-12T19:45:05.934035Z"
    }
   },
   "outputs": [],
   "source": [
    "#cv2.imwrite('image.tif', BGR_image)"
   ]
  },
  {
   "cell_type": "code",
   "execution_count": 30,
   "metadata": {
    "ExecuteTime": {
     "end_time": "2018-08-12T19:45:05.952933Z",
     "start_time": "2018-08-12T19:45:05.948025Z"
    }
   },
   "outputs": [
    {
     "data": {
      "text/plain": [
       "array([[[ 4639,  6827,  9020],\n",
       "        [ 5630,  8323, 10942],\n",
       "        [ 6529,  9826, 12577],\n",
       "        ..., \n",
       "        [ 6981, 10139, 12202],\n",
       "        [ 6214,  8554, 10802],\n",
       "        [ 5472,  7394,  9303]],\n",
       "\n",
       "       [[ 5094,  7318,  9715],\n",
       "        [ 6409,  9387, 12310],\n",
       "        [ 7307, 10905, 13914],\n",
       "        ..., \n",
       "        [ 6988, 10119, 12154],\n",
       "        [ 6184,  8546, 10759],\n",
       "        [ 5408,  7462,  9281]],\n",
       "\n",
       "       [[ 5026,  7189,  9455],\n",
       "        [ 6380,  9378, 12061],\n",
       "        [ 7310, 10959, 13915],\n",
       "        ..., \n",
       "        [ 6848, 10159, 11897],\n",
       "        [ 5927,  8760, 10509],\n",
       "        [ 5094,  7720,  9075]],\n",
       "\n",
       "       ..., \n",
       "       [[ 4629,  6624,  8326],\n",
       "        [ 6530,  9345, 11538],\n",
       "        [ 7193, 10294, 12613],\n",
       "        ..., \n",
       "        [ 7441, 10360, 12532],\n",
       "        [ 6764,  9062, 11226],\n",
       "        [ 5513,  7343,  9111]],\n",
       "\n",
       "       [[ 4771,  6873,  8218],\n",
       "        [ 6660,  9612, 11504],\n",
       "        [ 6982,  9938, 12051],\n",
       "        ..., \n",
       "        [ 7426, 10376, 12638],\n",
       "        [ 6674,  9248, 11290],\n",
       "        [ 5337,  7403,  9178]],\n",
       "\n",
       "       [[ 4882,  6877,  8181],\n",
       "        [ 5464,  7651,  9312],\n",
       "        [ 5702,  8106,  9833],\n",
       "        ..., \n",
       "        [ 7464, 10396, 12609],\n",
       "        [ 6653,  9409, 11298],\n",
       "        [ 5269,  7574,  9169]]], dtype=uint16)"
      ]
     },
     "execution_count": 30,
     "metadata": {},
     "output_type": "execute_result"
    }
   ],
   "source": [
    "BGR_image"
   ]
  },
  {
   "cell_type": "code",
   "execution_count": 31,
   "metadata": {
    "ExecuteTime": {
     "end_time": "2018-08-12T19:45:06.041327Z",
     "start_time": "2018-08-12T19:45:05.955083Z"
    }
   },
   "outputs": [],
   "source": [
    "blue, green, red = cv2.split(BGR_image)"
   ]
  },
  {
   "cell_type": "code",
   "execution_count": 32,
   "metadata": {
    "ExecuteTime": {
     "end_time": "2018-08-12T19:45:10.396451Z",
     "start_time": "2018-08-12T19:45:06.043668Z"
    }
   },
   "outputs": [
    {
     "data": {
      "image/png": "[encoded data removed]",
      "text/plain": [
       "<matplotlib.figure.Figure at 0x7f8c26557e80>"
      ]
     },
     "metadata": {},
     "output_type": "display_data"
    }
   ],
   "source": [
    "bins = np.linspace(0, 65535, 255)\n",
    "\n",
    "plt.hist(blue.flatten(), bins, alpha=0.5, color='blue', label='Blue')\n",
    "plt.hist(green.flatten(), bins, alpha=0.5, color='green', label='Green')\n",
    "plt.hist(red.flatten(), bins, alpha=0.5, color='red', label='Red')\n",
    "\n",
    "plt.legend(loc='upper right')\n",
    "plt.show()"
   ]
  },
  {
   "cell_type": "code",
   "execution_count": 33,
   "metadata": {
    "ExecuteTime": {
     "end_time": "2018-08-12T19:45:10.462396Z",
     "start_time": "2018-08-12T19:45:10.398306Z"
    }
   },
   "outputs": [
    {
     "name": "stdout",
     "output_type": "stream",
     "text": [
      "Mean:\n",
      "\tBlue: 9353.711388726613\n",
      "\tGreen: 13267.11090739326\n",
      "\tRed: 16063.086844553627\n",
      "Overall mean: 12894.636380224501\n"
     ]
    }
   ],
   "source": [
    "blueMean = blue.mean()\n",
    "greenMean = green.mean()\n",
    "redMean = red.mean()\n",
    "\n",
    "overallMean = (blueMean + greenMean + redMean ) / 3\n",
    "\n",
    "print('Mean:\\n\\tBlue: {}\\n\\tGreen: {}\\n\\tRed: {}'.format(blueMean, greenMean, redMean))\n",
    "print('Overall mean: {}'.format(overallMean))"
   ]
  },
  {
   "cell_type": "code",
   "execution_count": 34,
   "metadata": {
    "ExecuteTime": {
     "end_time": "2018-08-12T19:45:10.646019Z",
     "start_time": "2018-08-12T19:45:10.464069Z"
    }
   },
   "outputs": [],
   "source": [
    "newBlue = blue + (overallMean - blueMean)\n",
    "newGreen = green + (overallMean - greenMean)\n",
    "newRed = red + (overallMean - redMean)"
   ]
  },
  {
   "cell_type": "code",
   "execution_count": 35,
   "metadata": {
    "ExecuteTime": {
     "end_time": "2018-08-12T19:45:15.622681Z",
     "start_time": "2018-08-12T19:45:10.647406Z"
    }
   },
   "outputs": [
    {
     "data": {
      "image/png": "[encoded data removed]",
      "text/plain": [
       "<matplotlib.figure.Figure at 0x7f8c2654b358>"
      ]
     },
     "metadata": {},
     "output_type": "display_data"
    }
   ],
   "source": [
    "bins = np.linspace(0, 65535, 255)\n",
    "\n",
    "plt.hist(newBlue.flatten(), bins, alpha=0.5, color='blue', label='Blue')\n",
    "plt.hist(newGreen.flatten(), bins, alpha=0.5, color='green', label='Green')\n",
    "plt.hist(newRed.flatten(), bins, alpha=0.5, color='red', label='Red')\n",
    "\n",
    "plt.legend(loc='upper right')\n",
    "plt.show()"
   ]
  },
  {
   "cell_type": "code",
   "execution_count": 36,
   "metadata": {
    "ExecuteTime": {
     "end_time": "2018-08-12T19:45:15.637935Z",
     "start_time": "2018-08-12T19:45:15.624172Z"
    }
   },
   "outputs": [],
   "source": [
    "newBlue_df = pd.DataFrame(newBlue)\n",
    "newGreen_df = pd.DataFrame(newGreen)\n",
    "newRed_df = pd.DataFrame(newRed)"
   ]
  },
  {
   "cell_type": "code",
   "execution_count": 37,
   "metadata": {
    "ExecuteTime": {
     "end_time": "2018-08-12T19:45:15.782679Z",
     "start_time": "2018-08-12T19:45:15.640082Z"
    }
   },
   "outputs": [
    {
     "data": {
      "text/plain": [
       "2759.5495356708743"
      ]
     },
     "execution_count": 37,
     "metadata": {},
     "output_type": "execute_result"
    }
   ],
   "source": [
    "newRed_df.min().min()"
   ]
  },
  {
   "cell_type": "code",
   "execution_count": 38,
   "metadata": {
    "ExecuteTime": {
     "end_time": "2018-08-12T19:45:31.442933Z",
     "start_time": "2018-08-12T19:45:15.785424Z"
    }
   },
   "outputs": [],
   "source": [
    "def cut(e):\n",
    "    if e < 0:\n",
    "        return 0\n",
    "    elif e > 65535:\n",
    "        return 65535\n",
    "    else:\n",
    "        return e\n",
    "\n",
    "def cutRow(r):\n",
    "    vfunc = np.vectorize(cut)\n",
    "    r = vfunc(r)\n",
    "    return r\n",
    "\n",
    "newBlue_cut = newBlue_df.apply(cutRow).values\n",
    "newGreen_cut = newGreen_df.apply(cutRow).values\n",
    "newRed_cut = newRed_df.apply(cutRow).values"
   ]
  },
  {
   "cell_type": "code",
   "execution_count": 39,
   "metadata": {
    "ExecuteTime": {
     "end_time": "2018-08-12T19:45:36.355786Z",
     "start_time": "2018-08-12T19:45:31.444562Z"
    }
   },
   "outputs": [
    {
     "data": {
      "image/png": "[encoded data removed]",
      "text/plain": [
       "<matplotlib.figure.Figure at 0x7f8c34d57f60>"
      ]
     },
     "metadata": {},
     "output_type": "display_data"
    }
   ],
   "source": [
    "bins = np.linspace(0, 65535, 255)\n",
    "\n",
    "plt.hist(newBlue_cut.flatten(), bins, alpha=0.5, color='blue', label='Blue')\n",
    "plt.hist(newGreen_cut.flatten(), bins, alpha=0.5, color='green', label='Green')\n",
    "plt.hist(newRed_cut.flatten(), bins, alpha=0.5, color='red', label='Red')\n",
    "\n",
    "plt.legend(loc='upper right')\n",
    "plt.show()"
   ]
  },
  {
   "cell_type": "code",
   "execution_count": 40,
   "metadata": {
    "ExecuteTime": {
     "end_time": "2018-08-12T19:45:36.381994Z",
     "start_time": "2018-08-12T19:45:36.358208Z"
    }
   },
   "outputs": [
    {
     "data": {
      "text/plain": [
       "62084.525472831243"
      ]
     },
     "execution_count": 40,
     "metadata": {},
     "output_type": "execute_result"
    }
   ],
   "source": [
    "newGreen_cut.max()"
   ]
  },
  {
   "cell_type": "code",
   "execution_count": 41,
   "metadata": {
    "ExecuteTime": {
     "end_time": "2018-08-12T19:45:37.060552Z",
     "start_time": "2018-08-12T19:45:36.390326Z"
    }
   },
   "outputs": [],
   "source": [
    "newImage = cv2.merge((newBlue_cut, newGreen_cut, newRed_cut))"
   ]
  },
  {
   "cell_type": "code",
   "execution_count": 42,
   "metadata": {
    "ExecuteTime": {
     "end_time": "2018-08-12T19:45:37.065085Z",
     "start_time": "2018-08-12T19:45:37.062248Z"
    }
   },
   "outputs": [],
   "source": [
    "#newImage = cv2.merge((newBlue, newGreen, newRed))"
   ]
  },
  {
   "cell_type": "code",
   "execution_count": 43,
   "metadata": {
    "ExecuteTime": {
     "end_time": "2018-08-12T19:45:37.118774Z",
     "start_time": "2018-08-12T19:45:37.067934Z"
    }
   },
   "outputs": [],
   "source": [
    "newImage16 = newImage.astype(np.uint16, copy=False)"
   ]
  },
  {
   "cell_type": "code",
   "execution_count": 44,
   "metadata": {
    "ExecuteTime": {
     "end_time": "2018-08-12T19:45:37.180439Z",
     "start_time": "2018-08-12T19:45:37.120423Z"
    }
   },
   "outputs": [
    {
     "data": {
      "text/plain": [
       "62084"
      ]
     },
     "execution_count": 44,
     "metadata": {},
     "output_type": "execute_result"
    }
   ],
   "source": [
    "newImage16.max()"
   ]
  },
  {
   "cell_type": "code",
   "execution_count": 45,
   "metadata": {
    "ExecuteTime": {
     "end_time": "2018-08-12T19:45:39.142967Z",
     "start_time": "2018-08-12T19:45:37.182515Z"
    }
   },
   "outputs": [
    {
     "data": {
      "text/plain": [
       "True"
      ]
     },
     "execution_count": 45,
     "metadata": {},
     "output_type": "execute_result"
    }
   ],
   "source": [
    "cv2.imwrite('image.tif', newImage16)"
   ]
  },
  {
   "cell_type": "code",
   "execution_count": null,
   "metadata": {
    "ExecuteTime": {
     "end_time": "2018-08-12T18:52:10.131861Z",
     "start_time": "2018-08-12T18:52:10.120528Z"
    }
   },
   "outputs": [],
   "source": []
  }
 ],
 "metadata": {
  "kernelspec": {
   "display_name": "Python 3",
   "language": "python",
   "name": "python3"
  },
  "language_info": {
   "codemirror_mode": {
    "name": "ipython",
    "version": 3
   },
   "file_extension": ".py",
   "mimetype": "text/x-python",
   "name": "python",
   "nbconvert_exporter": "python",
   "pygments_lexer": "ipython3",
   "version": "3.5.2"
  },
  "toc": {
   "base_numbering": 1,
   "nav_menu": {},
   "number_sections": true,
   "sideBar": true,
   "skip_h1_title": false,
   "title_cell": "Table of Contents",
   "title_sidebar": "Contents",
   "toc_cell": false,
   "toc_position": {},
   "toc_section_display": true,
   "toc_window_display": false
  },
  "varInspector": {
   "cols": {
    "lenName": 16,
    "lenType": 16,
    "lenVar": 40
   },
   "kernels_config": {
    "python": {
     "delete_cmd_postfix": "",
     "delete_cmd_prefix": "del ",
     "library": "var_list.py",
     "varRefreshCmd": "print(var_dic_list())"
    },
    "r": {
     "delete_cmd_postfix": ") ",
     "delete_cmd_prefix": "rm(",
     "library": "var_list.r",
     "varRefreshCmd": "cat(var_dic_list()) "
    }
   },
   "types_to_exclude": [
    "module",
    "function",
    "builtin_function_or_method",
    "instance",
    "_Feature"
   ],
   "window_display": false
  }
 },
 "nbformat": 4,
 "nbformat_minor": 2
}
